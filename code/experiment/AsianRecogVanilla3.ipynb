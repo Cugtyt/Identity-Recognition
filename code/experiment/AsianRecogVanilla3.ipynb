{
  "nbformat": 4,
  "nbformat_minor": 0,
  "metadata": {
    "colab": {
      "name": "AsianRecogVanilla.ipynb",
      "version": "0.3.2",
      "views": {},
      "default_view": {},
      "provenance": [],
      "collapsed_sections": []
    },
    "kernelspec": {
      "name": "python3",
      "display_name": "Python 3"
    },
    "accelerator": "GPU"
  },
  "cells": [
    {
      "metadata": {
        "id": "o97ndlwakCai",
        "colab_type": "code",
        "colab": {
          "autoexec": {
            "startup": false,
            "wait_interval": 0
          },
          "output_extras": [
            {
              "item_id": 7
            }
          ],
          "base_uri": "https://localhost:8080/",
          "height": 217
        },
        "outputId": "e7b3f06a-efdd-4bb9-adc8-6627c0772612",
        "executionInfo": {
          "status": "ok",
          "timestamp": 1521087388852,
          "user_tz": -480,
          "elapsed": 39510,
          "user": {
            "displayName": "Cugtyt",
            "photoUrl": "//lh4.googleusercontent.com/-QxlWCi_owQ0/AAAAAAAAAAI/AAAAAAAAAC4/wNSYjuh_4x4/s50-c-k-no/photo.jpg",
            "userId": "100389950431846051928"
          }
        }
      },
      "cell_type": "code",
      "source": [
        "!apt-get install -y -qq software-properties-common python-software-properties module-init-tools\n",
        "!add-apt-repository -y ppa:alessandro-strada/ppa 2>&1 > /dev/null\n",
        "!apt-get update -qq 2>&1 > /dev/null\n",
        "!apt-get -y install -qq google-drive-ocamlfuse fuse\n",
        "from google.colab import auth\n",
        "auth.authenticate_user()\n",
        "from oauth2client.client import GoogleCredentials\n",
        "creds = GoogleCredentials.get_application_default()\n",
        "import getpass\n",
        "!google-drive-ocamlfuse -headless -id={creds.client_id} -secret={creds.client_secret} < /dev/null 2>&1 | grep URL\n",
        "vcode = getpass.getpass()\n",
        "!echo {vcode} | google-drive-ocamlfuse -headless -id={creds.client_id} -secret={creds.client_secret}"
      ],
      "execution_count": 1,
      "outputs": [
        {
          "output_type": "stream",
          "text": [
            "gpg: keybox '/tmp/tmpezomwg2y/pubring.gpg' created\n",
            "gpg: /tmp/tmpezomwg2y/trustdb.gpg: trustdb created\n",
            "gpg: key AD5F235DF639B041: public key \"Launchpad PPA for Alessandro Strada\" imported\n",
            "gpg: Total number processed: 1\n",
            "gpg:               imported: 1\n",
            "Warning: apt-key output should not be parsed (stdout is not a terminal)\n",
            "Please, open the following URL in a web browser: https://accounts.google.com/o/oauth2/auth?client_id=32555940559.apps.googleusercontent.com&redirect_uri=urn%3Aietf%3Awg%3Aoauth%3A2.0%3Aoob&scope=https%3A%2F%2Fwww.googleapis.com%2Fauth%2Fdrive&response_type=code&access_type=offline&approval_prompt=force\n",
            "··········\n",
            "Please, open the following URL in a web browser: https://accounts.google.com/o/oauth2/auth?client_id=32555940559.apps.googleusercontent.com&redirect_uri=urn%3Aietf%3Awg%3Aoauth%3A2.0%3Aoob&scope=https%3A%2F%2Fwww.googleapis.com%2Fauth%2Fdrive&response_type=code&access_type=offline&approval_prompt=force\n",
            "Please enter the verification code: Access token retrieved correctly.\n"
          ],
          "name": "stdout"
        }
      ]
    },
    {
      "metadata": {
        "id": "hxHo_BjNkRI4",
        "colab_type": "code",
        "colab": {
          "autoexec": {
            "startup": false,
            "wait_interval": 0
          }
        }
      },
      "cell_type": "code",
      "source": [
        "!mkdir -p drive\n",
        "!google-drive-ocamlfuse drive"
      ],
      "execution_count": 0,
      "outputs": []
    },
    {
      "metadata": {
        "id": "b-dqEoWDsEak",
        "colab_type": "code",
        "colab": {
          "autoexec": {
            "startup": false,
            "wait_interval": 0
          }
        }
      },
      "cell_type": "code",
      "source": [
        "!pip install -q keras"
      ],
      "execution_count": 0,
      "outputs": []
    },
    {
      "metadata": {
        "id": "TzCUcLFDoIvX",
        "colab_type": "code",
        "colab": {
          "autoexec": {
            "startup": false,
            "wait_interval": 0
          }
        }
      },
      "cell_type": "code",
      "source": [
        "from pathlib import Path\n",
        "from sklearn.model_selection import train_test_split\n",
        "import shutil\n",
        "from PIL import Image\n",
        "import numpy as np\n",
        "from sklearn.preprocessing import LabelEncoder"
      ],
      "execution_count": 0,
      "outputs": []
    },
    {
      "metadata": {
        "id": "VRzXPLEWicaV",
        "colab_type": "code",
        "colab": {
          "autoexec": {
            "startup": false,
            "wait_interval": 0
          }
        }
      },
      "cell_type": "code",
      "source": [
        "def load_data(data_path: str, test_size=0.2, random_state=42, info=False):\n",
        "    \"\"\"Load data from file.\n",
        "    \n",
        "    Args:\n",
        "        data_path: str, file path to read data\n",
        "        test_size: float, the ratio of test / all\n",
        "        random_state: int, random seed to split data\n",
        "        info: bool, control info print\n",
        "    Returns:\n",
        "        train_data: np.array, train set\n",
        "        test_data: np.array, test set\n",
        "    \"\"\"\n",
        "    # imgs = [np.array(Image.open(d)) for d in Path(data_path).iterdir()]\n",
        "    imgs = []\n",
        "    for d in Path(data_path).iterdir():\n",
        "        if info:\n",
        "            print('Load image: ' + d.name)\n",
        "        imgs.append(np.array(Image.open(d)))\n",
        "    data = np.array(imgs)\n",
        "    train_data, test_data = train_test_split(\n",
        "        data, test_size=test_size, random_state=random_state)\n",
        "    return train_data, test_data"
      ],
      "execution_count": 0,
      "outputs": []
    },
    {
      "metadata": {
        "id": "stCMhyhLi9Qh",
        "colab_type": "code",
        "colab": {
          "autoexec": {
            "startup": false,
            "wait_interval": 0
          }
        }
      },
      "cell_type": "code",
      "source": [
        "def load_label(label_path: str, test_size=0.2, random_state=42):\n",
        "    \"\"\"Load label from file.\n",
        "    \n",
        "    Args:\n",
        "        label_path: str, file path to read label\n",
        "        test_size: float, the ratio of test / all, \n",
        "            this arg should match up test_size in load_data\n",
        "        random_state: int, random seed to split data\n",
        "            this arg should match up random_state in load_data\n",
        "    \"\"\"\n",
        "    with open(label_path, 'r') as f:\n",
        "        labels = f.readline()\n",
        "    train_label, test_label = train_test_split(\n",
        "        labels.split('\\t'), test_size=test_size, random_state=random_state)\n",
        "    le = LabelEncoder()\n",
        "    le.fit(train_label)\n",
        "    return le.transform(train_label), le.transform(test_label)"
      ],
      "execution_count": 0,
      "outputs": []
    },
    {
      "metadata": {
        "id": "_ERrQBLYouZg",
        "colab_type": "code",
        "colab": {
          "autoexec": {
            "startup": false,
            "wait_interval": 0
          }
        }
      },
      "cell_type": "code",
      "source": [
        "train_label, test_label = load_label('./drive/data/FacePlace/AsianSample.txt')"
      ],
      "execution_count": 0,
      "outputs": []
    },
    {
      "metadata": {
        "id": "gkRSqhOQpxGL",
        "colab_type": "code",
        "colab": {
          "autoexec": {
            "startup": false,
            "wait_interval": 0
          },
          "output_extras": [
            {
              "item_id": 76
            },
            {
              "item_id": 153
            },
            {
              "item_id": 230
            },
            {
              "item_id": 262
            }
          ],
          "base_uri": "https://localhost:8080/",
          "height": 4805
        },
        "outputId": "1cec55a4-1c26-4eb5-dc09-d7a3ead7670d",
        "executionInfo": {
          "status": "ok",
          "timestamp": 1521087607907,
          "user_tz": -480,
          "elapsed": 171521,
          "user": {
            "displayName": "Cugtyt",
            "photoUrl": "//lh4.googleusercontent.com/-QxlWCi_owQ0/AAAAAAAAAAI/AAAAAAAAAC4/wNSYjuh_4x4/s50-c-k-no/photo.jpg",
            "userId": "100389950431846051928"
          }
        }
      },
      "cell_type": "code",
      "source": [
        "train_data, test_data = load_data('./drive/data/FacePlace/AsianSample/', info=True)"
      ],
      "execution_count": 8,
      "outputs": [
        {
          "output_type": "stream",
          "text": [
            "Load image: AF0303_1110_NE.jpg\n",
            "Load image: AF0303_2211_30L.jpg\n",
            "Load image: AF0303_2211_00F.jpg\n",
            "Load image: AF0303_1110_SU.jpg\n",
            "Load image: AF0303_2211_30R.jpg\n",
            "Load image: AF0303_1110_HA.jpg\n",
            "Load image: AF0303_1110_90R.jpg\n",
            "Load image: AF0303_1110_30R.jpg\n",
            "Load image: AF0303_1110_45R.jpg\n",
            "Load image: AF0303_1110_DI.jpg\n",
            "Load image: AF0303_1110_90L.jpg\n",
            "Load image: AF0303_1110_45L.jpg\n",
            "Load image: AF0303_1110_CO.jpg\n",
            "Load image: AF0303_1110_60L.jpg\n",
            "Load image: AF0303_1110_60R.jpg\n",
            "Load image: AF0303_1110_30L.jpg\n",
            "Load image: AF0303_1110_00F.jpg\n",
            "Load image: AF0302_2211_90R.jpg\n",
            "Load image: AF0302_2211_NE.jpg\n",
            "Load image: AF0302_2211_45R.jpg\n",
            "Load image: AF0302_2211_60R.jpg\n",
            "Load image: AF0302_2211_30R.jpg\n",
            "Load image: AF0302_2211_60L.jpg\n",
            "Load image: AF0302_2211_90L.jpg\n",
            "Load image: AF0302_2211_45L.jpg\n",
            "Load image: AF0302_2211_30L.jpg\n",
            "Load image: AF0302_1110_NE.jpg\n",
            "Load image: AF0302_1110_SA.jpg\n",
            "Load image: AF0302_2211_00F.jpg\n",
            "Load image: AF0302_1110_FE.jpg\n",
            "Load image: AF0302_1110_DI.jpg\n",
            "Load image: AF0302_1110_60R.jpg\n",
            "Load image: AF0302_1110_90L.jpg\n",
            "Load image: AF0302_1110_90R.jpg\n",
            "Load image: AF0302_1110_HA.jpg\n",
            "Load image: AF0302_1110_60L.jpg\n",
            "Load image: AF0302_1110_45L.jpg\n",
            "Load image: AF0302_1110_45R.jpg\n",
            "Load image: AF0302_1110_30R.jpg\n",
            "Load image: AF0302_1110_30L.jpg\n",
            "Load image: AF0301_2201_60R.jpg\n",
            "Load image: AF0301_2201_NE.jpg\n",
            "Load image: AF0302_1110_00F.jpg\n",
            "Load image: AF0301_2201_90L.jpg\n",
            "Load image: AF0301_2201_90R.jpg\n",
            "Load image: AF0301_2201_60L.jpg\n",
            "Load image: AF0301_2201_45L.jpg\n",
            "Load image: AF0301_1100_SA.jpg\n",
            "Load image: AF0301_2201_30L.jpg\n",
            "Load image: AF0301_2201_30R.jpg\n",
            "Load image: AF0301_2201_00F.jpg\n",
            "Load image: AF0301_1100_NE.jpg\n",
            "Load image: AF0301_1100_FE.jpg\n",
            "Load image: AF0301_2201_45R.jpg\n",
            "Load image: AF0301_1100_HA.jpg\n",
            "Load image: AF0301_1100_DI.jpg\n",
            "Load image: AF0301_1100_60R.jpg\n",
            "Load image: AF0301_1100_45R.jpg\n",
            "Load image: AF0301_1100_CO.jpg\n",
            "Load image: AF0301_1100_30L.jpg\n",
            "Load image: AF0301_1100_30R.jpg\n",
            "Load image: AF0301_1100_90L.jpg\n",
            "Load image: AF0301_1100_60L.jpg\n",
            "Load image: AF0301_1100_90R.jpg\n",
            "Load image: AF0301_1100_45L.jpg\n",
            "Load image: AF0301_1100_00F.jpg\n",
            "Load image: AM0302_1100_CO.jpg\n",
            "Load image: AM0302_1100_90R.jpg\n",
            "Load image: AM0302_1100_30R.jpg\n",
            "Load image: AM0302_1100_90L.jpg\n",
            "Load image: AM0302_1100_60R.jpg\n",
            "Load image: AM0302_1100_00F.jpg\n",
            "Load image: AM0301_2201_90R.jpg\n",
            "Load image: AM0301_2201_30R.jpg\n",
            "Load image: AM0301_2201_60L.jpg\n",
            "Load image: AM0301_2201_45R.jpg\n",
            "Load image: AM0301_2201_60R.jpg\n",
            "Load image: AM0301_2201_30L.jpg\n"
          ],
          "name": "stdout"
        },
        {
          "output_type": "stream",
          "text": [
            "Load image: AM0301_2201_45L.jpg\n",
            "Load image: AM0301_2201_90L.jpg\n",
            "Load image: AM0301_2201_NE.jpg\n",
            "Load image: AM0301_2201_00F.jpg\n",
            "Load image: AM0301_1101_NE.jpg\n",
            "Load image: AM0301_1101_SU.jpg\n",
            "Load image: AM0301_1101_SA.jpg\n",
            "Load image: AM0301_1101_60R.jpg\n",
            "Load image: AM0301_1101_CO.jpg\n",
            "Load image: AM0301_1101_HA.jpg\n",
            "Load image: AM0301_1101_90L.jpg\n",
            "Load image: AM0301_1101_DI.jpg\n",
            "Load image: AM0301_1101_90R.jpg\n",
            "Load image: AM0301_1101_60L.jpg\n",
            "Load image: AM0301_1101_00F.jpg\n",
            "Load image: AM0301_1101_45R.jpg\n",
            "Load image: AM0301_1101_30R.jpg\n",
            "Load image: AF0305_3112_90L.jpg\n",
            "Load image: AF0305_3112_NE.jpg\n",
            "Load image: AF0305_3112_90R.jpg\n",
            "Load image: AM0301_1101_30L.jpg\n",
            "Load image: AM0301_1101_45L.jpg\n",
            "Load image: AF0305_3112_60R.jpg\n",
            "Load image: AF0305_3112_60L.jpg\n",
            "Load image: AF0305_3112_30R.jpg\n",
            "Load image: AF0305_3112_45R.jpg\n",
            "Load image: AF0305_3112_45L.jpg\n",
            "Load image: AF0305_2201_90R.jpg\n",
            "Load image: AF0305_2201_NE.jpg\n",
            "Load image: AF0305_3112_00F.jpg\n",
            "Load image: AF0305_2201_90L.jpg\n",
            "Load image: AF0305_3112_30L.jpg\n",
            "Load image: AF0305_2201_60R.jpg\n",
            "Load image: AF0305_2201_60L.jpg\n",
            "Load image: AF0305_2201_30R.jpg\n",
            "Load image: AF0305_2201_45R.jpg\n",
            "Load image: AF0305_2201_45L.jpg\n",
            "Load image: AF0305_1100_SA.jpg\n",
            "Load image: AF0305_1100_NE.jpg\n",
            "Load image: AF0305_1100_SU.jpg\n",
            "Load image: AF0305_1100_HA.jpg\n",
            "Load image: AF0305_2201_00F.jpg\n",
            "Load image: AF0305_2201_30L.jpg\n",
            "Load image: AF0305_1100_FE.jpg\n",
            "Load image: AF0305_1100_CO.jpg\n",
            "Load image: AF0305_1100_DI.jpg\n",
            "Load image: AF0305_1100_90L.jpg\n",
            "Load image: AF0305_1100_90R.jpg\n",
            "Load image: AF0305_1100_45R.jpg\n",
            "Load image: AF0305_1100_60R.jpg\n",
            "Load image: AF0305_1100_45L.jpg\n",
            "Load image: AF0305_1100_30R.jpg\n",
            "Load image: AF0305_1100_60L.jpg\n",
            "Load image: AF0305_1100_30L.jpg\n",
            "Load image: AF0304_2201_90R.jpg\n",
            "Load image: AF0304_2201_90L.jpg\n",
            "Load image: AF0305_1100_00F.jpg\n",
            "Load image: AF0304_2201_NE.jpg\n",
            "Load image: AF0304_2201_60R.jpg\n",
            "Load image: AF0304_2201_45R.jpg\n",
            "Load image: AF0304_2201_60L.jpg\n",
            "Load image: AF0304_2201_30R.jpg\n",
            "Load image: AF0304_2201_45L.jpg\n",
            "Load image: AF0304_2201_30L.jpg\n",
            "Load image: AF0304_2201_00F.jpg\n",
            "Load image: AF0304_1101_SA.jpg\n",
            "Load image: AF0304_1101_SU.jpg\n",
            "Load image: AF0304_1100_90L.jpg\n",
            "Load image: AF0304_1101_CO.jpg\n",
            "Load image: AF0304_1101_NE.jpg\n",
            "Load image: AF0304_1100_90R.jpg\n",
            "Load image: AF0304_1101_DI.jpg\n",
            "Load image: AF0304_1101_HA.jpg\n",
            "Load image: AF0304_1100_60R.jpg\n",
            "Load image: AF0304_1100_45R.jpg\n",
            "Load image: AF0304_1100_60L.jpg\n",
            "Load image: AF0304_1100_45L.jpg\n",
            "Load image: AF0304_1100_00F.jpg\n"
          ],
          "name": "stdout"
        },
        {
          "output_type": "stream",
          "text": [
            "Load image: AF0303_2211_90L.jpg\n",
            "Load image: AF0304_1100_30L.jpg\n",
            "Load image: AF0303_2211_NE.jpg\n",
            "Load image: AF0303_2211_90R.jpg\n",
            "Load image: AF0304_1100_30R.jpg\n",
            "Load image: AF0303_2211_60R.jpg\n",
            "Load image: AF0303_2211_60L.jpg\n",
            "Load image: AF0303_2211_45L.jpg\n",
            "Load image: AF0303_2211_45R.jpg\n",
            "Load image: AF0303_1110_SA.jpg\n",
            "Load image: AM0305_2202_90L.jpg\n",
            "Load image: AM0305_2202_NE.jpg\n",
            "Load image: AM0305_2202_60R.jpg\n",
            "Load image: AM0305_2202_60L.jpg\n",
            "Load image: AM0305_2202_90R.jpg\n",
            "Load image: AM0305_2202_45R.jpg\n",
            "Load image: AM0305_2202_00F.jpg\n",
            "Load image: AM0305_1101_AN.jpg\n",
            "Load image: AM0305_2202_30R.jpg\n",
            "Load image: AM0305_1101_90R.jpg\n",
            "Load image: AM0305_2202_30L.jpg\n",
            "Load image: AM0305_1101_NE.jpg\n",
            "Load image: AM0305_1101_HA.jpg\n",
            "Load image: AM0305_1101_SA.jpg\n",
            "Load image: AM0305_2202_45L.jpg\n",
            "Load image: AM0305_1101_90L.jpg\n",
            "Load image: AM0305_1101_60R.jpg\n",
            "Load image: AM0305_1101_45R.jpg\n",
            "Load image: AM0305_1101_60L.jpg\n",
            "Load image: AM0305_1101_30L.jpg\n",
            "Load image: AM0304_2201_HA.jpg\n",
            "Load image: AM0305_1101_45L.jpg\n",
            "Load image: AM0305_1101_30R.jpg\n",
            "Load image: AM0305_1101_00F.jpg\n",
            "Load image: AM0304_2201_NE.jpg\n",
            "Load image: AM0304_2201_90R.jpg\n",
            "Load image: AM0304_2201_30R.jpg\n",
            "Load image: AM0304_2201_45R.jpg\n",
            "Load image: AM0304_2201_60L.jpg\n",
            "Load image: AM0304_2201_60R.jpg\n",
            "Load image: AM0304_2201_45L.jpg\n",
            "Load image: AM0304_1100_SA.jpg\n",
            "Load image: AM0304_2201_30L.jpg\n",
            "Load image: AM0304_2201_00F.jpg\n",
            "Load image: AM0304_2201_90L.jpg\n",
            "Load image: AM0304_1100_NE.jpg\n",
            "Load image: AM0304_1100_DI.jpg\n",
            "Load image: AM0304_1100_60R.jpg\n",
            "Load image: AM0304_1100_30R.jpg\n",
            "Load image: AM0304_1100_45R.jpg\n",
            "Load image: AM0304_1100_90R.jpg\n",
            "Load image: AM0304_1100_90L.jpg\n",
            "Load image: AM0304_1100_HA.jpg\n",
            "Load image: AM0304_1100_45L.jpg\n",
            "Load image: AM0304_1100_60L.jpg\n",
            "Load image: AM0304_1100_30L.jpg\n",
            "Load image: AM0303_3310_90R.jpg\n",
            "Load image: AM0304_1100_00F.jpg\n",
            "Load image: AM0303_3310_NE.jpg\n",
            "Load image: AM0303_3310_60R.jpg\n",
            "Load image: AM0303_3310_90L.jpg\n",
            "Load image: AM0303_3310_45L.jpg\n",
            "Load image: AM0303_3310_45R.jpg\n",
            "Load image: AM0303_3310_30R.jpg\n",
            "Load image: AM0303_3310_60L.jpg\n",
            "Load image: AM0303_3310_30L.jpg\n",
            "Load image: AM0303_2201_45R.jpg\n",
            "Load image: AM0303_2201_45L.jpg\n",
            "Load image: AM0303_3310_00F.jpg\n",
            "Load image: AM0303_2201_60L.jpg\n",
            "Load image: AM0303_2201_60R.jpg\n",
            "Load image: AM0303_2201_90R.jpg\n",
            "Load image: AM0303_2201_30R.jpg\n",
            "Load image: AM0303_2201_NE.jpg\n",
            "Load image: AM0303_2201_90L.jpg\n",
            "Load image: AM0303_2201_30L.jpg\n",
            "Load image: AM0303_1100_90R.jpg\n",
            "Load image: AM0303_1100_CO.jpg\n"
          ],
          "name": "stdout"
        },
        {
          "output_type": "stream",
          "text": [
            "Load image: AM0303_1100_90L.jpg\n",
            "Load image: AM0303_1100_SA.jpg\n",
            "Load image: AM0303_1100_DI.jpg\n",
            "Load image: AM0303_1100_60R.jpg\n",
            "Load image: AM0303_1100_NE.jpg\n",
            "Load image: AM0303_2201_00F.jpg\n",
            "Load image: AM0303_1100_HA.jpg\n",
            "Load image: AM0303_1100_60L.jpg\n",
            "Load image: AM0303_1100_30R.jpg\n",
            "Load image: AM0303_1100_45L.jpg\n",
            "Load image: AM0302_2201_60R.jpg\n",
            "Load image: AM0303_1100_45R.jpg\n",
            "Load image: AM0302_2201_NE.jpg\n",
            "Load image: AM0302_2201_90R.jpg\n",
            "Load image: AM0303_1100_00F.jpg\n",
            "Load image: AM0303_1100_30L.jpg\n",
            "Load image: AM0302_2201_90L.jpg\n",
            "Load image: AM0302_2201_60L.jpg\n",
            "Load image: AM0302_2201_30R.jpg\n",
            "Load image: AM0302_2201_45R.jpg\n",
            "Load image: AM0302_2201_45L.jpg\n",
            "Load image: AM0302_2201_00F.jpg\n",
            "Load image: AM0302_1100_SA.jpg\n",
            "Load image: AM0302_2201_30L.jpg\n",
            "Load image: AM0302_1100_NE.jpg\n",
            "Load image: AM0302_1100_SU.jpg\n",
            "Load image: AM0302_1100_HA.jpg\n",
            "Load image: AM0302_1100_DI.jpg\n",
            "Load image: AM0302_1100_45R.jpg\n",
            "Load image: AM0302_1100_45L.jpg\n",
            "Load image: AM0302_1100_30L.jpg\n",
            "Load image: AM0302_1100_60L.jpg\n"
          ],
          "name": "stdout"
        }
      ]
    },
    {
      "metadata": {
        "id": "lsYgU9sZ6UYg",
        "colab_type": "code",
        "colab": {
          "autoexec": {
            "startup": false,
            "wait_interval": 0
          }
        }
      },
      "cell_type": "code",
      "source": [
        "train_data = train_data.astype('float32') / 255\n",
        "test_data = test_data.astype('float32') / 255\n",
        "\n",
        "train_data, val_data = train_test_split(train_data, test_size=0.2, random_state=42)\n",
        "train_label, val_label = train_test_split(train_label, test_size=0.2, random_state=42)"
      ],
      "execution_count": 0,
      "outputs": []
    },
    {
      "metadata": {
        "id": "60s306XC4rGl",
        "colab_type": "code",
        "colab": {
          "autoexec": {
            "startup": false,
            "wait_interval": 0
          },
          "output_extras": [
            {
              "item_id": 1
            }
          ],
          "base_uri": "https://localhost:8080/",
          "height": 35
        },
        "outputId": "3c2cb679-55a7-4f32-b8e2-574d26af8418",
        "executionInfo": {
          "status": "ok",
          "timestamp": 1521087617085,
          "user_tz": -480,
          "elapsed": 7870,
          "user": {
            "displayName": "Cugtyt",
            "photoUrl": "//lh4.googleusercontent.com/-QxlWCi_owQ0/AAAAAAAAAAI/AAAAAAAAAC4/wNSYjuh_4x4/s50-c-k-no/photo.jpg",
            "userId": "100389950431846051928"
          }
        }
      },
      "cell_type": "code",
      "source": [
        "from keras.preprocessing.image import ImageDataGenerator"
      ],
      "execution_count": 10,
      "outputs": [
        {
          "output_type": "stream",
          "text": [
            "Using TensorFlow backend.\n"
          ],
          "name": "stderr"
        }
      ]
    },
    {
      "metadata": {
        "id": "NaCADRie4bnD",
        "colab_type": "code",
        "colab": {
          "autoexec": {
            "startup": false,
            "wait_interval": 0
          }
        }
      },
      "cell_type": "code",
      "source": [
        "datagen = ImageDataGenerator(\n",
        "        featurewise_center=True,  # set input mean to 0 over the dataset\n",
        "        samplewise_center=False,  # set each sample mean to 0\n",
        "        featurewise_std_normalization=True,  # divide inputs by std of the dataset\n",
        "        samplewise_std_normalization=False,  # divide each input by its std\n",
        "        zca_whitening=False,  # apply ZCA whitening\n",
        "        rotation_range=5,  # randomly rotate images in the range (degrees, 0 to 180)\n",
        "        width_shift_range=0.1,  # randomly shift images horizontally (fraction of total width)\n",
        "        height_shift_range=0.1,  # randomly shift images vertically (fraction of total height)\n",
        "        horizontal_flip=True,  # randomly flip images\n",
        "        vertical_flip=False) # randomly flip images\n",
        "datagen.fit(train_data)"
      ],
      "execution_count": 0,
      "outputs": []
    },
    {
      "metadata": {
        "id": "00P2WOpfvFpM",
        "colab_type": "code",
        "colab": {
          "autoexec": {
            "startup": false,
            "wait_interval": 0
          }
        }
      },
      "cell_type": "code",
      "source": [
        "from keras import layers\n",
        "from keras import models\n",
        "from keras import optimizers"
      ],
      "execution_count": 0,
      "outputs": []
    },
    {
      "metadata": {
        "id": "AEJYPs-4vIy0",
        "colab_type": "code",
        "colab": {
          "autoexec": {
            "startup": false,
            "wait_interval": 0
          }
        }
      },
      "cell_type": "code",
      "source": [
        "def vanilia_cnn(input_shape: tuple, classes: int):\n",
        "    \"\"\"Implement vanilia ConvNet model.\"\"\"\n",
        "    model = models.Sequential()\n",
        "    model.add(\n",
        "        layers.Conv2D(32, (3, 3), activation='relu',\n",
        "                      padding='same',\n",
        "                      input_shape=input_shape))\n",
        "    model.add(layers.MaxPooling2D((2, 2)))\n",
        "    model.add(layers.Conv2D(32, (3, 3), activation='relu'))\n",
        "    model.add(layers.MaxPooling2D((2, 2)))\n",
        "    model.add(layers.Dropout(0.5))\n",
        "    \n",
        "    model.add(layers.Conv2D(64, (3, 3), padding='same', activation='relu'))\n",
        "    model.add(layers.Conv2D(64, (3, 3), activation='relu'))\n",
        "    model.add(layers.MaxPooling2D((2, 2)))\n",
        "    model.add(layers.Dropout(0.5))\n",
        "    \n",
        "    model.add(layers.Conv2D(128, (3, 3), padding='same', activation='relu'))\n",
        "#     model.add(layers.MaxPooling2D((2, 2)))\n",
        "    model.add(layers.Conv2D(128, (3, 3), activation='relu'))\n",
        "    model.add(layers.Conv2D(128, (3, 3), activation='relu'))\n",
        "    model.add(layers.MaxPooling2D((2, 2)))\n",
        "    model.add(layers.Flatten())\n",
        "    model.add(layers.Dense(512, activation='relu'))\n",
        "    model.add(layers.Dense(512, activation='relu'))\n",
        "    model.add(layers.Dropout(0.5))\n",
        "    model.add(layers.Dense(classes, activation='softmax'))\n",
        "\n",
        "    model.compile(\n",
        "        optimizer='adam',\n",
        "        loss='sparse_categorical_crossentropy',\n",
        "        metrics=['accuracy'])\n",
        "\n",
        "    return model"
      ],
      "execution_count": 0,
      "outputs": []
    },
    {
      "metadata": {
        "id": "ImI5UfO8vTl5",
        "colab_type": "code",
        "colab": {
          "autoexec": {
            "startup": false,
            "wait_interval": 0
          }
        }
      },
      "cell_type": "code",
      "source": [
        "model = vanilia_cnn(input_shape=train_data[0].shape, classes=train_label.max() + 1)"
      ],
      "execution_count": 0,
      "outputs": []
    },
    {
      "metadata": {
        "id": "_15-f7oE49Gl",
        "colab_type": "code",
        "colab": {
          "autoexec": {
            "startup": false,
            "wait_interval": 0
          },
          "output_extras": [
            {
              "item_id": 58
            },
            {
              "item_id": 135
            },
            {
              "item_id": 219
            },
            {
              "item_id": 307
            },
            {
              "item_id": 393
            },
            {
              "item_id": 474
            },
            {
              "item_id": 556
            },
            {
              "item_id": 640
            },
            {
              "item_id": 728
            },
            {
              "item_id": 813
            },
            {
              "item_id": 899
            },
            {
              "item_id": 979
            },
            {
              "item_id": 1056
            },
            {
              "item_id": 1133
            },
            {
              "item_id": 1201
            },
            {
              "item_id": 1283
            },
            {
              "item_id": 1336
            }
          ],
          "base_uri": "https://localhost:8080/",
          "height": 7237
        },
        "outputId": "dff2404b-6b70-4d29-fb66-25ef3587af8a",
        "executionInfo": {
          "status": "ok",
          "timestamp": 1521088219763,
          "user_tz": -480,
          "elapsed": 595989,
          "user": {
            "displayName": "Cugtyt",
            "photoUrl": "//lh4.googleusercontent.com/-QxlWCi_owQ0/AAAAAAAAAAI/AAAAAAAAAC4/wNSYjuh_4x4/s50-c-k-no/photo.jpg",
            "userId": "100389950431846051928"
          }
        }
      },
      "cell_type": "code",
      "source": [
        "history = model.fit_generator(\n",
        "    datagen.flow(train_data, train_label, batch_size=20),\n",
        "    epochs=200, validation_data=(val_data, val_label))"
      ],
      "execution_count": 15,
      "outputs": [
        {
          "output_type": "stream",
          "text": [
            "Epoch 1/200\n",
            "9/9 [==============================] - 5s 580ms/step - loss: 2.4068 - acc: 0.1302 - val_loss: 2.3051 - val_acc: 0.0233\n",
            "Epoch 2/200\n",
            "9/9 [==============================] - 3s 323ms/step - loss: 2.3042 - acc: 0.1017 - val_loss: 2.3037 - val_acc: 0.0233\n",
            "Epoch 3/200\n",
            "9/9 [==============================] - 3s 329ms/step - loss: 2.3015 - acc: 0.1408 - val_loss: 2.3039 - val_acc: 0.0233\n",
            "Epoch 4/200\n",
            "9/9 [==============================] - 3s 334ms/step - loss: 2.3011 - acc: 0.1286 - val_loss: 2.3046 - val_acc: 0.0233\n",
            "Epoch 5/200\n",
            "9/9 [==============================] - 3s 325ms/step - loss: 2.3002 - acc: 0.1403 - val_loss: 2.3055 - val_acc: 0.0233\n",
            "Epoch 6/200\n",
            "9/9 [==============================] - 3s 337ms/step - loss: 2.3010 - acc: 0.1241 - val_loss: 2.3061 - val_acc: 0.0233\n",
            "Epoch 7/200\n",
            "9/9 [==============================] - 3s 332ms/step - loss: 2.2976 - acc: 0.1352 - val_loss: 2.3079 - val_acc: 0.0233\n",
            "Epoch 8/200\n",
            "9/9 [==============================] - 3s 330ms/step - loss: 2.3018 - acc: 0.1179 - val_loss: 2.3060 - val_acc: 0.0233\n",
            "Epoch 9/200\n",
            "9/9 [==============================] - 3s 335ms/step - loss: 2.2965 - acc: 0.1185 - val_loss: 2.3046 - val_acc: 0.0233\n",
            "Epoch 10/200\n",
            "9/9 [==============================] - 3s 332ms/step - loss: 2.2942 - acc: 0.1414 - val_loss: 2.3035 - val_acc: 0.0233\n",
            "Epoch 11/200\n",
            "9/9 [==============================] - 3s 330ms/step - loss: 2.2948 - acc: 0.1078 - val_loss: 2.3035 - val_acc: 0.0233\n",
            "Epoch 12/200\n",
            "9/9 [==============================] - 3s 331ms/step - loss: 2.2949 - acc: 0.1291 - val_loss: 2.3032 - val_acc: 0.0233\n",
            "Epoch 13/200\n",
            "1/9 [==>...........................] - ETA: 2s - loss: 2.3487 - acc: 0.0500"
          ],
          "name": "stdout"
        },
        {
          "output_type": "stream",
          "text": [
            "9/9 [==============================] - 3s 332ms/step - loss: 2.2979 - acc: 0.1124 - val_loss: 2.3013 - val_acc: 0.0233\n",
            "Epoch 14/200\n",
            "9/9 [==============================] - 3s 334ms/step - loss: 2.3004 - acc: 0.1174 - val_loss: 2.2973 - val_acc: 0.0233\n",
            "Epoch 15/200\n",
            "9/9 [==============================] - 3s 332ms/step - loss: 2.2887 - acc: 0.1789 - val_loss: 2.2978 - val_acc: 0.0698\n",
            "Epoch 16/200\n",
            "9/9 [==============================] - 3s 332ms/step - loss: 2.2960 - acc: 0.1073 - val_loss: 2.3015 - val_acc: 0.0233\n",
            "Epoch 17/200\n",
            "9/9 [==============================] - 3s 327ms/step - loss: 2.2840 - acc: 0.1073 - val_loss: 2.2493 - val_acc: 0.1860\n",
            "Epoch 18/200\n",
            "9/9 [==============================] - 3s 331ms/step - loss: 2.2749 - acc: 0.1688 - val_loss: 2.2630 - val_acc: 0.2558\n",
            "Epoch 19/200\n",
            "9/9 [==============================] - 3s 327ms/step - loss: 2.2788 - acc: 0.1459 - val_loss: 2.3055 - val_acc: 0.0233\n",
            "Epoch 20/200\n",
            "9/9 [==============================] - 3s 334ms/step - loss: 2.2957 - acc: 0.1531 - val_loss: 2.3086 - val_acc: 0.0233\n",
            "Epoch 21/200\n",
            "9/9 [==============================] - 3s 325ms/step - loss: 2.2937 - acc: 0.1235 - val_loss: 2.3103 - val_acc: 0.0233\n",
            "Epoch 22/200\n",
            "9/9 [==============================] - 3s 333ms/step - loss: 2.2831 - acc: 0.1296 - val_loss: 2.2773 - val_acc: 0.0233\n",
            "Epoch 23/200\n",
            "9/9 [==============================] - 3s 334ms/step - loss: 2.2475 - acc: 0.1744 - val_loss: 2.1575 - val_acc: 0.1860\n",
            "Epoch 24/200\n",
            "9/9 [==============================] - 3s 330ms/step - loss: 2.2376 - acc: 0.1856 - val_loss: 2.2062 - val_acc: 0.1163\n",
            "Epoch 25/200\n",
            "2/9 [=====>........................] - ETA: 1s - loss: 2.1618 - acc: 0.2611"
          ],
          "name": "stdout"
        },
        {
          "output_type": "stream",
          "text": [
            "9/9 [==============================] - 3s 326ms/step - loss: 2.2231 - acc: 0.1744 - val_loss: 2.1654 - val_acc: 0.2558\n",
            "Epoch 26/200\n",
            "9/9 [==============================] - 3s 330ms/step - loss: 2.1765 - acc: 0.1800 - val_loss: 2.1935 - val_acc: 0.1628\n",
            "Epoch 27/200\n",
            "9/9 [==============================] - 3s 327ms/step - loss: 2.1641 - acc: 0.1733 - val_loss: 2.1474 - val_acc: 0.2326\n",
            "Epoch 28/200\n",
            "9/9 [==============================] - 3s 338ms/step - loss: 2.2121 - acc: 0.1520 - val_loss: 2.1645 - val_acc: 0.2093\n",
            "Epoch 29/200\n",
            "9/9 [==============================] - 3s 330ms/step - loss: 2.2005 - acc: 0.1678 - val_loss: 2.1248 - val_acc: 0.2558\n",
            "Epoch 30/200\n",
            "9/9 [==============================] - 3s 327ms/step - loss: 2.1614 - acc: 0.2196 - val_loss: 2.2461 - val_acc: 0.1860\n",
            "Epoch 31/200\n",
            "9/9 [==============================] - 3s 327ms/step - loss: 2.0666 - acc: 0.1850 - val_loss: 2.2158 - val_acc: 0.1860\n",
            "Epoch 32/200\n",
            "9/9 [==============================] - 3s 333ms/step - loss: 2.0434 - acc: 0.1912 - val_loss: 2.4553 - val_acc: 0.1860\n",
            "Epoch 33/200\n",
            "9/9 [==============================] - 3s 331ms/step - loss: 1.9733 - acc: 0.2486 - val_loss: 2.4264 - val_acc: 0.1628\n",
            "Epoch 34/200\n",
            "9/9 [==============================] - 3s 329ms/step - loss: 2.0154 - acc: 0.2867 - val_loss: 2.1432 - val_acc: 0.1860\n",
            "Epoch 35/200\n",
            "9/9 [==============================] - 3s 330ms/step - loss: 1.9779 - acc: 0.2756 - val_loss: 2.3631 - val_acc: 0.2558\n",
            "Epoch 36/200\n",
            "9/9 [==============================] - 3s 337ms/step - loss: 1.9346 - acc: 0.2364 - val_loss: 2.2591 - val_acc: 0.1860\n",
            "Epoch 37/200\n",
            "2/9 [=====>........................] - ETA: 2s - loss: 1.9610 - acc: 0.2500"
          ],
          "name": "stdout"
        },
        {
          "output_type": "stream",
          "text": [
            "9/9 [==============================] - 3s 334ms/step - loss: 1.8975 - acc: 0.2827 - val_loss: 2.4120 - val_acc: 0.1860\n",
            "Epoch 38/200\n",
            "9/9 [==============================] - 3s 333ms/step - loss: 1.9089 - acc: 0.2354 - val_loss: 2.5941 - val_acc: 0.1860\n",
            "Epoch 39/200\n",
            "9/9 [==============================] - 3s 329ms/step - loss: 1.8909 - acc: 0.3248 - val_loss: 2.3683 - val_acc: 0.1628\n",
            "Epoch 40/200\n",
            "9/9 [==============================] - 3s 328ms/step - loss: 1.8561 - acc: 0.2918 - val_loss: 2.5050 - val_acc: 0.1628\n",
            "Epoch 41/200\n",
            "9/9 [==============================] - 3s 329ms/step - loss: 1.7992 - acc: 0.2969 - val_loss: 2.8949 - val_acc: 0.1860\n",
            "Epoch 42/200\n",
            "9/9 [==============================] - 3s 331ms/step - loss: 1.8633 - acc: 0.3320 - val_loss: 2.3354 - val_acc: 0.1860\n",
            "Epoch 43/200\n",
            "9/9 [==============================] - 3s 324ms/step - loss: 1.7260 - acc: 0.3432 - val_loss: 3.7285 - val_acc: 0.1860\n",
            "Epoch 44/200\n",
            "9/9 [==============================] - 3s 329ms/step - loss: 1.5249 - acc: 0.4215 - val_loss: 3.1287 - val_acc: 0.1628\n",
            "Epoch 45/200\n",
            "9/9 [==============================] - 3s 325ms/step - loss: 1.6173 - acc: 0.4438 - val_loss: 2.5961 - val_acc: 0.1860\n",
            "Epoch 46/200\n",
            "9/9 [==============================] - 3s 327ms/step - loss: 1.5896 - acc: 0.4443 - val_loss: 2.6253 - val_acc: 0.2093\n",
            "Epoch 47/200\n",
            "9/9 [==============================] - 3s 331ms/step - loss: 1.5626 - acc: 0.4220 - val_loss: 2.8458 - val_acc: 0.1628\n",
            "Epoch 48/200\n",
            "9/9 [==============================] - 3s 321ms/step - loss: 1.5615 - acc: 0.4489 - val_loss: 2.5127 - val_acc: 0.2093\n",
            "Epoch 49/200\n",
            "2/9 [=====>........................] - ETA: 1s - loss: 1.5562 - acc: 0.3917"
          ],
          "name": "stdout"
        },
        {
          "output_type": "stream",
          "text": [
            "9/9 [==============================] - 3s 327ms/step - loss: 1.5481 - acc: 0.4489 - val_loss: 2.5659 - val_acc: 0.1860\n",
            "Epoch 50/200\n",
            "9/9 [==============================] - 3s 332ms/step - loss: 1.4613 - acc: 0.4550 - val_loss: 2.8831 - val_acc: 0.1860\n",
            "Epoch 51/200\n",
            "9/9 [==============================] - 3s 330ms/step - loss: 1.3863 - acc: 0.4718 - val_loss: 3.3069 - val_acc: 0.2093\n",
            "Epoch 52/200\n",
            "9/9 [==============================] - 3s 325ms/step - loss: 1.4193 - acc: 0.5226 - val_loss: 2.9912 - val_acc: 0.2093\n",
            "Epoch 53/200\n",
            "9/9 [==============================] - 3s 330ms/step - loss: 1.4597 - acc: 0.4840 - val_loss: 2.5769 - val_acc: 0.1628\n",
            "Epoch 54/200\n",
            "9/9 [==============================] - 3s 332ms/step - loss: 1.3226 - acc: 0.5445 - val_loss: 2.9228 - val_acc: 0.2093\n",
            "Epoch 55/200\n",
            "9/9 [==============================] - 3s 325ms/step - loss: 1.2718 - acc: 0.5231 - val_loss: 3.3176 - val_acc: 0.2093\n",
            "Epoch 56/200\n",
            "9/9 [==============================] - 3s 327ms/step - loss: 1.2695 - acc: 0.5272 - val_loss: 3.7982 - val_acc: 0.1860\n",
            "Epoch 57/200\n",
            "9/9 [==============================] - 3s 329ms/step - loss: 1.3002 - acc: 0.5114 - val_loss: 3.3355 - val_acc: 0.1395\n",
            "Epoch 58/200\n",
            "9/9 [==============================] - 3s 326ms/step - loss: 1.1768 - acc: 0.5735 - val_loss: 3.7468 - val_acc: 0.1395\n",
            "Epoch 59/200\n",
            "9/9 [==============================] - 3s 326ms/step - loss: 1.2638 - acc: 0.5231 - val_loss: 3.4682 - val_acc: 0.1860\n",
            "Epoch 60/200\n",
            "9/9 [==============================] - 3s 331ms/step - loss: 1.2834 - acc: 0.5501 - val_loss: 3.9864 - val_acc: 0.1860\n",
            "Epoch 61/200\n",
            "3/9 [=========>....................] - ETA: 1s - loss: 0.7643 - acc: 0.7667"
          ],
          "name": "stdout"
        },
        {
          "output_type": "stream",
          "text": [
            "9/9 [==============================] - 3s 327ms/step - loss: 1.0491 - acc: 0.6629 - val_loss: 3.3314 - val_acc: 0.1860\n",
            "Epoch 62/200\n",
            "9/9 [==============================] - 3s 323ms/step - loss: 1.0842 - acc: 0.5623 - val_loss: 4.1285 - val_acc: 0.1628\n",
            "Epoch 63/200\n",
            "9/9 [==============================] - 3s 317ms/step - loss: 1.2057 - acc: 0.5165 - val_loss: 4.7725 - val_acc: 0.1395\n",
            "Epoch 64/200\n",
            "9/9 [==============================] - 3s 324ms/step - loss: 1.2058 - acc: 0.5897 - val_loss: 3.6770 - val_acc: 0.1628\n",
            "Epoch 65/200\n",
            "9/9 [==============================] - 3s 326ms/step - loss: 1.1629 - acc: 0.5958 - val_loss: 3.4093 - val_acc: 0.1395\n",
            "Epoch 66/200\n",
            "9/9 [==============================] - 3s 320ms/step - loss: 1.0288 - acc: 0.5964 - val_loss: 4.4147 - val_acc: 0.1628\n",
            "Epoch 67/200\n",
            "9/9 [==============================] - 3s 326ms/step - loss: 0.9603 - acc: 0.6696 - val_loss: 3.5889 - val_acc: 0.1860\n",
            "Epoch 68/200\n",
            "9/9 [==============================] - 3s 330ms/step - loss: 1.0269 - acc: 0.6563 - val_loss: 3.4627 - val_acc: 0.2093\n",
            "Epoch 69/200\n",
            "9/9 [==============================] - 3s 331ms/step - loss: 1.0153 - acc: 0.6065 - val_loss: 4.1848 - val_acc: 0.1860\n",
            "Epoch 70/200\n",
            "9/9 [==============================] - 3s 329ms/step - loss: 1.0041 - acc: 0.6070 - val_loss: 3.7453 - val_acc: 0.1860\n",
            "Epoch 71/200\n",
            "9/9 [==============================] - 3s 325ms/step - loss: 0.9794 - acc: 0.6228 - val_loss: 3.9316 - val_acc: 0.1860\n",
            "Epoch 72/200\n",
            "9/9 [==============================] - 3s 329ms/step - loss: 0.9320 - acc: 0.6563 - val_loss: 4.3802 - val_acc: 0.1860\n",
            "Epoch 73/200\n",
            "2/9 [=====>........................] - ETA: 2s - loss: 0.7585 - acc: 0.7500"
          ],
          "name": "stdout"
        },
        {
          "output_type": "stream",
          "text": [
            "9/9 [==============================] - 3s 330ms/step - loss: 0.9085 - acc: 0.6848 - val_loss: 4.3907 - val_acc: 0.1860\n",
            "Epoch 74/200\n",
            "9/9 [==============================] - 3s 330ms/step - loss: 0.9712 - acc: 0.6350 - val_loss: 3.4614 - val_acc: 0.1395\n",
            "Epoch 75/200\n",
            "9/9 [==============================] - 3s 333ms/step - loss: 0.9888 - acc: 0.6411 - val_loss: 4.1761 - val_acc: 0.1163\n",
            "Epoch 76/200\n",
            "9/9 [==============================] - 3s 334ms/step - loss: 0.8770 - acc: 0.6736 - val_loss: 3.7017 - val_acc: 0.1395\n",
            "Epoch 77/200\n",
            "9/9 [==============================] - 3s 332ms/step - loss: 0.9789 - acc: 0.6401 - val_loss: 4.4142 - val_acc: 0.1860\n",
            "Epoch 78/200\n",
            "9/9 [==============================] - 3s 323ms/step - loss: 0.8320 - acc: 0.7092 - val_loss: 4.1958 - val_acc: 0.2093\n",
            "Epoch 79/200\n",
            "9/9 [==============================] - 3s 329ms/step - loss: 0.8142 - acc: 0.7082 - val_loss: 3.6503 - val_acc: 0.1860\n",
            "Epoch 80/200\n",
            "9/9 [==============================] - 3s 339ms/step - loss: 0.8531 - acc: 0.6970 - val_loss: 3.5439 - val_acc: 0.1860\n",
            "Epoch 81/200\n",
            "9/9 [==============================] - 3s 321ms/step - loss: 0.7512 - acc: 0.7189 - val_loss: 3.9795 - val_acc: 0.1395\n",
            "Epoch 82/200\n",
            "9/9 [==============================] - 3s 323ms/step - loss: 0.6820 - acc: 0.7641 - val_loss: 5.3962 - val_acc: 0.1860\n",
            "Epoch 83/200\n",
            "9/9 [==============================] - 3s 331ms/step - loss: 0.7053 - acc: 0.7529 - val_loss: 4.5151 - val_acc: 0.1628\n",
            "Epoch 84/200\n",
            "9/9 [==============================] - 3s 323ms/step - loss: 0.6870 - acc: 0.7636 - val_loss: 4.3098 - val_acc: 0.2093\n",
            "Epoch 85/200\n",
            "1/9 [==>...........................] - ETA: 2s - loss: 0.8527 - acc: 0.7500"
          ],
          "name": "stdout"
        },
        {
          "output_type": "stream",
          "text": [
            "9/9 [==============================] - 3s 329ms/step - loss: 0.6808 - acc: 0.7921 - val_loss: 6.0830 - val_acc: 0.2093\n",
            "Epoch 86/200\n",
            "9/9 [==============================] - 3s 329ms/step - loss: 0.6541 - acc: 0.7748 - val_loss: 4.0808 - val_acc: 0.1860\n",
            "Epoch 87/200\n",
            "9/9 [==============================] - 3s 323ms/step - loss: 0.7457 - acc: 0.7921 - val_loss: 4.8993 - val_acc: 0.1860\n",
            "Epoch 88/200\n",
            "9/9 [==============================] - 3s 327ms/step - loss: 0.6605 - acc: 0.7417 - val_loss: 3.8985 - val_acc: 0.0930\n",
            "Epoch 89/200\n",
            "9/9 [==============================] - 3s 328ms/step - loss: 0.6282 - acc: 0.7870 - val_loss: 4.7874 - val_acc: 0.1628\n",
            "Epoch 90/200\n",
            "9/9 [==============================] - 3s 330ms/step - loss: 0.6397 - acc: 0.7692 - val_loss: 4.6223 - val_acc: 0.0698\n",
            "Epoch 91/200\n",
            "9/9 [==============================] - 3s 332ms/step - loss: 0.6980 - acc: 0.7295 - val_loss: 5.2719 - val_acc: 0.0698\n",
            "Epoch 92/200\n",
            "9/9 [==============================] - 3s 330ms/step - loss: 0.6218 - acc: 0.7809 - val_loss: 4.4685 - val_acc: 0.1163\n",
            "Epoch 93/200\n",
            "9/9 [==============================] - 3s 335ms/step - loss: 0.6988 - acc: 0.7636 - val_loss: 4.8142 - val_acc: 0.0930\n",
            "Epoch 94/200\n",
            "9/9 [==============================] - 3s 329ms/step - loss: 0.6522 - acc: 0.7763 - val_loss: 5.9745 - val_acc: 0.1163\n",
            "Epoch 95/200\n",
            "9/9 [==============================] - 3s 331ms/step - loss: 0.6351 - acc: 0.7707 - val_loss: 4.4341 - val_acc: 0.0698\n",
            "Epoch 96/200\n",
            "9/9 [==============================] - 3s 326ms/step - loss: 0.5157 - acc: 0.8429 - val_loss: 5.3875 - val_acc: 0.1163\n",
            "Epoch 97/200\n",
            "1/9 [==>...........................] - ETA: 2s - loss: 0.8540 - acc: 0.7000"
          ],
          "name": "stdout"
        },
        {
          "output_type": "stream",
          "text": [
            "9/9 [==============================] - 3s 332ms/step - loss: 0.6532 - acc: 0.7748 - val_loss: 5.4295 - val_acc: 0.1628\n",
            "Epoch 98/200\n",
            "9/9 [==============================] - 3s 332ms/step - loss: 0.6818 - acc: 0.7479 - val_loss: 5.3598 - val_acc: 0.1628\n",
            "Epoch 99/200\n",
            "9/9 [==============================] - 3s 327ms/step - loss: 0.7084 - acc: 0.7356 - val_loss: 6.5231 - val_acc: 0.0930\n",
            "Epoch 100/200\n",
            "9/9 [==============================] - 3s 328ms/step - loss: 0.7665 - acc: 0.7479 - val_loss: 3.6263 - val_acc: 0.1628\n",
            "Epoch 101/200\n",
            "9/9 [==============================] - 3s 329ms/step - loss: 0.7302 - acc: 0.7372 - val_loss: 5.4163 - val_acc: 0.1163\n",
            "Epoch 102/200\n",
            "9/9 [==============================] - 3s 329ms/step - loss: 0.7770 - acc: 0.6899 - val_loss: 3.0021 - val_acc: 0.2326\n",
            "Epoch 103/200\n",
            "9/9 [==============================] - 3s 330ms/step - loss: 0.4948 - acc: 0.8434 - val_loss: 3.9283 - val_acc: 0.2093\n",
            "Epoch 104/200\n",
            "9/9 [==============================] - 3s 327ms/step - loss: 0.4930 - acc: 0.8434 - val_loss: 3.6940 - val_acc: 0.2093\n",
            "Epoch 105/200\n",
            "9/9 [==============================] - 3s 327ms/step - loss: 0.5893 - acc: 0.8038 - val_loss: 4.5252 - val_acc: 0.1860\n",
            "Epoch 106/200\n",
            "9/9 [==============================] - 3s 327ms/step - loss: 0.5324 - acc: 0.7870 - val_loss: 4.0993 - val_acc: 0.2093\n",
            "Epoch 107/200\n",
            "9/9 [==============================] - 3s 329ms/step - loss: 0.6080 - acc: 0.7982 - val_loss: 3.8045 - val_acc: 0.1628\n",
            "Epoch 108/200\n",
            "9/9 [==============================] - 3s 322ms/step - loss: 0.5307 - acc: 0.8205 - val_loss: 3.9171 - val_acc: 0.1628\n",
            "Epoch 109/200\n",
            "1/9 [==>...........................] - ETA: 2s - loss: 0.1987 - acc: 0.9500"
          ],
          "name": "stdout"
        },
        {
          "output_type": "stream",
          "text": [
            "9/9 [==============================] - 3s 334ms/step - loss: 0.4084 - acc: 0.8434 - val_loss: 3.8515 - val_acc: 0.1628\n",
            "Epoch 110/200\n",
            "9/9 [==============================] - 3s 327ms/step - loss: 0.4308 - acc: 0.8546 - val_loss: 4.7560 - val_acc: 0.1860\n",
            "Epoch 111/200\n",
            "9/9 [==============================] - 3s 330ms/step - loss: 0.5971 - acc: 0.7865 - val_loss: 4.1906 - val_acc: 0.1395\n",
            "Epoch 112/200\n",
            "9/9 [==============================] - 3s 325ms/step - loss: 0.4363 - acc: 0.8429 - val_loss: 5.6291 - val_acc: 0.2093\n",
            "Epoch 113/200\n",
            "9/9 [==============================] - 3s 333ms/step - loss: 0.5488 - acc: 0.7870 - val_loss: 4.4044 - val_acc: 0.1628\n",
            "Epoch 114/200\n",
            "9/9 [==============================] - 3s 325ms/step - loss: 0.4767 - acc: 0.8541 - val_loss: 4.3975 - val_acc: 0.1628\n",
            "Epoch 115/200\n",
            "9/9 [==============================] - 3s 332ms/step - loss: 0.4275 - acc: 0.8882 - val_loss: 5.0498 - val_acc: 0.1628\n",
            "Epoch 116/200\n",
            "9/9 [==============================] - 3s 329ms/step - loss: 0.4920 - acc: 0.8200 - val_loss: 4.9708 - val_acc: 0.1395\n",
            "Epoch 117/200\n",
            "9/9 [==============================] - 3s 324ms/step - loss: 0.4281 - acc: 0.8373 - val_loss: 5.1894 - val_acc: 0.1395\n",
            "Epoch 118/200\n",
            "9/9 [==============================] - 3s 334ms/step - loss: 0.4039 - acc: 0.8541 - val_loss: 5.7313 - val_acc: 0.1395\n",
            "Epoch 119/200\n",
            "9/9 [==============================] - 3s 331ms/step - loss: 0.2592 - acc: 0.9105 - val_loss: 4.7822 - val_acc: 0.1395\n",
            "Epoch 120/200\n",
            "9/9 [==============================] - 3s 325ms/step - loss: 0.4078 - acc: 0.8653 - val_loss: 6.0075 - val_acc: 0.1628\n",
            "Epoch 121/200\n",
            "1/9 [==>...........................] - ETA: 2s - loss: 0.2538 - acc: 0.9500"
          ],
          "name": "stdout"
        },
        {
          "output_type": "stream",
          "text": [
            "9/9 [==============================] - 3s 332ms/step - loss: 0.4647 - acc: 0.8317 - val_loss: 5.4850 - val_acc: 0.1860\n",
            "Epoch 122/200\n",
            "9/9 [==============================] - 3s 324ms/step - loss: 0.4695 - acc: 0.8155 - val_loss: 4.3939 - val_acc: 0.1628\n",
            "Epoch 123/200\n",
            "9/9 [==============================] - 3s 333ms/step - loss: 0.4723 - acc: 0.8150 - val_loss: 4.8377 - val_acc: 0.1628\n",
            "Epoch 124/200\n",
            "9/9 [==============================] - 3s 325ms/step - loss: 0.4243 - acc: 0.8429 - val_loss: 4.4113 - val_acc: 0.1628\n",
            "Epoch 125/200\n",
            "9/9 [==============================] - 3s 330ms/step - loss: 0.4301 - acc: 0.8648 - val_loss: 4.5431 - val_acc: 0.1628\n",
            "Epoch 126/200\n",
            "9/9 [==============================] - 3s 325ms/step - loss: 0.4027 - acc: 0.8586 - val_loss: 4.0884 - val_acc: 0.1860\n",
            "Epoch 127/200\n",
            "9/9 [==============================] - 3s 324ms/step - loss: 0.4186 - acc: 0.8592 - val_loss: 4.6642 - val_acc: 0.1860\n",
            "Epoch 128/200\n",
            "9/9 [==============================] - 3s 327ms/step - loss: 0.4677 - acc: 0.8150 - val_loss: 5.7322 - val_acc: 0.1395\n",
            "Epoch 129/200\n",
            "9/9 [==============================] - 3s 332ms/step - loss: 0.4593 - acc: 0.8536 - val_loss: 3.8579 - val_acc: 0.2093\n",
            "Epoch 130/200\n",
            "9/9 [==============================] - 3s 328ms/step - loss: 0.3072 - acc: 0.9044 - val_loss: 6.3301 - val_acc: 0.1628\n",
            "Epoch 131/200\n",
            "9/9 [==============================] - 3s 329ms/step - loss: 0.3044 - acc: 0.9049 - val_loss: 4.5098 - val_acc: 0.2326\n",
            "Epoch 132/200\n",
            "9/9 [==============================] - 3s 327ms/step - loss: 0.4465 - acc: 0.8205 - val_loss: 5.8127 - val_acc: 0.1860\n",
            "Epoch 133/200\n",
            "1/9 [==>...........................] - ETA: 2s - loss: 0.1101 - acc: 1.0000"
          ],
          "name": "stdout"
        },
        {
          "output_type": "stream",
          "text": [
            "9/9 [==============================] - 3s 332ms/step - loss: 0.3119 - acc: 0.9049 - val_loss: 5.3709 - val_acc: 0.1628\n",
            "Epoch 134/200\n",
            "9/9 [==============================] - 3s 321ms/step - loss: 0.2949 - acc: 0.9034 - val_loss: 4.8114 - val_acc: 0.1628\n",
            "Epoch 135/200\n",
            "9/9 [==============================] - 3s 339ms/step - loss: 0.4121 - acc: 0.8373 - val_loss: 4.7552 - val_acc: 0.1628\n",
            "Epoch 136/200\n",
            "9/9 [==============================] - 3s 325ms/step - loss: 0.3408 - acc: 0.8693 - val_loss: 4.4181 - val_acc: 0.1628\n",
            "Epoch 137/200\n",
            "9/9 [==============================] - 3s 329ms/step - loss: 0.4091 - acc: 0.8195 - val_loss: 3.6349 - val_acc: 0.1628\n",
            "Epoch 138/200\n",
            "9/9 [==============================] - 3s 329ms/step - loss: 0.3298 - acc: 0.8546 - val_loss: 4.8519 - val_acc: 0.1628\n",
            "Epoch 139/200\n",
            "9/9 [==============================] - 3s 328ms/step - loss: 0.3637 - acc: 0.8653 - val_loss: 4.0841 - val_acc: 0.1628\n",
            "Epoch 140/200\n",
            "9/9 [==============================] - 3s 327ms/step - loss: 0.2516 - acc: 0.9268 - val_loss: 4.1890 - val_acc: 0.1628\n",
            "Epoch 141/200\n",
            "9/9 [==============================] - 3s 329ms/step - loss: 0.3706 - acc: 0.8469 - val_loss: 4.4849 - val_acc: 0.2326\n",
            "Epoch 142/200\n",
            "9/9 [==============================] - 3s 326ms/step - loss: 0.2468 - acc: 0.9385 - val_loss: 6.0315 - val_acc: 0.1860\n",
            "Epoch 143/200\n",
            "9/9 [==============================] - 3s 334ms/step - loss: 0.3188 - acc: 0.8993 - val_loss: 4.1988 - val_acc: 0.1628\n",
            "Epoch 144/200\n",
            "9/9 [==============================] - 3s 329ms/step - loss: 0.2643 - acc: 0.9273 - val_loss: 4.3960 - val_acc: 0.1628\n",
            "Epoch 145/200\n",
            "1/9 [==>...........................] - ETA: 2s - loss: 0.3215 - acc: 0.8500"
          ],
          "name": "stdout"
        },
        {
          "output_type": "stream",
          "text": [
            "9/9 [==============================] - 3s 337ms/step - loss: 0.3320 - acc: 0.8597 - val_loss: 4.2691 - val_acc: 0.1860\n",
            "Epoch 146/200\n",
            "9/9 [==============================] - 3s 333ms/step - loss: 0.3324 - acc: 0.8765 - val_loss: 4.3957 - val_acc: 0.1860\n",
            "Epoch 147/200\n",
            "9/9 [==============================] - 3s 337ms/step - loss: 0.3415 - acc: 0.8541 - val_loss: 4.5121 - val_acc: 0.1860\n",
            "Epoch 148/200\n",
            "9/9 [==============================] - 3s 326ms/step - loss: 0.3845 - acc: 0.8648 - val_loss: 5.5614 - val_acc: 0.1628\n",
            "Epoch 149/200\n",
            "9/9 [==============================] - 3s 332ms/step - loss: 0.5502 - acc: 0.7966 - val_loss: 4.3777 - val_acc: 0.1628\n",
            "Epoch 150/200\n",
            "9/9 [==============================] - 3s 329ms/step - loss: 0.4840 - acc: 0.8261 - val_loss: 4.8861 - val_acc: 0.1628\n",
            "Epoch 151/200\n",
            "9/9 [==============================] - 3s 330ms/step - loss: 0.3818 - acc: 0.8876 - val_loss: 4.5441 - val_acc: 0.1395\n",
            "Epoch 152/200\n",
            "9/9 [==============================] - 3s 323ms/step - loss: 0.3488 - acc: 0.8602 - val_loss: 4.8645 - val_acc: 0.2093\n",
            "Epoch 153/200\n",
            "9/9 [==============================] - 3s 330ms/step - loss: 0.2954 - acc: 0.9049 - val_loss: 4.9926 - val_acc: 0.2326\n",
            "Epoch 154/200\n",
            "9/9 [==============================] - 3s 323ms/step - loss: 0.4100 - acc: 0.8754 - val_loss: 4.3937 - val_acc: 0.1860\n",
            "Epoch 155/200\n",
            "9/9 [==============================] - 3s 323ms/step - loss: 0.3673 - acc: 0.8765 - val_loss: 5.0955 - val_acc: 0.2326\n",
            "Epoch 156/200\n",
            "9/9 [==============================] - 3s 321ms/step - loss: 0.3343 - acc: 0.8536 - val_loss: 5.8484 - val_acc: 0.2558\n",
            "Epoch 157/200\n",
            "1/9 [==>...........................] - ETA: 2s - loss: 0.2223 - acc: 0.9500"
          ],
          "name": "stdout"
        },
        {
          "output_type": "stream",
          "text": [
            "9/9 [==============================] - 3s 320ms/step - loss: 0.2861 - acc: 0.9105 - val_loss: 5.5106 - val_acc: 0.2326\n",
            "Epoch 158/200\n",
            "9/9 [==============================] - 3s 319ms/step - loss: 0.2669 - acc: 0.9268 - val_loss: 5.2800 - val_acc: 0.1860\n",
            "Epoch 159/200\n",
            "9/9 [==============================] - 3s 323ms/step - loss: 0.2455 - acc: 0.9273 - val_loss: 5.6873 - val_acc: 0.2326\n",
            "Epoch 160/200\n",
            "9/9 [==============================] - 3s 330ms/step - loss: 0.2582 - acc: 0.9324 - val_loss: 6.3856 - val_acc: 0.2093\n",
            "Epoch 161/200\n",
            "9/9 [==============================] - 3s 323ms/step - loss: 0.2932 - acc: 0.9156 - val_loss: 5.7750 - val_acc: 0.2093\n",
            "Epoch 162/200\n",
            "9/9 [==============================] - 3s 320ms/step - loss: 0.3186 - acc: 0.8759 - val_loss: 4.7639 - val_acc: 0.1860\n",
            "Epoch 163/200\n",
            "9/9 [==============================] - 3s 328ms/step - loss: 0.2994 - acc: 0.8932 - val_loss: 5.5772 - val_acc: 0.2326\n",
            "Epoch 164/200\n",
            "9/9 [==============================] - 3s 319ms/step - loss: 0.2200 - acc: 0.9217 - val_loss: 5.2434 - val_acc: 0.2093\n",
            "Epoch 165/200\n",
            "9/9 [==============================] - 3s 327ms/step - loss: 0.2221 - acc: 0.9105 - val_loss: 5.5052 - val_acc: 0.2093\n",
            "Epoch 166/200\n",
            "9/9 [==============================] - 3s 329ms/step - loss: 0.3007 - acc: 0.8821 - val_loss: 5.7355 - val_acc: 0.1163\n",
            "Epoch 167/200\n",
            "9/9 [==============================] - 3s 330ms/step - loss: 0.2627 - acc: 0.9273 - val_loss: 7.0633 - val_acc: 0.1395\n",
            "Epoch 168/200\n",
            "9/9 [==============================] - 3s 327ms/step - loss: 0.2889 - acc: 0.9100 - val_loss: 5.1614 - val_acc: 0.1628\n",
            "Epoch 169/200\n",
            "1/9 [==>...........................] - ETA: 2s - loss: 0.7527 - acc: 0.7000"
          ],
          "name": "stdout"
        },
        {
          "output_type": "stream",
          "text": [
            "9/9 [==============================] - 3s 328ms/step - loss: 0.4183 - acc: 0.8251 - val_loss: 5.0137 - val_acc: 0.1860\n",
            "Epoch 170/200\n",
            "9/9 [==============================] - 3s 319ms/step - loss: 0.3084 - acc: 0.9100 - val_loss: 5.6103 - val_acc: 0.2093\n",
            "Epoch 171/200\n",
            "9/9 [==============================] - 3s 326ms/step - loss: 0.2567 - acc: 0.9100 - val_loss: 4.8338 - val_acc: 0.1628\n",
            "Epoch 172/200\n",
            "9/9 [==============================] - 3s 329ms/step - loss: 0.4164 - acc: 0.8597 - val_loss: 5.3878 - val_acc: 0.2326\n",
            "Epoch 173/200\n",
            "9/9 [==============================] - 3s 332ms/step - loss: 0.2185 - acc: 0.9329 - val_loss: 5.5294 - val_acc: 0.1395\n",
            "Epoch 174/200\n",
            "9/9 [==============================] - 3s 320ms/step - loss: 0.2879 - acc: 0.9207 - val_loss: 4.1464 - val_acc: 0.1860\n",
            "Epoch 175/200\n",
            "9/9 [==============================] - 3s 327ms/step - loss: 0.2183 - acc: 0.9207 - val_loss: 4.9832 - val_acc: 0.1860\n",
            "Epoch 176/200\n",
            "9/9 [==============================] - 3s 335ms/step - loss: 0.3219 - acc: 0.8698 - val_loss: 5.0328 - val_acc: 0.1395\n",
            "Epoch 177/200\n",
            "9/9 [==============================] - 3s 325ms/step - loss: 0.2090 - acc: 0.9273 - val_loss: 6.0890 - val_acc: 0.1628\n",
            "Epoch 178/200\n",
            "9/9 [==============================] - 3s 333ms/step - loss: 0.2842 - acc: 0.9207 - val_loss: 5.8987 - val_acc: 0.1860\n",
            "Epoch 179/200\n",
            "9/9 [==============================] - 3s 332ms/step - loss: 0.1728 - acc: 0.9161 - val_loss: 7.1628 - val_acc: 0.1628\n",
            "Epoch 180/200\n",
            "9/9 [==============================] - 3s 332ms/step - loss: 0.2378 - acc: 0.9161 - val_loss: 5.1990 - val_acc: 0.1860\n",
            "Epoch 181/200\n",
            "1/9 [==>...........................] - ETA: 2s - loss: 0.2071 - acc: 0.9500"
          ],
          "name": "stdout"
        },
        {
          "output_type": "stream",
          "text": [
            "9/9 [==============================] - 3s 330ms/step - loss: 0.1897 - acc: 0.9268 - val_loss: 6.8787 - val_acc: 0.2093\n",
            "Epoch 182/200\n",
            "9/9 [==============================] - 3s 320ms/step - loss: 0.1749 - acc: 0.9441 - val_loss: 5.6700 - val_acc: 0.1395\n",
            "Epoch 183/200\n",
            "9/9 [==============================] - 3s 326ms/step - loss: 0.1588 - acc: 0.9385 - val_loss: 6.1567 - val_acc: 0.1163\n",
            "Epoch 184/200\n",
            "9/9 [==============================] - 3s 317ms/step - loss: 0.3599 - acc: 0.9044 - val_loss: 6.0510 - val_acc: 0.2093\n",
            "Epoch 185/200\n",
            "9/9 [==============================] - 3s 319ms/step - loss: 0.2617 - acc: 0.9273 - val_loss: 4.8355 - val_acc: 0.2093\n",
            "Epoch 186/200\n",
            "9/9 [==============================] - 3s 327ms/step - loss: 0.1061 - acc: 0.9720 - val_loss: 5.2037 - val_acc: 0.2093\n",
            "Epoch 187/200\n",
            "9/9 [==============================] - 3s 331ms/step - loss: 0.2360 - acc: 0.9161 - val_loss: 5.2195 - val_acc: 0.2093\n",
            "Epoch 188/200\n",
            "9/9 [==============================] - 3s 331ms/step - loss: 0.1561 - acc: 0.9329 - val_loss: 5.8890 - val_acc: 0.2093\n",
            "Epoch 189/200\n",
            "9/9 [==============================] - 3s 327ms/step - loss: 0.2021 - acc: 0.9324 - val_loss: 4.9959 - val_acc: 0.2093\n",
            "Epoch 190/200\n",
            "9/9 [==============================] - 3s 324ms/step - loss: 0.3352 - acc: 0.8876 - val_loss: 4.2164 - val_acc: 0.1628\n",
            "Epoch 191/200\n",
            "9/9 [==============================] - 3s 337ms/step - loss: 0.2067 - acc: 0.9156 - val_loss: 6.1740 - val_acc: 0.2093\n",
            "Epoch 192/200\n",
            "9/9 [==============================] - 3s 325ms/step - loss: 0.3093 - acc: 0.8882 - val_loss: 4.4076 - val_acc: 0.2093\n",
            "Epoch 193/200\n",
            "1/9 [==>...........................] - ETA: 2s - loss: 0.3413 - acc: 0.8000"
          ],
          "name": "stdout"
        },
        {
          "output_type": "stream",
          "text": [
            "9/9 [==============================] - 3s 333ms/step - loss: 0.3617 - acc: 0.8485 - val_loss: 5.1187 - val_acc: 0.1860\n",
            "Epoch 194/200\n",
            "9/9 [==============================] - 3s 327ms/step - loss: 0.2209 - acc: 0.8932 - val_loss: 5.0726 - val_acc: 0.2093\n",
            "Epoch 195/200\n",
            "9/9 [==============================] - 3s 321ms/step - loss: 0.2513 - acc: 0.9100 - val_loss: 4.9083 - val_acc: 0.1628\n",
            "Epoch 196/200\n",
            "9/9 [==============================] - 3s 333ms/step - loss: 0.2308 - acc: 0.9105 - val_loss: 5.3967 - val_acc: 0.1163\n",
            "Epoch 197/200\n",
            "9/9 [==============================] - 3s 324ms/step - loss: 0.2250 - acc: 0.9212 - val_loss: 5.9334 - val_acc: 0.1395\n",
            "Epoch 198/200\n",
            "9/9 [==============================] - 3s 328ms/step - loss: 0.1552 - acc: 0.9441 - val_loss: 5.6675 - val_acc: 0.1860\n",
            "Epoch 199/200\n",
            "9/9 [==============================] - 3s 325ms/step - loss: 0.1643 - acc: 0.9324 - val_loss: 6.6603 - val_acc: 0.1628\n",
            "Epoch 200/200\n",
            "9/9 [==============================] - 3s 331ms/step - loss: 0.1025 - acc: 0.9720 - val_loss: 5.9515 - val_acc: 0.2326\n"
          ],
          "name": "stdout"
        }
      ]
    },
    {
      "metadata": {
        "id": "5J_uscADgYOS",
        "colab_type": "code",
        "colab": {
          "autoexec": {
            "startup": false,
            "wait_interval": 0
          }
        }
      },
      "cell_type": "code",
      "source": [
        "model.save('./drive/asian_vanilia3.h5')"
      ],
      "execution_count": 0,
      "outputs": []
    },
    {
      "metadata": {
        "id": "yNlYk4-Uhm7h",
        "colab_type": "code",
        "colab": {
          "autoexec": {
            "startup": false,
            "wait_interval": 0
          }
        }
      },
      "cell_type": "code",
      "source": [
        "import matplotlib.pyplot as plt"
      ],
      "execution_count": 0,
      "outputs": []
    },
    {
      "metadata": {
        "id": "SIkTfB3c1-u1",
        "colab_type": "code",
        "colab": {
          "autoexec": {
            "startup": false,
            "wait_interval": 0
          },
          "output_extras": [
            {
              "item_id": 1
            },
            {
              "item_id": 2
            }
          ],
          "base_uri": "https://localhost:8080/",
          "height": 708
        },
        "outputId": "95240c97-b056-49e1-82bf-21dbce11044b",
        "executionInfo": {
          "status": "ok",
          "timestamp": 1521088224252,
          "user_tz": -480,
          "elapsed": 3258,
          "user": {
            "displayName": "Cugtyt",
            "photoUrl": "//lh4.googleusercontent.com/-QxlWCi_owQ0/AAAAAAAAAAI/AAAAAAAAAC4/wNSYjuh_4x4/s50-c-k-no/photo.jpg",
            "userId": "100389950431846051928"
          }
        }
      },
      "cell_type": "code",
      "source": [
        "acc = history.history['acc']\n",
        "val_acc = history.history['val_acc']\n",
        "loss = history.history['loss']\n",
        "val_loss = history.history['val_loss']\n",
        "\n",
        "epochs = range(1, len(acc) + 1)\n",
        "\n",
        "plt.plot(epochs, acc, 'bo', label='Training acc')\n",
        "plt.plot(epochs, val_acc, 'b', label='Validation acc')\n",
        "plt.title('Training and validation accuracy')\n",
        "plt.legend()\n",
        "\n",
        "plt.figure()\n",
        "\n",
        "plt.plot(epochs, loss, 'bo', label='Training loss')\n",
        "plt.plot(epochs, val_loss, 'b', label='Validation loss')\n",
        "plt.title('Training and validation loss')\n",
        "plt.legend()\n",
        "\n",
        "plt.show()"
      ],
      "execution_count": 17,
      "outputs": [
        {
          "output_type": "display_data",
          "data": {
            "image/png": "[encoded data removed]",
            "text/plain": [
              "<matplotlib.figure.Figure at 0x7f6d792cf3c8>"
            ]
          },
          "metadata": {
            "tags": []
          }
        },
        {
          "output_type": "display_data",
          "data": {
            "image/png": "[encoded data removed]",
            "text/plain": [
              "<matplotlib.figure.Figure at 0x7f6d792e70f0>"
            ]
          },
          "metadata": {
            "tags": []
          }
        }
      ]
    },
    {
      "metadata": {
        "id": "ROL_oRjjpVsZ",
        "colab_type": "code",
        "colab": {
          "autoexec": {
            "startup": false,
            "wait_interval": 0
          }
        }
      },
      "cell_type": "code",
      "source": [
        "result = model.evaluate(test_data, test_label)"
      ],
      "execution_count": 0,
      "outputs": []
    }
  ]
}