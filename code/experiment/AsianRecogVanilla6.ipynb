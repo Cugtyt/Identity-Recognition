{
  "nbformat": 4,
  "nbformat_minor": 0,
  "metadata": {
    "colab": {
      "name": "AsianRecogVanilla.ipynb",
      "version": "0.3.2",
      "views": {},
      "default_view": {},
      "provenance": [],
      "collapsed_sections": []
    },
    "kernelspec": {
      "name": "python3",
      "display_name": "Python 3"
    },
    "accelerator": "GPU"
  },
  "cells": [
    {
      "metadata": {
        "id": "o97ndlwakCai",
        "colab_type": "code",
        "colab": {
          "autoexec": {
            "startup": false,
            "wait_interval": 0
          },
          "output_extras": [
            {
              "item_id": 7
            }
          ],
          "base_uri": "https://localhost:8080/",
          "height": 217
        },
        "outputId": "e7b3f06a-efdd-4bb9-adc8-6627c0772612",
        "executionInfo": {
          "status": "ok",
          "timestamp": 1521087388852,
          "user_tz": -480,
          "elapsed": 39510,
          "user": {
            "displayName": "Cugtyt",
            "photoUrl": "//lh4.googleusercontent.com/-QxlWCi_owQ0/AAAAAAAAAAI/AAAAAAAAAC4/wNSYjuh_4x4/s50-c-k-no/photo.jpg",
            "userId": "100389950431846051928"
          }
        }
      },
      "cell_type": "code",
      "source": [
        "!apt-get install -y -qq software-properties-common python-software-properties module-init-tools\n",
        "!add-apt-repository -y ppa:alessandro-strada/ppa 2>&1 > /dev/null\n",
        "!apt-get update -qq 2>&1 > /dev/null\n",
        "!apt-get -y install -qq google-drive-ocamlfuse fuse\n",
        "from google.colab import auth\n",
        "auth.authenticate_user()\n",
        "from oauth2client.client import GoogleCredentials\n",
        "creds = GoogleCredentials.get_application_default()\n",
        "import getpass\n",
        "!google-drive-ocamlfuse -headless -id={creds.client_id} -secret={creds.client_secret} < /dev/null 2>&1 | grep URL\n",
        "vcode = getpass.getpass()\n",
        "!echo {vcode} | google-drive-ocamlfuse -headless -id={creds.client_id} -secret={creds.client_secret}"
      ],
      "execution_count": 1,
      "outputs": [
        {
          "output_type": "stream",
          "text": [
            "gpg: keybox '/tmp/tmpezomwg2y/pubring.gpg' created\n",
            "gpg: /tmp/tmpezomwg2y/trustdb.gpg: trustdb created\n",
            "gpg: key AD5F235DF639B041: public key \"Launchpad PPA for Alessandro Strada\" imported\n",
            "gpg: Total number processed: 1\n",
            "gpg:               imported: 1\n",
            "Warning: apt-key output should not be parsed (stdout is not a terminal)\n",
            "Please, open the following URL in a web browser: https://accounts.google.com/o/oauth2/auth?client_id=32555940559.apps.googleusercontent.com&redirect_uri=urn%3Aietf%3Awg%3Aoauth%3A2.0%3Aoob&scope=https%3A%2F%2Fwww.googleapis.com%2Fauth%2Fdrive&response_type=code&access_type=offline&approval_prompt=force\n",
            "··········\n",
            "Please, open the following URL in a web browser: https://accounts.google.com/o/oauth2/auth?client_id=32555940559.apps.googleusercontent.com&redirect_uri=urn%3Aietf%3Awg%3Aoauth%3A2.0%3Aoob&scope=https%3A%2F%2Fwww.googleapis.com%2Fauth%2Fdrive&response_type=code&access_type=offline&approval_prompt=force\n",
            "Please enter the verification code: Access token retrieved correctly.\n"
          ],
          "name": "stdout"
        }
      ]
    },
    {
      "metadata": {
        "id": "hxHo_BjNkRI4",
        "colab_type": "code",
        "colab": {
          "autoexec": {
            "startup": false,
            "wait_interval": 0
          }
        }
      },
      "cell_type": "code",
      "source": [
        "!mkdir -p drive\n",
        "!google-drive-ocamlfuse drive"
      ],
      "execution_count": 0,
      "outputs": []
    },
    {
      "metadata": {
        "id": "b-dqEoWDsEak",
        "colab_type": "code",
        "colab": {
          "autoexec": {
            "startup": false,
            "wait_interval": 0
          }
        }
      },
      "cell_type": "code",
      "source": [
        "!pip install -q keras"
      ],
      "execution_count": 0,
      "outputs": []
    },
    {
      "metadata": {
        "id": "TzCUcLFDoIvX",
        "colab_type": "code",
        "colab": {
          "autoexec": {
            "startup": false,
            "wait_interval": 0
          }
        }
      },
      "cell_type": "code",
      "source": [
        "from pathlib import Path\n",
        "from sklearn.model_selection import train_test_split\n",
        "import shutil\n",
        "from PIL import Image\n",
        "import numpy as np\n",
        "from sklearn.preprocessing import LabelEncoder\n",
        "from keras.preprocessing.image import ImageDataGenerator\n",
        "from keras import layers\n",
        "from keras import models\n",
        "from keras import optimizers"
      ],
      "execution_count": 0,
      "outputs": []
    },
    {
      "metadata": {
        "id": "VRzXPLEWicaV",
        "colab_type": "code",
        "colab": {
          "autoexec": {
            "startup": false,
            "wait_interval": 0
          }
        }
      },
      "cell_type": "code",
      "source": [
        "def load_data(data_path: str, test_size=0.2, random_state=42, info=False):\n",
        "    \"\"\"Load data from file.\n",
        "    \n",
        "    Args:\n",
        "        data_path: str, file path to read data\n",
        "        test_size: float, the ratio of test / all\n",
        "        random_state: int, random seed to split data\n",
        "        info: bool, control info print\n",
        "    Returns:\n",
        "        train_data: np.array, train set\n",
        "        test_data: np.array, test set\n",
        "    \"\"\"\n",
        "    # imgs = [np.array(Image.open(d)) for d in Path(data_path).iterdir()]\n",
        "    imgs = []\n",
        "    for d in Path(data_path).iterdir():\n",
        "        if info:\n",
        "            print('Load image: ' + d.name)\n",
        "        imgs.append(np.array(Image.open(d)))\n",
        "    data = np.array(imgs)\n",
        "    train_data, test_data = train_test_split(\n",
        "        data, test_size=test_size, random_state=random_state)\n",
        "    return train_data, test_data"
      ],
      "execution_count": 0,
      "outputs": []
    },
    {
      "metadata": {
        "id": "stCMhyhLi9Qh",
        "colab_type": "code",
        "colab": {
          "autoexec": {
            "startup": false,
            "wait_interval": 0
          }
        }
      },
      "cell_type": "code",
      "source": [
        "def load_label(label_path: str, test_size=0.2, random_state=42):\n",
        "    \"\"\"Load label from file.\n",
        "    \n",
        "    Args:\n",
        "        label_path: str, file path to read label\n",
        "        test_size: float, the ratio of test / all, \n",
        "            this arg should match up test_size in load_data\n",
        "        random_state: int, random seed to split data\n",
        "            this arg should match up random_state in load_data\n",
        "    \"\"\"\n",
        "    with open(label_path, 'r') as f:\n",
        "        labels = f.readline()\n",
        "    train_label, test_label = train_test_split(\n",
        "        labels.split('\\t'), test_size=test_size, random_state=random_state)\n",
        "    le = LabelEncoder()\n",
        "    le.fit(train_label)\n",
        "    return le.transform(train_label), le.transform(test_label)"
      ],
      "execution_count": 0,
      "outputs": []
    },
    {
      "metadata": {
        "id": "_ERrQBLYouZg",
        "colab_type": "code",
        "colab": {
          "autoexec": {
            "startup": false,
            "wait_interval": 0
          }
        }
      },
      "cell_type": "code",
      "source": [
        "train_label, test_label = load_label('./drive/data/FacePlace/AsianSample.txt')"
      ],
      "execution_count": 0,
      "outputs": []
    },
    {
      "metadata": {
        "id": "gkRSqhOQpxGL",
        "colab_type": "code",
        "colab": {
          "autoexec": {
            "startup": false,
            "wait_interval": 0
          },
          "output_extras": [
            {
              "item_id": 2
            }
          ],
          "base_uri": "https://localhost:8080/",
          "height": 4805
        },
        "outputId": "ee85384e-0d8e-49fb-8222-4224582c239b",
        "executionInfo": {
          "status": "ok",
          "timestamp": 1521097765783,
          "user_tz": -480,
          "elapsed": 1742,
          "user": {
            "displayName": "Cugtyt",
            "photoUrl": "//lh4.googleusercontent.com/-QxlWCi_owQ0/AAAAAAAAAAI/AAAAAAAAAC4/wNSYjuh_4x4/s50-c-k-no/photo.jpg",
            "userId": "100389950431846051928"
          }
        }
      },
      "cell_type": "code",
      "source": [
        "train_data, test_data = load_data('./drive/data/FacePlace/AsianSample/', info=True)"
      ],
      "execution_count": 35,
      "outputs": [
        {
          "output_type": "stream",
          "text": [
            "Load image: AM0302_1100_60L.jpg\n",
            "Load image: AM0302_1100_30L.jpg\n",
            "Load image: AM0302_1100_45L.jpg\n",
            "Load image: AM0302_1100_45R.jpg\n",
            "Load image: AM0302_1100_DI.jpg\n",
            "Load image: AM0302_1100_HA.jpg\n",
            "Load image: AM0302_1100_SU.jpg\n",
            "Load image: AM0302_1100_NE.jpg\n",
            "Load image: AM0302_2201_30L.jpg\n",
            "Load image: AM0302_1100_SA.jpg\n",
            "Load image: AM0302_2201_00F.jpg\n",
            "Load image: AM0302_2201_45L.jpg\n",
            "Load image: AM0302_2201_45R.jpg\n",
            "Load image: AM0302_2201_30R.jpg\n",
            "Load image: AM0302_2201_60L.jpg\n",
            "Load image: AM0302_2201_90L.jpg\n",
            "Load image: AM0303_1100_30L.jpg\n",
            "Load image: AM0303_1100_00F.jpg\n",
            "Load image: AM0302_2201_90R.jpg\n",
            "Load image: AM0302_2201_NE.jpg\n",
            "Load image: AM0303_1100_45R.jpg\n",
            "Load image: AM0302_2201_60R.jpg\n",
            "Load image: AM0303_1100_45L.jpg\n",
            "Load image: AM0303_1100_30R.jpg\n",
            "Load image: AM0303_1100_60L.jpg\n",
            "Load image: AM0303_1100_HA.jpg\n",
            "Load image: AM0303_2201_00F.jpg\n",
            "Load image: AM0303_1100_NE.jpg\n",
            "Load image: AM0303_1100_60R.jpg\n",
            "Load image: AM0303_1100_DI.jpg\n",
            "Load image: AM0303_1100_SA.jpg\n",
            "Load image: AM0303_1100_90L.jpg\n",
            "Load image: AM0303_1100_CO.jpg\n",
            "Load image: AM0303_1100_90R.jpg\n",
            "Load image: AM0303_2201_30L.jpg\n",
            "Load image: AM0303_2201_90L.jpg\n",
            "Load image: AM0303_2201_NE.jpg\n",
            "Load image: AM0303_2201_30R.jpg\n",
            "Load image: AM0303_2201_90R.jpg\n",
            "Load image: AM0303_2201_60R.jpg\n",
            "Load image: AM0303_2201_60L.jpg\n",
            "Load image: AM0303_3310_00F.jpg\n",
            "Load image: AM0303_2201_45L.jpg\n",
            "Load image: AM0303_2201_45R.jpg\n",
            "Load image: AM0303_3310_30L.jpg\n",
            "Load image: AM0303_3310_60L.jpg\n",
            "Load image: AM0303_3310_30R.jpg\n",
            "Load image: AM0303_3310_45R.jpg\n",
            "Load image: AM0303_3310_45L.jpg\n",
            "Load image: AM0303_3310_90L.jpg\n",
            "Load image: AM0303_3310_60R.jpg\n",
            "Load image: AM0303_3310_NE.jpg\n",
            "Load image: AM0304_1100_00F.jpg\n",
            "Load image: AM0303_3310_90R.jpg\n",
            "Load image: AM0304_1100_30L.jpg\n",
            "Load image: AM0304_1100_60L.jpg\n",
            "Load image: AM0304_1100_45L.jpg\n",
            "Load image: AM0304_1100_HA.jpg\n",
            "Load image: AM0304_1100_90L.jpg\n",
            "Load image: AM0304_1100_90R.jpg\n",
            "Load image: AM0304_1100_45R.jpg\n",
            "Load image: AM0304_1100_30R.jpg\n",
            "Load image: AM0304_1100_60R.jpg\n",
            "Load image: AM0304_1100_DI.jpg\n",
            "Load image: AM0304_1100_NE.jpg\n",
            "Load image: AM0304_2201_90L.jpg\n",
            "Load image: AM0304_2201_00F.jpg\n",
            "Load image: AM0304_2201_30L.jpg\n",
            "Load image: AM0304_1100_SA.jpg\n",
            "Load image: AM0304_2201_45L.jpg\n",
            "Load image: AM0304_2201_60R.jpg\n",
            "Load image: AM0304_2201_60L.jpg\n",
            "Load image: AM0304_2201_45R.jpg\n",
            "Load image: AM0304_2201_30R.jpg\n",
            "Load image: AM0304_2201_90R.jpg\n",
            "Load image: AM0304_2201_NE.jpg\n",
            "Load image: AM0305_1101_00F.jpg\n",
            "Load image: AM0305_1101_30R.jpg\n",
            "Load image: AM0305_1101_45L.jpg\n",
            "Load image: AM0304_2201_HA.jpg\n",
            "Load image: AM0305_1101_30L.jpg\n",
            "Load image: AM0305_1101_60L.jpg\n",
            "Load image: AM0305_1101_45R.jpg\n",
            "Load image: AM0305_1101_60R.jpg\n",
            "Load image: AM0305_1101_90L.jpg\n",
            "Load image: AM0305_2202_45L.jpg\n",
            "Load image: AM0305_1101_SA.jpg\n",
            "Load image: AM0305_1101_HA.jpg\n",
            "Load image: AM0305_1101_NE.jpg\n",
            "Load image: AM0305_2202_30L.jpg\n",
            "Load image: AM0305_1101_90R.jpg\n",
            "Load image: AM0305_2202_30R.jpg\n",
            "Load image: AM0305_1101_AN.jpg\n",
            "Load image: AM0305_2202_00F.jpg\n",
            "Load image: AM0305_2202_45R.jpg\n",
            "Load image: AM0305_2202_90R.jpg\n",
            "Load image: AM0305_2202_60L.jpg\n",
            "Load image: AM0305_2202_60R.jpg\n",
            "Load image: AM0305_2202_NE.jpg\n",
            "Load image: AM0305_2202_90L.jpg\n",
            "Load image: AF0303_1110_SA.jpg\n",
            "Load image: AF0303_2211_45R.jpg\n",
            "Load image: AF0303_2211_45L.jpg\n",
            "Load image: AF0303_2211_60L.jpg\n",
            "Load image: AF0303_2211_60R.jpg\n",
            "Load image: AF0304_1100_30R.jpg\n",
            "Load image: AF0303_2211_90R.jpg\n",
            "Load image: AF0303_2211_NE.jpg\n",
            "Load image: AF0304_1100_30L.jpg\n",
            "Load image: AF0303_2211_90L.jpg\n",
            "Load image: AF0304_1100_00F.jpg\n",
            "Load image: AF0304_1100_45L.jpg\n",
            "Load image: AF0304_1100_60L.jpg\n",
            "Load image: AF0304_1100_45R.jpg\n",
            "Load image: AF0304_1100_60R.jpg\n",
            "Load image: AF0304_1101_HA.jpg\n",
            "Load image: AF0304_1101_DI.jpg\n",
            "Load image: AF0304_1100_90R.jpg\n",
            "Load image: AF0304_1101_NE.jpg\n",
            "Load image: AF0304_1101_CO.jpg\n",
            "Load image: AF0304_1100_90L.jpg\n",
            "Load image: AF0304_1101_SU.jpg\n",
            "Load image: AF0304_1101_SA.jpg\n",
            "Load image: AF0304_2201_00F.jpg\n",
            "Load image: AF0304_2201_30L.jpg\n",
            "Load image: AF0304_2201_45L.jpg\n",
            "Load image: AF0304_2201_30R.jpg\n",
            "Load image: AF0304_2201_60L.jpg\n",
            "Load image: AF0304_2201_45R.jpg\n",
            "Load image: AF0304_2201_60R.jpg\n",
            "Load image: AF0304_2201_NE.jpg\n",
            "Load image: AF0305_1100_00F.jpg\n",
            "Load image: AF0304_2201_90L.jpg\n",
            "Load image: AF0304_2201_90R.jpg\n",
            "Load image: AF0305_1100_30L.jpg\n",
            "Load image: AF0305_1100_60L.jpg\n",
            "Load image: AF0305_1100_30R.jpg\n",
            "Load image: AF0305_1100_45L.jpg\n",
            "Load image: AF0305_1100_60R.jpg\n",
            "Load image: AF0305_1100_45R.jpg\n",
            "Load image: AF0305_1100_90R.jpg\n",
            "Load image: AF0305_1100_90L.jpg\n",
            "Load image: AF0305_1100_DI.jpg\n",
            "Load image: AF0305_1100_CO.jpg\n",
            "Load image: AF0305_1100_FE.jpg\n",
            "Load image: AF0305_2201_30L.jpg\n",
            "Load image: AF0305_2201_00F.jpg\n",
            "Load image: AF0305_1100_HA.jpg\n",
            "Load image: AF0305_1100_SU.jpg\n",
            "Load image: AF0305_1100_NE.jpg\n",
            "Load image: AF0305_1100_SA.jpg\n",
            "Load image: AF0305_2201_45L.jpg\n",
            "Load image: AF0305_2201_45R.jpg\n",
            "Load image: AF0305_2201_30R.jpg\n",
            "Load image: AF0305_2201_60L.jpg\n",
            "Load image: AF0305_2201_60R.jpg\n",
            "Load image: AF0305_3112_30L.jpg\n",
            "Load image: AF0305_2201_90L.jpg\n",
            "Load image: AF0305_3112_00F.jpg\n",
            "Load image: AF0305_2201_NE.jpg\n",
            "Load image: AF0305_2201_90R.jpg\n",
            "Load image: AF0305_3112_45L.jpg\n",
            "Load image: AF0305_3112_45R.jpg\n",
            "Load image: AF0305_3112_30R.jpg\n",
            "Load image: AF0305_3112_60L.jpg\n",
            "Load image: AF0305_3112_60R.jpg\n",
            "Load image: AM0301_1101_45L.jpg\n",
            "Load image: AM0301_1101_30L.jpg\n",
            "Load image: AF0305_3112_90R.jpg\n",
            "Load image: AF0305_3112_NE.jpg\n",
            "Load image: AF0305_3112_90L.jpg\n",
            "Load image: AM0301_1101_30R.jpg\n",
            "Load image: AM0301_1101_45R.jpg\n",
            "Load image: AM0301_1101_00F.jpg\n",
            "Load image: AM0301_1101_60L.jpg\n",
            "Load image: AM0301_1101_90R.jpg\n",
            "Load image: AM0301_1101_DI.jpg\n",
            "Load image: AM0301_1101_90L.jpg\n",
            "Load image: AM0301_1101_HA.jpg\n",
            "Load image: AM0301_1101_CO.jpg\n",
            "Load image: AM0301_1101_60R.jpg\n",
            "Load image: AM0301_1101_SA.jpg\n",
            "Load image: AM0301_1101_SU.jpg\n",
            "Load image: AM0301_1101_NE.jpg\n",
            "Load image: AM0301_2201_00F.jpg\n",
            "Load image: AM0301_2201_NE.jpg\n",
            "Load image: AM0301_2201_90L.jpg\n",
            "Load image: AM0301_2201_45L.jpg\n",
            "Load image: AM0301_2201_30L.jpg\n",
            "Load image: AM0301_2201_60R.jpg\n",
            "Load image: AM0301_2201_45R.jpg\n",
            "Load image: AM0301_2201_60L.jpg\n",
            "Load image: AM0301_2201_30R.jpg\n",
            "Load image: AM0301_2201_90R.jpg\n",
            "Load image: AM0302_1100_00F.jpg\n",
            "Load image: AM0302_1100_60R.jpg\n",
            "Load image: AM0302_1100_90L.jpg\n",
            "Load image: AM0302_1100_30R.jpg\n",
            "Load image: AM0302_1100_90R.jpg\n",
            "Load image: AM0302_1100_CO.jpg\n",
            "Load image: AF0301_1100_00F.jpg\n",
            "Load image: AF0301_1100_45L.jpg\n",
            "Load image: AF0301_1100_90R.jpg\n",
            "Load image: AF0301_1100_60L.jpg\n",
            "Load image: AF0301_1100_90L.jpg\n",
            "Load image: AF0301_1100_30R.jpg\n",
            "Load image: AF0301_1100_30L.jpg\n",
            "Load image: AF0301_1100_CO.jpg\n",
            "Load image: AF0301_1100_45R.jpg\n",
            "Load image: AF0301_1100_60R.jpg\n",
            "Load image: AF0301_1100_DI.jpg\n",
            "Load image: AF0301_1100_HA.jpg\n",
            "Load image: AF0301_2201_45R.jpg\n",
            "Load image: AF0301_1100_FE.jpg\n",
            "Load image: AF0301_1100_NE.jpg\n",
            "Load image: AF0301_2201_00F.jpg\n",
            "Load image: AF0301_2201_30R.jpg\n",
            "Load image: AF0301_2201_30L.jpg\n",
            "Load image: AF0301_1100_SA.jpg\n",
            "Load image: AF0301_2201_45L.jpg\n",
            "Load image: AF0301_2201_60L.jpg\n",
            "Load image: AF0301_2201_90R.jpg\n",
            "Load image: AF0301_2201_90L.jpg\n",
            "Load image: AF0302_1110_00F.jpg\n",
            "Load image: AF0301_2201_NE.jpg\n",
            "Load image: AF0301_2201_60R.jpg\n",
            "Load image: AF0302_1110_30L.jpg\n",
            "Load image: AF0302_1110_30R.jpg\n",
            "Load image: AF0302_1110_45R.jpg\n",
            "Load image: AF0302_1110_45L.jpg\n",
            "Load image: AF0302_1110_60L.jpg\n",
            "Load image: AF0302_1110_HA.jpg\n",
            "Load image: AF0302_1110_90R.jpg\n",
            "Load image: AF0302_1110_90L.jpg\n",
            "Load image: AF0302_1110_60R.jpg\n",
            "Load image: AF0302_1110_DI.jpg\n",
            "Load image: AF0302_1110_FE.jpg\n",
            "Load image: AF0302_2211_00F.jpg\n",
            "Load image: AF0302_1110_SA.jpg\n",
            "Load image: AF0302_1110_NE.jpg\n",
            "Load image: AF0302_2211_30L.jpg\n",
            "Load image: AF0302_2211_45L.jpg\n",
            "Load image: AF0302_2211_90L.jpg\n",
            "Load image: AF0302_2211_60L.jpg\n",
            "Load image: AF0302_2211_30R.jpg\n",
            "Load image: AF0302_2211_60R.jpg\n",
            "Load image: AF0302_2211_45R.jpg\n",
            "Load image: AF0302_2211_NE.jpg\n",
            "Load image: AF0302_2211_90R.jpg\n",
            "Load image: AF0303_1110_00F.jpg\n",
            "Load image: AF0303_1110_30L.jpg\n",
            "Load image: AF0303_1110_60R.jpg\n",
            "Load image: AF0303_1110_60L.jpg\n",
            "Load image: AF0303_1110_CO.jpg\n",
            "Load image: AF0303_1110_45L.jpg\n",
            "Load image: AF0303_1110_90L.jpg\n",
            "Load image: AF0303_1110_DI.jpg\n",
            "Load image: AF0303_1110_45R.jpg\n",
            "Load image: AF0303_1110_30R.jpg\n",
            "Load image: AF0303_1110_90R.jpg\n",
            "Load image: AF0303_1110_HA.jpg\n",
            "Load image: AF0303_2211_30R.jpg\n",
            "Load image: AF0303_1110_SU.jpg\n",
            "Load image: AF0303_2211_00F.jpg\n",
            "Load image: AF0303_2211_30L.jpg\n",
            "Load image: AF0303_1110_NE.jpg\n"
          ],
          "name": "stdout"
        }
      ]
    },
    {
      "metadata": {
        "id": "lsYgU9sZ6UYg",
        "colab_type": "code",
        "colab": {
          "autoexec": {
            "startup": false,
            "wait_interval": 0
          }
        }
      },
      "cell_type": "code",
      "source": [
        "train_data = train_data.astype('float32') / 255\n",
        "test_data = test_data.astype('float32') / 255\n",
        "\n",
        "train_data, val_data = train_test_split(train_data, test_size=0.1, random_state=42)\n",
        "train_label, val_label = train_test_split(train_label, test_size=0.1, random_state=42)"
      ],
      "execution_count": 0,
      "outputs": []
    },
    {
      "metadata": {
        "id": "NaCADRie4bnD",
        "colab_type": "code",
        "colab": {
          "autoexec": {
            "startup": false,
            "wait_interval": 0
          }
        }
      },
      "cell_type": "code",
      "source": [
        "datagen = ImageDataGenerator(\n",
        "        featurewise_center=True,  # set input mean to 0 over the dataset\n",
        "        samplewise_center=False,  # set each sample mean to 0\n",
        "        featurewise_std_normalization=True,  # divide inputs by std of the dataset\n",
        "        samplewise_std_normalization=False,  # divide each input by its std\n",
        "        zca_whitening=False,  # apply ZCA whitening\n",
        "        rotation_range=5,  # randomly rotate images in the range (degrees, 0 to 180)\n",
        "        width_shift_range=0.1,  # randomly shift images horizontally (fraction of total width)\n",
        "        height_shift_range=0.1,  # randomly shift images vertically (fraction of total height)\n",
        "        horizontal_flip=True,  # randomly flip images\n",
        "        vertical_flip=False) # randomly flip images\n",
        "datagen.fit(train_data)"
      ],
      "execution_count": 0,
      "outputs": []
    },
    {
      "metadata": {
        "id": "AEJYPs-4vIy0",
        "colab_type": "code",
        "colab": {
          "autoexec": {
            "startup": false,
            "wait_interval": 0
          }
        }
      },
      "cell_type": "code",
      "source": [
        "def vanilia_cnn(input_shape: tuple, classes: int):\n",
        "    \"\"\"Implement vanilla ConvNet model.\"\"\"\n",
        "    model = models.Sequential()\n",
        "    model.add(\n",
        "        layers.Conv2D(32, (3, 3), activation='relu',\n",
        "                      padding='same',\n",
        "                      input_shape=input_shape))\n",
        "    model.add(layers.Conv2D(32, (3, 3), padding='same', activation='relu'))\n",
        "    model.add(layers.Conv2D(32, (3, 3), activation='relu'))\n",
        "    model.add(layers.MaxPooling2D((2, 2)))\n",
        "    model.add(layers.Dropout(0.5))\n",
        "    \n",
        "    model.add(layers.Conv2D(64, (3, 3), padding='same', activation='relu'))\n",
        "    model.add(layers.Conv2D(64, (3, 3), padding='same', activation='relu'))\n",
        "    model.add(layers.MaxPooling2D((2, 2)))\n",
        "    model.add(layers.Dropout(0.5))\n",
        "    \n",
        "    model.add(layers.Conv2D(128, (3, 3), padding='same', activation='relu'))\n",
        "    model.add(layers.Conv2D(128, (3, 3), activation='relu'))\n",
        "    model.add(layers.Conv2D(128, (3, 3), activation='relu'))\n",
        "    model.add(layers.MaxPooling2D((2, 2)))\n",
        "    model.add(layers.Flatten())\n",
        "    model.add(layers.Dense(512, activation='relu'))\n",
        "    model.add(layers.Dense(512, activation='relu'))\n",
        "    model.add(layers.Dropout(0.5))\n",
        "    model.add(layers.Dense(classes, activation='softmax'))\n",
        "\n",
        "    model.compile(\n",
        "        optimizer='adam',\n",
        "        loss='sparse_categorical_crossentropy',\n",
        "        metrics=['accuracy'])\n",
        "\n",
        "    return model"
      ],
      "execution_count": 0,
      "outputs": []
    },
    {
      "metadata": {
        "id": "_15-f7oE49Gl",
        "colab_type": "code",
        "colab": {
          "autoexec": {
            "startup": false,
            "wait_interval": 0
          },
          "output_extras": [
            {
              "item_id": 102
            },
            {
              "item_id": 200
            },
            {
              "item_id": 298
            },
            {
              "item_id": 396
            },
            {
              "item_id": 494
            },
            {
              "item_id": 592
            },
            {
              "item_id": 690
            },
            {
              "item_id": 786
            },
            {
              "item_id": 883
            },
            {
              "item_id": 981
            },
            {
              "item_id": 1079
            },
            {
              "item_id": 1177
            },
            {
              "item_id": 1275
            },
            {
              "item_id": 1373
            },
            {
              "item_id": 1397
            }
          ],
          "base_uri": "https://localhost:8080/",
          "height": 7237
        },
        "outputId": "e4c97e9d-143e-4d68-9d47-8fe2ce204ae7",
        "executionInfo": {
          "status": "ok",
          "timestamp": 1521098642096,
          "user_tz": -480,
          "elapsed": 866014,
          "user": {
            "displayName": "Cugtyt",
            "photoUrl": "//lh4.googleusercontent.com/-QxlWCi_owQ0/AAAAAAAAAAI/AAAAAAAAAC4/wNSYjuh_4x4/s50-c-k-no/photo.jpg",
            "userId": "100389950431846051928"
          }
        }
      },
      "cell_type": "code",
      "source": [
        "model = vanilia_cnn(input_shape=train_data[0].shape, classes=train_label.max() + 1)\n",
        "history = model.fit_generator(\n",
        "    datagen.flow(train_data, train_label, batch_size=32),\n",
        "    epochs=200, validation_data=(val_data, val_label))\n",
        "\n",
        "# epochs = 100\n",
        "\n",
        "# for e in range(epochs):\n",
        "#     print('Epoch', e)\n",
        "#     batches = 0\n",
        "#     for x_batch, y_batch in datagen.flow(train_data, train_label, batch_size=10):\n",
        "#         model.fit(x_batch, y_batch)\n",
        "#         batches += 1\n",
        "#         if batches >= len(train_data):\n",
        "#             # we need to break the loop by hand because\n",
        "#             # the generator loops indefinitely\n",
        "#             break\n",
        "#         model.evaluate(val_data, val_label)"
      ],
      "execution_count": 41,
      "outputs": [
        {
          "output_type": "stream",
          "text": [
            "Epoch 1/200\n",
            "6/6 [==============================] - 10s 2s/step - loss: 2.4458 - acc: 0.1006 - val_loss: 2.2987 - val_acc: 0.1818\n",
            "Epoch 2/200\n",
            "6/6 [==============================] - 4s 712ms/step - loss: 2.3048 - acc: 0.0957 - val_loss: 2.2943 - val_acc: 0.1364\n",
            "Epoch 3/200\n",
            "6/6 [==============================] - 4s 714ms/step - loss: 2.2919 - acc: 0.1313 - val_loss: 2.2767 - val_acc: 0.1818\n",
            "Epoch 4/200\n",
            "6/6 [==============================] - 4s 714ms/step - loss: 2.2612 - acc: 0.1165 - val_loss: 2.2990 - val_acc: 0.1364\n",
            "Epoch 5/200\n",
            "6/6 [==============================] - 4s 713ms/step - loss: 2.2664 - acc: 0.1374 - val_loss: 2.2670 - val_acc: 0.2273\n",
            "Epoch 6/200\n",
            "6/6 [==============================] - 4s 712ms/step - loss: 2.1837 - acc: 0.1264 - val_loss: 2.2385 - val_acc: 0.1364\n",
            "Epoch 7/200\n",
            "6/6 [==============================] - 4s 713ms/step - loss: 2.1194 - acc: 0.2528 - val_loss: 2.3847 - val_acc: 0.1818\n",
            "Epoch 8/200\n",
            "6/6 [==============================] - 4s 707ms/step - loss: 2.1662 - acc: 0.2064 - val_loss: 2.5198 - val_acc: 0.2727\n",
            "Epoch 9/200\n",
            "6/6 [==============================] - 4s 712ms/step - loss: 2.1319 - acc: 0.2316 - val_loss: 2.8444 - val_acc: 0.1364\n",
            "Epoch 10/200\n",
            "6/6 [==============================] - 4s 710ms/step - loss: 2.0450 - acc: 0.2838 - val_loss: 2.3538 - val_acc: 0.0909\n",
            "Epoch 11/200\n",
            "6/6 [==============================] - 4s 718ms/step - loss: 2.0354 - acc: 0.2736 - val_loss: 2.6563 - val_acc: 0.1364\n",
            "Epoch 12/200\n",
            "6/6 [==============================] - 4s 711ms/step - loss: 1.9980 - acc: 0.2788 - val_loss: 2.6468 - val_acc: 0.2273\n",
            "Epoch 13/200\n",
            "6/6 [==============================] - 4s 711ms/step - loss: 2.0055 - acc: 0.2525 - val_loss: 2.3240 - val_acc: 0.0909\n",
            "Epoch 14/200\n",
            "6/6 [==============================] - 4s 714ms/step - loss: 1.9145 - acc: 0.3270 - val_loss: 2.3373 - val_acc: 0.0909\n",
            "Epoch 15/200\n",
            "3/6 [==============>...............] - ETA: 2s - loss: 1.8686 - acc: 0.3750"
          ],
          "name": "stdout"
        },
        {
          "output_type": "stream",
          "text": [
            "6/6 [==============================] - 4s 713ms/step - loss: 1.8729 - acc: 0.3687 - val_loss: 2.5877 - val_acc: 0.0909\n",
            "Epoch 16/200\n",
            "6/6 [==============================] - 4s 710ms/step - loss: 1.8679 - acc: 0.3623 - val_loss: 2.3662 - val_acc: 0.0909\n",
            "Epoch 17/200\n",
            "6/6 [==============================] - 4s 715ms/step - loss: 1.7099 - acc: 0.4061 - val_loss: 2.4595 - val_acc: 0.0909\n",
            "Epoch 18/200\n",
            "6/6 [==============================] - 4s 715ms/step - loss: 1.7250 - acc: 0.4012 - val_loss: 2.7158 - val_acc: 0.0909\n",
            "Epoch 19/200\n",
            "6/6 [==============================] - 4s 715ms/step - loss: 1.7319 - acc: 0.4313 - val_loss: 2.3274 - val_acc: 0.0909\n",
            "Epoch 20/200\n",
            "6/6 [==============================] - 4s 705ms/step - loss: 1.6856 - acc: 0.4368 - val_loss: 2.4913 - val_acc: 0.0909\n",
            "Epoch 21/200\n",
            "6/6 [==============================] - 4s 710ms/step - loss: 1.6549 - acc: 0.4359 - val_loss: 2.2480 - val_acc: 0.1818\n",
            "Epoch 22/200\n",
            "6/6 [==============================] - 4s 712ms/step - loss: 1.5882 - acc: 0.4136 - val_loss: 2.2730 - val_acc: 0.2273\n",
            "Epoch 23/200\n",
            "6/6 [==============================] - 4s 716ms/step - loss: 1.4119 - acc: 0.5168 - val_loss: 3.2322 - val_acc: 0.2273\n",
            "Epoch 24/200\n",
            "6/6 [==============================] - 4s 715ms/step - loss: 1.5366 - acc: 0.4371 - val_loss: 3.1576 - val_acc: 0.0909\n",
            "Epoch 25/200\n",
            "6/6 [==============================] - 4s 714ms/step - loss: 1.4590 - acc: 0.4635 - val_loss: 3.0445 - val_acc: 0.2273\n",
            "Epoch 26/200\n",
            "6/6 [==============================] - 4s 714ms/step - loss: 1.3633 - acc: 0.5136 - val_loss: 4.7683 - val_acc: 0.0909\n",
            "Epoch 27/200\n",
            "6/6 [==============================] - 4s 714ms/step - loss: 1.2245 - acc: 0.5534 - val_loss: 5.6017 - val_acc: 0.1818\n",
            "Epoch 28/200\n",
            "6/6 [==============================] - 4s 715ms/step - loss: 1.2339 - acc: 0.5736 - val_loss: 4.7065 - val_acc: 0.2273\n",
            "Epoch 29/200\n",
            "3/6 [==============>...............] - ETA: 2s - loss: 1.0321 - acc: 0.5729"
          ],
          "name": "stdout"
        },
        {
          "output_type": "stream",
          "text": [
            "6/6 [==============================] - 4s 709ms/step - loss: 1.1398 - acc: 0.5429 - val_loss: 5.6351 - val_acc: 0.3182\n",
            "Epoch 30/200\n",
            "6/6 [==============================] - 4s 715ms/step - loss: 0.9901 - acc: 0.6536 - val_loss: 6.4438 - val_acc: 0.1818\n",
            "Epoch 31/200\n",
            "6/6 [==============================] - 4s 713ms/step - loss: 1.1943 - acc: 0.5829 - val_loss: 5.7957 - val_acc: 0.2273\n",
            "Epoch 32/200\n",
            "6/6 [==============================] - 4s 713ms/step - loss: 0.9779 - acc: 0.5844 - val_loss: 6.5643 - val_acc: 0.1364\n",
            "Epoch 33/200\n",
            "6/6 [==============================] - 4s 714ms/step - loss: 0.8536 - acc: 0.6838 - val_loss: 7.2991 - val_acc: 0.1364\n",
            "Epoch 34/200\n",
            "6/6 [==============================] - 4s 714ms/step - loss: 0.7777 - acc: 0.7098 - val_loss: 7.5615 - val_acc: 0.0909\n",
            "Epoch 35/200\n",
            "6/6 [==============================] - 4s 711ms/step - loss: 0.8665 - acc: 0.6632 - val_loss: 7.1574 - val_acc: 0.0909\n",
            "Epoch 36/200\n",
            "6/6 [==============================] - 4s 711ms/step - loss: 0.7434 - acc: 0.7006 - val_loss: 6.9463 - val_acc: 0.0455\n",
            "Epoch 37/200\n",
            "6/6 [==============================] - 4s 713ms/step - loss: 0.7864 - acc: 0.6948 - val_loss: 7.1007 - val_acc: 0.0909\n",
            "Epoch 38/200\n",
            "6/6 [==============================] - 4s 710ms/step - loss: 0.7107 - acc: 0.7475 - val_loss: 7.1236 - val_acc: 0.0909\n",
            "Epoch 39/200\n",
            "6/6 [==============================] - 4s 711ms/step - loss: 0.7991 - acc: 0.6954 - val_loss: 8.0844 - val_acc: 0.0909\n",
            "Epoch 40/200\n",
            "6/6 [==============================] - 4s 713ms/step - loss: 0.6796 - acc: 0.7536 - val_loss: 8.8377 - val_acc: 0.0909\n",
            "Epoch 41/200\n",
            "6/6 [==============================] - 4s 717ms/step - loss: 0.6991 - acc: 0.7209 - val_loss: 7.4826 - val_acc: 0.1364\n",
            "Epoch 42/200\n",
            "6/6 [==============================] - 4s 712ms/step - loss: 0.6681 - acc: 0.7368 - val_loss: 7.2623 - val_acc: 0.0455\n",
            "Epoch 43/200\n",
            "3/6 [==============>...............] - ETA: 2s - loss: 0.5970 - acc: 0.7812"
          ],
          "name": "stdout"
        },
        {
          "output_type": "stream",
          "text": [
            "6/6 [==============================] - 4s 712ms/step - loss: 0.6965 - acc: 0.7525 - val_loss: 6.8122 - val_acc: 0.0455\n",
            "Epoch 44/200\n",
            "6/6 [==============================] - 4s 710ms/step - loss: 0.7178 - acc: 0.7838 - val_loss: 4.6536 - val_acc: 0.1818\n",
            "Epoch 45/200\n",
            "6/6 [==============================] - 4s 715ms/step - loss: 0.6660 - acc: 0.7791 - val_loss: 4.5593 - val_acc: 0.0909\n",
            "Epoch 46/200\n",
            "6/6 [==============================] - 4s 714ms/step - loss: 0.4584 - acc: 0.8466 - val_loss: 7.1502 - val_acc: 0.0909\n",
            "Epoch 47/200\n",
            "6/6 [==============================] - 4s 711ms/step - loss: 0.5253 - acc: 0.7945 - val_loss: 5.5526 - val_acc: 0.0909\n",
            "Epoch 48/200\n",
            "6/6 [==============================] - 4s 713ms/step - loss: 0.4538 - acc: 0.8310 - val_loss: 5.2885 - val_acc: 0.1364\n",
            "Epoch 49/200\n",
            "6/6 [==============================] - 4s 713ms/step - loss: 0.4389 - acc: 0.8528 - val_loss: 4.7572 - val_acc: 0.0909\n",
            "Epoch 50/200\n",
            "6/6 [==============================] - 4s 714ms/step - loss: 0.5169 - acc: 0.8206 - val_loss: 4.5605 - val_acc: 0.1364\n",
            "Epoch 51/200\n",
            "6/6 [==============================] - 4s 714ms/step - loss: 0.5194 - acc: 0.8104 - val_loss: 5.3349 - val_acc: 0.1364\n",
            "Epoch 52/200\n",
            "6/6 [==============================] - 4s 713ms/step - loss: 0.4121 - acc: 0.8577 - val_loss: 6.1990 - val_acc: 0.0909\n",
            "Epoch 53/200\n",
            "6/6 [==============================] - 4s 712ms/step - loss: 0.5443 - acc: 0.8098 - val_loss: 5.2677 - val_acc: 0.1818\n",
            "Epoch 54/200\n",
            "6/6 [==============================] - 4s 717ms/step - loss: 0.4723 - acc: 0.8316 - val_loss: 7.0168 - val_acc: 0.1818\n",
            "Epoch 55/200\n",
            "6/6 [==============================] - 4s 713ms/step - loss: 0.4264 - acc: 0.8592 - val_loss: 7.2492 - val_acc: 0.1364\n",
            "Epoch 56/200\n",
            "6/6 [==============================] - 4s 713ms/step - loss: 0.4087 - acc: 0.8583 - val_loss: 9.4536 - val_acc: 0.0909\n",
            "Epoch 57/200\n",
            "3/6 [==============>...............] - ETA: 2s - loss: 0.5370 - acc: 0.8229"
          ],
          "name": "stdout"
        },
        {
          "output_type": "stream",
          "text": [
            "6/6 [==============================] - 4s 712ms/step - loss: 0.4525 - acc: 0.8322 - val_loss: 8.4593 - val_acc: 0.1364\n",
            "Epoch 58/200\n",
            "6/6 [==============================] - 4s 716ms/step - loss: 0.4472 - acc: 0.8635 - val_loss: 8.2014 - val_acc: 0.0909\n",
            "Epoch 59/200\n",
            "6/6 [==============================] - 4s 714ms/step - loss: 0.4588 - acc: 0.8577 - val_loss: 9.9361 - val_acc: 0.0455\n",
            "Epoch 60/200\n",
            "6/6 [==============================] - 4s 712ms/step - loss: 0.3442 - acc: 0.8638 - val_loss: 9.1447 - val_acc: 0.0455\n",
            "Epoch 61/200\n",
            "6/6 [==============================] - 4s 711ms/step - loss: 0.4988 - acc: 0.8104 - val_loss: 10.7282 - val_acc: 0.0455\n",
            "Epoch 62/200\n",
            "6/6 [==============================] - 4s 710ms/step - loss: 0.4600 - acc: 0.8632 - val_loss: 8.5166 - val_acc: 0.0455\n",
            "Epoch 63/200\n",
            "6/6 [==============================] - 4s 708ms/step - loss: 0.3256 - acc: 0.9000 - val_loss: 8.6162 - val_acc: 0.0455\n",
            "Epoch 64/200\n",
            "6/6 [==============================] - 4s 716ms/step - loss: 0.4171 - acc: 0.8791 - val_loss: 8.0792 - val_acc: 0.0909\n",
            "Epoch 65/200\n",
            "6/6 [==============================] - 4s 712ms/step - loss: 0.3207 - acc: 0.8580 - val_loss: 6.8404 - val_acc: 0.0909\n",
            "Epoch 66/200\n",
            "6/6 [==============================] - 4s 710ms/step - loss: 0.3613 - acc: 0.8684 - val_loss: 7.6423 - val_acc: 0.0909\n",
            "Epoch 67/200\n",
            "6/6 [==============================] - 4s 715ms/step - loss: 0.2868 - acc: 0.8832 - val_loss: 7.0867 - val_acc: 0.1364\n",
            "Epoch 68/200\n",
            "6/6 [==============================] - 4s 713ms/step - loss: 0.4418 - acc: 0.8151 - val_loss: 8.2886 - val_acc: 0.1364\n",
            "Epoch 69/200\n",
            "6/6 [==============================] - 4s 714ms/step - loss: 0.3855 - acc: 0.8583 - val_loss: 6.6203 - val_acc: 0.1364\n",
            "Epoch 70/200\n",
            "6/6 [==============================] - 4s 714ms/step - loss: 0.4608 - acc: 0.8267 - val_loss: 8.4686 - val_acc: 0.0909\n",
            "Epoch 71/200\n",
            "3/6 [==============>...............] - ETA: 2s - loss: 0.3846 - acc: 0.8813"
          ],
          "name": "stdout"
        },
        {
          "output_type": "stream",
          "text": [
            "6/6 [==============================] - 4s 708ms/step - loss: 0.3896 - acc: 0.8730 - val_loss: 7.0727 - val_acc: 0.0909\n",
            "Epoch 72/200\n",
            "6/6 [==============================] - 4s 713ms/step - loss: 0.4881 - acc: 0.8466 - val_loss: 10.1315 - val_acc: 0.1364\n",
            "Epoch 73/200\n",
            "6/6 [==============================] - 4s 713ms/step - loss: 0.6249 - acc: 0.7896 - val_loss: 7.4557 - val_acc: 0.0909\n",
            "Epoch 74/200\n",
            "6/6 [==============================] - 4s 715ms/step - loss: 0.5006 - acc: 0.8727 - val_loss: 8.4059 - val_acc: 0.1364\n",
            "Epoch 75/200\n",
            "6/6 [==============================] - 4s 715ms/step - loss: 0.3668 - acc: 0.8583 - val_loss: 6.7985 - val_acc: 0.1364\n",
            "Epoch 76/200\n",
            "6/6 [==============================] - 4s 716ms/step - loss: 0.2402 - acc: 0.9104 - val_loss: 7.9261 - val_acc: 0.1364\n",
            "Epoch 77/200\n",
            "6/6 [==============================] - 4s 712ms/step - loss: 0.2755 - acc: 0.9055 - val_loss: 9.5461 - val_acc: 0.0909\n",
            "Epoch 78/200\n",
            "6/6 [==============================] - 4s 715ms/step - loss: 0.2685 - acc: 0.8945 - val_loss: 10.2289 - val_acc: 0.0909\n",
            "Epoch 79/200\n",
            "6/6 [==============================] - 4s 710ms/step - loss: 0.2944 - acc: 0.8788 - val_loss: 8.2293 - val_acc: 0.1818\n",
            "Epoch 80/200\n",
            "6/6 [==============================] - 4s 711ms/step - loss: 0.2480 - acc: 0.9212 - val_loss: 7.7629 - val_acc: 0.1818\n",
            "Epoch 81/200\n",
            "6/6 [==============================] - 4s 708ms/step - loss: 0.2878 - acc: 0.8896 - val_loss: 6.9271 - val_acc: 0.1364\n",
            "Epoch 82/200\n",
            "6/6 [==============================] - 4s 714ms/step - loss: 0.2836 - acc: 0.8948 - val_loss: 7.5391 - val_acc: 0.1364\n",
            "Epoch 83/200\n",
            "6/6 [==============================] - 4s 708ms/step - loss: 0.1731 - acc: 0.9261 - val_loss: 7.2259 - val_acc: 0.1364\n",
            "Epoch 84/200\n",
            "6/6 [==============================] - 4s 713ms/step - loss: 0.2710 - acc: 0.8945 - val_loss: 8.1912 - val_acc: 0.0909\n",
            "Epoch 85/200\n",
            "3/6 [==============>...............] - ETA: 2s - loss: 0.3040 - acc: 0.9062"
          ],
          "name": "stdout"
        },
        {
          "output_type": "stream",
          "text": [
            "6/6 [==============================] - 4s 712ms/step - loss: 0.3043 - acc: 0.8884 - val_loss: 7.1681 - val_acc: 0.0909\n",
            "Epoch 86/200\n",
            "6/6 [==============================] - 4s 733ms/step - loss: 0.1899 - acc: 0.9368 - val_loss: 8.6997 - val_acc: 0.1364\n",
            "Epoch 87/200\n",
            "6/6 [==============================] - 4s 736ms/step - loss: 0.2412 - acc: 0.9156 - val_loss: 8.9151 - val_acc: 0.0909\n",
            "Epoch 88/200\n",
            "6/6 [==============================] - 4s 727ms/step - loss: 0.2181 - acc: 0.9003 - val_loss: 10.2107 - val_acc: 0.0909\n",
            "Epoch 89/200\n",
            "6/6 [==============================] - 4s 733ms/step - loss: 0.1474 - acc: 0.9420 - val_loss: 10.2909 - val_acc: 0.0909\n",
            "Epoch 90/200\n",
            "6/6 [==============================] - 4s 726ms/step - loss: 0.2148 - acc: 0.9264 - val_loss: 9.6930 - val_acc: 0.0909\n",
            "Epoch 91/200\n",
            "6/6 [==============================] - 4s 720ms/step - loss: 0.2134 - acc: 0.9058 - val_loss: 10.2496 - val_acc: 0.0909\n",
            "Epoch 92/200\n",
            "6/6 [==============================] - 4s 728ms/step - loss: 0.1751 - acc: 0.9371 - val_loss: 8.4634 - val_acc: 0.0909\n",
            "Epoch 93/200\n",
            "6/6 [==============================] - 4s 714ms/step - loss: 0.2165 - acc: 0.9212 - val_loss: 8.8608 - val_acc: 0.1818\n",
            "Epoch 94/200\n",
            "6/6 [==============================] - 4s 718ms/step - loss: 0.2172 - acc: 0.9310 - val_loss: 8.1146 - val_acc: 0.1364\n",
            "Epoch 95/200\n",
            "6/6 [==============================] - 4s 722ms/step - loss: 0.1972 - acc: 0.9159 - val_loss: 8.1200 - val_acc: 0.1818\n",
            "Epoch 96/200\n",
            "6/6 [==============================] - 4s 723ms/step - loss: 0.1934 - acc: 0.9420 - val_loss: 8.7801 - val_acc: 0.1364\n",
            "Epoch 97/200\n",
            "6/6 [==============================] - 4s 716ms/step - loss: 0.2092 - acc: 0.9052 - val_loss: 8.6383 - val_acc: 0.2273\n",
            "Epoch 98/200\n",
            "6/6 [==============================] - 4s 725ms/step - loss: 0.2546 - acc: 0.9212 - val_loss: 9.5007 - val_acc: 0.2273\n",
            "Epoch 99/200\n",
            "3/6 [==============>...............] - ETA: 2s - loss: 0.1485 - acc: 0.9375"
          ],
          "name": "stdout"
        },
        {
          "output_type": "stream",
          "text": [
            "6/6 [==============================] - 4s 723ms/step - loss: 0.1847 - acc: 0.9261 - val_loss: 8.8478 - val_acc: 0.0909\n",
            "Epoch 100/200\n",
            "6/6 [==============================] - 4s 714ms/step - loss: 0.2143 - acc: 0.9316 - val_loss: 8.2548 - val_acc: 0.1364\n",
            "Epoch 101/200\n",
            "6/6 [==============================] - 4s 724ms/step - loss: 0.1507 - acc: 0.9525 - val_loss: 7.2562 - val_acc: 0.1364\n",
            "Epoch 102/200\n",
            "6/6 [==============================] - 4s 720ms/step - loss: 0.1719 - acc: 0.9417 - val_loss: 8.0213 - val_acc: 0.1364\n",
            "Epoch 103/200\n",
            "6/6 [==============================] - 4s 721ms/step - loss: 0.2819 - acc: 0.8779 - val_loss: 6.8517 - val_acc: 0.2273\n",
            "Epoch 104/200\n",
            "6/6 [==============================] - 4s 719ms/step - loss: 0.1785 - acc: 0.9417 - val_loss: 6.6697 - val_acc: 0.1818\n",
            "Epoch 105/200\n",
            "6/6 [==============================] - 4s 724ms/step - loss: 0.1602 - acc: 0.9577 - val_loss: 8.0644 - val_acc: 0.1818\n",
            "Epoch 106/200\n",
            "6/6 [==============================] - 4s 716ms/step - loss: 0.1527 - acc: 0.9368 - val_loss: 7.6106 - val_acc: 0.1818\n",
            "Epoch 107/200\n",
            "6/6 [==============================] - 4s 729ms/step - loss: 0.2274 - acc: 0.9264 - val_loss: 7.3499 - val_acc: 0.1818\n",
            "Epoch 108/200\n",
            "6/6 [==============================] - 4s 716ms/step - loss: 0.1088 - acc: 0.9577 - val_loss: 9.1241 - val_acc: 0.1818\n",
            "Epoch 109/200\n",
            "6/6 [==============================] - 4s 730ms/step - loss: 0.1959 - acc: 0.9098 - val_loss: 8.3813 - val_acc: 0.1818\n",
            "Epoch 110/200\n",
            "6/6 [==============================] - 4s 720ms/step - loss: 0.2346 - acc: 0.9107 - val_loss: 9.4284 - val_acc: 0.1818\n",
            "Epoch 111/200\n",
            "6/6 [==============================] - 4s 726ms/step - loss: 0.2213 - acc: 0.9316 - val_loss: 9.6554 - val_acc: 0.1364\n",
            "Epoch 112/200\n",
            "6/6 [==============================] - 4s 712ms/step - loss: 0.2106 - acc: 0.9368 - val_loss: 8.4416 - val_acc: 0.1364\n",
            "Epoch 113/200\n",
            "3/6 [==============>...............] - ETA: 2s - loss: 0.1978 - acc: 0.8854"
          ],
          "name": "stdout"
        },
        {
          "output_type": "stream",
          "text": [
            "6/6 [==============================] - 4s 724ms/step - loss: 0.1930 - acc: 0.9113 - val_loss: 10.1685 - val_acc: 0.0909\n",
            "Epoch 114/200\n",
            "6/6 [==============================] - 4s 710ms/step - loss: 0.2071 - acc: 0.9417 - val_loss: 8.0293 - val_acc: 0.1364\n",
            "Epoch 115/200\n",
            "6/6 [==============================] - 4s 717ms/step - loss: 0.1796 - acc: 0.9423 - val_loss: 9.3829 - val_acc: 0.0909\n",
            "Epoch 116/200\n",
            "6/6 [==============================] - 4s 718ms/step - loss: 0.1828 - acc: 0.9154 - val_loss: 9.7114 - val_acc: 0.0909\n",
            "Epoch 117/200\n",
            "6/6 [==============================] - 4s 716ms/step - loss: 0.1335 - acc: 0.9632 - val_loss: 9.1214 - val_acc: 0.1364\n",
            "Epoch 118/200\n",
            "6/6 [==============================] - 4s 713ms/step - loss: 0.1571 - acc: 0.9313 - val_loss: 9.5513 - val_acc: 0.1364\n",
            "Epoch 119/200\n",
            "6/6 [==============================] - 4s 716ms/step - loss: 0.2168 - acc: 0.9374 - val_loss: 9.3104 - val_acc: 0.1364\n",
            "Epoch 120/200\n",
            "6/6 [==============================] - 4s 710ms/step - loss: 0.1956 - acc: 0.9218 - val_loss: 8.4120 - val_acc: 0.2273\n",
            "Epoch 121/200\n",
            "6/6 [==============================] - 4s 712ms/step - loss: 0.1105 - acc: 0.9528 - val_loss: 9.7095 - val_acc: 0.2273\n",
            "Epoch 122/200\n",
            "6/6 [==============================] - 4s 726ms/step - loss: 0.1858 - acc: 0.9209 - val_loss: 9.8500 - val_acc: 0.1364\n",
            "Epoch 123/200\n",
            "6/6 [==============================] - 4s 724ms/step - loss: 0.1532 - acc: 0.9200 - val_loss: 10.5130 - val_acc: 0.2273\n",
            "Epoch 124/200\n",
            "6/6 [==============================] - 4s 716ms/step - loss: 0.1449 - acc: 0.9420 - val_loss: 9.4494 - val_acc: 0.1364\n",
            "Epoch 125/200\n",
            "6/6 [==============================] - 4s 712ms/step - loss: 0.1108 - acc: 0.9580 - val_loss: 11.1970 - val_acc: 0.1364\n",
            "Epoch 126/200\n",
            "6/6 [==============================] - 4s 722ms/step - loss: 0.1342 - acc: 0.9322 - val_loss: 8.4437 - val_acc: 0.1818\n",
            "Epoch 127/200\n",
            "3/6 [==============>...............] - ETA: 2s - loss: 0.2257 - acc: 0.9062"
          ],
          "name": "stdout"
        },
        {
          "output_type": "stream",
          "text": [
            "6/6 [==============================] - 4s 735ms/step - loss: 0.1700 - acc: 0.9264 - val_loss: 10.0636 - val_acc: 0.2273\n",
            "Epoch 128/200\n",
            "6/6 [==============================] - 4s 712ms/step - loss: 0.1701 - acc: 0.9420 - val_loss: 8.6286 - val_acc: 0.1818\n",
            "Epoch 129/200\n",
            "6/6 [==============================] - 4s 715ms/step - loss: 0.1145 - acc: 0.9414 - val_loss: 7.9047 - val_acc: 0.1818\n",
            "Epoch 130/200\n",
            "6/6 [==============================] - 4s 712ms/step - loss: 0.1549 - acc: 0.9531 - val_loss: 9.0464 - val_acc: 0.0909\n",
            "Epoch 131/200\n",
            "6/6 [==============================] - 4s 713ms/step - loss: 0.1788 - acc: 0.9371 - val_loss: 8.7507 - val_acc: 0.0909\n",
            "Epoch 132/200\n",
            "6/6 [==============================] - 4s 714ms/step - loss: 0.0909 - acc: 0.9583 - val_loss: 9.1740 - val_acc: 0.1364\n",
            "Epoch 133/200\n",
            "6/6 [==============================] - 4s 713ms/step - loss: 0.1339 - acc: 0.9478 - val_loss: 9.4792 - val_acc: 0.1818\n",
            "Epoch 134/200\n",
            "6/6 [==============================] - 4s 714ms/step - loss: 0.1068 - acc: 0.9319 - val_loss: 10.1761 - val_acc: 0.1364\n",
            "Epoch 135/200\n",
            "6/6 [==============================] - 4s 710ms/step - loss: 0.1526 - acc: 0.9420 - val_loss: 10.7884 - val_acc: 0.0909\n",
            "Epoch 136/200\n",
            "6/6 [==============================] - 4s 711ms/step - loss: 0.1818 - acc: 0.9313 - val_loss: 11.1869 - val_acc: 0.0909\n",
            "Epoch 137/200\n",
            "6/6 [==============================] - 4s 712ms/step - loss: 0.1222 - acc: 0.9629 - val_loss: 10.1501 - val_acc: 0.1364\n",
            "Epoch 138/200\n",
            "6/6 [==============================] - 4s 715ms/step - loss: 0.1297 - acc: 0.9632 - val_loss: 9.3739 - val_acc: 0.0909\n",
            "Epoch 139/200\n",
            "6/6 [==============================] - 4s 712ms/step - loss: 0.1445 - acc: 0.9525 - val_loss: 10.7771 - val_acc: 0.0455\n",
            "Epoch 140/200\n",
            "6/6 [==============================] - 4s 713ms/step - loss: 0.1839 - acc: 0.9261 - val_loss: 11.2385 - val_acc: 0.0455\n",
            "Epoch 141/200\n",
            "3/6 [==============>...............] - ETA: 2s - loss: 0.1570 - acc: 0.9479"
          ],
          "name": "stdout"
        },
        {
          "output_type": "stream",
          "text": [
            "6/6 [==============================] - 4s 710ms/step - loss: 0.1233 - acc: 0.9583 - val_loss: 9.6568 - val_acc: 0.1364\n",
            "Epoch 142/200\n",
            "6/6 [==============================] - 4s 711ms/step - loss: 0.1857 - acc: 0.9267 - val_loss: 10.5452 - val_acc: 0.1818\n",
            "Epoch 143/200\n",
            "6/6 [==============================] - 4s 713ms/step - loss: 0.1646 - acc: 0.9417 - val_loss: 10.5578 - val_acc: 0.1364\n",
            "Epoch 144/200\n",
            "6/6 [==============================] - 4s 714ms/step - loss: 0.2080 - acc: 0.9261 - val_loss: 10.5906 - val_acc: 0.0909\n",
            "Epoch 145/200\n",
            "6/6 [==============================] - 4s 712ms/step - loss: 0.1027 - acc: 0.9580 - val_loss: 10.4973 - val_acc: 0.0909\n",
            "Epoch 146/200\n",
            "6/6 [==============================] - 4s 716ms/step - loss: 0.1006 - acc: 0.9841 - val_loss: 10.4894 - val_acc: 0.1364\n",
            "Epoch 147/200\n",
            "6/6 [==============================] - 4s 715ms/step - loss: 0.0818 - acc: 0.9736 - val_loss: 10.2771 - val_acc: 0.1364\n",
            "Epoch 148/200\n",
            "6/6 [==============================] - 4s 713ms/step - loss: 0.1443 - acc: 0.9475 - val_loss: 10.9132 - val_acc: 0.1364\n",
            "Epoch 149/200\n",
            "6/6 [==============================] - 4s 711ms/step - loss: 0.0869 - acc: 0.9739 - val_loss: 10.1111 - val_acc: 0.1364\n",
            "Epoch 150/200\n",
            "6/6 [==============================] - 4s 711ms/step - loss: 0.0905 - acc: 0.9574 - val_loss: 10.5243 - val_acc: 0.1818\n",
            "Epoch 151/200\n",
            "6/6 [==============================] - 4s 713ms/step - loss: 0.1794 - acc: 0.9577 - val_loss: 10.9518 - val_acc: 0.1364\n",
            "Epoch 152/200\n",
            "6/6 [==============================] - 4s 717ms/step - loss: 0.1908 - acc: 0.9368 - val_loss: 9.1534 - val_acc: 0.0909\n",
            "Epoch 153/200\n",
            "6/6 [==============================] - 4s 708ms/step - loss: 0.0859 - acc: 0.9684 - val_loss: 9.2687 - val_acc: 0.1818\n",
            "Epoch 154/200\n",
            "6/6 [==============================] - 4s 711ms/step - loss: 0.1006 - acc: 0.9580 - val_loss: 9.2458 - val_acc: 0.1818\n",
            "Epoch 155/200\n",
            "3/6 [==============>...............] - ETA: 2s - loss: 0.0690 - acc: 0.9792"
          ],
          "name": "stdout"
        },
        {
          "output_type": "stream",
          "text": [
            "6/6 [==============================] - 4s 714ms/step - loss: 0.0848 - acc: 0.9739 - val_loss: 8.7166 - val_acc: 0.1818\n",
            "Epoch 156/200\n",
            "6/6 [==============================] - 4s 711ms/step - loss: 0.1911 - acc: 0.9420 - val_loss: 10.2969 - val_acc: 0.1364\n",
            "Epoch 157/200\n",
            "6/6 [==============================] - 4s 713ms/step - loss: 0.1868 - acc: 0.9316 - val_loss: 9.5423 - val_acc: 0.1364\n",
            "Epoch 158/200\n",
            "6/6 [==============================] - 4s 715ms/step - loss: 0.0901 - acc: 0.9736 - val_loss: 8.4303 - val_acc: 0.1364\n",
            "Epoch 159/200\n",
            "6/6 [==============================] - 4s 710ms/step - loss: 0.0971 - acc: 0.9577 - val_loss: 9.5621 - val_acc: 0.0909\n",
            "Epoch 160/200\n",
            "6/6 [==============================] - 4s 707ms/step - loss: 0.1358 - acc: 0.9528 - val_loss: 10.1605 - val_acc: 0.0455\n",
            "Epoch 161/200\n",
            "6/6 [==============================] - 4s 711ms/step - loss: 0.0638 - acc: 0.9684 - val_loss: 10.2794 - val_acc: 0.0909\n",
            "Epoch 162/200\n",
            "6/6 [==============================] - 4s 713ms/step - loss: 0.1001 - acc: 0.9684 - val_loss: 8.7682 - val_acc: 0.1364\n",
            "Epoch 163/200\n",
            "6/6 [==============================] - 4s 713ms/step - loss: 0.1592 - acc: 0.9472 - val_loss: 11.3756 - val_acc: 0.0909\n",
            "Epoch 164/200\n",
            "6/6 [==============================] - 4s 713ms/step - loss: 0.1105 - acc: 0.9472 - val_loss: 9.2260 - val_acc: 0.1818\n",
            "Epoch 165/200\n",
            "6/6 [==============================] - 4s 715ms/step - loss: 0.0745 - acc: 0.9687 - val_loss: 8.3646 - val_acc: 0.2273\n",
            "Epoch 166/200\n",
            "6/6 [==============================] - 4s 711ms/step - loss: 0.1465 - acc: 0.9368 - val_loss: 9.4215 - val_acc: 0.2273\n",
            "Epoch 167/200\n",
            "6/6 [==============================] - 4s 709ms/step - loss: 0.1415 - acc: 0.9583 - val_loss: 9.0819 - val_acc: 0.2273\n",
            "Epoch 168/200\n",
            "6/6 [==============================] - 4s 710ms/step - loss: 0.0626 - acc: 0.9736 - val_loss: 10.4696 - val_acc: 0.1364\n",
            "Epoch 169/200\n",
            "3/6 [==============>...............] - ETA: 2s - loss: 0.1427 - acc: 0.9583"
          ],
          "name": "stdout"
        },
        {
          "output_type": "stream",
          "text": [
            "6/6 [==============================] - 4s 713ms/step - loss: 0.1160 - acc: 0.9580 - val_loss: 8.5035 - val_acc: 0.1364\n",
            "Epoch 170/200\n",
            "6/6 [==============================] - 4s 711ms/step - loss: 0.0691 - acc: 0.9736 - val_loss: 8.4781 - val_acc: 0.1818\n",
            "Epoch 171/200\n",
            "6/6 [==============================] - 4s 710ms/step - loss: 0.1197 - acc: 0.9478 - val_loss: 7.6455 - val_acc: 0.1818\n",
            "Epoch 172/200\n",
            "6/6 [==============================] - 4s 711ms/step - loss: 0.0920 - acc: 0.9739 - val_loss: 7.2598 - val_acc: 0.1818\n",
            "Epoch 173/200\n",
            "6/6 [==============================] - 4s 715ms/step - loss: 0.0939 - acc: 0.9687 - val_loss: 6.9935 - val_acc: 0.0909\n",
            "Epoch 174/200\n",
            "6/6 [==============================] - 4s 711ms/step - loss: 0.1157 - acc: 0.9580 - val_loss: 5.8959 - val_acc: 0.1364\n",
            "Epoch 175/200\n",
            "6/6 [==============================] - 4s 708ms/step - loss: 0.0944 - acc: 0.9687 - val_loss: 6.4889 - val_acc: 0.1818\n",
            "Epoch 176/200\n",
            "6/6 [==============================] - 4s 713ms/step - loss: 0.0745 - acc: 0.9577 - val_loss: 6.7507 - val_acc: 0.1364\n",
            "Epoch 177/200\n",
            "6/6 [==============================] - 4s 713ms/step - loss: 0.0913 - acc: 0.9525 - val_loss: 7.4550 - val_acc: 0.1818\n",
            "Epoch 178/200\n",
            "6/6 [==============================] - 4s 715ms/step - loss: 0.0752 - acc: 0.9632 - val_loss: 8.9575 - val_acc: 0.0455\n",
            "Epoch 179/200\n",
            "6/6 [==============================] - 4s 712ms/step - loss: 0.0367 - acc: 0.9896 - val_loss: 9.4675 - val_acc: 0.0455\n",
            "Epoch 180/200\n",
            "6/6 [==============================] - 4s 707ms/step - loss: 0.0563 - acc: 0.9788 - val_loss: 10.4734 - val_acc: 0.0455\n",
            "Epoch 181/200\n",
            "6/6 [==============================] - 4s 713ms/step - loss: 0.0544 - acc: 0.9791 - val_loss: 10.9472 - val_acc: 0.0455\n",
            "Epoch 182/200\n",
            "6/6 [==============================] - 4s 714ms/step - loss: 0.0655 - acc: 0.9684 - val_loss: 11.5023 - val_acc: 0.0455\n",
            "Epoch 183/200\n",
            "3/6 [==============>...............] - ETA: 2s - loss: 0.0662 - acc: 0.9688"
          ],
          "name": "stdout"
        },
        {
          "output_type": "stream",
          "text": [
            "6/6 [==============================] - 4s 712ms/step - loss: 0.0594 - acc: 0.9739 - val_loss: 11.3527 - val_acc: 0.0909\n",
            "Epoch 184/200\n",
            "6/6 [==============================] - 4s 716ms/step - loss: 0.0862 - acc: 0.9684 - val_loss: 10.7269 - val_acc: 0.0455\n",
            "Epoch 185/200\n",
            "6/6 [==============================] - 4s 713ms/step - loss: 0.1535 - acc: 0.9632 - val_loss: 10.3073 - val_acc: 0.0909\n",
            "Epoch 186/200\n",
            "6/6 [==============================] - 4s 713ms/step - loss: 0.0834 - acc: 0.9736 - val_loss: 10.1264 - val_acc: 0.0909\n",
            "Epoch 187/200\n",
            "6/6 [==============================] - 4s 712ms/step - loss: 0.1046 - acc: 0.9525 - val_loss: 9.5244 - val_acc: 0.0909\n",
            "Epoch 188/200\n",
            "6/6 [==============================] - 4s 712ms/step - loss: 0.0507 - acc: 0.9844 - val_loss: 9.9675 - val_acc: 0.0909\n",
            "Epoch 189/200\n",
            "6/6 [==============================] - 4s 712ms/step - loss: 0.0475 - acc: 0.9841 - val_loss: 9.4535 - val_acc: 0.0909\n",
            "Epoch 190/200\n",
            "6/6 [==============================] - 4s 711ms/step - loss: 0.1294 - acc: 0.9577 - val_loss: 9.4552 - val_acc: 0.0909\n",
            "Epoch 191/200\n",
            "6/6 [==============================] - 4s 710ms/step - loss: 0.0990 - acc: 0.9736 - val_loss: 9.7468 - val_acc: 0.0909\n",
            "Epoch 192/200\n",
            "6/6 [==============================] - 4s 712ms/step - loss: 0.1009 - acc: 0.9632 - val_loss: 9.4154 - val_acc: 0.0909\n",
            "Epoch 193/200\n",
            "6/6 [==============================] - 4s 712ms/step - loss: 0.0734 - acc: 0.9632 - val_loss: 9.1308 - val_acc: 0.0909\n",
            "Epoch 194/200\n",
            "6/6 [==============================] - 4s 714ms/step - loss: 0.0769 - acc: 0.9687 - val_loss: 10.4340 - val_acc: 0.1364\n",
            "Epoch 195/200\n",
            "6/6 [==============================] - 4s 712ms/step - loss: 0.0693 - acc: 0.9736 - val_loss: 10.3421 - val_acc: 0.1364\n",
            "Epoch 196/200\n",
            "6/6 [==============================] - 4s 713ms/step - loss: 0.0357 - acc: 0.9844 - val_loss: 10.2283 - val_acc: 0.1364\n",
            "Epoch 197/200\n",
            "3/6 [==============>...............] - ETA: 2s - loss: 0.0447 - acc: 0.9792"
          ],
          "name": "stdout"
        },
        {
          "output_type": "stream",
          "text": [
            "6/6 [==============================] - 4s 713ms/step - loss: 0.0537 - acc: 0.9739 - val_loss: 10.4115 - val_acc: 0.0909\n",
            "Epoch 198/200\n",
            "6/6 [==============================] - 4s 716ms/step - loss: 0.1292 - acc: 0.9684 - val_loss: 11.5284 - val_acc: 0.0909\n",
            "Epoch 199/200\n",
            "6/6 [==============================] - 4s 709ms/step - loss: 0.0752 - acc: 0.9788 - val_loss: 10.8426 - val_acc: 0.1364\n",
            "Epoch 200/200\n",
            "6/6 [==============================] - 4s 711ms/step - loss: 0.1451 - acc: 0.9472 - val_loss: 9.7153 - val_acc: 0.0909\n"
          ],
          "name": "stdout"
        }
      ]
    },
    {
      "metadata": {
        "id": "5J_uscADgYOS",
        "colab_type": "code",
        "colab": {
          "autoexec": {
            "startup": false,
            "wait_interval": 0
          }
        }
      },
      "cell_type": "code",
      "source": [
        "model.save('./drive/asian_vanilia3.h5')"
      ],
      "execution_count": 0,
      "outputs": []
    },
    {
      "metadata": {
        "id": "SIkTfB3c1-u1",
        "colab_type": "code",
        "colab": {
          "autoexec": {
            "startup": false,
            "wait_interval": 0
          },
          "output_extras": [
            {
              "item_id": 1
            },
            {
              "item_id": 2
            }
          ],
          "base_uri": "https://localhost:8080/",
          "height": 708
        },
        "outputId": "48024ce7-961b-4503-fe13-d9c11f2ae402",
        "executionInfo": {
          "status": "ok",
          "timestamp": 1521098645231,
          "user_tz": -480,
          "elapsed": 1676,
          "user": {
            "displayName": "Cugtyt",
            "photoUrl": "//lh4.googleusercontent.com/-QxlWCi_owQ0/AAAAAAAAAAI/AAAAAAAAAC4/wNSYjuh_4x4/s50-c-k-no/photo.jpg",
            "userId": "100389950431846051928"
          }
        }
      },
      "cell_type": "code",
      "source": [
        "import matplotlib.pyplot as plt\n",
        "\n",
        "acc = history.history['acc']\n",
        "val_acc = history.history['val_acc']\n",
        "loss = history.history['loss']\n",
        "val_loss = history.history['val_loss']\n",
        "\n",
        "epochs = range(1, len(acc) + 1)\n",
        "\n",
        "plt.plot(epochs, acc, 'bo', label='Training acc')\n",
        "plt.plot(epochs, val_acc, 'b', label='Validation acc')\n",
        "plt.title('Training and validation accuracy')\n",
        "plt.legend()\n",
        "\n",
        "plt.figure()\n",
        "\n",
        "plt.plot(epochs, loss, 'bo', label='Training loss')\n",
        "plt.plot(epochs, val_loss, 'b', label='Validation loss')\n",
        "plt.title('Training and validation loss')\n",
        "plt.legend()\n",
        "\n",
        "plt.show()"
      ],
      "execution_count": 43,
      "outputs": [
        {
          "output_type": "display_data",
          "data": {
            "image/png": "[encoded data removed]",
            "text/plain": [
              "<matplotlib.figure.Figure at 0x7fb4c7cab710>"
            ]
          },
          "metadata": {
            "tags": []
          }
        },
        {
          "output_type": "display_data",
          "data": {
            "image/png": "[encoded data removed]",
            "text/plain": [
              "<matplotlib.figure.Figure at 0x7fb4c9475198>"
            ]
          },
          "metadata": {
            "tags": []
          }
        }
      ]
    },
    {
      "metadata": {
        "id": "D1V1ouYjpqOH",
        "colab_type": "code",
        "colab": {
          "autoexec": {
            "startup": false,
            "wait_interval": 0
          },
          "output_extras": [
            {
              "item_id": 1
            },
            {
              "item_id": 2
            }
          ],
          "base_uri": "https://localhost:8080/",
          "height": 53
        },
        "outputId": "d0d42be7-bac3-4873-8ec8-d5442c25c194",
        "executionInfo": {
          "status": "ok",
          "timestamp": 1521100451896,
          "user_tz": -480,
          "elapsed": 1096,
          "user": {
            "displayName": "Cugtyt",
            "photoUrl": "//lh4.googleusercontent.com/-QxlWCi_owQ0/AAAAAAAAAAI/AAAAAAAAAC4/wNSYjuh_4x4/s50-c-k-no/photo.jpg",
            "userId": "100389950431846051928"
          }
        }
      },
      "cell_type": "code",
      "source": [
        "model.evaluate(test_data, test_label)"
      ],
      "execution_count": 44,
      "outputs": [
        {
          "output_type": "stream",
          "text": [
            "54/54 [==============================] - 0s 9ms/step\n"
          ],
          "name": "stdout"
        },
        {
          "output_type": "execute_result",
          "data": {
            "text/plain": [
              "[10.237989178410283, 0.07407407462596893]"
            ]
          },
          "metadata": {
            "tags": []
          },
          "execution_count": 44
        }
      ]
    },
    {
      "metadata": {
        "id": "GbggQiasvdmj",
        "colab_type": "code",
        "colab": {
          "autoexec": {
            "startup": false,
            "wait_interval": 0
          }
        }
      },
      "cell_type": "code",
      "source": [
        "def vanilia_cnn(input_shape: tuple, classes: int):\n",
        "    \"\"\"Implement vanilla ConvNet model.\"\"\"\n",
        "    model = models.Sequential()\n",
        "    model.add(\n",
        "        layers.Conv2D(32, (3, 3), activation='relu',\n",
        "                      padding='same',\n",
        "                      input_shape=input_shape))\n",
        "    model.add(layers.Conv2D(32, (3, 3), padding='same', activation='relu'))\n",
        "    model.add(layers.Conv2D(32, (3, 3), activation='relu'))\n",
        "    model.add(layers.MaxPooling2D((2, 2)))\n",
        "#     model.add(layers.Dropout(0.5))\n",
        "    \n",
        "    model.add(layers.Conv2D(64, (3, 3), padding='same', activation='relu'))\n",
        "    model.add(layers.Conv2D(64, (3, 3), padding='same', activation='relu'))\n",
        "    model.add(layers.MaxPooling2D((2, 2)))\n",
        "#     model.add(layers.Dropout(0.5))\n",
        "    \n",
        "    model.add(layers.Conv2D(128, (3, 3), padding='same', activation='relu'))\n",
        "    model.add(layers.Conv2D(128, (3, 3), activation='relu'))\n",
        "    model.add(layers.Conv2D(128, (3, 3), activation='relu'))\n",
        "    model.add(layers.MaxPooling2D((2, 2)))\n",
        "    model.add(layers.Flatten())\n",
        "    model.add(layers.Dense(512, activation='relu'))\n",
        "    model.add(layers.Dense(512, activation='relu'))\n",
        "#     model.add(layers.Dropout(0.5))\n",
        "    model.add(layers.Dense(classes, activation='softmax'))\n",
        "\n",
        "    model.compile(\n",
        "        optimizer='adam',\n",
        "        loss='sparse_categorical_crossentropy',\n",
        "        metrics=['accuracy'])\n",
        "\n",
        "    return model"
      ],
      "execution_count": 0,
      "outputs": []
    },
    {
      "metadata": {
        "id": "ROL_oRjjpVsZ",
        "colab_type": "code",
        "colab": {
          "autoexec": {
            "startup": false,
            "wait_interval": 0
          },
          "output_extras": [
            {
              "item_id": 240
            },
            {
              "item_id": 482
            },
            {
              "item_id": 734
            },
            {
              "item_id": 985
            },
            {
              "item_id": 1240
            },
            {
              "item_id": 1494
            },
            {
              "item_id": 1749
            },
            {
              "item_id": 2004
            },
            {
              "item_id": 2259
            },
            {
              "item_id": 2512
            },
            {
              "item_id": 2763
            },
            {
              "item_id": 3016
            },
            {
              "item_id": 3264
            },
            {
              "item_id": 3519
            },
            {
              "item_id": 3770
            },
            {
              "item_id": 4023
            },
            {
              "item_id": 4266
            },
            {
              "item_id": 4519
            },
            {
              "item_id": 4763
            },
            {
              "item_id": 5017
            },
            {
              "item_id": 5049
            }
          ],
          "base_uri": "https://localhost:8080/",
          "height": 3673
        },
        "outputId": "7631256d-55d2-4394-f468-4b326ad14bfb",
        "executionInfo": {
          "status": "ok",
          "timestamp": 1521109755974,
          "user_tz": -480,
          "elapsed": 5756394,
          "user": {
            "displayName": "Cugtyt",
            "photoUrl": "//lh4.googleusercontent.com/-QxlWCi_owQ0/AAAAAAAAAAI/AAAAAAAAAC4/wNSYjuh_4x4/s50-c-k-no/photo.jpg",
            "userId": "100389950431846051928"
          }
        }
      },
      "cell_type": "code",
      "source": [
        "input_shape = (250, 250, 3)\n",
        "classes = 10\n",
        "\n",
        "\n",
        "\n",
        "train_datagen = ImageDataGenerator(\n",
        "  rescale=1./255,\n",
        "  rotation_range=40,\n",
        "  width_shift_range=0.2,\n",
        "  height_shift_range=0.2,\n",
        "  shear_range=0.2,\n",
        "  zoom_range=0.2,\n",
        "  horizontal_flip=True)\n",
        "test_datagen = ImageDataGenerator(rescale=1./255)\n",
        "\n",
        "train_generator = train_datagen.flow_from_directory(\n",
        "  # This is the target directory\n",
        "  './drive/data/FacePlace/AsianSample/train',\n",
        "  target_size=(250, 250),\n",
        "  batch_size=32,\n",
        "  # Since we use binary_crossentropy loss, we need binary labels\n",
        "  class_mode='binary')\n",
        "validation_generator = test_datagen.flow_from_directory(\n",
        "  './drive/data/FacePlace/AsianSample/val',\n",
        "  target_size=(250, 250),\n",
        "  batch_size=32,\n",
        "  class_mode='binary')\n",
        "\n",
        "model = vanilia_cnn(input_shape=input_shape, classes=classes)\n",
        "\n",
        "history = model.fit_generator(\n",
        "  train_generator,\n",
        "  steps_per_epoch=50,\n",
        "  epochs=100,\n",
        "  validation_data=validation_generator,\n",
        "  validation_steps=50)"
      ],
      "execution_count": 13,
      "outputs": [
        {
          "output_type": "stream",
          "text": [
            "Found 246 images belonging to 10 classes.\n",
            "Found 20 images belonging to 10 classes.\n",
            "Epoch 1/100\n",
            "50/50 [==============================] - 60s 1s/step - loss: 2.3032 - acc: 0.1251 - val_loss: 2.3124 - val_acc: 0.1000\n",
            "Epoch 2/100\n",
            "50/50 [==============================] - 57s 1s/step - loss: 2.1545 - acc: 0.2298 - val_loss: 1.7857 - val_acc: 0.4000\n",
            "Epoch 3/100\n",
            "50/50 [==============================] - 57s 1s/step - loss: 1.8615 - acc: 0.3344 - val_loss: 1.4793 - val_acc: 0.4500\n",
            "Epoch 4/100\n",
            "50/50 [==============================] - 60s 1s/step - loss: 1.7273 - acc: 0.3584 - val_loss: 1.4345 - val_acc: 0.4500\n",
            "Epoch 5/100\n",
            "34/50 [===================>..........] - ETA: 13s - loss: 1.6566 - acc: 0.3753"
          ],
          "name": "stdout"
        },
        {
          "output_type": "stream",
          "text": [
            "50/50 [==============================] - 58s 1s/step - loss: 1.6331 - acc: 0.3761 - val_loss: 1.4414 - val_acc: 0.4000\n",
            "Epoch 6/100\n",
            "50/50 [==============================] - 57s 1s/step - loss: 1.5442 - acc: 0.4231 - val_loss: 1.4872 - val_acc: 0.3500\n",
            "Epoch 7/100\n",
            "50/50 [==============================] - 57s 1s/step - loss: 1.5038 - acc: 0.4483 - val_loss: 1.8452 - val_acc: 0.4000\n",
            "Epoch 8/100\n",
            "50/50 [==============================] - 60s 1s/step - loss: 1.4246 - acc: 0.4837 - val_loss: 1.7921 - val_acc: 0.3500\n",
            "Epoch 9/100\n",
            "50/50 [==============================] - 57s 1s/step - loss: 1.3605 - acc: 0.4844 - val_loss: 1.3305 - val_acc: 0.4500\n",
            "Epoch 10/100\n",
            "21/50 [===========>..................] - ETA: 25s - loss: 1.3660 - acc: 0.5129"
          ],
          "name": "stdout"
        },
        {
          "output_type": "stream",
          "text": [
            "50/50 [==============================] - 57s 1s/step - loss: 1.2881 - acc: 0.5238 - val_loss: 1.6593 - val_acc: 0.4000\n",
            "Epoch 11/100\n",
            "50/50 [==============================] - 57s 1s/step - loss: 1.1343 - acc: 0.5830 - val_loss: 0.9649 - val_acc: 0.6000\n",
            "Epoch 12/100\n",
            "50/50 [==============================] - 60s 1s/step - loss: 1.0526 - acc: 0.6355 - val_loss: 0.8798 - val_acc: 0.5500\n",
            "Epoch 13/100\n",
            "50/50 [==============================] - 57s 1s/step - loss: 0.9829 - acc: 0.6514 - val_loss: 1.0959 - val_acc: 0.6500\n",
            "Epoch 14/100\n",
            "50/50 [==============================] - 56s 1s/step - loss: 0.9305 - acc: 0.6618 - val_loss: 1.1637 - val_acc: 0.5500\n",
            "Epoch 15/100\n",
            "18/50 [=========>....................] - ETA: 27s - loss: 0.8083 - acc: 0.6992"
          ],
          "name": "stdout"
        },
        {
          "output_type": "stream",
          "text": [
            "50/50 [==============================] - 55s 1s/step - loss: 0.8677 - acc: 0.6784 - val_loss: 0.9214 - val_acc: 0.6500\n",
            "Epoch 16/100\n",
            "50/50 [==============================] - 59s 1s/step - loss: 0.7641 - acc: 0.7357 - val_loss: 0.8025 - val_acc: 0.6500\n",
            "Epoch 17/100\n",
            "50/50 [==============================] - 57s 1s/step - loss: 0.7716 - acc: 0.7239 - val_loss: 0.6534 - val_acc: 0.8000\n",
            "Epoch 18/100\n",
            "50/50 [==============================] - 56s 1s/step - loss: 0.6657 - acc: 0.7683 - val_loss: 0.4740 - val_acc: 0.8500\n",
            "Epoch 19/100\n",
            "50/50 [==============================] - 56s 1s/step - loss: 0.6581 - acc: 0.7829 - val_loss: 0.8357 - val_acc: 0.6500\n",
            "Epoch 20/100\n",
            "18/50 [=========>....................] - ETA: 27s - loss: 0.6200 - acc: 0.7887"
          ],
          "name": "stdout"
        },
        {
          "output_type": "stream",
          "text": [
            "50/50 [==============================] - 58s 1s/step - loss: 0.5847 - acc: 0.8002 - val_loss: 0.7569 - val_acc: 0.6500\n",
            "Epoch 21/100\n",
            "50/50 [==============================] - 56s 1s/step - loss: 0.4698 - acc: 0.8399 - val_loss: 0.7740 - val_acc: 0.7000\n",
            "Epoch 22/100\n",
            "50/50 [==============================] - 56s 1s/step - loss: 0.5525 - acc: 0.8054 - val_loss: 0.8791 - val_acc: 0.6000\n",
            "Epoch 23/100\n",
            "50/50 [==============================] - 55s 1s/step - loss: 0.4636 - acc: 0.8431 - val_loss: 0.4611 - val_acc: 0.8000\n",
            "Epoch 24/100\n",
            "50/50 [==============================] - 58s 1s/step - loss: 0.5244 - acc: 0.8109 - val_loss: 0.2668 - val_acc: 0.9000\n",
            "Epoch 25/100\n",
            "18/50 [=========>....................] - ETA: 25s - loss: 0.4524 - acc: 0.8488"
          ],
          "name": "stdout"
        },
        {
          "output_type": "stream",
          "text": [
            "50/50 [==============================] - 56s 1s/step - loss: 0.4389 - acc: 0.8443 - val_loss: 0.3534 - val_acc: 0.8500\n",
            "Epoch 26/100\n",
            "50/50 [==============================] - 55s 1s/step - loss: 0.4223 - acc: 0.8542 - val_loss: 0.3462 - val_acc: 0.9000\n",
            "Epoch 27/100\n",
            "50/50 [==============================] - 56s 1s/step - loss: 0.4345 - acc: 0.8437 - val_loss: 0.3254 - val_acc: 0.9000\n",
            "Epoch 28/100\n",
            "50/50 [==============================] - 60s 1s/step - loss: 0.4455 - acc: 0.8531 - val_loss: 0.6499 - val_acc: 0.6500\n",
            "Epoch 29/100\n",
            "50/50 [==============================] - 58s 1s/step - loss: 0.3696 - acc: 0.8805 - val_loss: 0.8610 - val_acc: 0.8000\n",
            "Epoch 30/100\n",
            "18/50 [=========>....................] - ETA: 27s - loss: 0.3523 - acc: 0.8780"
          ],
          "name": "stdout"
        },
        {
          "output_type": "stream",
          "text": [
            "50/50 [==============================] - 57s 1s/step - loss: 0.3651 - acc: 0.8712 - val_loss: 0.4433 - val_acc: 0.8500\n",
            "Epoch 31/100\n",
            "50/50 [==============================] - 57s 1s/step - loss: 0.3847 - acc: 0.8775 - val_loss: 0.8999 - val_acc: 0.6500\n",
            "Epoch 32/100\n",
            "50/50 [==============================] - 60s 1s/step - loss: 0.3345 - acc: 0.8919 - val_loss: 0.4819 - val_acc: 0.7500\n",
            "Epoch 33/100\n",
            "50/50 [==============================] - 58s 1s/step - loss: 0.2995 - acc: 0.9003 - val_loss: 0.4997 - val_acc: 0.7500\n",
            "Epoch 34/100\n",
            "50/50 [==============================] - 57s 1s/step - loss: 0.2610 - acc: 0.9098 - val_loss: 0.7802 - val_acc: 0.8000\n",
            "Epoch 35/100\n",
            "18/50 [=========>....................] - ETA: 28s - loss: 0.3740 - acc: 0.8797"
          ],
          "name": "stdout"
        },
        {
          "output_type": "stream",
          "text": [
            "50/50 [==============================] - 57s 1s/step - loss: 0.3508 - acc: 0.8742 - val_loss: 0.6894 - val_acc: 0.7500\n",
            "Epoch 36/100\n",
            "50/50 [==============================] - 60s 1s/step - loss: 0.3417 - acc: 0.8782 - val_loss: 0.1346 - val_acc: 0.9500\n",
            "Epoch 37/100\n",
            "50/50 [==============================] - 58s 1s/step - loss: 0.2546 - acc: 0.9158 - val_loss: 0.3494 - val_acc: 0.9500\n",
            "Epoch 38/100\n",
            "50/50 [==============================] - 57s 1s/step - loss: 0.2627 - acc: 0.9139 - val_loss: 0.3482 - val_acc: 0.9500\n",
            "Epoch 39/100\n",
            "50/50 [==============================] - 56s 1s/step - loss: 0.2299 - acc: 0.9224 - val_loss: 0.3037 - val_acc: 0.9500\n",
            "Epoch 40/100\n",
            "18/50 [=========>....................] - ETA: 28s - loss: 0.1793 - acc: 0.9283"
          ],
          "name": "stdout"
        },
        {
          "output_type": "stream",
          "text": [
            "50/50 [==============================] - 60s 1s/step - loss: 0.2446 - acc: 0.9145 - val_loss: 0.5559 - val_acc: 0.8500\n",
            "Epoch 41/100\n",
            "50/50 [==============================] - 57s 1s/step - loss: 0.2898 - acc: 0.9087 - val_loss: 0.4194 - val_acc: 0.9000\n",
            "Epoch 42/100\n",
            "50/50 [==============================] - 56s 1s/step - loss: 0.2160 - acc: 0.9235 - val_loss: 0.2943 - val_acc: 0.9000\n",
            "Epoch 43/100\n",
            "50/50 [==============================] - 56s 1s/step - loss: 0.2337 - acc: 0.9233 - val_loss: 0.2452 - val_acc: 0.9500\n",
            "Epoch 44/100\n",
            "50/50 [==============================] - 59s 1s/step - loss: 0.1982 - acc: 0.9224 - val_loss: 0.2927 - val_acc: 0.9000\n",
            "Epoch 45/100\n",
            "18/50 [=========>....................] - ETA: 25s - loss: 0.2150 - acc: 0.9255"
          ],
          "name": "stdout"
        },
        {
          "output_type": "stream",
          "text": [
            "50/50 [==============================] - 56s 1s/step - loss: 0.2170 - acc: 0.9208 - val_loss: 0.2847 - val_acc: 0.8500\n",
            "Epoch 46/100\n",
            "50/50 [==============================] - 56s 1s/step - loss: 0.2317 - acc: 0.9177 - val_loss: 0.2382 - val_acc: 0.9500\n",
            "Epoch 47/100\n",
            "50/50 [==============================] - 55s 1s/step - loss: 0.1613 - acc: 0.9433 - val_loss: 0.4785 - val_acc: 0.9000\n",
            "Epoch 48/100\n",
            "50/50 [==============================] - 58s 1s/step - loss: 0.1985 - acc: 0.9304 - val_loss: 0.4319 - val_acc: 0.9500\n",
            "Epoch 49/100\n",
            "50/50 [==============================] - 57s 1s/step - loss: 0.2685 - acc: 0.9026 - val_loss: 0.4155 - val_acc: 0.9000\n",
            "Epoch 50/100\n",
            "18/50 [=========>....................] - ETA: 28s - loss: 0.2230 - acc: 0.9129"
          ],
          "name": "stdout"
        },
        {
          "output_type": "stream",
          "text": [
            "50/50 [==============================] - 57s 1s/step - loss: 0.1928 - acc: 0.9349 - val_loss: 0.4237 - val_acc: 0.9000\n",
            "Epoch 51/100\n",
            "50/50 [==============================] - 57s 1s/step - loss: 0.1802 - acc: 0.9418 - val_loss: 0.7874 - val_acc: 0.7500\n",
            "Epoch 52/100\n",
            "50/50 [==============================] - 60s 1s/step - loss: 0.2010 - acc: 0.9315 - val_loss: 0.2647 - val_acc: 0.9500\n",
            "Epoch 53/100\n",
            "50/50 [==============================] - 57s 1s/step - loss: 0.1352 - acc: 0.9560 - val_loss: 0.3192 - val_acc: 0.9500\n",
            "Epoch 54/100\n",
            "50/50 [==============================] - 58s 1s/step - loss: 0.1749 - acc: 0.9464 - val_loss: 0.2231 - val_acc: 0.9500\n",
            "Epoch 55/100\n",
            "18/50 [=========>....................] - ETA: 27s - loss: 0.1388 - acc: 0.9457"
          ],
          "name": "stdout"
        },
        {
          "output_type": "stream",
          "text": [
            "50/50 [==============================] - 57s 1s/step - loss: 0.1165 - acc: 0.9581 - val_loss: 0.3860 - val_acc: 0.9000\n",
            "Epoch 56/100\n",
            "50/50 [==============================] - 60s 1s/step - loss: 0.1513 - acc: 0.9507 - val_loss: 0.2590 - val_acc: 0.9000\n",
            "Epoch 57/100\n",
            "50/50 [==============================] - 58s 1s/step - loss: 0.1753 - acc: 0.9340 - val_loss: 0.4322 - val_acc: 0.8500\n",
            "Epoch 58/100\n",
            "50/50 [==============================] - 58s 1s/step - loss: 0.1698 - acc: 0.9471 - val_loss: 0.3885 - val_acc: 0.8500\n",
            "Epoch 59/100\n",
            "50/50 [==============================] - 57s 1s/step - loss: 0.4720 - acc: 0.8607 - val_loss: 0.3295 - val_acc: 0.8500\n",
            "Epoch 60/100\n",
            "18/50 [=========>....................] - ETA: 29s - loss: 0.2738 - acc: 0.9212"
          ],
          "name": "stdout"
        },
        {
          "output_type": "stream",
          "text": [
            "50/50 [==============================] - 60s 1s/step - loss: 0.2052 - acc: 0.9345 - val_loss: 0.3144 - val_acc: 0.8500\n",
            "Epoch 61/100\n",
            "50/50 [==============================] - 58s 1s/step - loss: 0.1485 - acc: 0.9515 - val_loss: 0.8475 - val_acc: 0.8000\n",
            "Epoch 62/100\n",
            "50/50 [==============================] - 57s 1s/step - loss: 0.1559 - acc: 0.9484 - val_loss: 0.1833 - val_acc: 0.9000\n",
            "Epoch 63/100\n",
            "50/50 [==============================] - 57s 1s/step - loss: 0.1341 - acc: 0.9573 - val_loss: 0.2726 - val_acc: 0.9000\n",
            "Epoch 64/100\n",
            "50/50 [==============================] - 60s 1s/step - loss: 0.1365 - acc: 0.9531 - val_loss: 0.1999 - val_acc: 0.9000\n",
            "Epoch 65/100\n",
            "18/50 [=========>....................] - ETA: 25s - loss: 0.1566 - acc: 0.9463"
          ],
          "name": "stdout"
        },
        {
          "output_type": "stream",
          "text": [
            "50/50 [==============================] - 57s 1s/step - loss: 0.1610 - acc: 0.9419 - val_loss: 0.3269 - val_acc: 0.8500\n",
            "Epoch 66/100\n",
            "50/50 [==============================] - 57s 1s/step - loss: 0.1226 - acc: 0.9601 - val_loss: 0.2409 - val_acc: 0.9500\n",
            "Epoch 67/100\n",
            "50/50 [==============================] - 56s 1s/step - loss: 0.1098 - acc: 0.9610 - val_loss: 0.5570 - val_acc: 0.8500\n",
            "Epoch 68/100\n",
            "50/50 [==============================] - 59s 1s/step - loss: 0.1123 - acc: 0.9580 - val_loss: 0.3135 - val_acc: 0.9000\n",
            "Epoch 69/100\n",
            "50/50 [==============================] - 57s 1s/step - loss: 0.1579 - acc: 0.9490 - val_loss: 0.1552 - val_acc: 0.9500\n",
            "Epoch 70/100\n",
            "18/50 [=========>....................] - ETA: 26s - loss: 0.1280 - acc: 0.9446"
          ],
          "name": "stdout"
        },
        {
          "output_type": "stream",
          "text": [
            "50/50 [==============================] - 55s 1s/step - loss: 0.1325 - acc: 0.9523 - val_loss: 0.5602 - val_acc: 0.9000\n",
            "Epoch 71/100\n",
            "50/50 [==============================] - 56s 1s/step - loss: 0.1122 - acc: 0.9616 - val_loss: 0.7371 - val_acc: 0.8500\n",
            "Epoch 72/100\n",
            "50/50 [==============================] - 59s 1s/step - loss: 0.1051 - acc: 0.9633 - val_loss: 0.2703 - val_acc: 0.8500\n",
            "Epoch 73/100\n",
            "50/50 [==============================] - 57s 1s/step - loss: 0.0743 - acc: 0.9732 - val_loss: 0.4075 - val_acc: 0.8500\n",
            "Epoch 74/100\n",
            "50/50 [==============================] - 56s 1s/step - loss: 0.0969 - acc: 0.9673 - val_loss: 0.4195 - val_acc: 0.8500\n",
            "Epoch 75/100\n",
            "18/50 [=========>....................] - ETA: 27s - loss: 0.1122 - acc: 0.9714"
          ],
          "name": "stdout"
        },
        {
          "output_type": "stream",
          "text": [
            "50/50 [==============================] - 56s 1s/step - loss: 0.1046 - acc: 0.9657 - val_loss: 0.2242 - val_acc: 0.9000\n",
            "Epoch 76/100\n",
            "50/50 [==============================] - 59s 1s/step - loss: 0.1022 - acc: 0.9619 - val_loss: 0.0472 - val_acc: 0.9500\n",
            "Epoch 77/100\n",
            "50/50 [==============================] - 57s 1s/step - loss: 0.0939 - acc: 0.9716 - val_loss: 0.6336 - val_acc: 0.8500\n",
            "Epoch 78/100\n",
            "50/50 [==============================] - 57s 1s/step - loss: 0.1540 - acc: 0.9495 - val_loss: 0.0824 - val_acc: 0.9500\n",
            "Epoch 79/100\n",
            "50/50 [==============================] - 57s 1s/step - loss: 0.0821 - acc: 0.9719 - val_loss: 0.4447 - val_acc: 0.8500\n",
            "Epoch 80/100\n",
            "18/50 [=========>....................] - ETA: 28s - loss: 0.1393 - acc: 0.9560"
          ],
          "name": "stdout"
        },
        {
          "output_type": "stream",
          "text": [
            "50/50 [==============================] - 59s 1s/step - loss: 0.1420 - acc: 0.9497 - val_loss: 0.0770 - val_acc: 0.9500\n",
            "Epoch 81/100\n",
            "50/50 [==============================] - 57s 1s/step - loss: 0.0909 - acc: 0.9699 - val_loss: 0.3205 - val_acc: 0.8500\n",
            "Epoch 82/100\n",
            "50/50 [==============================] - 57s 1s/step - loss: 0.0728 - acc: 0.9753 - val_loss: 0.3214 - val_acc: 0.9000\n",
            "Epoch 83/100\n",
            "50/50 [==============================] - 56s 1s/step - loss: 0.1254 - acc: 0.9602 - val_loss: 0.2990 - val_acc: 0.9000\n",
            "Epoch 84/100\n",
            "50/50 [==============================] - 59s 1s/step - loss: 0.1118 - acc: 0.9618 - val_loss: 0.1501 - val_acc: 0.9000\n",
            "Epoch 85/100\n",
            "18/50 [=========>....................] - ETA: 26s - loss: 0.1200 - acc: 0.9593"
          ],
          "name": "stdout"
        },
        {
          "output_type": "stream",
          "text": [
            "50/50 [==============================] - 59s 1s/step - loss: 0.1382 - acc: 0.9567 - val_loss: 0.2952 - val_acc: 0.9500\n",
            "Epoch 86/100\n",
            "50/50 [==============================] - 58s 1s/step - loss: 0.1669 - acc: 0.9484 - val_loss: 0.1811 - val_acc: 0.9000\n",
            "Epoch 87/100\n",
            "50/50 [==============================] - 57s 1s/step - loss: 0.1011 - acc: 0.9675 - val_loss: 0.2995 - val_acc: 0.9500\n",
            "Epoch 88/100\n",
            "50/50 [==============================] - 60s 1s/step - loss: 0.0914 - acc: 0.9678 - val_loss: 0.2518 - val_acc: 0.9500\n",
            "Epoch 89/100\n",
            "50/50 [==============================] - 58s 1s/step - loss: 0.0756 - acc: 0.9688 - val_loss: 0.4414 - val_acc: 0.8500\n",
            "Epoch 90/100\n",
            "18/50 [=========>....................] - ETA: 27s - loss: 0.1760 - acc: 0.9484"
          ],
          "name": "stdout"
        },
        {
          "output_type": "stream",
          "text": [
            "50/50 [==============================] - 57s 1s/step - loss: 0.1236 - acc: 0.9611 - val_loss: 0.4402 - val_acc: 0.8500\n",
            "Epoch 91/100\n",
            "50/50 [==============================] - 56s 1s/step - loss: 0.0847 - acc: 0.9714 - val_loss: 0.1603 - val_acc: 0.9500\n",
            "Epoch 92/100\n",
            "50/50 [==============================] - 60s 1s/step - loss: 0.1173 - acc: 0.9627 - val_loss: 0.4332 - val_acc: 0.9500\n",
            "Epoch 93/100\n",
            "50/50 [==============================] - 58s 1s/step - loss: 0.0971 - acc: 0.9707 - val_loss: 0.2871 - val_acc: 0.9500\n",
            "Epoch 94/100\n",
            "50/50 [==============================] - 57s 1s/step - loss: 0.0920 - acc: 0.9670 - val_loss: 0.2725 - val_acc: 0.9500\n",
            "Epoch 95/100\n",
            "18/50 [=========>....................] - ETA: 28s - loss: 0.0640 - acc: 0.9776"
          ],
          "name": "stdout"
        },
        {
          "output_type": "stream",
          "text": [
            "50/50 [==============================] - 57s 1s/step - loss: 0.0708 - acc: 0.9764 - val_loss: 0.1961 - val_acc: 0.9000\n",
            "Epoch 96/100\n",
            "50/50 [==============================] - 60s 1s/step - loss: 0.0661 - acc: 0.9785 - val_loss: 0.3283 - val_acc: 0.9000\n",
            "Epoch 97/100\n",
            "50/50 [==============================] - 58s 1s/step - loss: 0.0938 - acc: 0.9705 - val_loss: 0.1851 - val_acc: 0.9500\n",
            "Epoch 98/100\n",
            "50/50 [==============================] - 58s 1s/step - loss: 0.0821 - acc: 0.9751 - val_loss: 0.3684 - val_acc: 0.9500\n",
            "Epoch 99/100\n",
            "50/50 [==============================] - 57s 1s/step - loss: 0.0633 - acc: 0.9763 - val_loss: 0.4750 - val_acc: 0.9000\n",
            "Epoch 100/100\n",
            "18/50 [=========>....................] - ETA: 28s - loss: 0.0281 - acc: 0.9861"
          ],
          "name": "stdout"
        },
        {
          "output_type": "stream",
          "text": [
            "50/50 [==============================] - 61s 1s/step - loss: 0.0397 - acc: 0.9856 - val_loss: 0.5762 - val_acc: 0.9000\n"
          ],
          "name": "stdout"
        }
      ]
    },
    {
      "metadata": {
        "id": "F6WHm8-zzSsO",
        "colab_type": "code",
        "colab": {
          "autoexec": {
            "startup": false,
            "wait_interval": 0
          },
          "output_extras": [
            {
              "item_id": 1
            },
            {
              "item_id": 2
            }
          ],
          "base_uri": "https://localhost:8080/",
          "height": 708
        },
        "outputId": "84aaee86-af90-41eb-9332-c9f36daea7d9",
        "executionInfo": {
          "status": "ok",
          "timestamp": 1521109758185,
          "user_tz": -480,
          "elapsed": 2178,
          "user": {
            "displayName": "Cugtyt",
            "photoUrl": "//lh4.googleusercontent.com/-QxlWCi_owQ0/AAAAAAAAAAI/AAAAAAAAAC4/wNSYjuh_4x4/s50-c-k-no/photo.jpg",
            "userId": "100389950431846051928"
          }
        }
      },
      "cell_type": "code",
      "source": [
        "import matplotlib.pyplot as plt\n",
        "\n",
        "acc = history.history['acc']\n",
        "val_acc = history.history['val_acc']\n",
        "loss = history.history['loss']\n",
        "val_loss = history.history['val_loss']\n",
        "\n",
        "epochs = range(1, len(acc) + 1)\n",
        "\n",
        "plt.plot(epochs, acc, 'bo', label='Training acc')\n",
        "plt.plot(epochs, val_acc, 'b', label='Validation acc')\n",
        "plt.title('Training and validation accuracy')\n",
        "plt.legend()\n",
        "\n",
        "plt.figure()\n",
        "\n",
        "plt.plot(epochs, loss, 'bo', label='Training loss')\n",
        "plt.plot(epochs, val_loss, 'b', label='Validation loss')\n",
        "plt.title('Training and validation loss')\n",
        "plt.legend()\n",
        "\n",
        "plt.show()"
      ],
      "execution_count": 14,
      "outputs": [
        {
          "output_type": "display_data",
          "data": {
            "image/png": "[encoded data removed]",
            "text/plain": [
              "<matplotlib.figure.Figure at 0x7f9390bdf860>"
            ]
          },
          "metadata": {
            "tags": []
          }
        },
        {
          "output_type": "display_data",
          "data": {
            "image/png": "[encoded data removed]",
            "text/plain": [
              "<matplotlib.figure.Figure at 0x7f9390c69d68>"
            ]
          },
          "metadata": {
            "tags": []
          }
        }
      ]
    }
  ]
}