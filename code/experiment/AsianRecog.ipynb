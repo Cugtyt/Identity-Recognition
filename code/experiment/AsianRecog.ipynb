{
  "nbformat": 4,
  "nbformat_minor": 0,
  "metadata": {
    "colab": {
      "name": "AsianRecog.ipynb",
      "version": "0.3.2",
      "views": {},
      "default_view": {},
      "provenance": [],
      "collapsed_sections": []
    },
    "kernelspec": {
      "name": "python3",
      "display_name": "Python 3"
    },
    "accelerator": "GPU"
  },
  "cells": [
    {
      "metadata": {
        "id": "o97ndlwakCai",
        "colab_type": "code",
        "colab": {
          "autoexec": {
            "startup": false,
            "wait_interval": 0
          },
          "output_extras": [
            {
              "item_id": 5
            }
          ],
          "base_uri": "https://localhost:8080/",
          "height": 145
        },
        "outputId": "12240db9-a8fe-4702-e82f-06801ada22a7",
        "executionInfo": {
          "status": "ok",
          "timestamp": 1520581499649,
          "user_tz": -480,
          "elapsed": 35271,
          "user": {
            "displayName": "Cugtyt",
            "photoUrl": "//lh4.googleusercontent.com/-QxlWCi_owQ0/AAAAAAAAAAI/AAAAAAAAAC4/wNSYjuh_4x4/s50-c-k-no/photo.jpg",
            "userId": "100389950431846051928"
          }
        }
      },
      "cell_type": "code",
      "source": [
        "!apt-get install -y -qq software-properties-common python-software-properties module-init-tools\n",
        "!add-apt-repository -y ppa:alessandro-strada/ppa 2>&1 > /dev/null\n",
        "!apt-get update -qq 2>&1 > /dev/null\n",
        "!apt-get -y install -qq google-drive-ocamlfuse fuse\n",
        "from google.colab import auth\n",
        "auth.authenticate_user()\n",
        "from oauth2client.client import GoogleCredentials\n",
        "creds = GoogleCredentials.get_application_default()\n",
        "import getpass\n",
        "!google-drive-ocamlfuse -headless -id={creds.client_id} -secret={creds.client_secret} < /dev/null 2>&1 | grep URL\n",
        "vcode = getpass.getpass()\n",
        "!echo {vcode} | google-drive-ocamlfuse -headless -id={creds.client_id} -secret={creds.client_secret}"
      ],
      "execution_count": 1,
      "outputs": [
        {
          "output_type": "stream",
          "text": [
            "gpg: keybox '/tmp/tmpf53k39vj/pubring.gpg' created\n",
            "gpg: /tmp/tmpf53k39vj/trustdb.gpg: trustdb created\n",
            "gpg: key AD5F235DF639B041: public key \"Launchpad PPA for Alessandro Strada\" imported\n",
            "gpg: Total number processed: 1\n",
            "gpg:               imported: 1\n",
            "Warning: apt-key output should not be parsed (stdout is not a terminal)\n",
            "··········\n"
          ],
          "name": "stdout"
        }
      ]
    },
    {
      "metadata": {
        "id": "hxHo_BjNkRI4",
        "colab_type": "code",
        "colab": {
          "autoexec": {
            "startup": false,
            "wait_interval": 0
          },
          "output_extras": [
            {
              "item_id": 1
            }
          ],
          "base_uri": "https://localhost:8080/",
          "height": 54
        },
        "outputId": "7f8d98a6-6077-4bfe-e965-2fdfc517d797",
        "executionInfo": {
          "status": "ok",
          "timestamp": 1520581671531,
          "user_tz": -480,
          "elapsed": 2522,
          "user": {
            "displayName": "Cugtyt",
            "photoUrl": "//lh4.googleusercontent.com/-QxlWCi_owQ0/AAAAAAAAAAI/AAAAAAAAAC4/wNSYjuh_4x4/s50-c-k-no/photo.jpg",
            "userId": "100389950431846051928"
          }
        }
      },
      "cell_type": "code",
      "source": [
        "!mkdir -p drive\n",
        "!google-drive-ocamlfuse drive"
      ],
      "execution_count": 1,
      "outputs": [
        {
          "output_type": "stream",
          "text": [
            "fuse: mountpoint is not empty\r\n",
            "fuse: if you are sure this is safe, use the 'nonempty' mount option\r\n"
          ],
          "name": "stdout"
        }
      ]
    },
    {
      "metadata": {
        "id": "b-dqEoWDsEak",
        "colab_type": "code",
        "colab": {
          "autoexec": {
            "startup": false,
            "wait_interval": 0
          }
        }
      },
      "cell_type": "code",
      "source": [
        "!pip install -q keras"
      ],
      "execution_count": 0,
      "outputs": []
    },
    {
      "metadata": {
        "id": "TzCUcLFDoIvX",
        "colab_type": "code",
        "colab": {
          "autoexec": {
            "startup": false,
            "wait_interval": 0
          }
        }
      },
      "cell_type": "code",
      "source": [
        "from pathlib import Path\n",
        "from sklearn.model_selection import train_test_split\n",
        "import shutil\n",
        "from PIL import Image\n",
        "import numpy as np\n",
        "from sklearn.preprocessing import LabelEncoder"
      ],
      "execution_count": 0,
      "outputs": []
    },
    {
      "metadata": {
        "id": "VRzXPLEWicaV",
        "colab_type": "code",
        "colab": {
          "autoexec": {
            "startup": false,
            "wait_interval": 0
          }
        }
      },
      "cell_type": "code",
      "source": [
        "def load_data(data_path: str, test_size=0.2, random_state=42, info=False):\n",
        "    \"\"\"Load data from file.\n",
        "    \n",
        "    Args:\n",
        "        data_path: str, file path to read data\n",
        "        test_size: float, the ratio of test / all\n",
        "        random_state: int, random seed to split data\n",
        "        info: bool, control info print\n",
        "    Returns:\n",
        "        train_data: np.array, train set\n",
        "        test_data: np.array, test set\n",
        "    \"\"\"\n",
        "    # imgs = [np.array(Image.open(d)) for d in Path(data_path).iterdir()]\n",
        "    imgs = []\n",
        "    for d in Path(data_path).iterdir():\n",
        "        if info:\n",
        "            print('Load image: ' + d.name)\n",
        "        imgs.append(np.array(Image.open(d)))\n",
        "    data = np.array(imgs)\n",
        "    train_data, test_data = train_test_split(\n",
        "        data, test_size=test_size, random_state=random_state)\n",
        "    return train_data, test_data"
      ],
      "execution_count": 0,
      "outputs": []
    },
    {
      "metadata": {
        "id": "stCMhyhLi9Qh",
        "colab_type": "code",
        "colab": {
          "autoexec": {
            "startup": false,
            "wait_interval": 0
          }
        }
      },
      "cell_type": "code",
      "source": [
        "def load_label(label_path: str, test_size=0.2, random_state=42):\n",
        "    \"\"\"Load label from file.\n",
        "    \n",
        "    Args:\n",
        "        label_path: str, file path to read label\n",
        "        test_size: float, the ratio of test / all, \n",
        "            this arg should match up test_size in load_data\n",
        "        random_state: int, random seed to split data\n",
        "            this arg should match up random_state in load_data\n",
        "    \"\"\"\n",
        "    with open(label_path, 'r') as f:\n",
        "        labels = f.readline()\n",
        "    train_label, test_label = train_test_split(\n",
        "        labels.split('\\t'), test_size=test_size, random_state=random_state)\n",
        "    le = LabelEncoder()\n",
        "    le.fit(train_label)\n",
        "    return le.transform(train_label), le.transform(test_label)"
      ],
      "execution_count": 0,
      "outputs": []
    },
    {
      "metadata": {
        "id": "_ERrQBLYouZg",
        "colab_type": "code",
        "colab": {
          "autoexec": {
            "startup": false,
            "wait_interval": 0
          }
        }
      },
      "cell_type": "code",
      "source": [
        "train_label, test_label = load_label('./drive/data/FacePlace/Asian.txt')"
      ],
      "execution_count": 0,
      "outputs": []
    },
    {
      "metadata": {
        "id": "gkRSqhOQpxGL",
        "colab_type": "code",
        "colab": {
          "autoexec": {
            "startup": false,
            "wait_interval": 0
          }
        }
      },
      "cell_type": "code",
      "source": [
        "train_data, test_data = load_data('./drive/data/FacePlace/Asian/')"
      ],
      "execution_count": 0,
      "outputs": []
    },
    {
      "metadata": {
        "id": "lsYgU9sZ6UYg",
        "colab_type": "code",
        "colab": {
          "autoexec": {
            "startup": false,
            "wait_interval": 0
          }
        }
      },
      "cell_type": "code",
      "source": [
        "train_data = train_data.astype('float32') / 255\n",
        "test_data = test_data.astype('float32') / 255"
      ],
      "execution_count": 0,
      "outputs": []
    },
    {
      "metadata": {
        "id": "60s306XC4rGl",
        "colab_type": "code",
        "colab": {
          "autoexec": {
            "startup": false,
            "wait_interval": 0
          },
          "output_extras": [
            {
              "item_id": 1
            }
          ],
          "base_uri": "https://localhost:8080/",
          "height": 35
        },
        "outputId": "086bc067-2d36-4a55-fc74-fc13cae562d8",
        "executionInfo": {
          "status": "ok",
          "timestamp": 1520591771083,
          "user_tz": -480,
          "elapsed": 1647,
          "user": {
            "displayName": "Cugtyt",
            "photoUrl": "//lh4.googleusercontent.com/-QxlWCi_owQ0/AAAAAAAAAAI/AAAAAAAAAC4/wNSYjuh_4x4/s50-c-k-no/photo.jpg",
            "userId": "100389950431846051928"
          }
        }
      },
      "cell_type": "code",
      "source": [
        "from keras.preprocessing.image import ImageDataGenerator"
      ],
      "execution_count": 7,
      "outputs": [
        {
          "output_type": "stream",
          "text": [
            "Using TensorFlow backend.\n"
          ],
          "name": "stderr"
        }
      ]
    },
    {
      "metadata": {
        "id": "NaCADRie4bnD",
        "colab_type": "code",
        "colab": {
          "autoexec": {
            "startup": false,
            "wait_interval": 0
          }
        }
      },
      "cell_type": "code",
      "source": [
        "datagen = ImageDataGenerator(\n",
        "        featurewise_center=False,  # set input mean to 0 over the dataset\n",
        "        samplewise_center=False,  # set each sample mean to 0\n",
        "        featurewise_std_normalization=False,  # divide inputs by std of the dataset\n",
        "        samplewise_std_normalization=False,  # divide each input by its std\n",
        "        zca_whitening=False,  # apply ZCA whitening\n",
        "        rotation_range=0,  # randomly rotate images in the range (degrees, 0 to 180)\n",
        "        width_shift_range=0.1,  # randomly shift images horizontally (fraction of total width)\n",
        "        height_shift_range=0.1,  # randomly shift images vertically (fraction of total height)\n",
        "        horizontal_flip=True,  # randomly flip images\n",
        "        vertical_flip=False) # randomly flip images\n",
        "datagen.fit(train_data)"
      ],
      "execution_count": 0,
      "outputs": []
    },
    {
      "metadata": {
        "id": "00P2WOpfvFpM",
        "colab_type": "code",
        "colab": {
          "autoexec": {
            "startup": false,
            "wait_interval": 0
          }
        }
      },
      "cell_type": "code",
      "source": [
        "from keras import layers\n",
        "from keras import models\n",
        "from keras import optimizers"
      ],
      "execution_count": 0,
      "outputs": []
    },
    {
      "metadata": {
        "id": "AEJYPs-4vIy0",
        "colab_type": "code",
        "colab": {
          "autoexec": {
            "startup": false,
            "wait_interval": 0
          }
        }
      },
      "cell_type": "code",
      "source": [
        "def vanilla_cnn(input_shape: tuple, classes: int):\n",
        "    \"\"\"Implement vanilla ConvNet model.\"\"\"\n",
        "    model = models.Sequential()\n",
        "    model.add(\n",
        "        layers.Conv2D(32, (3, 3), activation='relu',\n",
        "                      padding='same',\n",
        "                      input_shape=input_shape))\n",
        "#     model.add(layers.MaxPooling2D((2, 2)))\n",
        "    model.add(layers.Conv2D(32, (3, 3), activation='relu'))\n",
        "    model.add(layers.MaxPooling2D((2, 2)))\n",
        "#     model.add(layers.Dropout(0.5))\n",
        "    \n",
        "    model.add(layers.Conv2D(64, (3, 3), padding='same', activation='relu'))\n",
        "    model.add(layers.Conv2D(64, (3, 3), activation='relu'))\n",
        "    model.add(layers.MaxPooling2D((2, 2)))\n",
        "#     model.add(layers.Dropout(0.5))\n",
        "    \n",
        "#     model.add(layers.Conv2D(128, (3, 3), padding='same', activation='relu'))\n",
        "#     model.add(layers.MaxPooling2D((2, 2)))\n",
        "    model.add(layers.Conv2D(128, (3, 3), activation='relu'))\n",
        "#     model.add(layers.MaxPooling2D((2, 2)))\n",
        "    model.add(layers.Flatten())\n",
        "    model.add(layers.Dense(512, activation='relu'))\n",
        "#     model.add(layers.Dropout(0.5))\n",
        "    model.add(layers.Dense(classes, activation='softmax'))\n",
        "\n",
        "    model.compile(\n",
        "        optimizer='adam',\n",
        "        loss='sparse_categorical_crossentropy',\n",
        "        metrics=['accuracy'])\n",
        "\n",
        "    return model"
      ],
      "execution_count": 0,
      "outputs": []
    },
    {
      "metadata": {
        "id": "ImI5UfO8vTl5",
        "colab_type": "code",
        "colab": {
          "autoexec": {
            "startup": false,
            "wait_interval": 0
          }
        }
      },
      "cell_type": "code",
      "source": [
        "model = vanilla_cnn(input_shape=train_data[0].shape, classes=train_label.max() + 1)"
      ],
      "execution_count": 0,
      "outputs": []
    },
    {
      "metadata": {
        "id": "_15-f7oE49Gl",
        "colab_type": "code",
        "colab": {
          "autoexec": {
            "startup": false,
            "wait_interval": 0
          },
          "output_extras": [
            {
              "item_id": 254
            },
            {
              "item_id": 520
            },
            {
              "item_id": 785
            },
            {
              "item_id": 1050
            },
            {
              "item_id": 1313
            },
            {
              "item_id": 1575
            },
            {
              "item_id": 1838
            },
            {
              "item_id": 2102
            },
            {
              "item_id": 2364
            },
            {
              "item_id": 2626
            },
            {
              "item_id": 2888
            },
            {
              "item_id": 3152
            },
            {
              "item_id": 3414
            },
            {
              "item_id": 3674
            },
            {
              "item_id": 3938
            },
            {
              "item_id": 4190
            }
          ],
          "base_uri": "https://localhost:8080/",
          "height": 2962
        },
        "outputId": "be278544-f242-4eac-956f-f7c77087e4c2",
        "executionInfo": {
          "status": "ok",
          "timestamp": 1520594530881,
          "user_tz": -480,
          "elapsed": 2608894,
          "user": {
            "displayName": "Cugtyt",
            "photoUrl": "//lh4.googleusercontent.com/-QxlWCi_owQ0/AAAAAAAAAAI/AAAAAAAAAC4/wNSYjuh_4x4/s50-c-k-no/photo.jpg",
            "userId": "100389950431846051928"
          }
        }
      },
      "cell_type": "code",
      "source": [
        "history = model.fit_generator(\n",
        "    datagen.flow(train_data, train_label, batch_size=20),\n",
        "    epochs=80, validation_data=(test_data, test_label))"
      ],
      "execution_count": 12,
      "outputs": [
        {
          "output_type": "stream",
          "text": [
            "Epoch 1/80\n",
            "52/52 [==============================] - 47s 896ms/step - loss: 4.1068 - acc: 0.0221 - val_loss: 3.9388 - val_acc: 0.0233\n",
            "Epoch 2/80\n",
            "52/52 [==============================] - 32s 623ms/step - loss: 3.8352 - acc: 0.0587 - val_loss: 3.7348 - val_acc: 0.0506\n",
            "Epoch 3/80\n",
            "52/52 [==============================] - 32s 622ms/step - loss: 3.6343 - acc: 0.0596 - val_loss: 3.6909 - val_acc: 0.0739\n",
            "Epoch 4/80\n",
            "52/52 [==============================] - 32s 623ms/step - loss: 3.5444 - acc: 0.0806 - val_loss: 3.5191 - val_acc: 0.0856\n",
            "Epoch 5/80\n",
            "52/52 [==============================] - 32s 621ms/step - loss: 3.4000 - acc: 0.1034 - val_loss: 3.4011 - val_acc: 0.1284\n",
            "Epoch 6/80\n",
            " 7/52 [===>..........................] - ETA: 26s - loss: 3.2593 - acc: 0.1214"
          ],
          "name": "stdout"
        },
        {
          "output_type": "stream",
          "text": [
            "52/52 [==============================] - 32s 623ms/step - loss: 3.2896 - acc: 0.1125 - val_loss: 3.3572 - val_acc: 0.1051\n",
            "Epoch 7/80\n",
            "52/52 [==============================] - 32s 621ms/step - loss: 3.2079 - acc: 0.1449 - val_loss: 3.2480 - val_acc: 0.1323\n",
            "Epoch 8/80\n",
            "52/52 [==============================] - 32s 624ms/step - loss: 3.1375 - acc: 0.1620 - val_loss: 3.1668 - val_acc: 0.1868\n",
            "Epoch 9/80\n",
            "52/52 [==============================] - 32s 625ms/step - loss: 3.1202 - acc: 0.1539 - val_loss: 3.2146 - val_acc: 0.1362\n",
            "Epoch 10/80\n",
            "52/52 [==============================] - 32s 622ms/step - loss: 3.0263 - acc: 0.1835 - val_loss: 3.2161 - val_acc: 0.1790\n",
            "Epoch 11/80\n",
            "11/52 [=====>........................] - ETA: 24s - loss: 2.9900 - acc: 0.1727"
          ],
          "name": "stdout"
        },
        {
          "output_type": "stream",
          "text": [
            "52/52 [==============================] - 32s 624ms/step - loss: 3.0150 - acc: 0.1951 - val_loss: 3.1012 - val_acc: 0.1712\n",
            "Epoch 12/80\n",
            "52/52 [==============================] - 32s 623ms/step - loss: 2.9145 - acc: 0.1931 - val_loss: 3.0352 - val_acc: 0.2412\n",
            "Epoch 13/80\n",
            "52/52 [==============================] - 32s 623ms/step - loss: 2.8050 - acc: 0.2351 - val_loss: 3.0658 - val_acc: 0.2062\n",
            "Epoch 14/80\n",
            "52/52 [==============================] - 32s 622ms/step - loss: 2.7762 - acc: 0.2489 - val_loss: 2.9567 - val_acc: 0.2451\n",
            "Epoch 15/80\n",
            "52/52 [==============================] - 32s 622ms/step - loss: 2.6422 - acc: 0.2840 - val_loss: 2.8746 - val_acc: 0.3035\n",
            "Epoch 16/80\n",
            "11/52 [=====>........................] - ETA: 24s - loss: 2.4582 - acc: 0.3000"
          ],
          "name": "stdout"
        },
        {
          "output_type": "stream",
          "text": [
            "52/52 [==============================] - 32s 623ms/step - loss: 2.5709 - acc: 0.2661 - val_loss: 2.8555 - val_acc: 0.2957\n",
            "Epoch 17/80\n",
            "52/52 [==============================] - 32s 624ms/step - loss: 2.5069 - acc: 0.2884 - val_loss: 2.7958 - val_acc: 0.3035\n",
            "Epoch 18/80\n",
            "52/52 [==============================] - 32s 624ms/step - loss: 2.3744 - acc: 0.3425 - val_loss: 2.6910 - val_acc: 0.3424\n",
            "Epoch 19/80\n",
            "52/52 [==============================] - 32s 623ms/step - loss: 2.2729 - acc: 0.3582 - val_loss: 2.7628 - val_acc: 0.3424\n",
            "Epoch 20/80\n",
            "52/52 [==============================] - 32s 623ms/step - loss: 2.2252 - acc: 0.3755 - val_loss: 2.6364 - val_acc: 0.3346\n",
            "Epoch 21/80\n",
            "11/52 [=====>........................] - ETA: 24s - loss: 1.9925 - acc: 0.4182"
          ],
          "name": "stdout"
        },
        {
          "output_type": "stream",
          "text": [
            "52/52 [==============================] - 32s 623ms/step - loss: 2.0370 - acc: 0.4235 - val_loss: 2.5078 - val_acc: 0.4475\n",
            "Epoch 22/80\n",
            "52/52 [==============================] - 32s 622ms/step - loss: 1.9691 - acc: 0.4584 - val_loss: 2.7187 - val_acc: 0.3969\n",
            "Epoch 23/80\n",
            "52/52 [==============================] - 32s 623ms/step - loss: 1.8968 - acc: 0.4342 - val_loss: 2.6444 - val_acc: 0.4086\n",
            "Epoch 24/80\n",
            "52/52 [==============================] - 33s 626ms/step - loss: 1.8496 - acc: 0.4677 - val_loss: 2.4457 - val_acc: 0.3969\n",
            "Epoch 25/80\n",
            "52/52 [==============================] - 32s 624ms/step - loss: 1.7765 - acc: 0.4986 - val_loss: 2.6198 - val_acc: 0.3930\n",
            "Epoch 26/80\n",
            "11/52 [=====>........................] - ETA: 24s - loss: 1.7221 - acc: 0.5455"
          ],
          "name": "stdout"
        },
        {
          "output_type": "stream",
          "text": [
            "52/52 [==============================] - 32s 625ms/step - loss: 1.7504 - acc: 0.4883 - val_loss: 2.5680 - val_acc: 0.4008\n",
            "Epoch 27/80\n",
            "52/52 [==============================] - 32s 622ms/step - loss: 1.6061 - acc: 0.5506 - val_loss: 2.4886 - val_acc: 0.4358\n",
            "Epoch 28/80\n",
            "52/52 [==============================] - 32s 623ms/step - loss: 1.5970 - acc: 0.5475 - val_loss: 2.3414 - val_acc: 0.5019\n",
            "Epoch 29/80\n",
            "52/52 [==============================] - 32s 624ms/step - loss: 1.4923 - acc: 0.5751 - val_loss: 2.3198 - val_acc: 0.4786\n",
            "Epoch 30/80\n",
            "52/52 [==============================] - 32s 623ms/step - loss: 1.4600 - acc: 0.5729 - val_loss: 2.4372 - val_acc: 0.4747\n",
            "Epoch 31/80\n",
            "11/52 [=====>........................] - ETA: 24s - loss: 1.2619 - acc: 0.5818"
          ],
          "name": "stdout"
        },
        {
          "output_type": "stream",
          "text": [
            "52/52 [==============================] - 32s 622ms/step - loss: 1.4481 - acc: 0.5735 - val_loss: 2.4036 - val_acc: 0.5058\n",
            "Epoch 32/80\n",
            "52/52 [==============================] - 32s 623ms/step - loss: 1.3651 - acc: 0.6051 - val_loss: 2.3696 - val_acc: 0.4942\n",
            "Epoch 33/80\n",
            "52/52 [==============================] - 32s 623ms/step - loss: 1.3610 - acc: 0.5983 - val_loss: 2.6643 - val_acc: 0.4397\n",
            "Epoch 34/80\n",
            "52/52 [==============================] - 32s 623ms/step - loss: 1.3686 - acc: 0.5825 - val_loss: 2.6543 - val_acc: 0.4553\n",
            "Epoch 35/80\n",
            "52/52 [==============================] - 32s 622ms/step - loss: 1.2960 - acc: 0.6064 - val_loss: 2.3244 - val_acc: 0.5175\n",
            "Epoch 36/80\n",
            "11/52 [=====>........................] - ETA: 24s - loss: 1.0697 - acc: 0.6727"
          ],
          "name": "stdout"
        },
        {
          "output_type": "stream",
          "text": [
            "52/52 [==============================] - 32s 625ms/step - loss: 1.1923 - acc: 0.6312 - val_loss: 2.3812 - val_acc: 0.5019\n",
            "Epoch 37/80\n",
            "52/52 [==============================] - 32s 620ms/step - loss: 1.2280 - acc: 0.6453 - val_loss: 2.1871 - val_acc: 0.4825\n",
            "Epoch 38/80\n",
            "52/52 [==============================] - 32s 621ms/step - loss: 1.0957 - acc: 0.6580 - val_loss: 2.5615 - val_acc: 0.4475\n",
            "Epoch 39/80\n",
            "52/52 [==============================] - 32s 621ms/step - loss: 1.1517 - acc: 0.6600 - val_loss: 2.2900 - val_acc: 0.5214\n",
            "Epoch 40/80\n",
            "52/52 [==============================] - 32s 620ms/step - loss: 1.1118 - acc: 0.7020 - val_loss: 2.1947 - val_acc: 0.5525\n",
            "Epoch 41/80\n",
            "11/52 [=====>........................] - ETA: 24s - loss: 0.9950 - acc: 0.6682"
          ],
          "name": "stdout"
        },
        {
          "output_type": "stream",
          "text": [
            "52/52 [==============================] - 32s 624ms/step - loss: 1.0760 - acc: 0.6753 - val_loss: 2.2637 - val_acc: 0.5253\n",
            "Epoch 42/80\n",
            "52/52 [==============================] - 32s 621ms/step - loss: 1.1026 - acc: 0.6839 - val_loss: 2.2329 - val_acc: 0.5486\n",
            "Epoch 43/80\n",
            "52/52 [==============================] - 32s 620ms/step - loss: 1.0018 - acc: 0.6814 - val_loss: 2.3891 - val_acc: 0.5447\n",
            "Epoch 44/80\n",
            "52/52 [==============================] - 32s 625ms/step - loss: 0.9172 - acc: 0.7357 - val_loss: 2.3268 - val_acc: 0.5292\n",
            "Epoch 45/80\n",
            "52/52 [==============================] - 33s 625ms/step - loss: 0.9331 - acc: 0.7185 - val_loss: 2.3552 - val_acc: 0.5564\n",
            "Epoch 46/80\n",
            "11/52 [=====>........................] - ETA: 24s - loss: 0.7605 - acc: 0.7636"
          ],
          "name": "stdout"
        },
        {
          "output_type": "stream",
          "text": [
            "52/52 [==============================] - 32s 625ms/step - loss: 0.8933 - acc: 0.7309 - val_loss: 2.2108 - val_acc: 0.5720\n",
            "Epoch 47/80\n",
            "52/52 [==============================] - 32s 623ms/step - loss: 0.9281 - acc: 0.7051 - val_loss: 2.2082 - val_acc: 0.5759\n",
            "Epoch 48/80\n",
            "52/52 [==============================] - 32s 621ms/step - loss: 0.8518 - acc: 0.7072 - val_loss: 2.2403 - val_acc: 0.5914\n",
            "Epoch 49/80\n",
            "52/52 [==============================] - 32s 623ms/step - loss: 0.8126 - acc: 0.7511 - val_loss: 2.2849 - val_acc: 0.5564\n",
            "Epoch 50/80\n",
            "52/52 [==============================] - 33s 625ms/step - loss: 0.8196 - acc: 0.7399 - val_loss: 2.2031 - val_acc: 0.5603\n",
            "Epoch 51/80\n",
            "11/52 [=====>........................] - ETA: 24s - loss: 0.6763 - acc: 0.7636"
          ],
          "name": "stdout"
        },
        {
          "output_type": "stream",
          "text": [
            "52/52 [==============================] - 32s 623ms/step - loss: 0.8145 - acc: 0.7399 - val_loss: 2.3180 - val_acc: 0.5447\n",
            "Epoch 52/80\n",
            "52/52 [==============================] - 32s 624ms/step - loss: 0.8140 - acc: 0.7378 - val_loss: 2.3887 - val_acc: 0.5642\n",
            "Epoch 53/80\n",
            "52/52 [==============================] - 32s 623ms/step - loss: 0.7759 - acc: 0.7657 - val_loss: 2.3488 - val_acc: 0.5642\n",
            "Epoch 54/80\n",
            "52/52 [==============================] - 32s 624ms/step - loss: 0.7572 - acc: 0.7693 - val_loss: 2.2458 - val_acc: 0.5720\n",
            "Epoch 55/80\n",
            "52/52 [==============================] - 32s 623ms/step - loss: 0.7686 - acc: 0.7551 - val_loss: 2.5043 - val_acc: 0.5097\n",
            "Epoch 56/80\n",
            "11/52 [=====>........................] - ETA: 24s - loss: 0.6588 - acc: 0.8091"
          ],
          "name": "stdout"
        },
        {
          "output_type": "stream",
          "text": [
            "52/52 [==============================] - 32s 625ms/step - loss: 0.7142 - acc: 0.7971 - val_loss: 2.4619 - val_acc: 0.5447\n",
            "Epoch 57/80\n",
            "52/52 [==============================] - 32s 622ms/step - loss: 0.7515 - acc: 0.7655 - val_loss: 2.2447 - val_acc: 0.5837\n",
            "Epoch 58/80\n",
            "52/52 [==============================] - 32s 622ms/step - loss: 0.6951 - acc: 0.7782 - val_loss: 2.3063 - val_acc: 0.5720\n",
            "Epoch 59/80\n",
            "52/52 [==============================] - 32s 624ms/step - loss: 0.7563 - acc: 0.7637 - val_loss: 2.3537 - val_acc: 0.5720\n",
            "Epoch 60/80\n",
            "52/52 [==============================] - 33s 626ms/step - loss: 0.6478 - acc: 0.8024 - val_loss: 2.2486 - val_acc: 0.5992\n",
            "Epoch 61/80\n",
            "11/52 [=====>........................] - ETA: 24s - loss: 0.4723 - acc: 0.8545"
          ],
          "name": "stdout"
        },
        {
          "output_type": "stream",
          "text": [
            "52/52 [==============================] - 33s 626ms/step - loss: 0.6052 - acc: 0.8041 - val_loss: 2.3752 - val_acc: 0.5914\n",
            "Epoch 62/80\n",
            "52/52 [==============================] - 32s 622ms/step - loss: 0.6724 - acc: 0.7984 - val_loss: 2.2671 - val_acc: 0.6070\n",
            "Epoch 63/80\n",
            "52/52 [==============================] - 32s 623ms/step - loss: 0.5777 - acc: 0.8242 - val_loss: 2.4078 - val_acc: 0.5798\n",
            "Epoch 64/80\n",
            "52/52 [==============================] - 32s 624ms/step - loss: 0.6021 - acc: 0.8197 - val_loss: 2.2909 - val_acc: 0.5875\n",
            "Epoch 65/80\n",
            "52/52 [==============================] - 32s 621ms/step - loss: 0.6244 - acc: 0.7955 - val_loss: 2.3754 - val_acc: 0.5914\n",
            "Epoch 66/80\n",
            "11/52 [=====>........................] - ETA: 24s - loss: 0.5260 - acc: 0.8091"
          ],
          "name": "stdout"
        },
        {
          "output_type": "stream",
          "text": [
            "52/52 [==============================] - 32s 622ms/step - loss: 0.6348 - acc: 0.8099 - val_loss: 2.2676 - val_acc: 0.6070\n",
            "Epoch 67/80\n",
            "52/52 [==============================] - 32s 619ms/step - loss: 0.5072 - acc: 0.8263 - val_loss: 2.2657 - val_acc: 0.6031\n",
            "Epoch 68/80\n",
            "52/52 [==============================] - 32s 625ms/step - loss: 0.5803 - acc: 0.8118 - val_loss: 2.2390 - val_acc: 0.5759\n",
            "Epoch 69/80\n",
            "52/52 [==============================] - 32s 624ms/step - loss: 0.5373 - acc: 0.8309 - val_loss: 2.3496 - val_acc: 0.5914\n",
            "Epoch 70/80\n",
            "52/52 [==============================] - 32s 621ms/step - loss: 0.5790 - acc: 0.8215 - val_loss: 2.3171 - val_acc: 0.6070\n",
            "Epoch 71/80\n",
            "11/52 [=====>........................] - ETA: 24s - loss: 0.5004 - acc: 0.8409"
          ],
          "name": "stdout"
        },
        {
          "output_type": "stream",
          "text": [
            "52/52 [==============================] - 32s 623ms/step - loss: 0.5138 - acc: 0.8463 - val_loss: 2.3110 - val_acc: 0.5875\n",
            "Epoch 72/80\n",
            "52/52 [==============================] - 32s 621ms/step - loss: 0.5340 - acc: 0.8307 - val_loss: 2.3811 - val_acc: 0.5992\n",
            "Epoch 73/80\n",
            "52/52 [==============================] - 34s 645ms/step - loss: 0.5106 - acc: 0.8271 - val_loss: 2.4344 - val_acc: 0.5875\n",
            "Epoch 74/80\n",
            "52/52 [==============================] - 32s 624ms/step - loss: 0.5518 - acc: 0.8253 - val_loss: 2.6040 - val_acc: 0.5603\n",
            "Epoch 75/80\n",
            "52/52 [==============================] - 32s 623ms/step - loss: 0.5767 - acc: 0.8221 - val_loss: 2.4855 - val_acc: 0.5875\n",
            "Epoch 76/80\n",
            "11/52 [=====>........................] - ETA: 24s - loss: 0.5025 - acc: 0.8500"
          ],
          "name": "stdout"
        },
        {
          "output_type": "stream",
          "text": [
            "52/52 [==============================] - 32s 622ms/step - loss: 0.5406 - acc: 0.8301 - val_loss: 2.4754 - val_acc: 0.5603\n",
            "Epoch 77/80\n",
            "52/52 [==============================] - 32s 624ms/step - loss: 0.5425 - acc: 0.8278 - val_loss: 2.5791 - val_acc: 0.5875\n",
            "Epoch 78/80\n",
            "52/52 [==============================] - 32s 622ms/step - loss: 0.5185 - acc: 0.8365 - val_loss: 2.3553 - val_acc: 0.6226\n",
            "Epoch 79/80\n",
            "52/52 [==============================] - 32s 624ms/step - loss: 0.5433 - acc: 0.8301 - val_loss: 2.5132 - val_acc: 0.5759\n",
            "Epoch 80/80\n",
            "52/52 [==============================] - 32s 623ms/step - loss: 0.5382 - acc: 0.8336 - val_loss: 2.5931 - val_acc: 0.5564\n"
          ],
          "name": "stdout"
        }
      ]
    },
    {
      "metadata": {
        "id": "5J_uscADgYOS",
        "colab_type": "code",
        "colab": {
          "autoexec": {
            "startup": false,
            "wait_interval": 0
          }
        }
      },
      "cell_type": "code",
      "source": [
        "model.save('./drive/asian_vanilla2.h5')"
      ],
      "execution_count": 0,
      "outputs": []
    },
    {
      "metadata": {
        "id": "yNlYk4-Uhm7h",
        "colab_type": "code",
        "colab": {
          "autoexec": {
            "startup": false,
            "wait_interval": 0
          }
        }
      },
      "cell_type": "code",
      "source": [
        "import matplotlib.pyplot as plt"
      ],
      "execution_count": 0,
      "outputs": []
    },
    {
      "metadata": {
        "id": "SIkTfB3c1-u1",
        "colab_type": "code",
        "colab": {
          "autoexec": {
            "startup": false,
            "wait_interval": 0
          },
          "output_extras": [
            {
              "item_id": 1
            },
            {
              "item_id": 2
            }
          ],
          "base_uri": "https://localhost:8080/",
          "height": 707
        },
        "outputId": "8912f864-62d6-461d-b8e4-e32d4045c6c8",
        "executionInfo": {
          "status": "ok",
          "timestamp": 1520595039972,
          "user_tz": -480,
          "elapsed": 2320,
          "user": {
            "displayName": "Cugtyt",
            "photoUrl": "//lh4.googleusercontent.com/-QxlWCi_owQ0/AAAAAAAAAAI/AAAAAAAAAC4/wNSYjuh_4x4/s50-c-k-no/photo.jpg",
            "userId": "100389950431846051928"
          }
        }
      },
      "cell_type": "code",
      "source": [
        "acc = history.history['acc']\n",
        "val_acc = history.history['val_acc']\n",
        "loss = history.history['loss']\n",
        "val_loss = history.history['val_loss']\n",
        "\n",
        "epochs = range(1, len(acc) + 1)\n",
        "\n",
        "plt.plot(epochs, acc, 'bo', label='Training acc')\n",
        "plt.plot(epochs, val_acc, 'b', label='Validation acc')\n",
        "plt.title('Training and validation accuracy')\n",
        "plt.legend()\n",
        "\n",
        "plt.figure()\n",
        "\n",
        "plt.plot(epochs, loss, 'bo', label='Training loss')\n",
        "plt.plot(epochs, val_loss, 'b', label='Validation loss')\n",
        "plt.title('Training and validation loss')\n",
        "plt.legend()\n",
        "\n",
        "plt.show()"
      ],
      "execution_count": 17,
      "outputs": [
        {
          "output_type": "display_data",
          "data": {
            "image/png": "[encoded data removed]",
            "text/plain": [
              "<matplotlib.figure.Figure at 0x7f7265e16ac8>"
            ]
          },
          "metadata": {
            "tags": []
          }
        },
        {
          "output_type": "display_data",
          "data": {
            "image/png": "[encoded data removed]",
            "text/plain": [
              "<matplotlib.figure.Figure at 0x7f7265e4de48>"
            ]
          },
          "metadata": {
            "tags": []
          }
        }
      ]
    }
  ]
}