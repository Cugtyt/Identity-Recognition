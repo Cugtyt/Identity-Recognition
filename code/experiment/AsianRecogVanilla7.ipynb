{
  "nbformat": 4,
  "nbformat_minor": 0,
  "metadata": {
    "colab": {
      "name": "AsianRecogVanilla.ipynb",
      "version": "0.3.2",
      "views": {},
      "default_view": {},
      "provenance": [],
      "collapsed_sections": []
    },
    "kernelspec": {
      "name": "python3",
      "display_name": "Python 3"
    },
    "accelerator": "GPU"
  },
  "cells": [
    {
      "metadata": {
        "id": "o97ndlwakCai",
        "colab_type": "code",
        "colab": {
          "autoexec": {
            "startup": false,
            "wait_interval": 0
          },
          "output_extras": [
            {
              "item_id": 4
            }
          ],
          "base_uri": "https://localhost:8080/",
          "height": 109
        },
        "outputId": "e304a7d2-2766-41a8-c235-7eda7b729775",
        "executionInfo": {
          "status": "ok",
          "timestamp": 1521167881498,
          "user_tz": -480,
          "elapsed": 17714,
          "user": {
            "displayName": "Cugtyt",
            "photoUrl": "//lh4.googleusercontent.com/-QxlWCi_owQ0/AAAAAAAAAAI/AAAAAAAAAC4/wNSYjuh_4x4/s50-c-k-no/photo.jpg",
            "userId": "100389950431846051928"
          }
        }
      },
      "cell_type": "code",
      "source": [
        "!apt-get install -y -qq software-properties-common python-software-properties module-init-tools\n",
        "!add-apt-repository -y ppa:alessandro-strada/ppa 2>&1 > /dev/null\n",
        "!apt-get update -qq 2>&1 > /dev/null\n",
        "!apt-get -y install -qq google-drive-ocamlfuse fuse\n",
        "from google.colab import auth\n",
        "auth.authenticate_user()\n",
        "from oauth2client.client import GoogleCredentials\n",
        "creds = GoogleCredentials.get_application_default()\n",
        "import getpass\n",
        "!google-drive-ocamlfuse -headless -id={creds.client_id} -secret={creds.client_secret} < /dev/null 2>&1 | grep URL\n",
        "vcode = getpass.getpass()\n",
        "!echo {vcode} | google-drive-ocamlfuse -headless -id={creds.client_id} -secret={creds.client_secret}"
      ],
      "execution_count": 1,
      "outputs": [
        {
          "output_type": "stream",
          "text": [
            "Please, open the following URL in a web browser: https://accounts.google.com/o/oauth2/auth?client_id=32555940559.apps.googleusercontent.com&redirect_uri=urn%3Aietf%3Awg%3Aoauth%3A2.0%3Aoob&scope=https%3A%2F%2Fwww.googleapis.com%2Fauth%2Fdrive&response_type=code&access_type=offline&approval_prompt=force\r\n",
            "··········\n",
            "Please, open the following URL in a web browser: https://accounts.google.com/o/oauth2/auth?client_id=32555940559.apps.googleusercontent.com&redirect_uri=urn%3Aietf%3Awg%3Aoauth%3A2.0%3Aoob&scope=https%3A%2F%2Fwww.googleapis.com%2Fauth%2Fdrive&response_type=code&access_type=offline&approval_prompt=force\n",
            "Please enter the verification code: Access token retrieved correctly.\n"
          ],
          "name": "stdout"
        }
      ]
    },
    {
      "metadata": {
        "id": "hxHo_BjNkRI4",
        "colab_type": "code",
        "colab": {
          "autoexec": {
            "startup": false,
            "wait_interval": 0
          }
        }
      },
      "cell_type": "code",
      "source": [
        "!mkdir -p drive\n",
        "!google-drive-ocamlfuse drive"
      ],
      "execution_count": 0,
      "outputs": []
    },
    {
      "metadata": {
        "id": "b-dqEoWDsEak",
        "colab_type": "code",
        "colab": {
          "autoexec": {
            "startup": false,
            "wait_interval": 0
          }
        }
      },
      "cell_type": "code",
      "source": [
        "!pip install -q keras"
      ],
      "execution_count": 0,
      "outputs": []
    },
    {
      "metadata": {
        "id": "TzCUcLFDoIvX",
        "colab_type": "code",
        "colab": {
          "autoexec": {
            "startup": false,
            "wait_interval": 0
          },
          "output_extras": [
            {
              "item_id": 1
            }
          ],
          "base_uri": "https://localhost:8080/",
          "height": 35
        },
        "outputId": "e477038c-6026-4560-9127-d994671943ae",
        "executionInfo": {
          "status": "ok",
          "timestamp": 1521167903609,
          "user_tz": -480,
          "elapsed": 7893,
          "user": {
            "displayName": "Cugtyt",
            "photoUrl": "//lh4.googleusercontent.com/-QxlWCi_owQ0/AAAAAAAAAAI/AAAAAAAAAC4/wNSYjuh_4x4/s50-c-k-no/photo.jpg",
            "userId": "100389950431846051928"
          }
        }
      },
      "cell_type": "code",
      "source": [
        "from pathlib import Path\n",
        "from sklearn.model_selection import train_test_split\n",
        "import shutil\n",
        "from PIL import Image\n",
        "import numpy as np\n",
        "from sklearn.preprocessing import LabelEncoder\n",
        "from keras.preprocessing.image import ImageDataGenerator\n",
        "from keras import layers\n",
        "from keras import models\n",
        "from keras import optimizers"
      ],
      "execution_count": 4,
      "outputs": [
        {
          "output_type": "stream",
          "text": [
            "Using TensorFlow backend.\n"
          ],
          "name": "stderr"
        }
      ]
    },
    {
      "metadata": {
        "id": "VRzXPLEWicaV",
        "colab_type": "code",
        "colab": {
          "autoexec": {
            "startup": false,
            "wait_interval": 0
          }
        }
      },
      "cell_type": "code",
      "source": [
        "def load_data(data_path: str, test_size=0.2, random_state=42, info=False):\n",
        "    \"\"\"Load data from file.\n",
        "    \n",
        "    Args:\n",
        "        data_path: str, file path to read data\n",
        "        test_size: float, the ratio of test / all\n",
        "        random_state: int, random seed to split data\n",
        "        info: bool, control info print\n",
        "    Returns:\n",
        "        train_data: np.array, train set\n",
        "        test_data: np.array, test set\n",
        "    \"\"\"\n",
        "    # imgs = [np.array(Image.open(d)) for d in Path(data_path).iterdir()]\n",
        "    imgs = []\n",
        "    for d in Path(data_path).iterdir():\n",
        "        if info:\n",
        "            print('Load image: ' + d.name)\n",
        "        imgs.append(np.array(Image.open(d)))\n",
        "    data = np.array(imgs)\n",
        "    train_data, test_data = train_test_split(\n",
        "        data, test_size=test_size, random_state=random_state)\n",
        "    return train_data, test_data"
      ],
      "execution_count": 0,
      "outputs": []
    },
    {
      "metadata": {
        "id": "stCMhyhLi9Qh",
        "colab_type": "code",
        "colab": {
          "autoexec": {
            "startup": false,
            "wait_interval": 0
          }
        }
      },
      "cell_type": "code",
      "source": [
        "def load_label(label_path: str, test_size=0.2, random_state=42):\n",
        "    \"\"\"Load label from file.\n",
        "    \n",
        "    Args:\n",
        "        label_path: str, file path to read label\n",
        "        test_size: float, the ratio of test / all, \n",
        "            this arg should match up test_size in load_data\n",
        "        random_state: int, random seed to split data\n",
        "            this arg should match up random_state in load_data\n",
        "    \"\"\"\n",
        "    with open(label_path, 'r') as f:\n",
        "        labels = f.readline()\n",
        "    train_label, test_label = train_test_split(\n",
        "        labels.split('\\t'), test_size=test_size, random_state=random_state)\n",
        "    le = LabelEncoder()\n",
        "    le.fit(train_label)\n",
        "    return le.transform(train_label), le.transform(test_label)"
      ],
      "execution_count": 0,
      "outputs": []
    },
    {
      "metadata": {
        "id": "_ERrQBLYouZg",
        "colab_type": "code",
        "colab": {
          "autoexec": {
            "startup": false,
            "wait_interval": 0
          }
        }
      },
      "cell_type": "code",
      "source": [
        "train_label, test_label = load_label('./drive/data/FacePlace/AsianSample.txt')"
      ],
      "execution_count": 0,
      "outputs": []
    },
    {
      "metadata": {
        "id": "gkRSqhOQpxGL",
        "colab_type": "code",
        "colab": {
          "autoexec": {
            "startup": false,
            "wait_interval": 0
          },
          "output_extras": [
            {
              "item_id": 2
            }
          ],
          "base_uri": "https://localhost:8080/",
          "height": 4805
        },
        "outputId": "ee85384e-0d8e-49fb-8222-4224582c239b",
        "executionInfo": {
          "status": "ok",
          "timestamp": 1521097765783,
          "user_tz": -480,
          "elapsed": 1742,
          "user": {
            "displayName": "Cugtyt",
            "photoUrl": "//lh4.googleusercontent.com/-QxlWCi_owQ0/AAAAAAAAAAI/AAAAAAAAAC4/wNSYjuh_4x4/s50-c-k-no/photo.jpg",
            "userId": "100389950431846051928"
          }
        }
      },
      "cell_type": "code",
      "source": [
        "train_data, test_data = load_data('./drive/data/FacePlace/AsianSample/', info=True)"
      ],
      "execution_count": 35,
      "outputs": [
        {
          "output_type": "stream",
          "text": [
            "Load image: AM0302_1100_60L.jpg\n",
            "Load image: AM0302_1100_30L.jpg\n",
            "Load image: AM0302_1100_45L.jpg\n",
            "Load image: AM0302_1100_45R.jpg\n",
            "Load image: AM0302_1100_DI.jpg\n",
            "Load image: AM0302_1100_HA.jpg\n",
            "Load image: AM0302_1100_SU.jpg\n",
            "Load image: AM0302_1100_NE.jpg\n",
            "Load image: AM0302_2201_30L.jpg\n",
            "Load image: AM0302_1100_SA.jpg\n",
            "Load image: AM0302_2201_00F.jpg\n",
            "Load image: AM0302_2201_45L.jpg\n",
            "Load image: AM0302_2201_45R.jpg\n",
            "Load image: AM0302_2201_30R.jpg\n",
            "Load image: AM0302_2201_60L.jpg\n",
            "Load image: AM0302_2201_90L.jpg\n",
            "Load image: AM0303_1100_30L.jpg\n",
            "Load image: AM0303_1100_00F.jpg\n",
            "Load image: AM0302_2201_90R.jpg\n",
            "Load image: AM0302_2201_NE.jpg\n",
            "Load image: AM0303_1100_45R.jpg\n",
            "Load image: AM0302_2201_60R.jpg\n",
            "Load image: AM0303_1100_45L.jpg\n",
            "Load image: AM0303_1100_30R.jpg\n",
            "Load image: AM0303_1100_60L.jpg\n",
            "Load image: AM0303_1100_HA.jpg\n",
            "Load image: AM0303_2201_00F.jpg\n",
            "Load image: AM0303_1100_NE.jpg\n",
            "Load image: AM0303_1100_60R.jpg\n",
            "Load image: AM0303_1100_DI.jpg\n",
            "Load image: AM0303_1100_SA.jpg\n",
            "Load image: AM0303_1100_90L.jpg\n",
            "Load image: AM0303_1100_CO.jpg\n",
            "Load image: AM0303_1100_90R.jpg\n",
            "Load image: AM0303_2201_30L.jpg\n",
            "Load image: AM0303_2201_90L.jpg\n",
            "Load image: AM0303_2201_NE.jpg\n",
            "Load image: AM0303_2201_30R.jpg\n",
            "Load image: AM0303_2201_90R.jpg\n",
            "Load image: AM0303_2201_60R.jpg\n",
            "Load image: AM0303_2201_60L.jpg\n",
            "Load image: AM0303_3310_00F.jpg\n",
            "Load image: AM0303_2201_45L.jpg\n",
            "Load image: AM0303_2201_45R.jpg\n",
            "Load image: AM0303_3310_30L.jpg\n",
            "Load image: AM0303_3310_60L.jpg\n",
            "Load image: AM0303_3310_30R.jpg\n",
            "Load image: AM0303_3310_45R.jpg\n",
            "Load image: AM0303_3310_45L.jpg\n",
            "Load image: AM0303_3310_90L.jpg\n",
            "Load image: AM0303_3310_60R.jpg\n",
            "Load image: AM0303_3310_NE.jpg\n",
            "Load image: AM0304_1100_00F.jpg\n",
            "Load image: AM0303_3310_90R.jpg\n",
            "Load image: AM0304_1100_30L.jpg\n",
            "Load image: AM0304_1100_60L.jpg\n",
            "Load image: AM0304_1100_45L.jpg\n",
            "Load image: AM0304_1100_HA.jpg\n",
            "Load image: AM0304_1100_90L.jpg\n",
            "Load image: AM0304_1100_90R.jpg\n",
            "Load image: AM0304_1100_45R.jpg\n",
            "Load image: AM0304_1100_30R.jpg\n",
            "Load image: AM0304_1100_60R.jpg\n",
            "Load image: AM0304_1100_DI.jpg\n",
            "Load image: AM0304_1100_NE.jpg\n",
            "Load image: AM0304_2201_90L.jpg\n",
            "Load image: AM0304_2201_00F.jpg\n",
            "Load image: AM0304_2201_30L.jpg\n",
            "Load image: AM0304_1100_SA.jpg\n",
            "Load image: AM0304_2201_45L.jpg\n",
            "Load image: AM0304_2201_60R.jpg\n",
            "Load image: AM0304_2201_60L.jpg\n",
            "Load image: AM0304_2201_45R.jpg\n",
            "Load image: AM0304_2201_30R.jpg\n",
            "Load image: AM0304_2201_90R.jpg\n",
            "Load image: AM0304_2201_NE.jpg\n",
            "Load image: AM0305_1101_00F.jpg\n",
            "Load image: AM0305_1101_30R.jpg\n",
            "Load image: AM0305_1101_45L.jpg\n",
            "Load image: AM0304_2201_HA.jpg\n",
            "Load image: AM0305_1101_30L.jpg\n",
            "Load image: AM0305_1101_60L.jpg\n",
            "Load image: AM0305_1101_45R.jpg\n",
            "Load image: AM0305_1101_60R.jpg\n",
            "Load image: AM0305_1101_90L.jpg\n",
            "Load image: AM0305_2202_45L.jpg\n",
            "Load image: AM0305_1101_SA.jpg\n",
            "Load image: AM0305_1101_HA.jpg\n",
            "Load image: AM0305_1101_NE.jpg\n",
            "Load image: AM0305_2202_30L.jpg\n",
            "Load image: AM0305_1101_90R.jpg\n",
            "Load image: AM0305_2202_30R.jpg\n",
            "Load image: AM0305_1101_AN.jpg\n",
            "Load image: AM0305_2202_00F.jpg\n",
            "Load image: AM0305_2202_45R.jpg\n",
            "Load image: AM0305_2202_90R.jpg\n",
            "Load image: AM0305_2202_60L.jpg\n",
            "Load image: AM0305_2202_60R.jpg\n",
            "Load image: AM0305_2202_NE.jpg\n",
            "Load image: AM0305_2202_90L.jpg\n",
            "Load image: AF0303_1110_SA.jpg\n",
            "Load image: AF0303_2211_45R.jpg\n",
            "Load image: AF0303_2211_45L.jpg\n",
            "Load image: AF0303_2211_60L.jpg\n",
            "Load image: AF0303_2211_60R.jpg\n",
            "Load image: AF0304_1100_30R.jpg\n",
            "Load image: AF0303_2211_90R.jpg\n",
            "Load image: AF0303_2211_NE.jpg\n",
            "Load image: AF0304_1100_30L.jpg\n",
            "Load image: AF0303_2211_90L.jpg\n",
            "Load image: AF0304_1100_00F.jpg\n",
            "Load image: AF0304_1100_45L.jpg\n",
            "Load image: AF0304_1100_60L.jpg\n",
            "Load image: AF0304_1100_45R.jpg\n",
            "Load image: AF0304_1100_60R.jpg\n",
            "Load image: AF0304_1101_HA.jpg\n",
            "Load image: AF0304_1101_DI.jpg\n",
            "Load image: AF0304_1100_90R.jpg\n",
            "Load image: AF0304_1101_NE.jpg\n",
            "Load image: AF0304_1101_CO.jpg\n",
            "Load image: AF0304_1100_90L.jpg\n",
            "Load image: AF0304_1101_SU.jpg\n",
            "Load image: AF0304_1101_SA.jpg\n",
            "Load image: AF0304_2201_00F.jpg\n",
            "Load image: AF0304_2201_30L.jpg\n",
            "Load image: AF0304_2201_45L.jpg\n",
            "Load image: AF0304_2201_30R.jpg\n",
            "Load image: AF0304_2201_60L.jpg\n",
            "Load image: AF0304_2201_45R.jpg\n",
            "Load image: AF0304_2201_60R.jpg\n",
            "Load image: AF0304_2201_NE.jpg\n",
            "Load image: AF0305_1100_00F.jpg\n",
            "Load image: AF0304_2201_90L.jpg\n",
            "Load image: AF0304_2201_90R.jpg\n",
            "Load image: AF0305_1100_30L.jpg\n",
            "Load image: AF0305_1100_60L.jpg\n",
            "Load image: AF0305_1100_30R.jpg\n",
            "Load image: AF0305_1100_45L.jpg\n",
            "Load image: AF0305_1100_60R.jpg\n",
            "Load image: AF0305_1100_45R.jpg\n",
            "Load image: AF0305_1100_90R.jpg\n",
            "Load image: AF0305_1100_90L.jpg\n",
            "Load image: AF0305_1100_DI.jpg\n",
            "Load image: AF0305_1100_CO.jpg\n",
            "Load image: AF0305_1100_FE.jpg\n",
            "Load image: AF0305_2201_30L.jpg\n",
            "Load image: AF0305_2201_00F.jpg\n",
            "Load image: AF0305_1100_HA.jpg\n",
            "Load image: AF0305_1100_SU.jpg\n",
            "Load image: AF0305_1100_NE.jpg\n",
            "Load image: AF0305_1100_SA.jpg\n",
            "Load image: AF0305_2201_45L.jpg\n",
            "Load image: AF0305_2201_45R.jpg\n",
            "Load image: AF0305_2201_30R.jpg\n",
            "Load image: AF0305_2201_60L.jpg\n",
            "Load image: AF0305_2201_60R.jpg\n",
            "Load image: AF0305_3112_30L.jpg\n",
            "Load image: AF0305_2201_90L.jpg\n",
            "Load image: AF0305_3112_00F.jpg\n",
            "Load image: AF0305_2201_NE.jpg\n",
            "Load image: AF0305_2201_90R.jpg\n",
            "Load image: AF0305_3112_45L.jpg\n",
            "Load image: AF0305_3112_45R.jpg\n",
            "Load image: AF0305_3112_30R.jpg\n",
            "Load image: AF0305_3112_60L.jpg\n",
            "Load image: AF0305_3112_60R.jpg\n",
            "Load image: AM0301_1101_45L.jpg\n",
            "Load image: AM0301_1101_30L.jpg\n",
            "Load image: AF0305_3112_90R.jpg\n",
            "Load image: AF0305_3112_NE.jpg\n",
            "Load image: AF0305_3112_90L.jpg\n",
            "Load image: AM0301_1101_30R.jpg\n",
            "Load image: AM0301_1101_45R.jpg\n",
            "Load image: AM0301_1101_00F.jpg\n",
            "Load image: AM0301_1101_60L.jpg\n",
            "Load image: AM0301_1101_90R.jpg\n",
            "Load image: AM0301_1101_DI.jpg\n",
            "Load image: AM0301_1101_90L.jpg\n",
            "Load image: AM0301_1101_HA.jpg\n",
            "Load image: AM0301_1101_CO.jpg\n",
            "Load image: AM0301_1101_60R.jpg\n",
            "Load image: AM0301_1101_SA.jpg\n",
            "Load image: AM0301_1101_SU.jpg\n",
            "Load image: AM0301_1101_NE.jpg\n",
            "Load image: AM0301_2201_00F.jpg\n",
            "Load image: AM0301_2201_NE.jpg\n",
            "Load image: AM0301_2201_90L.jpg\n",
            "Load image: AM0301_2201_45L.jpg\n",
            "Load image: AM0301_2201_30L.jpg\n",
            "Load image: AM0301_2201_60R.jpg\n",
            "Load image: AM0301_2201_45R.jpg\n",
            "Load image: AM0301_2201_60L.jpg\n",
            "Load image: AM0301_2201_30R.jpg\n",
            "Load image: AM0301_2201_90R.jpg\n",
            "Load image: AM0302_1100_00F.jpg\n",
            "Load image: AM0302_1100_60R.jpg\n",
            "Load image: AM0302_1100_90L.jpg\n",
            "Load image: AM0302_1100_30R.jpg\n",
            "Load image: AM0302_1100_90R.jpg\n",
            "Load image: AM0302_1100_CO.jpg\n",
            "Load image: AF0301_1100_00F.jpg\n",
            "Load image: AF0301_1100_45L.jpg\n",
            "Load image: AF0301_1100_90R.jpg\n",
            "Load image: AF0301_1100_60L.jpg\n",
            "Load image: AF0301_1100_90L.jpg\n",
            "Load image: AF0301_1100_30R.jpg\n",
            "Load image: AF0301_1100_30L.jpg\n",
            "Load image: AF0301_1100_CO.jpg\n",
            "Load image: AF0301_1100_45R.jpg\n",
            "Load image: AF0301_1100_60R.jpg\n",
            "Load image: AF0301_1100_DI.jpg\n",
            "Load image: AF0301_1100_HA.jpg\n",
            "Load image: AF0301_2201_45R.jpg\n",
            "Load image: AF0301_1100_FE.jpg\n",
            "Load image: AF0301_1100_NE.jpg\n",
            "Load image: AF0301_2201_00F.jpg\n",
            "Load image: AF0301_2201_30R.jpg\n",
            "Load image: AF0301_2201_30L.jpg\n",
            "Load image: AF0301_1100_SA.jpg\n",
            "Load image: AF0301_2201_45L.jpg\n",
            "Load image: AF0301_2201_60L.jpg\n",
            "Load image: AF0301_2201_90R.jpg\n",
            "Load image: AF0301_2201_90L.jpg\n",
            "Load image: AF0302_1110_00F.jpg\n",
            "Load image: AF0301_2201_NE.jpg\n",
            "Load image: AF0301_2201_60R.jpg\n",
            "Load image: AF0302_1110_30L.jpg\n",
            "Load image: AF0302_1110_30R.jpg\n",
            "Load image: AF0302_1110_45R.jpg\n",
            "Load image: AF0302_1110_45L.jpg\n",
            "Load image: AF0302_1110_60L.jpg\n",
            "Load image: AF0302_1110_HA.jpg\n",
            "Load image: AF0302_1110_90R.jpg\n",
            "Load image: AF0302_1110_90L.jpg\n",
            "Load image: AF0302_1110_60R.jpg\n",
            "Load image: AF0302_1110_DI.jpg\n",
            "Load image: AF0302_1110_FE.jpg\n",
            "Load image: AF0302_2211_00F.jpg\n",
            "Load image: AF0302_1110_SA.jpg\n",
            "Load image: AF0302_1110_NE.jpg\n",
            "Load image: AF0302_2211_30L.jpg\n",
            "Load image: AF0302_2211_45L.jpg\n",
            "Load image: AF0302_2211_90L.jpg\n",
            "Load image: AF0302_2211_60L.jpg\n",
            "Load image: AF0302_2211_30R.jpg\n",
            "Load image: AF0302_2211_60R.jpg\n",
            "Load image: AF0302_2211_45R.jpg\n",
            "Load image: AF0302_2211_NE.jpg\n",
            "Load image: AF0302_2211_90R.jpg\n",
            "Load image: AF0303_1110_00F.jpg\n",
            "Load image: AF0303_1110_30L.jpg\n",
            "Load image: AF0303_1110_60R.jpg\n",
            "Load image: AF0303_1110_60L.jpg\n",
            "Load image: AF0303_1110_CO.jpg\n",
            "Load image: AF0303_1110_45L.jpg\n",
            "Load image: AF0303_1110_90L.jpg\n",
            "Load image: AF0303_1110_DI.jpg\n",
            "Load image: AF0303_1110_45R.jpg\n",
            "Load image: AF0303_1110_30R.jpg\n",
            "Load image: AF0303_1110_90R.jpg\n",
            "Load image: AF0303_1110_HA.jpg\n",
            "Load image: AF0303_2211_30R.jpg\n",
            "Load image: AF0303_1110_SU.jpg\n",
            "Load image: AF0303_2211_00F.jpg\n",
            "Load image: AF0303_2211_30L.jpg\n",
            "Load image: AF0303_1110_NE.jpg\n"
          ],
          "name": "stdout"
        }
      ]
    },
    {
      "metadata": {
        "id": "lsYgU9sZ6UYg",
        "colab_type": "code",
        "colab": {
          "autoexec": {
            "startup": false,
            "wait_interval": 0
          }
        }
      },
      "cell_type": "code",
      "source": [
        "train_data = train_data.astype('float32') / 255\n",
        "test_data = test_data.astype('float32') / 255\n",
        "\n",
        "train_data, val_data = train_test_split(train_data, test_size=0.1, random_state=42)\n",
        "train_label, val_label = train_test_split(train_label, test_size=0.1, random_state=42)"
      ],
      "execution_count": 0,
      "outputs": []
    },
    {
      "metadata": {
        "id": "NaCADRie4bnD",
        "colab_type": "code",
        "colab": {
          "autoexec": {
            "startup": false,
            "wait_interval": 0
          }
        }
      },
      "cell_type": "code",
      "source": [
        "datagen = ImageDataGenerator(\n",
        "        featurewise_center=True,  # set input mean to 0 over the dataset\n",
        "        samplewise_center=False,  # set each sample mean to 0\n",
        "        featurewise_std_normalization=True,  # divide inputs by std of the dataset\n",
        "        samplewise_std_normalization=False,  # divide each input by its std\n",
        "        zca_whitening=False,  # apply ZCA whitening\n",
        "        rotation_range=5,  # randomly rotate images in the range (degrees, 0 to 180)\n",
        "        width_shift_range=0.1,  # randomly shift images horizontally (fraction of total width)\n",
        "        height_shift_range=0.1,  # randomly shift images vertically (fraction of total height)\n",
        "        horizontal_flip=True,  # randomly flip images\n",
        "        vertical_flip=False) # randomly flip images\n",
        "datagen.fit(train_data)"
      ],
      "execution_count": 0,
      "outputs": []
    },
    {
      "metadata": {
        "id": "AEJYPs-4vIy0",
        "colab_type": "code",
        "colab": {
          "autoexec": {
            "startup": false,
            "wait_interval": 0
          }
        }
      },
      "cell_type": "code",
      "source": [
        "def vanilia_cnn(input_shape: tuple, classes: int):\n",
        "    \"\"\"Implement vanilla ConvNet model.\"\"\"\n",
        "    model = models.Sequential()\n",
        "    model.add(\n",
        "        layers.Conv2D(32, (3, 3), activation='relu',\n",
        "                      padding='same',\n",
        "                      input_shape=input_shape))\n",
        "    model.add(layers.Conv2D(32, (3, 3), padding='same', activation='relu'))\n",
        "    model.add(layers.Conv2D(32, (3, 3), activation='relu'))\n",
        "    model.add(layers.MaxPooling2D((2, 2)))\n",
        "    model.add(layers.Dropout(0.5))\n",
        "    \n",
        "    model.add(layers.Conv2D(64, (3, 3), padding='same', activation='relu'))\n",
        "    model.add(layers.Conv2D(64, (3, 3), padding='same', activation='relu'))\n",
        "    model.add(layers.MaxPooling2D((2, 2)))\n",
        "    model.add(layers.Dropout(0.5))\n",
        "    \n",
        "    model.add(layers.Conv2D(128, (3, 3), padding='same', activation='relu'))\n",
        "    model.add(layers.Conv2D(128, (3, 3), activation='relu'))\n",
        "    model.add(layers.Conv2D(128, (3, 3), activation='relu'))\n",
        "    model.add(layers.MaxPooling2D((2, 2)))\n",
        "    model.add(layers.Flatten())\n",
        "    model.add(layers.Dense(512, activation='relu'))\n",
        "    model.add(layers.Dense(512, activation='relu'))\n",
        "    model.add(layers.Dropout(0.5))\n",
        "    model.add(layers.Dense(classes, activation='softmax'))\n",
        "\n",
        "    model.compile(\n",
        "        optimizer='adam',\n",
        "        loss='sparse_categorical_crossentropy',\n",
        "        metrics=['accuracy'])\n",
        "\n",
        "    return model"
      ],
      "execution_count": 0,
      "outputs": []
    },
    {
      "metadata": {
        "id": "_15-f7oE49Gl",
        "colab_type": "code",
        "colab": {
          "autoexec": {
            "startup": false,
            "wait_interval": 0
          },
          "output_extras": [
            {
              "item_id": 102
            },
            {
              "item_id": 200
            },
            {
              "item_id": 298
            },
            {
              "item_id": 396
            },
            {
              "item_id": 494
            },
            {
              "item_id": 592
            },
            {
              "item_id": 690
            },
            {
              "item_id": 786
            },
            {
              "item_id": 883
            },
            {
              "item_id": 981
            },
            {
              "item_id": 1079
            },
            {
              "item_id": 1177
            },
            {
              "item_id": 1275
            },
            {
              "item_id": 1373
            },
            {
              "item_id": 1397
            }
          ],
          "base_uri": "https://localhost:8080/",
          "height": 7237
        },
        "outputId": "e4c97e9d-143e-4d68-9d47-8fe2ce204ae7",
        "executionInfo": {
          "status": "ok",
          "timestamp": 1521098642096,
          "user_tz": -480,
          "elapsed": 866014,
          "user": {
            "displayName": "Cugtyt",
            "photoUrl": "//lh4.googleusercontent.com/-QxlWCi_owQ0/AAAAAAAAAAI/AAAAAAAAAC4/wNSYjuh_4x4/s50-c-k-no/photo.jpg",
            "userId": "100389950431846051928"
          }
        }
      },
      "cell_type": "code",
      "source": [
        "model = vanilia_cnn(input_shape=train_data[0].shape, classes=train_label.max() + 1)\n",
        "history = model.fit_generator(\n",
        "    datagen.flow(train_data, train_label, batch_size=32),\n",
        "    epochs=200, validation_data=(val_data, val_label))\n",
        "\n",
        "# epochs = 100\n",
        "\n",
        "# for e in range(epochs):\n",
        "#     print('Epoch', e)\n",
        "#     batches = 0\n",
        "#     for x_batch, y_batch in datagen.flow(train_data, train_label, batch_size=10):\n",
        "#         model.fit(x_batch, y_batch)\n",
        "#         batches += 1\n",
        "#         if batches >= len(train_data):\n",
        "#             # we need to break the loop by hand because\n",
        "#             # the generator loops indefinitely\n",
        "#             break\n",
        "#         model.evaluate(val_data, val_label)"
      ],
      "execution_count": 41,
      "outputs": [
        {
          "output_type": "stream",
          "text": [
            "Epoch 1/200\n",
            "6/6 [==============================] - 10s 2s/step - loss: 2.4458 - acc: 0.1006 - val_loss: 2.2987 - val_acc: 0.1818\n",
            "Epoch 2/200\n",
            "6/6 [==============================] - 4s 712ms/step - loss: 2.3048 - acc: 0.0957 - val_loss: 2.2943 - val_acc: 0.1364\n",
            "Epoch 3/200\n",
            "6/6 [==============================] - 4s 714ms/step - loss: 2.2919 - acc: 0.1313 - val_loss: 2.2767 - val_acc: 0.1818\n",
            "Epoch 4/200\n",
            "6/6 [==============================] - 4s 714ms/step - loss: 2.2612 - acc: 0.1165 - val_loss: 2.2990 - val_acc: 0.1364\n",
            "Epoch 5/200\n",
            "6/6 [==============================] - 4s 713ms/step - loss: 2.2664 - acc: 0.1374 - val_loss: 2.2670 - val_acc: 0.2273\n",
            "Epoch 6/200\n",
            "6/6 [==============================] - 4s 712ms/step - loss: 2.1837 - acc: 0.1264 - val_loss: 2.2385 - val_acc: 0.1364\n",
            "Epoch 7/200\n",
            "6/6 [==============================] - 4s 713ms/step - loss: 2.1194 - acc: 0.2528 - val_loss: 2.3847 - val_acc: 0.1818\n",
            "Epoch 8/200\n",
            "6/6 [==============================] - 4s 707ms/step - loss: 2.1662 - acc: 0.2064 - val_loss: 2.5198 - val_acc: 0.2727\n",
            "Epoch 9/200\n",
            "6/6 [==============================] - 4s 712ms/step - loss: 2.1319 - acc: 0.2316 - val_loss: 2.8444 - val_acc: 0.1364\n",
            "Epoch 10/200\n",
            "6/6 [==============================] - 4s 710ms/step - loss: 2.0450 - acc: 0.2838 - val_loss: 2.3538 - val_acc: 0.0909\n",
            "Epoch 11/200\n",
            "6/6 [==============================] - 4s 718ms/step - loss: 2.0354 - acc: 0.2736 - val_loss: 2.6563 - val_acc: 0.1364\n",
            "Epoch 12/200\n",
            "6/6 [==============================] - 4s 711ms/step - loss: 1.9980 - acc: 0.2788 - val_loss: 2.6468 - val_acc: 0.2273\n",
            "Epoch 13/200\n",
            "6/6 [==============================] - 4s 711ms/step - loss: 2.0055 - acc: 0.2525 - val_loss: 2.3240 - val_acc: 0.0909\n",
            "Epoch 14/200\n",
            "6/6 [==============================] - 4s 714ms/step - loss: 1.9145 - acc: 0.3270 - val_loss: 2.3373 - val_acc: 0.0909\n",
            "Epoch 15/200\n",
            "3/6 [==============>...............] - ETA: 2s - loss: 1.8686 - acc: 0.3750"
          ],
          "name": "stdout"
        },
        {
          "output_type": "stream",
          "text": [
            "6/6 [==============================] - 4s 713ms/step - loss: 1.8729 - acc: 0.3687 - val_loss: 2.5877 - val_acc: 0.0909\n",
            "Epoch 16/200\n",
            "6/6 [==============================] - 4s 710ms/step - loss: 1.8679 - acc: 0.3623 - val_loss: 2.3662 - val_acc: 0.0909\n",
            "Epoch 17/200\n",
            "6/6 [==============================] - 4s 715ms/step - loss: 1.7099 - acc: 0.4061 - val_loss: 2.4595 - val_acc: 0.0909\n",
            "Epoch 18/200\n",
            "6/6 [==============================] - 4s 715ms/step - loss: 1.7250 - acc: 0.4012 - val_loss: 2.7158 - val_acc: 0.0909\n",
            "Epoch 19/200\n",
            "6/6 [==============================] - 4s 715ms/step - loss: 1.7319 - acc: 0.4313 - val_loss: 2.3274 - val_acc: 0.0909\n",
            "Epoch 20/200\n",
            "6/6 [==============================] - 4s 705ms/step - loss: 1.6856 - acc: 0.4368 - val_loss: 2.4913 - val_acc: 0.0909\n",
            "Epoch 21/200\n",
            "6/6 [==============================] - 4s 710ms/step - loss: 1.6549 - acc: 0.4359 - val_loss: 2.2480 - val_acc: 0.1818\n",
            "Epoch 22/200\n",
            "6/6 [==============================] - 4s 712ms/step - loss: 1.5882 - acc: 0.4136 - val_loss: 2.2730 - val_acc: 0.2273\n",
            "Epoch 23/200\n",
            "6/6 [==============================] - 4s 716ms/step - loss: 1.4119 - acc: 0.5168 - val_loss: 3.2322 - val_acc: 0.2273\n",
            "Epoch 24/200\n",
            "6/6 [==============================] - 4s 715ms/step - loss: 1.5366 - acc: 0.4371 - val_loss: 3.1576 - val_acc: 0.0909\n",
            "Epoch 25/200\n",
            "6/6 [==============================] - 4s 714ms/step - loss: 1.4590 - acc: 0.4635 - val_loss: 3.0445 - val_acc: 0.2273\n",
            "Epoch 26/200\n",
            "6/6 [==============================] - 4s 714ms/step - loss: 1.3633 - acc: 0.5136 - val_loss: 4.7683 - val_acc: 0.0909\n",
            "Epoch 27/200\n",
            "6/6 [==============================] - 4s 714ms/step - loss: 1.2245 - acc: 0.5534 - val_loss: 5.6017 - val_acc: 0.1818\n",
            "Epoch 28/200\n",
            "6/6 [==============================] - 4s 715ms/step - loss: 1.2339 - acc: 0.5736 - val_loss: 4.7065 - val_acc: 0.2273\n",
            "Epoch 29/200\n",
            "3/6 [==============>...............] - ETA: 2s - loss: 1.0321 - acc: 0.5729"
          ],
          "name": "stdout"
        },
        {
          "output_type": "stream",
          "text": [
            "6/6 [==============================] - 4s 709ms/step - loss: 1.1398 - acc: 0.5429 - val_loss: 5.6351 - val_acc: 0.3182\n",
            "Epoch 30/200\n",
            "6/6 [==============================] - 4s 715ms/step - loss: 0.9901 - acc: 0.6536 - val_loss: 6.4438 - val_acc: 0.1818\n",
            "Epoch 31/200\n",
            "6/6 [==============================] - 4s 713ms/step - loss: 1.1943 - acc: 0.5829 - val_loss: 5.7957 - val_acc: 0.2273\n",
            "Epoch 32/200\n",
            "6/6 [==============================] - 4s 713ms/step - loss: 0.9779 - acc: 0.5844 - val_loss: 6.5643 - val_acc: 0.1364\n",
            "Epoch 33/200\n",
            "6/6 [==============================] - 4s 714ms/step - loss: 0.8536 - acc: 0.6838 - val_loss: 7.2991 - val_acc: 0.1364\n",
            "Epoch 34/200\n",
            "6/6 [==============================] - 4s 714ms/step - loss: 0.7777 - acc: 0.7098 - val_loss: 7.5615 - val_acc: 0.0909\n",
            "Epoch 35/200\n",
            "6/6 [==============================] - 4s 711ms/step - loss: 0.8665 - acc: 0.6632 - val_loss: 7.1574 - val_acc: 0.0909\n",
            "Epoch 36/200\n",
            "6/6 [==============================] - 4s 711ms/step - loss: 0.7434 - acc: 0.7006 - val_loss: 6.9463 - val_acc: 0.0455\n",
            "Epoch 37/200\n",
            "6/6 [==============================] - 4s 713ms/step - loss: 0.7864 - acc: 0.6948 - val_loss: 7.1007 - val_acc: 0.0909\n",
            "Epoch 38/200\n",
            "6/6 [==============================] - 4s 710ms/step - loss: 0.7107 - acc: 0.7475 - val_loss: 7.1236 - val_acc: 0.0909\n",
            "Epoch 39/200\n",
            "6/6 [==============================] - 4s 711ms/step - loss: 0.7991 - acc: 0.6954 - val_loss: 8.0844 - val_acc: 0.0909\n",
            "Epoch 40/200\n",
            "6/6 [==============================] - 4s 713ms/step - loss: 0.6796 - acc: 0.7536 - val_loss: 8.8377 - val_acc: 0.0909\n",
            "Epoch 41/200\n",
            "6/6 [==============================] - 4s 717ms/step - loss: 0.6991 - acc: 0.7209 - val_loss: 7.4826 - val_acc: 0.1364\n",
            "Epoch 42/200\n",
            "6/6 [==============================] - 4s 712ms/step - loss: 0.6681 - acc: 0.7368 - val_loss: 7.2623 - val_acc: 0.0455\n",
            "Epoch 43/200\n",
            "3/6 [==============>...............] - ETA: 2s - loss: 0.5970 - acc: 0.7812"
          ],
          "name": "stdout"
        },
        {
          "output_type": "stream",
          "text": [
            "6/6 [==============================] - 4s 712ms/step - loss: 0.6965 - acc: 0.7525 - val_loss: 6.8122 - val_acc: 0.0455\n",
            "Epoch 44/200\n",
            "6/6 [==============================] - 4s 710ms/step - loss: 0.7178 - acc: 0.7838 - val_loss: 4.6536 - val_acc: 0.1818\n",
            "Epoch 45/200\n",
            "6/6 [==============================] - 4s 715ms/step - loss: 0.6660 - acc: 0.7791 - val_loss: 4.5593 - val_acc: 0.0909\n",
            "Epoch 46/200\n",
            "6/6 [==============================] - 4s 714ms/step - loss: 0.4584 - acc: 0.8466 - val_loss: 7.1502 - val_acc: 0.0909\n",
            "Epoch 47/200\n",
            "6/6 [==============================] - 4s 711ms/step - loss: 0.5253 - acc: 0.7945 - val_loss: 5.5526 - val_acc: 0.0909\n",
            "Epoch 48/200\n",
            "6/6 [==============================] - 4s 713ms/step - loss: 0.4538 - acc: 0.8310 - val_loss: 5.2885 - val_acc: 0.1364\n",
            "Epoch 49/200\n",
            "6/6 [==============================] - 4s 713ms/step - loss: 0.4389 - acc: 0.8528 - val_loss: 4.7572 - val_acc: 0.0909\n",
            "Epoch 50/200\n",
            "6/6 [==============================] - 4s 714ms/step - loss: 0.5169 - acc: 0.8206 - val_loss: 4.5605 - val_acc: 0.1364\n",
            "Epoch 51/200\n",
            "6/6 [==============================] - 4s 714ms/step - loss: 0.5194 - acc: 0.8104 - val_loss: 5.3349 - val_acc: 0.1364\n",
            "Epoch 52/200\n",
            "6/6 [==============================] - 4s 713ms/step - loss: 0.4121 - acc: 0.8577 - val_loss: 6.1990 - val_acc: 0.0909\n",
            "Epoch 53/200\n",
            "6/6 [==============================] - 4s 712ms/step - loss: 0.5443 - acc: 0.8098 - val_loss: 5.2677 - val_acc: 0.1818\n",
            "Epoch 54/200\n",
            "6/6 [==============================] - 4s 717ms/step - loss: 0.4723 - acc: 0.8316 - val_loss: 7.0168 - val_acc: 0.1818\n",
            "Epoch 55/200\n",
            "6/6 [==============================] - 4s 713ms/step - loss: 0.4264 - acc: 0.8592 - val_loss: 7.2492 - val_acc: 0.1364\n",
            "Epoch 56/200\n",
            "6/6 [==============================] - 4s 713ms/step - loss: 0.4087 - acc: 0.8583 - val_loss: 9.4536 - val_acc: 0.0909\n",
            "Epoch 57/200\n",
            "3/6 [==============>...............] - ETA: 2s - loss: 0.5370 - acc: 0.8229"
          ],
          "name": "stdout"
        },
        {
          "output_type": "stream",
          "text": [
            "6/6 [==============================] - 4s 712ms/step - loss: 0.4525 - acc: 0.8322 - val_loss: 8.4593 - val_acc: 0.1364\n",
            "Epoch 58/200\n",
            "6/6 [==============================] - 4s 716ms/step - loss: 0.4472 - acc: 0.8635 - val_loss: 8.2014 - val_acc: 0.0909\n",
            "Epoch 59/200\n",
            "6/6 [==============================] - 4s 714ms/step - loss: 0.4588 - acc: 0.8577 - val_loss: 9.9361 - val_acc: 0.0455\n",
            "Epoch 60/200\n",
            "6/6 [==============================] - 4s 712ms/step - loss: 0.3442 - acc: 0.8638 - val_loss: 9.1447 - val_acc: 0.0455\n",
            "Epoch 61/200\n",
            "6/6 [==============================] - 4s 711ms/step - loss: 0.4988 - acc: 0.8104 - val_loss: 10.7282 - val_acc: 0.0455\n",
            "Epoch 62/200\n",
            "6/6 [==============================] - 4s 710ms/step - loss: 0.4600 - acc: 0.8632 - val_loss: 8.5166 - val_acc: 0.0455\n",
            "Epoch 63/200\n",
            "6/6 [==============================] - 4s 708ms/step - loss: 0.3256 - acc: 0.9000 - val_loss: 8.6162 - val_acc: 0.0455\n",
            "Epoch 64/200\n",
            "6/6 [==============================] - 4s 716ms/step - loss: 0.4171 - acc: 0.8791 - val_loss: 8.0792 - val_acc: 0.0909\n",
            "Epoch 65/200\n",
            "6/6 [==============================] - 4s 712ms/step - loss: 0.3207 - acc: 0.8580 - val_loss: 6.8404 - val_acc: 0.0909\n",
            "Epoch 66/200\n",
            "6/6 [==============================] - 4s 710ms/step - loss: 0.3613 - acc: 0.8684 - val_loss: 7.6423 - val_acc: 0.0909\n",
            "Epoch 67/200\n",
            "6/6 [==============================] - 4s 715ms/step - loss: 0.2868 - acc: 0.8832 - val_loss: 7.0867 - val_acc: 0.1364\n",
            "Epoch 68/200\n",
            "6/6 [==============================] - 4s 713ms/step - loss: 0.4418 - acc: 0.8151 - val_loss: 8.2886 - val_acc: 0.1364\n",
            "Epoch 69/200\n",
            "6/6 [==============================] - 4s 714ms/step - loss: 0.3855 - acc: 0.8583 - val_loss: 6.6203 - val_acc: 0.1364\n",
            "Epoch 70/200\n",
            "6/6 [==============================] - 4s 714ms/step - loss: 0.4608 - acc: 0.8267 - val_loss: 8.4686 - val_acc: 0.0909\n",
            "Epoch 71/200\n",
            "3/6 [==============>...............] - ETA: 2s - loss: 0.3846 - acc: 0.8813"
          ],
          "name": "stdout"
        },
        {
          "output_type": "stream",
          "text": [
            "6/6 [==============================] - 4s 708ms/step - loss: 0.3896 - acc: 0.8730 - val_loss: 7.0727 - val_acc: 0.0909\n",
            "Epoch 72/200\n",
            "6/6 [==============================] - 4s 713ms/step - loss: 0.4881 - acc: 0.8466 - val_loss: 10.1315 - val_acc: 0.1364\n",
            "Epoch 73/200\n",
            "6/6 [==============================] - 4s 713ms/step - loss: 0.6249 - acc: 0.7896 - val_loss: 7.4557 - val_acc: 0.0909\n",
            "Epoch 74/200\n",
            "6/6 [==============================] - 4s 715ms/step - loss: 0.5006 - acc: 0.8727 - val_loss: 8.4059 - val_acc: 0.1364\n",
            "Epoch 75/200\n",
            "6/6 [==============================] - 4s 715ms/step - loss: 0.3668 - acc: 0.8583 - val_loss: 6.7985 - val_acc: 0.1364\n",
            "Epoch 76/200\n",
            "6/6 [==============================] - 4s 716ms/step - loss: 0.2402 - acc: 0.9104 - val_loss: 7.9261 - val_acc: 0.1364\n",
            "Epoch 77/200\n",
            "6/6 [==============================] - 4s 712ms/step - loss: 0.2755 - acc: 0.9055 - val_loss: 9.5461 - val_acc: 0.0909\n",
            "Epoch 78/200\n",
            "6/6 [==============================] - 4s 715ms/step - loss: 0.2685 - acc: 0.8945 - val_loss: 10.2289 - val_acc: 0.0909\n",
            "Epoch 79/200\n",
            "6/6 [==============================] - 4s 710ms/step - loss: 0.2944 - acc: 0.8788 - val_loss: 8.2293 - val_acc: 0.1818\n",
            "Epoch 80/200\n",
            "6/6 [==============================] - 4s 711ms/step - loss: 0.2480 - acc: 0.9212 - val_loss: 7.7629 - val_acc: 0.1818\n",
            "Epoch 81/200\n",
            "6/6 [==============================] - 4s 708ms/step - loss: 0.2878 - acc: 0.8896 - val_loss: 6.9271 - val_acc: 0.1364\n",
            "Epoch 82/200\n",
            "6/6 [==============================] - 4s 714ms/step - loss: 0.2836 - acc: 0.8948 - val_loss: 7.5391 - val_acc: 0.1364\n",
            "Epoch 83/200\n",
            "6/6 [==============================] - 4s 708ms/step - loss: 0.1731 - acc: 0.9261 - val_loss: 7.2259 - val_acc: 0.1364\n",
            "Epoch 84/200\n",
            "6/6 [==============================] - 4s 713ms/step - loss: 0.2710 - acc: 0.8945 - val_loss: 8.1912 - val_acc: 0.0909\n",
            "Epoch 85/200\n",
            "3/6 [==============>...............] - ETA: 2s - loss: 0.3040 - acc: 0.9062"
          ],
          "name": "stdout"
        },
        {
          "output_type": "stream",
          "text": [
            "6/6 [==============================] - 4s 712ms/step - loss: 0.3043 - acc: 0.8884 - val_loss: 7.1681 - val_acc: 0.0909\n",
            "Epoch 86/200\n",
            "6/6 [==============================] - 4s 733ms/step - loss: 0.1899 - acc: 0.9368 - val_loss: 8.6997 - val_acc: 0.1364\n",
            "Epoch 87/200\n",
            "6/6 [==============================] - 4s 736ms/step - loss: 0.2412 - acc: 0.9156 - val_loss: 8.9151 - val_acc: 0.0909\n",
            "Epoch 88/200\n",
            "6/6 [==============================] - 4s 727ms/step - loss: 0.2181 - acc: 0.9003 - val_loss: 10.2107 - val_acc: 0.0909\n",
            "Epoch 89/200\n",
            "6/6 [==============================] - 4s 733ms/step - loss: 0.1474 - acc: 0.9420 - val_loss: 10.2909 - val_acc: 0.0909\n",
            "Epoch 90/200\n",
            "6/6 [==============================] - 4s 726ms/step - loss: 0.2148 - acc: 0.9264 - val_loss: 9.6930 - val_acc: 0.0909\n",
            "Epoch 91/200\n",
            "6/6 [==============================] - 4s 720ms/step - loss: 0.2134 - acc: 0.9058 - val_loss: 10.2496 - val_acc: 0.0909\n",
            "Epoch 92/200\n",
            "6/6 [==============================] - 4s 728ms/step - loss: 0.1751 - acc: 0.9371 - val_loss: 8.4634 - val_acc: 0.0909\n",
            "Epoch 93/200\n",
            "6/6 [==============================] - 4s 714ms/step - loss: 0.2165 - acc: 0.9212 - val_loss: 8.8608 - val_acc: 0.1818\n",
            "Epoch 94/200\n",
            "6/6 [==============================] - 4s 718ms/step - loss: 0.2172 - acc: 0.9310 - val_loss: 8.1146 - val_acc: 0.1364\n",
            "Epoch 95/200\n",
            "6/6 [==============================] - 4s 722ms/step - loss: 0.1972 - acc: 0.9159 - val_loss: 8.1200 - val_acc: 0.1818\n",
            "Epoch 96/200\n",
            "6/6 [==============================] - 4s 723ms/step - loss: 0.1934 - acc: 0.9420 - val_loss: 8.7801 - val_acc: 0.1364\n",
            "Epoch 97/200\n",
            "6/6 [==============================] - 4s 716ms/step - loss: 0.2092 - acc: 0.9052 - val_loss: 8.6383 - val_acc: 0.2273\n",
            "Epoch 98/200\n",
            "6/6 [==============================] - 4s 725ms/step - loss: 0.2546 - acc: 0.9212 - val_loss: 9.5007 - val_acc: 0.2273\n",
            "Epoch 99/200\n",
            "3/6 [==============>...............] - ETA: 2s - loss: 0.1485 - acc: 0.9375"
          ],
          "name": "stdout"
        },
        {
          "output_type": "stream",
          "text": [
            "6/6 [==============================] - 4s 723ms/step - loss: 0.1847 - acc: 0.9261 - val_loss: 8.8478 - val_acc: 0.0909\n",
            "Epoch 100/200\n",
            "6/6 [==============================] - 4s 714ms/step - loss: 0.2143 - acc: 0.9316 - val_loss: 8.2548 - val_acc: 0.1364\n",
            "Epoch 101/200\n",
            "6/6 [==============================] - 4s 724ms/step - loss: 0.1507 - acc: 0.9525 - val_loss: 7.2562 - val_acc: 0.1364\n",
            "Epoch 102/200\n",
            "6/6 [==============================] - 4s 720ms/step - loss: 0.1719 - acc: 0.9417 - val_loss: 8.0213 - val_acc: 0.1364\n",
            "Epoch 103/200\n",
            "6/6 [==============================] - 4s 721ms/step - loss: 0.2819 - acc: 0.8779 - val_loss: 6.8517 - val_acc: 0.2273\n",
            "Epoch 104/200\n",
            "6/6 [==============================] - 4s 719ms/step - loss: 0.1785 - acc: 0.9417 - val_loss: 6.6697 - val_acc: 0.1818\n",
            "Epoch 105/200\n",
            "6/6 [==============================] - 4s 724ms/step - loss: 0.1602 - acc: 0.9577 - val_loss: 8.0644 - val_acc: 0.1818\n",
            "Epoch 106/200\n",
            "6/6 [==============================] - 4s 716ms/step - loss: 0.1527 - acc: 0.9368 - val_loss: 7.6106 - val_acc: 0.1818\n",
            "Epoch 107/200\n",
            "6/6 [==============================] - 4s 729ms/step - loss: 0.2274 - acc: 0.9264 - val_loss: 7.3499 - val_acc: 0.1818\n",
            "Epoch 108/200\n",
            "6/6 [==============================] - 4s 716ms/step - loss: 0.1088 - acc: 0.9577 - val_loss: 9.1241 - val_acc: 0.1818\n",
            "Epoch 109/200\n",
            "6/6 [==============================] - 4s 730ms/step - loss: 0.1959 - acc: 0.9098 - val_loss: 8.3813 - val_acc: 0.1818\n",
            "Epoch 110/200\n",
            "6/6 [==============================] - 4s 720ms/step - loss: 0.2346 - acc: 0.9107 - val_loss: 9.4284 - val_acc: 0.1818\n",
            "Epoch 111/200\n",
            "6/6 [==============================] - 4s 726ms/step - loss: 0.2213 - acc: 0.9316 - val_loss: 9.6554 - val_acc: 0.1364\n",
            "Epoch 112/200\n",
            "6/6 [==============================] - 4s 712ms/step - loss: 0.2106 - acc: 0.9368 - val_loss: 8.4416 - val_acc: 0.1364\n",
            "Epoch 113/200\n",
            "3/6 [==============>...............] - ETA: 2s - loss: 0.1978 - acc: 0.8854"
          ],
          "name": "stdout"
        },
        {
          "output_type": "stream",
          "text": [
            "6/6 [==============================] - 4s 724ms/step - loss: 0.1930 - acc: 0.9113 - val_loss: 10.1685 - val_acc: 0.0909\n",
            "Epoch 114/200\n",
            "6/6 [==============================] - 4s 710ms/step - loss: 0.2071 - acc: 0.9417 - val_loss: 8.0293 - val_acc: 0.1364\n",
            "Epoch 115/200\n",
            "6/6 [==============================] - 4s 717ms/step - loss: 0.1796 - acc: 0.9423 - val_loss: 9.3829 - val_acc: 0.0909\n",
            "Epoch 116/200\n",
            "6/6 [==============================] - 4s 718ms/step - loss: 0.1828 - acc: 0.9154 - val_loss: 9.7114 - val_acc: 0.0909\n",
            "Epoch 117/200\n",
            "6/6 [==============================] - 4s 716ms/step - loss: 0.1335 - acc: 0.9632 - val_loss: 9.1214 - val_acc: 0.1364\n",
            "Epoch 118/200\n",
            "6/6 [==============================] - 4s 713ms/step - loss: 0.1571 - acc: 0.9313 - val_loss: 9.5513 - val_acc: 0.1364\n",
            "Epoch 119/200\n",
            "6/6 [==============================] - 4s 716ms/step - loss: 0.2168 - acc: 0.9374 - val_loss: 9.3104 - val_acc: 0.1364\n",
            "Epoch 120/200\n",
            "6/6 [==============================] - 4s 710ms/step - loss: 0.1956 - acc: 0.9218 - val_loss: 8.4120 - val_acc: 0.2273\n",
            "Epoch 121/200\n",
            "6/6 [==============================] - 4s 712ms/step - loss: 0.1105 - acc: 0.9528 - val_loss: 9.7095 - val_acc: 0.2273\n",
            "Epoch 122/200\n",
            "6/6 [==============================] - 4s 726ms/step - loss: 0.1858 - acc: 0.9209 - val_loss: 9.8500 - val_acc: 0.1364\n",
            "Epoch 123/200\n",
            "6/6 [==============================] - 4s 724ms/step - loss: 0.1532 - acc: 0.9200 - val_loss: 10.5130 - val_acc: 0.2273\n",
            "Epoch 124/200\n",
            "6/6 [==============================] - 4s 716ms/step - loss: 0.1449 - acc: 0.9420 - val_loss: 9.4494 - val_acc: 0.1364\n",
            "Epoch 125/200\n",
            "6/6 [==============================] - 4s 712ms/step - loss: 0.1108 - acc: 0.9580 - val_loss: 11.1970 - val_acc: 0.1364\n",
            "Epoch 126/200\n",
            "6/6 [==============================] - 4s 722ms/step - loss: 0.1342 - acc: 0.9322 - val_loss: 8.4437 - val_acc: 0.1818\n",
            "Epoch 127/200\n",
            "3/6 [==============>...............] - ETA: 2s - loss: 0.2257 - acc: 0.9062"
          ],
          "name": "stdout"
        },
        {
          "output_type": "stream",
          "text": [
            "6/6 [==============================] - 4s 735ms/step - loss: 0.1700 - acc: 0.9264 - val_loss: 10.0636 - val_acc: 0.2273\n",
            "Epoch 128/200\n",
            "6/6 [==============================] - 4s 712ms/step - loss: 0.1701 - acc: 0.9420 - val_loss: 8.6286 - val_acc: 0.1818\n",
            "Epoch 129/200\n",
            "6/6 [==============================] - 4s 715ms/step - loss: 0.1145 - acc: 0.9414 - val_loss: 7.9047 - val_acc: 0.1818\n",
            "Epoch 130/200\n",
            "6/6 [==============================] - 4s 712ms/step - loss: 0.1549 - acc: 0.9531 - val_loss: 9.0464 - val_acc: 0.0909\n",
            "Epoch 131/200\n",
            "6/6 [==============================] - 4s 713ms/step - loss: 0.1788 - acc: 0.9371 - val_loss: 8.7507 - val_acc: 0.0909\n",
            "Epoch 132/200\n",
            "6/6 [==============================] - 4s 714ms/step - loss: 0.0909 - acc: 0.9583 - val_loss: 9.1740 - val_acc: 0.1364\n",
            "Epoch 133/200\n",
            "6/6 [==============================] - 4s 713ms/step - loss: 0.1339 - acc: 0.9478 - val_loss: 9.4792 - val_acc: 0.1818\n",
            "Epoch 134/200\n",
            "6/6 [==============================] - 4s 714ms/step - loss: 0.1068 - acc: 0.9319 - val_loss: 10.1761 - val_acc: 0.1364\n",
            "Epoch 135/200\n",
            "6/6 [==============================] - 4s 710ms/step - loss: 0.1526 - acc: 0.9420 - val_loss: 10.7884 - val_acc: 0.0909\n",
            "Epoch 136/200\n",
            "6/6 [==============================] - 4s 711ms/step - loss: 0.1818 - acc: 0.9313 - val_loss: 11.1869 - val_acc: 0.0909\n",
            "Epoch 137/200\n",
            "6/6 [==============================] - 4s 712ms/step - loss: 0.1222 - acc: 0.9629 - val_loss: 10.1501 - val_acc: 0.1364\n",
            "Epoch 138/200\n",
            "6/6 [==============================] - 4s 715ms/step - loss: 0.1297 - acc: 0.9632 - val_loss: 9.3739 - val_acc: 0.0909\n",
            "Epoch 139/200\n",
            "6/6 [==============================] - 4s 712ms/step - loss: 0.1445 - acc: 0.9525 - val_loss: 10.7771 - val_acc: 0.0455\n",
            "Epoch 140/200\n",
            "6/6 [==============================] - 4s 713ms/step - loss: 0.1839 - acc: 0.9261 - val_loss: 11.2385 - val_acc: 0.0455\n",
            "Epoch 141/200\n",
            "3/6 [==============>...............] - ETA: 2s - loss: 0.1570 - acc: 0.9479"
          ],
          "name": "stdout"
        },
        {
          "output_type": "stream",
          "text": [
            "6/6 [==============================] - 4s 710ms/step - loss: 0.1233 - acc: 0.9583 - val_loss: 9.6568 - val_acc: 0.1364\n",
            "Epoch 142/200\n",
            "6/6 [==============================] - 4s 711ms/step - loss: 0.1857 - acc: 0.9267 - val_loss: 10.5452 - val_acc: 0.1818\n",
            "Epoch 143/200\n",
            "6/6 [==============================] - 4s 713ms/step - loss: 0.1646 - acc: 0.9417 - val_loss: 10.5578 - val_acc: 0.1364\n",
            "Epoch 144/200\n",
            "6/6 [==============================] - 4s 714ms/step - loss: 0.2080 - acc: 0.9261 - val_loss: 10.5906 - val_acc: 0.0909\n",
            "Epoch 145/200\n",
            "6/6 [==============================] - 4s 712ms/step - loss: 0.1027 - acc: 0.9580 - val_loss: 10.4973 - val_acc: 0.0909\n",
            "Epoch 146/200\n",
            "6/6 [==============================] - 4s 716ms/step - loss: 0.1006 - acc: 0.9841 - val_loss: 10.4894 - val_acc: 0.1364\n",
            "Epoch 147/200\n",
            "6/6 [==============================] - 4s 715ms/step - loss: 0.0818 - acc: 0.9736 - val_loss: 10.2771 - val_acc: 0.1364\n",
            "Epoch 148/200\n",
            "6/6 [==============================] - 4s 713ms/step - loss: 0.1443 - acc: 0.9475 - val_loss: 10.9132 - val_acc: 0.1364\n",
            "Epoch 149/200\n",
            "6/6 [==============================] - 4s 711ms/step - loss: 0.0869 - acc: 0.9739 - val_loss: 10.1111 - val_acc: 0.1364\n",
            "Epoch 150/200\n",
            "6/6 [==============================] - 4s 711ms/step - loss: 0.0905 - acc: 0.9574 - val_loss: 10.5243 - val_acc: 0.1818\n",
            "Epoch 151/200\n",
            "6/6 [==============================] - 4s 713ms/step - loss: 0.1794 - acc: 0.9577 - val_loss: 10.9518 - val_acc: 0.1364\n",
            "Epoch 152/200\n",
            "6/6 [==============================] - 4s 717ms/step - loss: 0.1908 - acc: 0.9368 - val_loss: 9.1534 - val_acc: 0.0909\n",
            "Epoch 153/200\n",
            "6/6 [==============================] - 4s 708ms/step - loss: 0.0859 - acc: 0.9684 - val_loss: 9.2687 - val_acc: 0.1818\n",
            "Epoch 154/200\n",
            "6/6 [==============================] - 4s 711ms/step - loss: 0.1006 - acc: 0.9580 - val_loss: 9.2458 - val_acc: 0.1818\n",
            "Epoch 155/200\n",
            "3/6 [==============>...............] - ETA: 2s - loss: 0.0690 - acc: 0.9792"
          ],
          "name": "stdout"
        },
        {
          "output_type": "stream",
          "text": [
            "6/6 [==============================] - 4s 714ms/step - loss: 0.0848 - acc: 0.9739 - val_loss: 8.7166 - val_acc: 0.1818\n",
            "Epoch 156/200\n",
            "6/6 [==============================] - 4s 711ms/step - loss: 0.1911 - acc: 0.9420 - val_loss: 10.2969 - val_acc: 0.1364\n",
            "Epoch 157/200\n",
            "6/6 [==============================] - 4s 713ms/step - loss: 0.1868 - acc: 0.9316 - val_loss: 9.5423 - val_acc: 0.1364\n",
            "Epoch 158/200\n",
            "6/6 [==============================] - 4s 715ms/step - loss: 0.0901 - acc: 0.9736 - val_loss: 8.4303 - val_acc: 0.1364\n",
            "Epoch 159/200\n",
            "6/6 [==============================] - 4s 710ms/step - loss: 0.0971 - acc: 0.9577 - val_loss: 9.5621 - val_acc: 0.0909\n",
            "Epoch 160/200\n",
            "6/6 [==============================] - 4s 707ms/step - loss: 0.1358 - acc: 0.9528 - val_loss: 10.1605 - val_acc: 0.0455\n",
            "Epoch 161/200\n",
            "6/6 [==============================] - 4s 711ms/step - loss: 0.0638 - acc: 0.9684 - val_loss: 10.2794 - val_acc: 0.0909\n",
            "Epoch 162/200\n",
            "6/6 [==============================] - 4s 713ms/step - loss: 0.1001 - acc: 0.9684 - val_loss: 8.7682 - val_acc: 0.1364\n",
            "Epoch 163/200\n",
            "6/6 [==============================] - 4s 713ms/step - loss: 0.1592 - acc: 0.9472 - val_loss: 11.3756 - val_acc: 0.0909\n",
            "Epoch 164/200\n",
            "6/6 [==============================] - 4s 713ms/step - loss: 0.1105 - acc: 0.9472 - val_loss: 9.2260 - val_acc: 0.1818\n",
            "Epoch 165/200\n",
            "6/6 [==============================] - 4s 715ms/step - loss: 0.0745 - acc: 0.9687 - val_loss: 8.3646 - val_acc: 0.2273\n",
            "Epoch 166/200\n",
            "6/6 [==============================] - 4s 711ms/step - loss: 0.1465 - acc: 0.9368 - val_loss: 9.4215 - val_acc: 0.2273\n",
            "Epoch 167/200\n",
            "6/6 [==============================] - 4s 709ms/step - loss: 0.1415 - acc: 0.9583 - val_loss: 9.0819 - val_acc: 0.2273\n",
            "Epoch 168/200\n",
            "6/6 [==============================] - 4s 710ms/step - loss: 0.0626 - acc: 0.9736 - val_loss: 10.4696 - val_acc: 0.1364\n",
            "Epoch 169/200\n",
            "3/6 [==============>...............] - ETA: 2s - loss: 0.1427 - acc: 0.9583"
          ],
          "name": "stdout"
        },
        {
          "output_type": "stream",
          "text": [
            "6/6 [==============================] - 4s 713ms/step - loss: 0.1160 - acc: 0.9580 - val_loss: 8.5035 - val_acc: 0.1364\n",
            "Epoch 170/200\n",
            "6/6 [==============================] - 4s 711ms/step - loss: 0.0691 - acc: 0.9736 - val_loss: 8.4781 - val_acc: 0.1818\n",
            "Epoch 171/200\n",
            "6/6 [==============================] - 4s 710ms/step - loss: 0.1197 - acc: 0.9478 - val_loss: 7.6455 - val_acc: 0.1818\n",
            "Epoch 172/200\n",
            "6/6 [==============================] - 4s 711ms/step - loss: 0.0920 - acc: 0.9739 - val_loss: 7.2598 - val_acc: 0.1818\n",
            "Epoch 173/200\n",
            "6/6 [==============================] - 4s 715ms/step - loss: 0.0939 - acc: 0.9687 - val_loss: 6.9935 - val_acc: 0.0909\n",
            "Epoch 174/200\n",
            "6/6 [==============================] - 4s 711ms/step - loss: 0.1157 - acc: 0.9580 - val_loss: 5.8959 - val_acc: 0.1364\n",
            "Epoch 175/200\n",
            "6/6 [==============================] - 4s 708ms/step - loss: 0.0944 - acc: 0.9687 - val_loss: 6.4889 - val_acc: 0.1818\n",
            "Epoch 176/200\n",
            "6/6 [==============================] - 4s 713ms/step - loss: 0.0745 - acc: 0.9577 - val_loss: 6.7507 - val_acc: 0.1364\n",
            "Epoch 177/200\n",
            "6/6 [==============================] - 4s 713ms/step - loss: 0.0913 - acc: 0.9525 - val_loss: 7.4550 - val_acc: 0.1818\n",
            "Epoch 178/200\n",
            "6/6 [==============================] - 4s 715ms/step - loss: 0.0752 - acc: 0.9632 - val_loss: 8.9575 - val_acc: 0.0455\n",
            "Epoch 179/200\n",
            "6/6 [==============================] - 4s 712ms/step - loss: 0.0367 - acc: 0.9896 - val_loss: 9.4675 - val_acc: 0.0455\n",
            "Epoch 180/200\n",
            "6/6 [==============================] - 4s 707ms/step - loss: 0.0563 - acc: 0.9788 - val_loss: 10.4734 - val_acc: 0.0455\n",
            "Epoch 181/200\n",
            "6/6 [==============================] - 4s 713ms/step - loss: 0.0544 - acc: 0.9791 - val_loss: 10.9472 - val_acc: 0.0455\n",
            "Epoch 182/200\n",
            "6/6 [==============================] - 4s 714ms/step - loss: 0.0655 - acc: 0.9684 - val_loss: 11.5023 - val_acc: 0.0455\n",
            "Epoch 183/200\n",
            "3/6 [==============>...............] - ETA: 2s - loss: 0.0662 - acc: 0.9688"
          ],
          "name": "stdout"
        },
        {
          "output_type": "stream",
          "text": [
            "6/6 [==============================] - 4s 712ms/step - loss: 0.0594 - acc: 0.9739 - val_loss: 11.3527 - val_acc: 0.0909\n",
            "Epoch 184/200\n",
            "6/6 [==============================] - 4s 716ms/step - loss: 0.0862 - acc: 0.9684 - val_loss: 10.7269 - val_acc: 0.0455\n",
            "Epoch 185/200\n",
            "6/6 [==============================] - 4s 713ms/step - loss: 0.1535 - acc: 0.9632 - val_loss: 10.3073 - val_acc: 0.0909\n",
            "Epoch 186/200\n",
            "6/6 [==============================] - 4s 713ms/step - loss: 0.0834 - acc: 0.9736 - val_loss: 10.1264 - val_acc: 0.0909\n",
            "Epoch 187/200\n",
            "6/6 [==============================] - 4s 712ms/step - loss: 0.1046 - acc: 0.9525 - val_loss: 9.5244 - val_acc: 0.0909\n",
            "Epoch 188/200\n",
            "6/6 [==============================] - 4s 712ms/step - loss: 0.0507 - acc: 0.9844 - val_loss: 9.9675 - val_acc: 0.0909\n",
            "Epoch 189/200\n",
            "6/6 [==============================] - 4s 712ms/step - loss: 0.0475 - acc: 0.9841 - val_loss: 9.4535 - val_acc: 0.0909\n",
            "Epoch 190/200\n",
            "6/6 [==============================] - 4s 711ms/step - loss: 0.1294 - acc: 0.9577 - val_loss: 9.4552 - val_acc: 0.0909\n",
            "Epoch 191/200\n",
            "6/6 [==============================] - 4s 710ms/step - loss: 0.0990 - acc: 0.9736 - val_loss: 9.7468 - val_acc: 0.0909\n",
            "Epoch 192/200\n",
            "6/6 [==============================] - 4s 712ms/step - loss: 0.1009 - acc: 0.9632 - val_loss: 9.4154 - val_acc: 0.0909\n",
            "Epoch 193/200\n",
            "6/6 [==============================] - 4s 712ms/step - loss: 0.0734 - acc: 0.9632 - val_loss: 9.1308 - val_acc: 0.0909\n",
            "Epoch 194/200\n",
            "6/6 [==============================] - 4s 714ms/step - loss: 0.0769 - acc: 0.9687 - val_loss: 10.4340 - val_acc: 0.1364\n",
            "Epoch 195/200\n",
            "6/6 [==============================] - 4s 712ms/step - loss: 0.0693 - acc: 0.9736 - val_loss: 10.3421 - val_acc: 0.1364\n",
            "Epoch 196/200\n",
            "6/6 [==============================] - 4s 713ms/step - loss: 0.0357 - acc: 0.9844 - val_loss: 10.2283 - val_acc: 0.1364\n",
            "Epoch 197/200\n",
            "3/6 [==============>...............] - ETA: 2s - loss: 0.0447 - acc: 0.9792"
          ],
          "name": "stdout"
        },
        {
          "output_type": "stream",
          "text": [
            "6/6 [==============================] - 4s 713ms/step - loss: 0.0537 - acc: 0.9739 - val_loss: 10.4115 - val_acc: 0.0909\n",
            "Epoch 198/200\n",
            "6/6 [==============================] - 4s 716ms/step - loss: 0.1292 - acc: 0.9684 - val_loss: 11.5284 - val_acc: 0.0909\n",
            "Epoch 199/200\n",
            "6/6 [==============================] - 4s 709ms/step - loss: 0.0752 - acc: 0.9788 - val_loss: 10.8426 - val_acc: 0.1364\n",
            "Epoch 200/200\n",
            "6/6 [==============================] - 4s 711ms/step - loss: 0.1451 - acc: 0.9472 - val_loss: 9.7153 - val_acc: 0.0909\n"
          ],
          "name": "stdout"
        }
      ]
    },
    {
      "metadata": {
        "id": "5J_uscADgYOS",
        "colab_type": "code",
        "colab": {
          "autoexec": {
            "startup": false,
            "wait_interval": 0
          }
        }
      },
      "cell_type": "code",
      "source": [
        "model.save('./drive/asian_vanilia3.h5')"
      ],
      "execution_count": 0,
      "outputs": []
    },
    {
      "metadata": {
        "id": "SIkTfB3c1-u1",
        "colab_type": "code",
        "colab": {
          "autoexec": {
            "startup": false,
            "wait_interval": 0
          },
          "output_extras": [
            {
              "item_id": 1
            },
            {
              "item_id": 2
            }
          ],
          "base_uri": "https://localhost:8080/",
          "height": 708
        },
        "outputId": "48024ce7-961b-4503-fe13-d9c11f2ae402",
        "executionInfo": {
          "status": "ok",
          "timestamp": 1521098645231,
          "user_tz": -480,
          "elapsed": 1676,
          "user": {
            "displayName": "Cugtyt",
            "photoUrl": "//lh4.googleusercontent.com/-QxlWCi_owQ0/AAAAAAAAAAI/AAAAAAAAAC4/wNSYjuh_4x4/s50-c-k-no/photo.jpg",
            "userId": "100389950431846051928"
          }
        }
      },
      "cell_type": "code",
      "source": [
        "import matplotlib.pyplot as plt\n",
        "\n",
        "acc = history.history['acc']\n",
        "val_acc = history.history['val_acc']\n",
        "loss = history.history['loss']\n",
        "val_loss = history.history['val_loss']\n",
        "\n",
        "epochs = range(1, len(acc) + 1)\n",
        "\n",
        "plt.plot(epochs, acc, 'bo', label='Training acc')\n",
        "plt.plot(epochs, val_acc, 'b', label='Validation acc')\n",
        "plt.title('Training and validation accuracy')\n",
        "plt.legend()\n",
        "\n",
        "plt.figure()\n",
        "\n",
        "plt.plot(epochs, loss, 'bo', label='Training loss')\n",
        "plt.plot(epochs, val_loss, 'b', label='Validation loss')\n",
        "plt.title('Training and validation loss')\n",
        "plt.legend()\n",
        "\n",
        "plt.show()"
      ],
      "execution_count": 43,
      "outputs": [
        {
          "output_type": "display_data",
          "data": {
            "image/png": "[encoded data removed]",
            "text/plain": [
              "<matplotlib.figure.Figure at 0x7fb4c7cab710>"
            ]
          },
          "metadata": {
            "tags": []
          }
        },
        {
          "output_type": "display_data",
          "data": {
            "image/png": "[encoded data removed]",
            "text/plain": [
              "<matplotlib.figure.Figure at 0x7fb4c9475198>"
            ]
          },
          "metadata": {
            "tags": []
          }
        }
      ]
    },
    {
      "metadata": {
        "id": "D1V1ouYjpqOH",
        "colab_type": "code",
        "colab": {
          "autoexec": {
            "startup": false,
            "wait_interval": 0
          },
          "output_extras": [
            {
              "item_id": 1
            },
            {
              "item_id": 2
            }
          ],
          "base_uri": "https://localhost:8080/",
          "height": 53
        },
        "outputId": "d0d42be7-bac3-4873-8ec8-d5442c25c194",
        "executionInfo": {
          "status": "ok",
          "timestamp": 1521100451896,
          "user_tz": -480,
          "elapsed": 1096,
          "user": {
            "displayName": "Cugtyt",
            "photoUrl": "//lh4.googleusercontent.com/-QxlWCi_owQ0/AAAAAAAAAAI/AAAAAAAAAC4/wNSYjuh_4x4/s50-c-k-no/photo.jpg",
            "userId": "100389950431846051928"
          }
        }
      },
      "cell_type": "code",
      "source": [
        "model.evaluate(test_data, test_label)"
      ],
      "execution_count": 44,
      "outputs": [
        {
          "output_type": "stream",
          "text": [
            "54/54 [==============================] - 0s 9ms/step\n"
          ],
          "name": "stdout"
        },
        {
          "output_type": "execute_result",
          "data": {
            "text/plain": [
              "[10.237989178410283, 0.07407407462596893]"
            ]
          },
          "metadata": {
            "tags": []
          },
          "execution_count": 44
        }
      ]
    },
    {
      "metadata": {
        "id": "GbggQiasvdmj",
        "colab_type": "code",
        "colab": {
          "autoexec": {
            "startup": false,
            "wait_interval": 0
          }
        }
      },
      "cell_type": "code",
      "source": [
        "def vanilia_cnn(input_shape: tuple, classes: int):\n",
        "    \"\"\"Implement vanilla ConvNet model.\"\"\"\n",
        "    model = models.Sequential()\n",
        "    model.add(\n",
        "        layers.Conv2D(32, (3, 3), activation='relu',\n",
        "                      padding='same',\n",
        "                      input_shape=input_shape))\n",
        "    model.add(layers.Conv2D(32, (3, 3), padding='same', activation='relu'))\n",
        "    model.add(layers.Conv2D(32, (3, 3), activation='relu'))\n",
        "    model.add(layers.MaxPooling2D((2, 2)))\n",
        "    model.add(layers.Dropout(0.5))\n",
        "    \n",
        "    model.add(layers.Conv2D(64, (3, 3), padding='same', activation='relu'))\n",
        "    model.add(layers.Conv2D(64, (3, 3), padding='same', activation='relu'))\n",
        "    model.add(layers.Conv2D(64, (3, 3), padding='same', activation='relu'))\n",
        "    model.add(layers.MaxPooling2D((2, 2)))\n",
        "    model.add(layers.Dropout(0.5))\n",
        "    \n",
        "    model.add(layers.Conv2D(128, (3, 3), padding='same', activation='relu'))\n",
        "    model.add(layers.Conv2D(128, (3, 3), activation='relu'))\n",
        "    model.add(layers.Conv2D(128, (3, 3), activation='relu'))\n",
        "    model.add(layers.MaxPooling2D((2, 2)))\n",
        "    model.add(layers.Flatten())\n",
        "    model.add(layers.Dense(512, activation='relu'))\n",
        "    model.add(layers.Dense(512, activation='relu'))\n",
        "    model.add(layers.Dropout(0.5))\n",
        "    model.add(layers.Dense(classes, activation='softmax'))\n",
        "\n",
        "    model.compile(\n",
        "        optimizer='sgd',\n",
        "        loss='categorical_crossentropy',\n",
        "        metrics=['accuracy'])\n",
        "\n",
        "    return model"
      ],
      "execution_count": 0,
      "outputs": []
    },
    {
      "metadata": {
        "id": "ROL_oRjjpVsZ",
        "colab_type": "code",
        "colab": {
          "autoexec": {
            "startup": false,
            "wait_interval": 0
          },
          "output_extras": [
            {
              "item_id": 241
            },
            {
              "item_id": 483
            },
            {
              "item_id": 730
            },
            {
              "item_id": 986
            },
            {
              "item_id": 1239
            },
            {
              "item_id": 1492
            },
            {
              "item_id": 1745
            },
            {
              "item_id": 1998
            },
            {
              "item_id": 2251
            },
            {
              "item_id": 2506
            },
            {
              "item_id": 2760
            },
            {
              "item_id": 3013
            },
            {
              "item_id": 3268
            },
            {
              "item_id": 3520
            },
            {
              "item_id": 3774
            },
            {
              "item_id": 4030
            },
            {
              "item_id": 4284
            },
            {
              "item_id": 4540
            },
            {
              "item_id": 4795
            },
            {
              "item_id": 5048
            },
            {
              "item_id": 5080
            }
          ],
          "base_uri": "https://localhost:8080/",
          "height": 3673
        },
        "outputId": "d431e9a6-e966-48d1-efce-c07f8909c7df",
        "executionInfo": {
          "status": "ok",
          "timestamp": 1521173219016,
          "user_tz": -480,
          "elapsed": 5286210,
          "user": {
            "displayName": "Cugtyt",
            "photoUrl": "//lh4.googleusercontent.com/-QxlWCi_owQ0/AAAAAAAAAAI/AAAAAAAAAC4/wNSYjuh_4x4/s50-c-k-no/photo.jpg",
            "userId": "100389950431846051928"
          }
        }
      },
      "cell_type": "code",
      "source": [
        "input_shape = (250, 250, 3)\n",
        "classes = 10\n",
        "\n",
        "\n",
        "\n",
        "train_datagen = ImageDataGenerator(\n",
        "  rescale=1./255,\n",
        "  rotation_range=40,\n",
        "  width_shift_range=0.2,\n",
        "  height_shift_range=0.2,\n",
        "  shear_range=0.2,\n",
        "  zoom_range=0.2,\n",
        "  horizontal_flip=True)\n",
        "test_datagen = ImageDataGenerator(rescale=1./255)\n",
        "\n",
        "train_generator = train_datagen.flow_from_directory(\n",
        "  # This is the target directory\n",
        "  './drive/data/FacePlace/AsianSample/train',\n",
        "  target_size=(250, 250),\n",
        "  batch_size=32,\n",
        "  # Since we use binary_crossentropy loss, we need binary labels\n",
        "  class_mode='categorical')\n",
        "validation_generator = test_datagen.flow_from_directory(\n",
        "  './drive/data/FacePlace/AsianSample/val',\n",
        "  target_size=(250, 250),\n",
        "  batch_size=32,\n",
        "  class_mode='categorical')\n",
        "\n",
        "model = vanilia_cnn(input_shape=input_shape, classes=classes)\n",
        "\n",
        "history = model.fit_generator(\n",
        "  train_generator,\n",
        "  steps_per_epoch=50,\n",
        "  epochs=300,\n",
        "  validation_data=validation_generator,\n",
        "  validation_steps=50)"
      ],
      "execution_count": 9,
      "outputs": [
        {
          "output_type": "stream",
          "text": [
            "Found 236 images belonging to 10 classes.\n",
            "Found 20 images belonging to 10 classes.\n",
            "Epoch 1/100\n",
            "50/50 [==============================] - 227s 5s/step - loss: 2.2968 - acc: 0.1346 - val_loss: 2.3010 - val_acc: 0.1000\n",
            "Epoch 2/100\n",
            "50/50 [==============================] - 52s 1s/step - loss: 2.2906 - acc: 0.1396 - val_loss: 2.3003 - val_acc: 0.2000\n",
            "Epoch 3/100\n",
            "50/50 [==============================] - 50s 1s/step - loss: 2.2824 - acc: 0.1554 - val_loss: 2.2976 - val_acc: 0.2000\n",
            "Epoch 4/100\n",
            "50/50 [==============================] - 54s 1s/step - loss: 2.2755 - acc: 0.1702 - val_loss: 2.2905 - val_acc: 0.2000\n",
            "Epoch 5/100\n",
            "34/50 [===================>..........] - ETA: 13s - loss: 2.2691 - acc: 0.1805"
          ],
          "name": "stdout"
        },
        {
          "output_type": "stream",
          "text": [
            "50/50 [==============================] - 52s 1s/step - loss: 2.2669 - acc: 0.1812 - val_loss: 2.2877 - val_acc: 0.1000\n",
            "Epoch 6/100\n",
            "50/50 [==============================] - 52s 1s/step - loss: 2.2653 - acc: 0.1784 - val_loss: 2.2757 - val_acc: 0.1000\n",
            "Epoch 7/100\n",
            "50/50 [==============================] - 51s 1s/step - loss: 2.2430 - acc: 0.1908 - val_loss: 2.2563 - val_acc: 0.2000\n",
            "Epoch 8/100\n",
            "50/50 [==============================] - 54s 1s/step - loss: 2.2236 - acc: 0.1935 - val_loss: 2.2779 - val_acc: 0.2000\n",
            "Epoch 9/100\n",
            "50/50 [==============================] - 52s 1s/step - loss: 2.2234 - acc: 0.1792 - val_loss: 2.2683 - val_acc: 0.2000\n",
            "Epoch 10/100\n",
            "21/50 [===========>..................] - ETA: 22s - loss: 2.1770 - acc: 0.2163"
          ],
          "name": "stdout"
        },
        {
          "output_type": "stream",
          "text": [
            "50/50 [==============================] - 50s 998ms/step - loss: 2.1938 - acc: 0.2048 - val_loss: 2.2438 - val_acc: 0.2000\n",
            "Epoch 11/100\n",
            "50/50 [==============================] - 51s 1s/step - loss: 2.1773 - acc: 0.2033 - val_loss: 2.2340 - val_acc: 0.2500\n",
            "Epoch 12/100\n",
            "50/50 [==============================] - 53s 1s/step - loss: 2.1520 - acc: 0.2268 - val_loss: 2.2808 - val_acc: 0.1000\n",
            "Epoch 13/100\n",
            "50/50 [==============================] - 51s 1s/step - loss: 2.1485 - acc: 0.2167 - val_loss: 2.2807 - val_acc: 0.2500\n",
            "Epoch 14/100\n",
            "50/50 [==============================] - 51s 1s/step - loss: 2.0961 - acc: 0.2378 - val_loss: 2.2514 - val_acc: 0.2500\n",
            "Epoch 15/100\n",
            "17/50 [=========>....................] - ETA: 26s - loss: 2.1101 - acc: 0.2335"
          ],
          "name": "stdout"
        },
        {
          "output_type": "stream",
          "text": [
            "50/50 [==============================] - 51s 1s/step - loss: 2.1054 - acc: 0.2353 - val_loss: 2.2227 - val_acc: 0.1500\n",
            "Epoch 16/100\n",
            "50/50 [==============================] - 53s 1s/step - loss: 2.2132 - acc: 0.1779 - val_loss: 2.3096 - val_acc: 0.1000\n",
            "Epoch 17/100\n",
            "50/50 [==============================] - 51s 1s/step - loss: 2.2906 - acc: 0.1379 - val_loss: 2.3108 - val_acc: 0.1000\n",
            "Epoch 18/100\n",
            "50/50 [==============================] - 51s 1s/step - loss: 2.2943 - acc: 0.1453 - val_loss: 2.3089 - val_acc: 0.1000\n",
            "Epoch 19/100\n",
            "50/50 [==============================] - 50s 1s/step - loss: 2.2883 - acc: 0.1436 - val_loss: 2.3086 - val_acc: 0.1000\n",
            "Epoch 20/100\n",
            "18/50 [=========>....................] - ETA: 26s - loss: 2.2817 - acc: 0.1476"
          ],
          "name": "stdout"
        },
        {
          "output_type": "stream",
          "text": [
            "50/50 [==============================] - 53s 1s/step - loss: 2.2803 - acc: 0.1695 - val_loss: 2.3053 - val_acc: 0.1000\n",
            "Epoch 21/100\n",
            "50/50 [==============================] - 52s 1s/step - loss: 2.1617 - acc: 0.2007 - val_loss: 2.1995 - val_acc: 0.3000\n",
            "Epoch 22/100\n",
            "50/50 [==============================] - 51s 1s/step - loss: 2.0777 - acc: 0.2391 - val_loss: 2.2446 - val_acc: 0.2500\n",
            "Epoch 23/100\n",
            "50/50 [==============================] - 50s 1s/step - loss: 2.0646 - acc: 0.2395 - val_loss: 2.1364 - val_acc: 0.3000\n",
            "Epoch 24/100\n",
            "50/50 [==============================] - 52s 1s/step - loss: 2.0527 - acc: 0.2354 - val_loss: 2.2487 - val_acc: 0.3000\n",
            "Epoch 25/100\n",
            "18/50 [=========>....................] - ETA: 26s - loss: 2.0299 - acc: 0.2483"
          ],
          "name": "stdout"
        },
        {
          "output_type": "stream",
          "text": [
            "50/50 [==============================] - 51s 1s/step - loss: 2.0021 - acc: 0.2612 - val_loss: 2.1610 - val_acc: 0.2500\n",
            "Epoch 26/100\n",
            "50/50 [==============================] - 52s 1s/step - loss: 2.0063 - acc: 0.2627 - val_loss: 2.0395 - val_acc: 0.1500\n",
            "Epoch 27/100\n",
            "50/50 [==============================] - 51s 1s/step - loss: 2.0124 - acc: 0.2612 - val_loss: 2.2541 - val_acc: 0.2500\n",
            "Epoch 28/100\n",
            "50/50 [==============================] - 52s 1s/step - loss: 1.9864 - acc: 0.2801 - val_loss: 2.1810 - val_acc: 0.2000\n",
            "Epoch 29/100\n",
            "50/50 [==============================] - 51s 1s/step - loss: 1.9453 - acc: 0.2762 - val_loss: 2.0338 - val_acc: 0.2500\n",
            "Epoch 30/100\n",
            "18/50 [=========>....................] - ETA: 24s - loss: 1.8924 - acc: 0.2980"
          ],
          "name": "stdout"
        },
        {
          "output_type": "stream",
          "text": [
            "50/50 [==============================] - 50s 994ms/step - loss: 1.9384 - acc: 0.2872 - val_loss: 1.9799 - val_acc: 0.2500\n",
            "Epoch 31/100\n",
            "50/50 [==============================] - 50s 1s/step - loss: 1.9974 - acc: 0.2641 - val_loss: 2.1630 - val_acc: 0.2000\n",
            "Epoch 32/100\n",
            "50/50 [==============================] - 52s 1s/step - loss: 1.9099 - acc: 0.2881 - val_loss: 2.1891 - val_acc: 0.2500\n",
            "Epoch 33/100\n",
            "50/50 [==============================] - 51s 1s/step - loss: 1.8504 - acc: 0.3085 - val_loss: 1.9694 - val_acc: 0.3500\n",
            "Epoch 34/100\n",
            "50/50 [==============================] - 50s 1s/step - loss: 1.8481 - acc: 0.3013 - val_loss: 2.2405 - val_acc: 0.2500\n",
            "Epoch 35/100\n",
            "17/50 [=========>....................] - ETA: 25s - loss: 1.8427 - acc: 0.3382"
          ],
          "name": "stdout"
        },
        {
          "output_type": "stream",
          "text": [
            "50/50 [==============================] - 51s 1s/step - loss: 1.8565 - acc: 0.3212 - val_loss: 1.9036 - val_acc: 0.4000\n",
            "Epoch 36/100\n",
            "50/50 [==============================] - 50s 1s/step - loss: 1.8547 - acc: 0.3122 - val_loss: 2.1699 - val_acc: 0.2500\n",
            "Epoch 37/100\n",
            "50/50 [==============================] - 50s 999ms/step - loss: 1.8040 - acc: 0.3297 - val_loss: 2.3060 - val_acc: 0.2500\n",
            "Epoch 38/100\n",
            "50/50 [==============================] - 50s 992ms/step - loss: 1.7785 - acc: 0.3365 - val_loss: 2.2942 - val_acc: 0.1500\n",
            "Epoch 39/100\n",
            "50/50 [==============================] - 50s 1s/step - loss: 1.7806 - acc: 0.3256 - val_loss: 1.9228 - val_acc: 0.2500\n",
            "Epoch 40/100\n",
            "17/50 [=========>....................] - ETA: 26s - loss: 1.7297 - acc: 0.3591"
          ],
          "name": "stdout"
        },
        {
          "output_type": "stream",
          "text": [
            "50/50 [==============================] - 51s 1s/step - loss: 1.7312 - acc: 0.3611 - val_loss: 1.9316 - val_acc: 0.3000\n",
            "Epoch 41/100\n",
            "50/50 [==============================] - 50s 999ms/step - loss: 1.7548 - acc: 0.3413 - val_loss: 1.9352 - val_acc: 0.2500\n",
            "Epoch 42/100\n",
            "50/50 [==============================] - 49s 985ms/step - loss: 1.7437 - acc: 0.3544 - val_loss: 1.7719 - val_acc: 0.4000\n",
            "Epoch 43/100\n",
            "50/50 [==============================] - 52s 1s/step - loss: 1.7131 - acc: 0.3648 - val_loss: 2.2077 - val_acc: 0.2500\n",
            "Epoch 44/100\n",
            "50/50 [==============================] - 53s 1s/step - loss: 1.7129 - acc: 0.3723 - val_loss: 1.9451 - val_acc: 0.2000\n",
            "Epoch 45/100\n",
            "17/50 [=========>....................] - ETA: 25s - loss: 1.6282 - acc: 0.3909"
          ],
          "name": "stdout"
        },
        {
          "output_type": "stream",
          "text": [
            "50/50 [==============================] - 52s 1s/step - loss: 1.6735 - acc: 0.3576 - val_loss: 2.0890 - val_acc: 0.2500\n",
            "Epoch 46/100\n",
            "50/50 [==============================] - 52s 1s/step - loss: 1.7267 - acc: 0.3705 - val_loss: 1.8503 - val_acc: 0.2000\n",
            "Epoch 47/100\n",
            "50/50 [==============================] - 52s 1s/step - loss: 1.6699 - acc: 0.3831 - val_loss: 1.8030 - val_acc: 0.4000\n",
            "Epoch 48/100\n",
            "50/50 [==============================] - 53s 1s/step - loss: 1.6503 - acc: 0.3899 - val_loss: 1.7190 - val_acc: 0.4000\n",
            "Epoch 49/100\n",
            "50/50 [==============================] - 51s 1s/step - loss: 1.6020 - acc: 0.3933 - val_loss: 1.6541 - val_acc: 0.3500\n",
            "Epoch 50/100\n",
            "18/50 [=========>....................] - ETA: 27s - loss: 1.6903 - acc: 0.3443"
          ],
          "name": "stdout"
        },
        {
          "output_type": "stream",
          "text": [
            "50/50 [==============================] - 53s 1s/step - loss: 1.6655 - acc: 0.3541 - val_loss: 1.8249 - val_acc: 0.3000\n",
            "Epoch 51/100\n",
            "50/50 [==============================] - 52s 1s/step - loss: 1.5622 - acc: 0.4023 - val_loss: 1.8416 - val_acc: 0.2000\n",
            "Epoch 52/100\n",
            "50/50 [==============================] - 52s 1s/step - loss: 1.6121 - acc: 0.3832 - val_loss: 2.4133 - val_acc: 0.1500\n",
            "Epoch 53/100\n",
            "50/50 [==============================] - 51s 1s/step - loss: 1.5221 - acc: 0.4323 - val_loss: 1.4130 - val_acc: 0.4500\n",
            "Epoch 54/100\n",
            "50/50 [==============================] - 52s 1s/step - loss: 1.5324 - acc: 0.4162 - val_loss: 1.8239 - val_acc: 0.3500\n",
            "Epoch 55/100\n",
            "18/50 [=========>....................] - ETA: 25s - loss: 1.6031 - acc: 0.4086"
          ],
          "name": "stdout"
        },
        {
          "output_type": "stream",
          "text": [
            "50/50 [==============================] - 51s 1s/step - loss: 1.5637 - acc: 0.4302 - val_loss: 1.5701 - val_acc: 0.3500\n",
            "Epoch 56/100\n",
            "50/50 [==============================] - 52s 1s/step - loss: 1.5302 - acc: 0.4155 - val_loss: 2.0529 - val_acc: 0.3000\n",
            "Epoch 57/100\n",
            "50/50 [==============================] - 52s 1s/step - loss: 1.5965 - acc: 0.4146 - val_loss: 1.7057 - val_acc: 0.3500\n",
            "Epoch 58/100\n",
            "50/50 [==============================] - 52s 1s/step - loss: 1.4941 - acc: 0.4127 - val_loss: 1.6861 - val_acc: 0.3000\n",
            "Epoch 59/100\n",
            "50/50 [==============================] - 51s 1s/step - loss: 1.7147 - acc: 0.3794 - val_loss: 2.0884 - val_acc: 0.2500\n",
            "Epoch 60/100\n",
            "18/50 [=========>....................] - ETA: 26s - loss: 1.6180 - acc: 0.4132"
          ],
          "name": "stdout"
        },
        {
          "output_type": "stream",
          "text": [
            "50/50 [==============================] - 54s 1s/step - loss: 1.4873 - acc: 0.4485 - val_loss: 1.5172 - val_acc: 0.4500\n",
            "Epoch 61/100\n",
            "50/50 [==============================] - 52s 1s/step - loss: 1.3866 - acc: 0.4827 - val_loss: 1.7592 - val_acc: 0.2500\n",
            "Epoch 62/100\n",
            "50/50 [==============================] - 51s 1s/step - loss: 1.4221 - acc: 0.4513 - val_loss: 3.0800 - val_acc: 0.1500\n",
            "Epoch 63/100\n",
            "50/50 [==============================] - 49s 978ms/step - loss: 1.4824 - acc: 0.4488 - val_loss: 1.5000 - val_acc: 0.5000\n",
            "Epoch 64/100\n",
            "50/50 [==============================] - 50s 1s/step - loss: 1.4366 - acc: 0.4478 - val_loss: 1.6504 - val_acc: 0.3500\n",
            "Epoch 65/100\n",
            "18/50 [=========>....................] - ETA: 23s - loss: 1.4080 - acc: 0.4902"
          ],
          "name": "stdout"
        },
        {
          "output_type": "stream",
          "text": [
            "50/50 [==============================] - 50s 1s/step - loss: 1.4544 - acc: 0.4531 - val_loss: 1.4752 - val_acc: 0.3500\n",
            "Epoch 66/100\n",
            "50/50 [==============================] - 49s 983ms/step - loss: 1.3710 - acc: 0.4859 - val_loss: 1.4724 - val_acc: 0.4000\n",
            "Epoch 67/100\n",
            "50/50 [==============================] - 49s 970ms/step - loss: 1.4191 - acc: 0.4805 - val_loss: 1.3860 - val_acc: 0.6000\n",
            "Epoch 68/100\n",
            "50/50 [==============================] - 50s 994ms/step - loss: 1.3759 - acc: 0.4744 - val_loss: 2.2490 - val_acc: 0.2000\n",
            "Epoch 69/100\n",
            "50/50 [==============================] - 50s 1s/step - loss: 1.3792 - acc: 0.4757 - val_loss: 1.5900 - val_acc: 0.4000\n",
            "Epoch 70/100\n",
            "17/50 [=========>....................] - ETA: 25s - loss: 1.3882 - acc: 0.4669"
          ],
          "name": "stdout"
        },
        {
          "output_type": "stream",
          "text": [
            "50/50 [==============================] - 50s 994ms/step - loss: 1.3769 - acc: 0.4708 - val_loss: 1.4694 - val_acc: 0.3500\n",
            "Epoch 71/100\n",
            "50/50 [==============================] - 49s 977ms/step - loss: 1.3576 - acc: 0.4832 - val_loss: 1.2718 - val_acc: 0.5500\n",
            "Epoch 72/100\n",
            "50/50 [==============================] - 50s 1s/step - loss: 1.3026 - acc: 0.4954 - val_loss: 1.3488 - val_acc: 0.4500\n",
            "Epoch 73/100\n",
            "50/50 [==============================] - 49s 988ms/step - loss: 2.2554 - acc: 0.2091 - val_loss: 2.0813 - val_acc: 0.3000\n",
            "Epoch 74/100\n",
            "50/50 [==============================] - 48s 966ms/step - loss: 2.0104 - acc: 0.2684 - val_loss: 1.9162 - val_acc: 0.3500\n",
            "Epoch 75/100\n",
            "16/50 [========>.....................] - ETA: 30s - loss: 1.8244 - acc: 0.2949"
          ],
          "name": "stdout"
        },
        {
          "output_type": "stream",
          "text": [
            "50/50 [==============================] - 50s 1s/step - loss: 1.7186 - acc: 0.3458 - val_loss: 1.5009 - val_acc: 0.3500\n",
            "Epoch 76/100\n",
            "50/50 [==============================] - 50s 1s/step - loss: 1.4971 - acc: 0.4278 - val_loss: 1.5782 - val_acc: 0.3000\n",
            "Epoch 77/100\n",
            "50/50 [==============================] - 50s 990ms/step - loss: 1.4040 - acc: 0.4544 - val_loss: 1.4225 - val_acc: 0.3500\n",
            "Epoch 78/100\n",
            "50/50 [==============================] - 49s 975ms/step - loss: 1.2997 - acc: 0.5168 - val_loss: 1.7594 - val_acc: 0.3000\n",
            "Epoch 79/100\n",
            "50/50 [==============================] - 48s 969ms/step - loss: 1.3113 - acc: 0.4952 - val_loss: 1.3513 - val_acc: 0.5500\n",
            "Epoch 80/100\n",
            "17/50 [=========>....................] - ETA: 27s - loss: 1.2889 - acc: 0.5208"
          ],
          "name": "stdout"
        },
        {
          "output_type": "stream",
          "text": [
            "50/50 [==============================] - 51s 1s/step - loss: 1.2683 - acc: 0.5343 - val_loss: 1.3714 - val_acc: 0.5000\n",
            "Epoch 81/100\n",
            "50/50 [==============================] - 50s 1000ms/step - loss: 1.3289 - acc: 0.4926 - val_loss: 1.2433 - val_acc: 0.6500\n",
            "Epoch 82/100\n",
            "50/50 [==============================] - 49s 988ms/step - loss: 1.3066 - acc: 0.5081 - val_loss: 1.2737 - val_acc: 0.5500\n",
            "Epoch 83/100\n",
            "50/50 [==============================] - 49s 984ms/step - loss: 1.2508 - acc: 0.5244 - val_loss: 1.1619 - val_acc: 0.7000\n",
            "Epoch 84/100\n",
            "50/50 [==============================] - 53s 1s/step - loss: 1.1912 - acc: 0.5539 - val_loss: 1.3182 - val_acc: 0.4500\n",
            "Epoch 85/100\n",
            "16/50 [========>.....................] - ETA: 26s - loss: 1.4519 - acc: 0.4850"
          ],
          "name": "stdout"
        },
        {
          "output_type": "stream",
          "text": [
            "50/50 [==============================] - 50s 1s/step - loss: 1.2854 - acc: 0.5265 - val_loss: 1.1255 - val_acc: 0.6500\n",
            "Epoch 86/100\n",
            "50/50 [==============================] - 51s 1s/step - loss: 1.2162 - acc: 0.5299 - val_loss: 1.1820 - val_acc: 0.6000\n",
            "Epoch 87/100\n",
            "50/50 [==============================] - 51s 1s/step - loss: 1.1940 - acc: 0.5502 - val_loss: 1.2711 - val_acc: 0.6500\n",
            "Epoch 88/100\n",
            "50/50 [==============================] - 53s 1s/step - loss: 1.1750 - acc: 0.5678 - val_loss: 1.2820 - val_acc: 0.4500\n",
            "Epoch 89/100\n",
            "50/50 [==============================] - 51s 1s/step - loss: 1.2561 - acc: 0.5178 - val_loss: 1.2926 - val_acc: 0.5000\n",
            "Epoch 90/100\n",
            "18/50 [=========>....................] - ETA: 25s - loss: 1.1826 - acc: 0.5671"
          ],
          "name": "stdout"
        },
        {
          "output_type": "stream",
          "text": [
            "50/50 [==============================] - 51s 1s/step - loss: 1.1462 - acc: 0.5613 - val_loss: 1.2245 - val_acc: 0.6000\n",
            "Epoch 91/100\n",
            "50/50 [==============================] - 50s 1s/step - loss: 1.1609 - acc: 0.5536 - val_loss: 1.1438 - val_acc: 0.5500\n",
            "Epoch 92/100\n",
            "50/50 [==============================] - 52s 1s/step - loss: 1.1596 - acc: 0.5781 - val_loss: 1.0820 - val_acc: 0.6500\n",
            "Epoch 93/100\n",
            "50/50 [==============================] - 51s 1s/step - loss: 1.1503 - acc: 0.5788 - val_loss: 1.0562 - val_acc: 0.6500\n",
            "Epoch 94/100\n",
            "50/50 [==============================] - 51s 1s/step - loss: 1.1433 - acc: 0.5714 - val_loss: 1.1382 - val_acc: 0.6000\n",
            "Epoch 95/100\n",
            "18/50 [=========>....................] - ETA: 25s - loss: 1.3001 - acc: 0.5203"
          ],
          "name": "stdout"
        },
        {
          "output_type": "stream",
          "text": [
            "50/50 [==============================] - 51s 1s/step - loss: 1.1528 - acc: 0.5840 - val_loss: 1.1026 - val_acc: 0.6500\n",
            "Epoch 96/100\n",
            "50/50 [==============================] - 53s 1s/step - loss: 1.0561 - acc: 0.6129 - val_loss: 1.0723 - val_acc: 0.6000\n",
            "Epoch 97/100\n",
            "50/50 [==============================] - 51s 1s/step - loss: 1.0766 - acc: 0.6071 - val_loss: 1.5778 - val_acc: 0.4000\n",
            "Epoch 98/100\n",
            "50/50 [==============================] - 50s 1s/step - loss: 1.1621 - acc: 0.5571 - val_loss: 1.0425 - val_acc: 0.6500\n",
            "Epoch 99/100\n",
            "50/50 [==============================] - 51s 1s/step - loss: 0.9815 - acc: 0.6292 - val_loss: 1.1337 - val_acc: 0.5000\n",
            "Epoch 100/100\n",
            "18/50 [=========>....................] - ETA: 27s - loss: 1.0609 - acc: 0.6302"
          ],
          "name": "stdout"
        },
        {
          "output_type": "stream",
          "text": [
            "50/50 [==============================] - 52s 1s/step - loss: 1.0732 - acc: 0.6156 - val_loss: 1.0457 - val_acc: 0.7000\n"
          ],
          "name": "stdout"
        }
      ]
    },
    {
      "metadata": {
        "id": "F6WHm8-zzSsO",
        "colab_type": "code",
        "colab": {
          "autoexec": {
            "startup": false,
            "wait_interval": 0
          },
          "output_extras": [
            {
              "item_id": 1
            },
            {
              "item_id": 2
            }
          ],
          "base_uri": "https://localhost:8080/",
          "height": 708
        },
        "outputId": "4c84d793-8fdd-4328-fe84-b624006c8b24",
        "executionInfo": {
          "status": "ok",
          "timestamp": 1521173220900,
          "user_tz": -480,
          "elapsed": 1859,
          "user": {
            "displayName": "Cugtyt",
            "photoUrl": "//lh4.googleusercontent.com/-QxlWCi_owQ0/AAAAAAAAAAI/AAAAAAAAAC4/wNSYjuh_4x4/s50-c-k-no/photo.jpg",
            "userId": "100389950431846051928"
          }
        }
      },
      "cell_type": "code",
      "source": [
        "import matplotlib.pyplot as plt\n",
        "\n",
        "acc = history.history['acc']\n",
        "val_acc = history.history['val_acc']\n",
        "loss = history.history['loss']\n",
        "val_loss = history.history['val_loss']\n",
        "\n",
        "epochs = range(1, len(acc) + 1)\n",
        "\n",
        "plt.plot(epochs, acc, 'bo', label='Training acc')\n",
        "plt.plot(epochs, val_acc, 'b', label='Validation acc')\n",
        "plt.title('Training and validation accuracy')\n",
        "plt.legend()\n",
        "\n",
        "plt.figure()\n",
        "\n",
        "plt.plot(epochs, loss, 'bo', label='Training loss')\n",
        "plt.plot(epochs, val_loss, 'b', label='Validation loss')\n",
        "plt.title('Training and validation loss')\n",
        "plt.legend()\n",
        "\n",
        "plt.show()"
      ],
      "execution_count": 10,
      "outputs": [
        {
          "output_type": "display_data",
          "data": {
            "image/png": "[encoded data removed]",
            "text/plain": [
              "<matplotlib.figure.Figure at 0x7f294ed50828>"
            ]
          },
          "metadata": {
            "tags": []
          }
        },
        {
          "output_type": "display_data",
          "data": {
            "image/png": "[encoded data removed]",
            "text/plain": [
              "<matplotlib.figure.Figure at 0x7f294f8ab8d0>"
            ]
          },
          "metadata": {
            "tags": []
          }
        }
      ]
    },
    {
      "metadata": {
        "id": "Q22BWjT58BSE",
        "colab_type": "code",
        "colab": {
          "autoexec": {
            "startup": false,
            "wait_interval": 0
          },
          "output_extras": [
            {
              "item_id": 267
            },
            {
              "item_id": 525
            },
            {
              "item_id": 780
            },
            {
              "item_id": 1034
            },
            {
              "item_id": 1287
            },
            {
              "item_id": 1540
            },
            {
              "item_id": 1791
            },
            {
              "item_id": 2035
            },
            {
              "item_id": 2284
            },
            {
              "item_id": 2537
            },
            {
              "item_id": 2789
            },
            {
              "item_id": 3042
            },
            {
              "item_id": 3298
            },
            {
              "item_id": 3551
            },
            {
              "item_id": 3802
            },
            {
              "item_id": 4053
            },
            {
              "item_id": 4304
            },
            {
              "item_id": 4558
            },
            {
              "item_id": 4811
            },
            {
              "item_id": 5049
            }
          ],
          "base_uri": "https://localhost:8080/",
          "height": 3637
        },
        "outputId": "c14e9854-a9b7-47ee-b098-1d6f391c2c2e",
        "executionInfo": {
          "status": "ok",
          "timestamp": 1521178373586,
          "user_tz": -480,
          "elapsed": 5037231,
          "user": {
            "displayName": "Cugtyt",
            "photoUrl": "//lh4.googleusercontent.com/-QxlWCi_owQ0/AAAAAAAAAAI/AAAAAAAAAC4/wNSYjuh_4x4/s50-c-k-no/photo.jpg",
            "userId": "100389950431846051928"
          }
        }
      },
      "cell_type": "code",
      "source": [
        "history = model.fit_generator(\n",
        "  train_generator,\n",
        "  steps_per_epoch=50,\n",
        "  epochs=100,\n",
        "  validation_data=validation_generator,\n",
        "  validation_steps=50)"
      ],
      "execution_count": 11,
      "outputs": [
        {
          "output_type": "stream",
          "text": [
            "Epoch 1/100\n",
            "50/50 [==============================] - 53s 1s/step - loss: 1.0096 - acc: 0.6192 - val_loss: 1.0124 - val_acc: 0.7500\n",
            "Epoch 2/100\n",
            "50/50 [==============================] - 51s 1s/step - loss: 0.9456 - acc: 0.6526 - val_loss: 1.2397 - val_acc: 0.5500\n",
            "Epoch 3/100\n",
            "50/50 [==============================] - 51s 1s/step - loss: 0.9407 - acc: 0.6443 - val_loss: 1.0175 - val_acc: 0.7500\n",
            "Epoch 4/100\n",
            "50/50 [==============================] - 53s 1s/step - loss: 1.0640 - acc: 0.5967 - val_loss: 1.2280 - val_acc: 0.5500\n",
            "Epoch 5/100\n",
            "50/50 [==============================] - 51s 1s/step - loss: 0.9303 - acc: 0.6352 - val_loss: 0.9239 - val_acc: 0.7000\n",
            "Epoch 6/100\n",
            "13/50 [======>.......................] - ETA: 27s - loss: 1.0251 - acc: 0.6146"
          ],
          "name": "stdout"
        },
        {
          "output_type": "stream",
          "text": [
            "50/50 [==============================] - 51s 1s/step - loss: 1.0128 - acc: 0.6163 - val_loss: 1.8284 - val_acc: 0.3000\n",
            "Epoch 7/100\n",
            "50/50 [==============================] - 51s 1s/step - loss: 1.0680 - acc: 0.6094 - val_loss: 0.9609 - val_acc: 0.7500\n",
            "Epoch 8/100\n",
            "50/50 [==============================] - 52s 1s/step - loss: 0.9547 - acc: 0.6502 - val_loss: 1.0940 - val_acc: 0.5500\n",
            "Epoch 9/100\n",
            "50/50 [==============================] - 51s 1s/step - loss: 0.9886 - acc: 0.6243 - val_loss: 0.9747 - val_acc: 0.6500\n",
            "Epoch 10/100\n",
            "50/50 [==============================] - 52s 1s/step - loss: 0.8835 - acc: 0.6738 - val_loss: 0.9791 - val_acc: 0.6500\n",
            "Epoch 11/100\n",
            "18/50 [=========>....................] - ETA: 25s - loss: 0.9043 - acc: 0.6568"
          ],
          "name": "stdout"
        },
        {
          "output_type": "stream",
          "text": [
            "50/50 [==============================] - 51s 1s/step - loss: 0.9161 - acc: 0.6597 - val_loss: 0.8970 - val_acc: 0.7000\n",
            "Epoch 12/100\n",
            "50/50 [==============================] - 54s 1s/step - loss: 0.9947 - acc: 0.6474 - val_loss: 0.9555 - val_acc: 0.8000\n",
            "Epoch 13/100\n",
            "50/50 [==============================] - 52s 1s/step - loss: 0.8889 - acc: 0.6864 - val_loss: 0.9585 - val_acc: 0.7500\n",
            "Epoch 14/100\n",
            "50/50 [==============================] - 52s 1s/step - loss: 0.8978 - acc: 0.6675 - val_loss: 1.0187 - val_acc: 0.8000\n",
            "Epoch 15/100\n",
            "50/50 [==============================] - 51s 1s/step - loss: 0.8333 - acc: 0.6889 - val_loss: 0.8641 - val_acc: 0.7500\n",
            "Epoch 16/100\n",
            "18/50 [=========>....................] - ETA: 28s - loss: 0.8435 - acc: 0.6910"
          ],
          "name": "stdout"
        },
        {
          "output_type": "stream",
          "text": [
            "50/50 [==============================] - 52s 1s/step - loss: 0.8437 - acc: 0.6899 - val_loss: 0.8298 - val_acc: 0.7500\n",
            "Epoch 17/100\n",
            "50/50 [==============================] - 50s 993ms/step - loss: 0.8502 - acc: 0.6794 - val_loss: 1.0358 - val_acc: 0.6500\n",
            "Epoch 18/100\n",
            "50/50 [==============================] - 50s 1s/step - loss: 1.0820 - acc: 0.6172 - val_loss: 1.2226 - val_acc: 0.5500\n",
            "Epoch 19/100\n",
            "50/50 [==============================] - 50s 995ms/step - loss: 0.8463 - acc: 0.6876 - val_loss: 1.0086 - val_acc: 0.6000\n",
            "Epoch 20/100\n",
            "50/50 [==============================] - 51s 1s/step - loss: 0.8321 - acc: 0.7082 - val_loss: 0.8317 - val_acc: 0.6000\n",
            "Epoch 21/100\n",
            "17/50 [=========>....................] - ETA: 24s - loss: 0.7738 - acc: 0.7200"
          ],
          "name": "stdout"
        },
        {
          "output_type": "stream",
          "text": [
            "50/50 [==============================] - 48s 964ms/step - loss: 0.8010 - acc: 0.7173 - val_loss: 0.8171 - val_acc: 0.7500\n",
            "Epoch 22/100\n",
            "50/50 [==============================] - 49s 990ms/step - loss: 0.7878 - acc: 0.7042 - val_loss: 0.7000 - val_acc: 0.7500\n",
            "Epoch 23/100\n",
            "50/50 [==============================] - 50s 997ms/step - loss: 1.2354 - acc: 0.5563 - val_loss: 1.4167 - val_acc: 0.5000\n",
            "Epoch 24/100\n",
            "50/50 [==============================] - 51s 1s/step - loss: 0.9757 - acc: 0.6405 - val_loss: 0.6315 - val_acc: 0.8000\n",
            "Epoch 25/100\n",
            "50/50 [==============================] - 50s 992ms/step - loss: 0.8423 - acc: 0.6743 - val_loss: 0.7475 - val_acc: 0.8000\n",
            "Epoch 26/100\n",
            "16/50 [========>.....................] - ETA: 25s - loss: 0.7364 - acc: 0.7272"
          ],
          "name": "stdout"
        },
        {
          "output_type": "stream",
          "text": [
            "50/50 [==============================] - 48s 966ms/step - loss: 0.7627 - acc: 0.7094 - val_loss: 0.7622 - val_acc: 0.7000\n",
            "Epoch 27/100\n",
            "50/50 [==============================] - 49s 985ms/step - loss: 0.9200 - acc: 0.6636 - val_loss: 0.8330 - val_acc: 0.7000\n",
            "Epoch 28/100\n",
            "50/50 [==============================] - 50s 1s/step - loss: 0.7644 - acc: 0.7131 - val_loss: 0.7515 - val_acc: 0.7500\n",
            "Epoch 29/100\n",
            "50/50 [==============================] - 49s 985ms/step - loss: 0.8216 - acc: 0.6896 - val_loss: 0.7086 - val_acc: 0.8000\n",
            "Epoch 30/100\n",
            "50/50 [==============================] - 49s 983ms/step - loss: 0.7155 - acc: 0.7389 - val_loss: 0.6791 - val_acc: 0.8000\n",
            "Epoch 31/100\n",
            "16/50 [========>.....................] - ETA: 27s - loss: 0.7332 - acc: 0.7240"
          ],
          "name": "stdout"
        },
        {
          "output_type": "stream",
          "text": [
            "50/50 [==============================] - 50s 994ms/step - loss: 0.7014 - acc: 0.7512 - val_loss: 0.8647 - val_acc: 0.7000\n",
            "Epoch 32/100\n",
            "50/50 [==============================] - 50s 1s/step - loss: 0.7909 - acc: 0.7054 - val_loss: 0.8414 - val_acc: 0.7500\n",
            "Epoch 33/100\n",
            "50/50 [==============================] - 49s 990ms/step - loss: 0.7433 - acc: 0.7272 - val_loss: 0.7207 - val_acc: 0.7500\n",
            "Epoch 34/100\n",
            "50/50 [==============================] - 50s 997ms/step - loss: 0.7093 - acc: 0.7435 - val_loss: 0.7938 - val_acc: 0.7500\n",
            "Epoch 35/100\n",
            "50/50 [==============================] - 50s 1000ms/step - loss: 0.7335 - acc: 0.7327 - val_loss: 0.7856 - val_acc: 0.8500\n",
            "Epoch 36/100\n",
            "16/50 [========>.....................] - ETA: 26s - loss: 0.6074 - acc: 0.7721"
          ],
          "name": "stdout"
        },
        {
          "output_type": "stream",
          "text": [
            "50/50 [==============================] - 51s 1s/step - loss: 0.6402 - acc: 0.7578 - val_loss: 0.8163 - val_acc: 0.7500\n",
            "Epoch 37/100\n",
            "50/50 [==============================] - 50s 994ms/step - loss: 0.7082 - acc: 0.7379 - val_loss: 1.0818 - val_acc: 0.6000\n",
            "Epoch 38/100\n",
            "50/50 [==============================] - 49s 976ms/step - loss: 0.7246 - acc: 0.7413 - val_loss: 0.9303 - val_acc: 0.7000\n",
            "Epoch 39/100\n",
            "50/50 [==============================] - 49s 974ms/step - loss: 0.6935 - acc: 0.7426 - val_loss: 0.9379 - val_acc: 0.6500\n",
            "Epoch 40/100\n",
            "50/50 [==============================] - 51s 1s/step - loss: 0.6608 - acc: 0.7477 - val_loss: 1.0961 - val_acc: 0.5500\n",
            "Epoch 41/100\n",
            "16/50 [========>.....................] - ETA: 24s - loss: 0.8178 - acc: 0.6953"
          ],
          "name": "stdout"
        },
        {
          "output_type": "stream",
          "text": [
            "50/50 [==============================] - 49s 987ms/step - loss: 0.7209 - acc: 0.7246 - val_loss: 0.9185 - val_acc: 0.7500\n",
            "Epoch 42/100\n",
            "50/50 [==============================] - 49s 987ms/step - loss: 0.6368 - acc: 0.7733 - val_loss: 0.8913 - val_acc: 0.7500\n",
            "Epoch 43/100\n",
            "50/50 [==============================] - 49s 988ms/step - loss: 0.6003 - acc: 0.7831 - val_loss: 0.8487 - val_acc: 0.8500\n",
            "Epoch 44/100\n",
            "50/50 [==============================] - 50s 1s/step - loss: 0.7207 - acc: 0.7467 - val_loss: 0.8121 - val_acc: 0.7500\n",
            "Epoch 45/100\n",
            "50/50 [==============================] - 50s 992ms/step - loss: 0.6666 - acc: 0.7407 - val_loss: 1.4465 - val_acc: 0.6000\n",
            "Epoch 46/100\n",
            "16/50 [========>.....................] - ETA: 25s - loss: 3.0462 - acc: 0.1634"
          ],
          "name": "stdout"
        },
        {
          "output_type": "stream",
          "text": [
            "50/50 [==============================] - 50s 996ms/step - loss: 1.9175 - acc: 0.3917 - val_loss: 1.2210 - val_acc: 0.5500\n",
            "Epoch 47/100\n",
            "50/50 [==============================] - 49s 984ms/step - loss: 0.8268 - acc: 0.6998 - val_loss: 0.6873 - val_acc: 0.8000\n",
            "Epoch 48/100\n",
            "50/50 [==============================] - 51s 1s/step - loss: 0.7711 - acc: 0.7152 - val_loss: 0.8775 - val_acc: 0.8500\n",
            "Epoch 49/100\n",
            "50/50 [==============================] - 48s 963ms/step - loss: 0.7413 - acc: 0.7259 - val_loss: 0.9154 - val_acc: 0.8500\n",
            "Epoch 50/100\n",
            "50/50 [==============================] - 50s 994ms/step - loss: 0.7235 - acc: 0.7388 - val_loss: 0.7480 - val_acc: 0.8000\n",
            "Epoch 51/100\n",
            "16/50 [========>.....................] - ETA: 25s - loss: 0.6952 - acc: 0.7402"
          ],
          "name": "stdout"
        },
        {
          "output_type": "stream",
          "text": [
            "50/50 [==============================] - 49s 989ms/step - loss: 0.7214 - acc: 0.7469 - val_loss: 0.6870 - val_acc: 0.8000\n",
            "Epoch 52/100\n",
            "50/50 [==============================] - 50s 1s/step - loss: 0.7128 - acc: 0.7437 - val_loss: 0.9677 - val_acc: 0.7000\n",
            "Epoch 53/100\n",
            "50/50 [==============================] - 49s 983ms/step - loss: 0.6909 - acc: 0.7656 - val_loss: 0.6879 - val_acc: 0.8500\n",
            "Epoch 54/100\n",
            "50/50 [==============================] - 48s 960ms/step - loss: 0.6071 - acc: 0.7879 - val_loss: 0.7539 - val_acc: 0.8000\n",
            "Epoch 55/100\n",
            "50/50 [==============================] - 49s 988ms/step - loss: 0.9993 - acc: 0.6706 - val_loss: 1.2069 - val_acc: 0.6500\n",
            "Epoch 56/100\n",
            "16/50 [========>.....................] - ETA: 26s - loss: 0.7740 - acc: 0.7409"
          ],
          "name": "stdout"
        },
        {
          "output_type": "stream",
          "text": [
            "50/50 [==============================] - 51s 1s/step - loss: 0.7169 - acc: 0.7458 - val_loss: 0.7480 - val_acc: 0.8000\n",
            "Epoch 57/100\n",
            "50/50 [==============================] - 50s 998ms/step - loss: 0.6389 - acc: 0.7740 - val_loss: 0.7583 - val_acc: 0.8500\n",
            "Epoch 58/100\n",
            "50/50 [==============================] - 49s 982ms/step - loss: 0.6583 - acc: 0.7597 - val_loss: 0.7904 - val_acc: 0.8000\n",
            "Epoch 59/100\n",
            "50/50 [==============================] - 50s 995ms/step - loss: 0.6218 - acc: 0.7841 - val_loss: 0.7134 - val_acc: 0.7500\n",
            "Epoch 60/100\n",
            "50/50 [==============================] - 50s 1s/step - loss: 0.6061 - acc: 0.7807 - val_loss: 0.6270 - val_acc: 0.8000\n",
            "Epoch 61/100\n",
            "16/50 [========>.....................] - ETA: 26s - loss: 0.5505 - acc: 0.8001"
          ],
          "name": "stdout"
        },
        {
          "output_type": "stream",
          "text": [
            "50/50 [==============================] - 50s 1000ms/step - loss: 0.8124 - acc: 0.7268 - val_loss: 0.8279 - val_acc: 0.8000\n",
            "Epoch 62/100\n",
            "50/50 [==============================] - 51s 1s/step - loss: 0.6537 - acc: 0.7479 - val_loss: 0.7161 - val_acc: 0.8000\n",
            "Epoch 63/100\n",
            "50/50 [==============================] - 52s 1s/step - loss: 0.5747 - acc: 0.7950 - val_loss: 0.9452 - val_acc: 0.7500\n",
            "Epoch 64/100\n",
            "50/50 [==============================] - 53s 1s/step - loss: 0.6135 - acc: 0.7849 - val_loss: 0.6933 - val_acc: 0.7500\n",
            "Epoch 65/100\n",
            "50/50 [==============================] - 51s 1s/step - loss: 0.5674 - acc: 0.7858 - val_loss: 0.6161 - val_acc: 0.8000\n",
            "Epoch 66/100\n",
            "17/50 [=========>....................] - ETA: 25s - loss: 0.5875 - acc: 0.7855"
          ],
          "name": "stdout"
        },
        {
          "output_type": "stream",
          "text": [
            "50/50 [==============================] - 51s 1s/step - loss: 0.5701 - acc: 0.8003 - val_loss: 0.9634 - val_acc: 0.7500\n",
            "Epoch 67/100\n",
            "50/50 [==============================] - 50s 1s/step - loss: 0.6307 - acc: 0.7633 - val_loss: 0.7863 - val_acc: 0.7500\n",
            "Epoch 68/100\n",
            "50/50 [==============================] - 53s 1s/step - loss: 0.5439 - acc: 0.7996 - val_loss: 0.6477 - val_acc: 0.8000\n",
            "Epoch 69/100\n",
            "50/50 [==============================] - 51s 1s/step - loss: 0.5919 - acc: 0.7915 - val_loss: 0.6769 - val_acc: 0.8000\n",
            "Epoch 70/100\n",
            "50/50 [==============================] - 51s 1s/step - loss: 0.6020 - acc: 0.7812 - val_loss: 0.8386 - val_acc: 0.7500\n",
            "Epoch 71/100\n",
            "18/50 [=========>....................] - ETA: 24s - loss: 0.5194 - acc: 0.8189"
          ],
          "name": "stdout"
        },
        {
          "output_type": "stream",
          "text": [
            "50/50 [==============================] - 51s 1s/step - loss: 0.5230 - acc: 0.8156 - val_loss: 0.6806 - val_acc: 0.8000\n",
            "Epoch 72/100\n",
            "50/50 [==============================] - 52s 1s/step - loss: 0.5520 - acc: 0.7906 - val_loss: 0.6554 - val_acc: 0.8000\n",
            "Epoch 73/100\n",
            "50/50 [==============================] - 50s 1s/step - loss: 0.5975 - acc: 0.7838 - val_loss: 1.0533 - val_acc: 0.8000\n",
            "Epoch 74/100\n",
            "50/50 [==============================] - 51s 1s/step - loss: 0.5825 - acc: 0.7894 - val_loss: 0.7678 - val_acc: 0.8000\n",
            "Epoch 75/100\n",
            "50/50 [==============================] - 51s 1s/step - loss: 0.5735 - acc: 0.8047 - val_loss: 0.6454 - val_acc: 0.8000\n",
            "Epoch 76/100\n",
            "18/50 [=========>....................] - ETA: 26s - loss: 0.4547 - acc: 0.8414"
          ],
          "name": "stdout"
        },
        {
          "output_type": "stream",
          "text": [
            "50/50 [==============================] - 53s 1s/step - loss: 0.5013 - acc: 0.8241 - val_loss: 0.7106 - val_acc: 0.7000\n",
            "Epoch 77/100\n",
            "50/50 [==============================] - 51s 1s/step - loss: 0.5265 - acc: 0.8203 - val_loss: 0.5699 - val_acc: 0.8000\n",
            "Epoch 78/100\n",
            "50/50 [==============================] - 52s 1s/step - loss: 0.4624 - acc: 0.8458 - val_loss: 0.8823 - val_acc: 0.7000\n",
            "Epoch 79/100\n",
            "50/50 [==============================] - 51s 1s/step - loss: 0.5177 - acc: 0.8138 - val_loss: 1.2854 - val_acc: 0.6000\n",
            "Epoch 80/100\n",
            "50/50 [==============================] - 52s 1s/step - loss: 0.5222 - acc: 0.8143 - val_loss: 0.6123 - val_acc: 0.7500\n",
            "Epoch 81/100\n",
            "18/50 [=========>....................] - ETA: 24s - loss: 0.5010 - acc: 0.8079"
          ],
          "name": "stdout"
        },
        {
          "output_type": "stream",
          "text": [
            "50/50 [==============================] - 50s 997ms/step - loss: 0.5511 - acc: 0.7970 - val_loss: 0.6805 - val_acc: 0.8000\n",
            "Epoch 82/100\n",
            "50/50 [==============================] - 50s 997ms/step - loss: 0.5079 - acc: 0.8289 - val_loss: 0.6145 - val_acc: 0.8000\n",
            "Epoch 83/100\n",
            "50/50 [==============================] - 50s 995ms/step - loss: 0.6159 - acc: 0.7873 - val_loss: 0.7803 - val_acc: 0.8000\n",
            "Epoch 84/100\n",
            "50/50 [==============================] - 50s 1s/step - loss: 0.4980 - acc: 0.8249 - val_loss: 0.7597 - val_acc: 0.8000\n",
            "Epoch 85/100\n",
            "50/50 [==============================] - 49s 989ms/step - loss: 0.4884 - acc: 0.8133 - val_loss: 0.8334 - val_acc: 0.8000\n",
            "Epoch 86/100\n",
            "16/50 [========>.....................] - ETA: 25s - loss: 0.6195 - acc: 0.7936"
          ],
          "name": "stdout"
        },
        {
          "output_type": "stream",
          "text": [
            "50/50 [==============================] - 49s 971ms/step - loss: 0.5380 - acc: 0.8143 - val_loss: 0.5924 - val_acc: 0.7500\n",
            "Epoch 87/100\n",
            "50/50 [==============================] - 49s 989ms/step - loss: 0.4991 - acc: 0.8197 - val_loss: 0.5935 - val_acc: 0.8000\n",
            "Epoch 88/100\n",
            "50/50 [==============================] - 51s 1s/step - loss: 0.4755 - acc: 0.8179 - val_loss: 0.6850 - val_acc: 0.8000\n",
            "Epoch 89/100\n",
            "50/50 [==============================] - 50s 991ms/step - loss: 0.4436 - acc: 0.8456 - val_loss: 0.8385 - val_acc: 0.7500\n",
            "Epoch 90/100\n",
            "50/50 [==============================] - 49s 989ms/step - loss: 0.4412 - acc: 0.8349 - val_loss: 0.8694 - val_acc: 0.7500\n",
            "Epoch 91/100\n",
            "16/50 [========>.....................] - ETA: 25s - loss: 0.4346 - acc: 0.8418"
          ],
          "name": "stdout"
        },
        {
          "output_type": "stream",
          "text": [
            "50/50 [==============================] - 48s 970ms/step - loss: 0.4136 - acc: 0.8455 - val_loss: 0.6209 - val_acc: 0.8000\n",
            "Epoch 92/100\n",
            "50/50 [==============================] - 51s 1s/step - loss: 0.5832 - acc: 0.8031 - val_loss: 0.8035 - val_acc: 0.8000\n",
            "Epoch 93/100\n",
            "50/50 [==============================] - 49s 986ms/step - loss: 0.4621 - acc: 0.8197 - val_loss: 0.9169 - val_acc: 0.7500\n",
            "Epoch 94/100\n",
            "50/50 [==============================] - 49s 988ms/step - loss: 0.5117 - acc: 0.8152 - val_loss: 0.7039 - val_acc: 0.8000\n",
            "Epoch 95/100\n",
            "50/50 [==============================] - 49s 987ms/step - loss: 0.4901 - acc: 0.8206 - val_loss: 0.7848 - val_acc: 0.8000\n",
            "Epoch 96/100\n",
            "16/50 [========>.....................] - ETA: 26s - loss: 0.4660 - acc: 0.8366"
          ],
          "name": "stdout"
        },
        {
          "output_type": "stream",
          "text": [
            "50/50 [==============================] - 51s 1s/step - loss: 0.4486 - acc: 0.8438 - val_loss: 0.7730 - val_acc: 0.7500\n",
            "Epoch 97/100\n",
            "50/50 [==============================] - 49s 975ms/step - loss: 0.4811 - acc: 0.8374 - val_loss: 0.8775 - val_acc: 0.8000\n",
            "Epoch 98/100\n",
            "50/50 [==============================] - 50s 992ms/step - loss: 0.4898 - acc: 0.8229 - val_loss: 0.8237 - val_acc: 0.7000\n",
            "Epoch 99/100\n",
            "50/50 [==============================] - 49s 975ms/step - loss: 0.4115 - acc: 0.8618 - val_loss: 0.8193 - val_acc: 0.8000\n",
            "Epoch 100/100\n",
            "50/50 [==============================] - 51s 1s/step - loss: 0.4225 - acc: 0.8509 - val_loss: 0.8361 - val_acc: 0.8000\n"
          ],
          "name": "stdout"
        }
      ]
    },
    {
      "metadata": {
        "id": "DfifDl-v8KOP",
        "colab_type": "code",
        "colab": {
          "autoexec": {
            "startup": false,
            "wait_interval": 0
          },
          "output_extras": [
            {
              "item_id": 1
            },
            {
              "item_id": 2
            }
          ],
          "base_uri": "https://localhost:8080/",
          "height": 708
        },
        "outputId": "f073b243-ce5f-41ca-fcfa-356bd04696e1",
        "executionInfo": {
          "status": "ok",
          "timestamp": 1521178377400,
          "user_tz": -480,
          "elapsed": 1645,
          "user": {
            "displayName": "Cugtyt",
            "photoUrl": "//lh4.googleusercontent.com/-QxlWCi_owQ0/AAAAAAAAAAI/AAAAAAAAAC4/wNSYjuh_4x4/s50-c-k-no/photo.jpg",
            "userId": "100389950431846051928"
          }
        }
      },
      "cell_type": "code",
      "source": [
        "acc_his = [acc]\n",
        "acc_his.append(history.history['acc'])\n",
        "val_acc_his = [val_acc]\n",
        "val_acc_his.append(history.history['val_acc'])\n",
        "loss_his = [loss]\n",
        "loss_his.append(history.history['loss'])\n",
        "val_loss_his = [val_loss]\n",
        "val_loss_his.append(history.history['val_loss'])\n",
        "\n",
        "acc = history.history['acc']\n",
        "val_acc = history.history['val_acc']\n",
        "loss = history.history['loss']\n",
        "val_loss = history.history['val_loss']\n",
        "\n",
        "epochs = range(1, len(acc) + 1)\n",
        "\n",
        "plt.plot(epochs, acc, 'bo', label='Training acc')\n",
        "plt.plot(epochs, val_acc, 'b', label='Validation acc')\n",
        "plt.title('Training and validation accuracy')\n",
        "plt.legend()\n",
        "\n",
        "plt.figure()\n",
        "\n",
        "plt.plot(epochs, loss, 'bo', label='Training loss')\n",
        "plt.plot(epochs, val_loss, 'b', label='Validation loss')\n",
        "plt.title('Training and validation loss')\n",
        "plt.legend()\n",
        "\n",
        "plt.show()"
      ],
      "execution_count": 13,
      "outputs": [
        {
          "output_type": "display_data",
          "data": {
            "image/png": "[encoded data removed]",
            "text/plain": [
              "<matplotlib.figure.Figure at 0x7f29adc0a630>"
            ]
          },
          "metadata": {
            "tags": []
          }
        },
        {
          "output_type": "display_data",
          "data": {
            "image/png": "[encoded data removed]",
            "text/plain": [
              "<matplotlib.figure.Figure at 0x7f29adb885c0>"
            ]
          },
          "metadata": {
            "tags": []
          }
        }
      ]
    },
    {
      "metadata": {
        "id": "pcR65xTKbWQd",
        "colab_type": "code",
        "colab": {
          "autoexec": {
            "startup": false,
            "wait_interval": 0
          },
          "output_extras": [
            {
              "item_id": 262
            },
            {
              "item_id": 520
            },
            {
              "item_id": 774
            },
            {
              "item_id": 1028
            },
            {
              "item_id": 1282
            },
            {
              "item_id": 1535
            },
            {
              "item_id": 1788
            },
            {
              "item_id": 2042
            },
            {
              "item_id": 2295
            },
            {
              "item_id": 2549
            },
            {
              "item_id": 2804
            },
            {
              "item_id": 3058
            },
            {
              "item_id": 3310
            },
            {
              "item_id": 3564
            },
            {
              "item_id": 3819
            },
            {
              "item_id": 4071
            },
            {
              "item_id": 4325
            },
            {
              "item_id": 4581
            },
            {
              "item_id": 4835
            },
            {
              "item_id": 5057
            }
          ],
          "base_uri": "https://localhost:8080/",
          "height": 3637
        },
        "outputId": "b6b6b382-0881-4843-8a37-c935a3fba7db",
        "executionInfo": {
          "status": "ok",
          "timestamp": 1521185478406,
          "user_tz": -480,
          "elapsed": 4898813,
          "user": {
            "displayName": "Cugtyt",
            "photoUrl": "//lh4.googleusercontent.com/-QxlWCi_owQ0/AAAAAAAAAAI/AAAAAAAAAC4/wNSYjuh_4x4/s50-c-k-no/photo.jpg",
            "userId": "100389950431846051928"
          }
        }
      },
      "cell_type": "code",
      "source": [
        "history = model.fit_generator(\n",
        "  train_generator,\n",
        "  steps_per_epoch=50,\n",
        "  epochs=100,\n",
        "  validation_data=validation_generator,\n",
        "  validation_steps=50)"
      ],
      "execution_count": 14,
      "outputs": [
        {
          "output_type": "stream",
          "text": [
            "Epoch 1/100\n",
            "50/50 [==============================] - 49s 972ms/step - loss: 0.5511 - acc: 0.8104 - val_loss: 0.8577 - val_acc: 0.8000\n",
            "Epoch 2/100\n",
            "50/50 [==============================] - 48s 956ms/step - loss: 0.4891 - acc: 0.8376 - val_loss: 0.8491 - val_acc: 0.7500\n",
            "Epoch 3/100\n",
            "50/50 [==============================] - 47s 946ms/step - loss: 0.4302 - acc: 0.8520 - val_loss: 0.7544 - val_acc: 0.7500\n",
            "Epoch 4/100\n",
            "50/50 [==============================] - 49s 970ms/step - loss: 0.4117 - acc: 0.8467 - val_loss: 0.9301 - val_acc: 0.8000\n",
            "Epoch 5/100\n",
            "50/50 [==============================] - 47s 934ms/step - loss: 0.4869 - acc: 0.8257 - val_loss: 0.8695 - val_acc: 0.7500\n",
            "Epoch 6/100\n",
            "10/50 [=====>........................] - ETA: 32s - loss: 0.3311 - acc: 0.9010"
          ],
          "name": "stdout"
        },
        {
          "output_type": "stream",
          "text": [
            "50/50 [==============================] - 48s 950ms/step - loss: 0.4192 - acc: 0.8559 - val_loss: 0.9531 - val_acc: 0.8000\n",
            "Epoch 7/100\n",
            "50/50 [==============================] - 47s 944ms/step - loss: 0.4400 - acc: 0.8313 - val_loss: 0.7575 - val_acc: 0.7500\n",
            "Epoch 8/100\n",
            "50/50 [==============================] - 49s 980ms/step - loss: 0.4141 - acc: 0.8509 - val_loss: 0.9385 - val_acc: 0.7500\n",
            "Epoch 9/100\n",
            "50/50 [==============================] - 48s 953ms/step - loss: 0.3789 - acc: 0.8656 - val_loss: 0.9272 - val_acc: 0.8000\n",
            "Epoch 10/100\n",
            "50/50 [==============================] - 47s 946ms/step - loss: 0.3987 - acc: 0.8479 - val_loss: 0.9955 - val_acc: 0.8000\n",
            "Epoch 11/100\n",
            "15/50 [========>.....................] - ETA: 27s - loss: 0.4769 - acc: 0.8611"
          ],
          "name": "stdout"
        },
        {
          "output_type": "stream",
          "text": [
            "50/50 [==============================] - 47s 935ms/step - loss: 0.4489 - acc: 0.8562 - val_loss: 0.8638 - val_acc: 0.8000\n",
            "Epoch 12/100\n",
            "50/50 [==============================] - 49s 980ms/step - loss: 0.4090 - acc: 0.8492 - val_loss: 0.8072 - val_acc: 0.7500\n",
            "Epoch 13/100\n",
            "50/50 [==============================] - 47s 948ms/step - loss: 0.4401 - acc: 0.8456 - val_loss: 0.6750 - val_acc: 0.8000\n",
            "Epoch 14/100\n",
            "50/50 [==============================] - 47s 949ms/step - loss: 0.3830 - acc: 0.8619 - val_loss: 0.6621 - val_acc: 0.8000\n",
            "Epoch 15/100\n",
            "50/50 [==============================] - 46s 925ms/step - loss: 0.3820 - acc: 0.8681 - val_loss: 0.8197 - val_acc: 0.8500\n",
            "Epoch 16/100\n",
            "15/50 [========>.....................] - ETA: 28s - loss: 0.4135 - acc: 0.8451"
          ],
          "name": "stdout"
        },
        {
          "output_type": "stream",
          "text": [
            "50/50 [==============================] - 49s 972ms/step - loss: 0.4182 - acc: 0.8515 - val_loss: 0.6960 - val_acc: 0.7500\n",
            "Epoch 17/100\n",
            "50/50 [==============================] - 48s 960ms/step - loss: 0.4465 - acc: 0.8389 - val_loss: 0.7106 - val_acc: 0.7000\n",
            "Epoch 18/100\n",
            "50/50 [==============================] - 50s 992ms/step - loss: 0.3608 - acc: 0.8745 - val_loss: 0.5923 - val_acc: 0.7500\n",
            "Epoch 19/100\n",
            "50/50 [==============================] - 47s 933ms/step - loss: 0.4513 - acc: 0.8392 - val_loss: 1.0121 - val_acc: 0.8500\n",
            "Epoch 20/100\n",
            "50/50 [==============================] - 49s 972ms/step - loss: 0.3875 - acc: 0.8652 - val_loss: 0.9677 - val_acc: 0.7500\n",
            "Epoch 21/100\n",
            "15/50 [========>.....................] - ETA: 25s - loss: 0.4821 - acc: 0.8236"
          ],
          "name": "stdout"
        },
        {
          "output_type": "stream",
          "text": [
            "50/50 [==============================] - 48s 953ms/step - loss: 0.3919 - acc: 0.8533 - val_loss: 0.6671 - val_acc: 0.8000\n",
            "Epoch 22/100\n",
            "50/50 [==============================] - 48s 958ms/step - loss: 0.3448 - acc: 0.8856 - val_loss: 0.6158 - val_acc: 0.8000\n",
            "Epoch 23/100\n",
            "50/50 [==============================] - 47s 944ms/step - loss: 0.4422 - acc: 0.8562 - val_loss: 0.7733 - val_acc: 0.8000\n",
            "Epoch 24/100\n",
            "50/50 [==============================] - 47s 950ms/step - loss: 0.3699 - acc: 0.8789 - val_loss: 0.7019 - val_acc: 0.8000\n",
            "Epoch 25/100\n",
            "50/50 [==============================] - 48s 951ms/step - loss: 0.3238 - acc: 0.8821 - val_loss: 0.8384 - val_acc: 0.8000\n",
            "Epoch 26/100\n",
            "15/50 [========>.....................] - ETA: 25s - loss: 0.4531 - acc: 0.8465"
          ],
          "name": "stdout"
        },
        {
          "output_type": "stream",
          "text": [
            "50/50 [==============================] - 48s 965ms/step - loss: 0.3878 - acc: 0.8698 - val_loss: 0.5967 - val_acc: 0.7500\n",
            "Epoch 27/100\n",
            "50/50 [==============================] - 47s 943ms/step - loss: 0.4018 - acc: 0.8577 - val_loss: 0.5897 - val_acc: 0.8500\n",
            "Epoch 28/100\n",
            "50/50 [==============================] - 49s 974ms/step - loss: 0.3471 - acc: 0.8790 - val_loss: 0.7146 - val_acc: 0.7500\n",
            "Epoch 29/100\n",
            "50/50 [==============================] - 47s 942ms/step - loss: 0.3691 - acc: 0.8756 - val_loss: 0.5532 - val_acc: 0.8000\n",
            "Epoch 30/100\n",
            "50/50 [==============================] - 48s 958ms/step - loss: 0.3632 - acc: 0.8637 - val_loss: 0.6780 - val_acc: 0.7500\n",
            "Epoch 31/100\n",
            "15/50 [========>.....................] - ETA: 25s - loss: 0.2879 - acc: 0.8917"
          ],
          "name": "stdout"
        },
        {
          "output_type": "stream",
          "text": [
            "50/50 [==============================] - 47s 942ms/step - loss: 0.3435 - acc: 0.8761 - val_loss: 0.6835 - val_acc: 0.8000\n",
            "Epoch 32/100\n",
            "50/50 [==============================] - 49s 979ms/step - loss: 0.3781 - acc: 0.8615 - val_loss: 0.6938 - val_acc: 0.8000\n",
            "Epoch 33/100\n",
            "50/50 [==============================] - 48s 966ms/step - loss: 0.3489 - acc: 0.8712 - val_loss: 0.8841 - val_acc: 0.7500\n",
            "Epoch 34/100\n",
            "50/50 [==============================] - 47s 935ms/step - loss: 0.3473 - acc: 0.8734 - val_loss: 0.8164 - val_acc: 0.7500\n",
            "Epoch 35/100\n",
            "50/50 [==============================] - 48s 952ms/step - loss: 0.4338 - acc: 0.8513 - val_loss: 0.8479 - val_acc: 0.7500\n",
            "Epoch 36/100\n",
            "15/50 [========>.....................] - ETA: 26s - loss: 0.3956 - acc: 0.8389"
          ],
          "name": "stdout"
        },
        {
          "output_type": "stream",
          "text": [
            "50/50 [==============================] - 49s 979ms/step - loss: 0.3286 - acc: 0.8690 - val_loss: 0.6479 - val_acc: 0.8000\n",
            "Epoch 37/100\n",
            "50/50 [==============================] - 48s 956ms/step - loss: 0.3721 - acc: 0.8739 - val_loss: 1.0127 - val_acc: 0.8000\n",
            "Epoch 38/100\n",
            "50/50 [==============================] - 48s 966ms/step - loss: 0.3652 - acc: 0.8675 - val_loss: 0.4462 - val_acc: 0.8000\n",
            "Epoch 39/100\n",
            "50/50 [==============================] - 47s 946ms/step - loss: 0.3109 - acc: 0.8891 - val_loss: 0.8434 - val_acc: 0.8000\n",
            "Epoch 40/100\n",
            "50/50 [==============================] - 50s 991ms/step - loss: 0.3412 - acc: 0.8808 - val_loss: 0.7655 - val_acc: 0.7500\n",
            "Epoch 41/100\n",
            "15/50 [========>.....................] - ETA: 26s - loss: 0.3582 - acc: 0.8660"
          ],
          "name": "stdout"
        },
        {
          "output_type": "stream",
          "text": [
            "50/50 [==============================] - 49s 982ms/step - loss: 0.3169 - acc: 0.8875 - val_loss: 0.6750 - val_acc: 0.7500\n",
            "Epoch 42/100\n",
            "50/50 [==============================] - 49s 970ms/step - loss: 0.3098 - acc: 0.8929 - val_loss: 0.6380 - val_acc: 0.8000\n",
            "Epoch 43/100\n",
            "50/50 [==============================] - 50s 993ms/step - loss: 0.3611 - acc: 0.8725 - val_loss: 0.7689 - val_acc: 0.8000\n",
            "Epoch 44/100\n",
            "50/50 [==============================] - 50s 1s/step - loss: 0.2898 - acc: 0.8938 - val_loss: 0.7918 - val_acc: 0.8500\n",
            "Epoch 45/100\n",
            "50/50 [==============================] - 50s 1s/step - loss: 0.2933 - acc: 0.8883 - val_loss: 0.4952 - val_acc: 0.8000\n",
            "Epoch 46/100\n",
            "16/50 [========>.....................] - ETA: 24s - loss: 0.3078 - acc: 0.8952"
          ],
          "name": "stdout"
        },
        {
          "output_type": "stream",
          "text": [
            "50/50 [==============================] - 50s 997ms/step - loss: 0.3177 - acc: 0.8813 - val_loss: 0.8710 - val_acc: 0.8000\n",
            "Epoch 47/100\n",
            "50/50 [==============================] - 49s 987ms/step - loss: 0.2978 - acc: 0.8871 - val_loss: 0.8634 - val_acc: 0.8000\n",
            "Epoch 48/100\n",
            "50/50 [==============================] - 51s 1s/step - loss: 0.3509 - acc: 0.8731 - val_loss: 1.1661 - val_acc: 0.7500\n",
            "Epoch 49/100\n",
            "50/50 [==============================] - 50s 995ms/step - loss: 0.3065 - acc: 0.8877 - val_loss: 0.8341 - val_acc: 0.8000\n",
            "Epoch 50/100\n",
            "50/50 [==============================] - 49s 977ms/step - loss: 0.3130 - acc: 0.8935 - val_loss: 0.5180 - val_acc: 0.8000\n",
            "Epoch 51/100\n",
            "16/50 [========>.....................] - ETA: 27s - loss: 0.3472 - acc: 0.8952"
          ],
          "name": "stdout"
        },
        {
          "output_type": "stream",
          "text": [
            "50/50 [==============================] - 50s 991ms/step - loss: 0.3116 - acc: 0.8925 - val_loss: 0.8588 - val_acc: 0.8000\n",
            "Epoch 52/100\n",
            "50/50 [==============================] - 51s 1s/step - loss: 0.3379 - acc: 0.8838 - val_loss: 0.8968 - val_acc: 0.8500\n",
            "Epoch 53/100\n",
            "50/50 [==============================] - 50s 1s/step - loss: 0.3324 - acc: 0.8748 - val_loss: 0.8940 - val_acc: 0.8000\n",
            "Epoch 54/100\n",
            "50/50 [==============================] - 50s 998ms/step - loss: 0.3370 - acc: 0.8848 - val_loss: 0.6572 - val_acc: 0.8000\n",
            "Epoch 55/100\n",
            "50/50 [==============================] - 49s 986ms/step - loss: 0.2992 - acc: 0.8858 - val_loss: 0.9881 - val_acc: 0.8000\n",
            "Epoch 56/100\n",
            "17/50 [=========>....................] - ETA: 26s - loss: 0.2898 - acc: 0.8995"
          ],
          "name": "stdout"
        },
        {
          "output_type": "stream",
          "text": [
            "50/50 [==============================] - 50s 1s/step - loss: 0.3397 - acc: 0.8770 - val_loss: 0.9722 - val_acc: 0.8000\n",
            "Epoch 57/100\n",
            "50/50 [==============================] - 50s 993ms/step - loss: 0.2658 - acc: 0.8995 - val_loss: 0.9961 - val_acc: 0.8500\n",
            "Epoch 58/100\n",
            "50/50 [==============================] - 49s 987ms/step - loss: 0.3176 - acc: 0.8838 - val_loss: 1.0238 - val_acc: 0.8000\n",
            "Epoch 59/100\n",
            "50/50 [==============================] - 50s 992ms/step - loss: 0.2878 - acc: 0.8971 - val_loss: 0.9063 - val_acc: 0.8500\n",
            "Epoch 60/100\n",
            "50/50 [==============================] - 51s 1s/step - loss: 0.2982 - acc: 0.8977 - val_loss: 0.9906 - val_acc: 0.8500\n",
            "Epoch 61/100\n",
            "16/50 [========>.....................] - ETA: 24s - loss: 0.2325 - acc: 0.9056"
          ],
          "name": "stdout"
        },
        {
          "output_type": "stream",
          "text": [
            "50/50 [==============================] - 50s 994ms/step - loss: 0.5046 - acc: 0.8500 - val_loss: 0.7366 - val_acc: 0.8000\n",
            "Epoch 62/100\n",
            "50/50 [==============================] - 50s 1s/step - loss: 0.2542 - acc: 0.9063 - val_loss: 0.8492 - val_acc: 0.8000\n",
            "Epoch 63/100\n",
            "50/50 [==============================] - 50s 995ms/step - loss: 0.2779 - acc: 0.9061 - val_loss: 0.7686 - val_acc: 0.8000\n",
            "Epoch 64/100\n",
            "50/50 [==============================] - 52s 1s/step - loss: 0.2950 - acc: 0.9015 - val_loss: 0.8810 - val_acc: 0.7500\n",
            "Epoch 65/100\n",
            "50/50 [==============================] - 51s 1s/step - loss: 0.2992 - acc: 0.8907 - val_loss: 0.7214 - val_acc: 0.7500\n",
            "Epoch 66/100\n",
            "16/50 [========>.....................] - ETA: 25s - loss: 0.2760 - acc: 0.9004"
          ],
          "name": "stdout"
        },
        {
          "output_type": "stream",
          "text": [
            "50/50 [==============================] - 49s 987ms/step - loss: 0.2642 - acc: 0.8987 - val_loss: 0.9548 - val_acc: 0.8000\n",
            "Epoch 67/100\n",
            "50/50 [==============================] - 49s 976ms/step - loss: 0.2593 - acc: 0.9082 - val_loss: 1.0774 - val_acc: 0.8000\n",
            "Epoch 68/100\n",
            "50/50 [==============================] - 51s 1s/step - loss: 0.2865 - acc: 0.8979 - val_loss: 0.8092 - val_acc: 0.7500\n",
            "Epoch 69/100\n",
            "50/50 [==============================] - 50s 1000ms/step - loss: 0.2634 - acc: 0.9075 - val_loss: 0.8700 - val_acc: 0.7500\n",
            "Epoch 70/100\n",
            "50/50 [==============================] - 51s 1s/step - loss: 0.2578 - acc: 0.9073 - val_loss: 0.7851 - val_acc: 0.7500\n",
            "Epoch 71/100\n",
            "16/50 [========>.....................] - ETA: 26s - loss: 0.3218 - acc: 0.8867"
          ],
          "name": "stdout"
        },
        {
          "output_type": "stream",
          "text": [
            "50/50 [==============================] - 49s 989ms/step - loss: 0.2779 - acc: 0.8914 - val_loss: 0.8370 - val_acc: 0.7500\n",
            "Epoch 72/100\n",
            "50/50 [==============================] - 51s 1s/step - loss: 0.2607 - acc: 0.9052 - val_loss: 0.7947 - val_acc: 0.8000\n",
            "Epoch 73/100\n",
            "50/50 [==============================] - 50s 995ms/step - loss: 0.2352 - acc: 0.9158 - val_loss: 0.6064 - val_acc: 0.8500\n",
            "Epoch 74/100\n",
            "50/50 [==============================] - 49s 989ms/step - loss: 0.6342 - acc: 0.8344 - val_loss: 0.7615 - val_acc: 0.7500\n",
            "Epoch 75/100\n",
            "50/50 [==============================] - 50s 993ms/step - loss: 0.3136 - acc: 0.8967 - val_loss: 1.0674 - val_acc: 0.8000\n",
            "Epoch 76/100\n",
            "16/50 [========>.....................] - ETA: 27s - loss: 0.3869 - acc: 0.8828"
          ],
          "name": "stdout"
        },
        {
          "output_type": "stream",
          "text": [
            "50/50 [==============================] - 51s 1s/step - loss: 0.3282 - acc: 0.8845 - val_loss: 0.6869 - val_acc: 0.8000\n",
            "Epoch 77/100\n",
            "50/50 [==============================] - 49s 979ms/step - loss: 0.2437 - acc: 0.9088 - val_loss: 0.7877 - val_acc: 0.7500\n",
            "Epoch 78/100\n",
            "50/50 [==============================] - 48s 967ms/step - loss: 0.2180 - acc: 0.9215 - val_loss: 0.9271 - val_acc: 0.8000\n",
            "Epoch 79/100\n",
            "50/50 [==============================] - 47s 935ms/step - loss: 0.3063 - acc: 0.9003 - val_loss: 1.0015 - val_acc: 0.8500\n",
            "Epoch 80/100\n",
            "50/50 [==============================] - 49s 986ms/step - loss: 0.2704 - acc: 0.9087 - val_loss: 0.9188 - val_acc: 0.8000\n",
            "Epoch 81/100\n",
            "16/50 [========>.....................] - ETA: 24s - loss: 0.2095 - acc: 0.9316"
          ],
          "name": "stdout"
        },
        {
          "output_type": "stream",
          "text": [
            "50/50 [==============================] - 48s 965ms/step - loss: 0.2399 - acc: 0.9203 - val_loss: 0.8852 - val_acc: 0.7500\n",
            "Epoch 82/100\n",
            "50/50 [==============================] - 48s 968ms/step - loss: 0.2196 - acc: 0.9216 - val_loss: 0.7347 - val_acc: 0.8500\n",
            "Epoch 83/100\n",
            "50/50 [==============================] - 49s 971ms/step - loss: 0.2812 - acc: 0.8969 - val_loss: 0.6571 - val_acc: 0.8000\n",
            "Epoch 84/100\n",
            "50/50 [==============================] - 49s 982ms/step - loss: 0.2271 - acc: 0.9092 - val_loss: 0.9517 - val_acc: 0.7500\n",
            "Epoch 85/100\n",
            "50/50 [==============================] - 49s 974ms/step - loss: 0.3195 - acc: 0.9029 - val_loss: 0.8293 - val_acc: 0.7500\n",
            "Epoch 86/100\n",
            "15/50 [========>.....................] - ETA: 26s - loss: 0.2603 - acc: 0.9125"
          ],
          "name": "stdout"
        },
        {
          "output_type": "stream",
          "text": [
            "50/50 [==============================] - 48s 968ms/step - loss: 0.3029 - acc: 0.8952 - val_loss: 0.7863 - val_acc: 0.8000\n",
            "Epoch 87/100\n",
            "50/50 [==============================] - 49s 982ms/step - loss: 0.2704 - acc: 0.9119 - val_loss: 1.0347 - val_acc: 0.8000\n",
            "Epoch 88/100\n",
            "50/50 [==============================] - 51s 1s/step - loss: 0.2402 - acc: 0.9131 - val_loss: 0.8649 - val_acc: 0.8000\n",
            "Epoch 89/100\n",
            "50/50 [==============================] - 49s 983ms/step - loss: 0.2096 - acc: 0.9262 - val_loss: 0.8301 - val_acc: 0.8000\n",
            "Epoch 90/100\n",
            "50/50 [==============================] - 51s 1s/step - loss: 0.2176 - acc: 0.9208 - val_loss: 0.8776 - val_acc: 0.8000\n",
            "Epoch 91/100\n",
            "16/50 [========>.....................] - ETA: 26s - loss: 0.2765 - acc: 0.8835"
          ],
          "name": "stdout"
        },
        {
          "output_type": "stream",
          "text": [
            "50/50 [==============================] - 49s 989ms/step - loss: 0.2779 - acc: 0.8964 - val_loss: 0.8807 - val_acc: 0.8500\n",
            "Epoch 92/100\n",
            "50/50 [==============================] - 51s 1s/step - loss: 0.2753 - acc: 0.9031 - val_loss: 0.7805 - val_acc: 0.8500\n",
            "Epoch 93/100\n",
            "50/50 [==============================] - 49s 989ms/step - loss: 0.2398 - acc: 0.9146 - val_loss: 0.6139 - val_acc: 0.8000\n",
            "Epoch 94/100\n",
            "50/50 [==============================] - 50s 1s/step - loss: 0.2268 - acc: 0.9183 - val_loss: 0.5658 - val_acc: 0.8500\n",
            "Epoch 95/100\n",
            "50/50 [==============================] - 48s 968ms/step - loss: 0.2420 - acc: 0.9156 - val_loss: 0.8432 - val_acc: 0.8500\n",
            "Epoch 96/100\n",
            "16/50 [========>.....................] - ETA: 28s - loss: 0.2443 - acc: 0.9206"
          ],
          "name": "stdout"
        },
        {
          "output_type": "stream",
          "text": [
            "50/50 [==============================] - 51s 1s/step - loss: 0.2244 - acc: 0.9181 - val_loss: 0.8286 - val_acc: 0.8000\n",
            "Epoch 97/100\n",
            "50/50 [==============================] - 50s 997ms/step - loss: 0.2802 - acc: 0.9090 - val_loss: 0.9493 - val_acc: 0.8500\n",
            "Epoch 98/100\n",
            "50/50 [==============================] - 49s 984ms/step - loss: 0.2250 - acc: 0.9212 - val_loss: 0.7255 - val_acc: 0.8500\n",
            "Epoch 99/100\n",
            "50/50 [==============================] - 49s 983ms/step - loss: 0.2207 - acc: 0.9185 - val_loss: 1.1447 - val_acc: 0.7500\n",
            "Epoch 100/100\n",
            "50/50 [==============================] - 51s 1s/step - loss: 0.2554 - acc: 0.9176 - val_loss: 0.6974 - val_acc: 0.8500\n"
          ],
          "name": "stdout"
        }
      ]
    },
    {
      "metadata": {
        "id": "ZitpSzxGbPuY",
        "colab_type": "code",
        "colab": {
          "autoexec": {
            "startup": false,
            "wait_interval": 0
          },
          "output_extras": [
            {
              "item_id": 1
            },
            {
              "item_id": 2
            }
          ],
          "base_uri": "https://localhost:8080/",
          "height": 708
        },
        "outputId": "8e225da8-d8c6-48a0-d361-9e83640706b1",
        "executionInfo": {
          "status": "ok",
          "timestamp": 1521185481645,
          "user_tz": -480,
          "elapsed": 3204,
          "user": {
            "displayName": "Cugtyt",
            "photoUrl": "//lh4.googleusercontent.com/-QxlWCi_owQ0/AAAAAAAAAAI/AAAAAAAAAC4/wNSYjuh_4x4/s50-c-k-no/photo.jpg",
            "userId": "100389950431846051928"
          }
        }
      },
      "cell_type": "code",
      "source": [
        "acc_his.append(history.history['acc'])\n",
        "val_acc_his.append(history.history['val_acc'])\n",
        "loss_his.append(history.history['loss'])\n",
        "val_loss_his.append(history.history['val_loss'])\n",
        "\n",
        "acc = history.history['acc']\n",
        "val_acc = history.history['val_acc']\n",
        "loss = history.history['loss']\n",
        "val_loss = history.history['val_loss']\n",
        "\n",
        "epochs = range(1, len(acc) + 1)\n",
        "\n",
        "plt.plot(epochs, acc, 'bo', label='Training acc')\n",
        "plt.plot(epochs, val_acc, 'b', label='Validation acc')\n",
        "plt.title('Training and validation accuracy')\n",
        "plt.legend()\n",
        "\n",
        "plt.figure()\n",
        "\n",
        "plt.plot(epochs, loss, 'bo', label='Training loss')\n",
        "plt.plot(epochs, val_loss, 'b', label='Validation loss')\n",
        "plt.title('Training and validation loss')\n",
        "plt.legend()\n",
        "\n",
        "plt.show()            "
      ],
      "execution_count": 15,
      "outputs": [
        {
          "output_type": "display_data",
          "data": {
            "image/png": "[encoded data removed]",
            "text/plain": [
              "<matplotlib.figure.Figure at 0x7f29adade4a8>"
            ]
          },
          "metadata": {
            "tags": []
          }
        },
        {
          "output_type": "display_data",
          "data": {
            "image/png": "[encoded data removed]",
            "text/plain": [
              "<matplotlib.figure.Figure at 0x7f29ada744e0>"
            ]
          },
          "metadata": {
            "tags": []
          }
        }
      ]
    },
    {
      "metadata": {
        "id": "AYHznsN9utUy",
        "colab_type": "code",
        "colab": {
          "autoexec": {
            "startup": false,
            "wait_interval": 0
          },
          "output_extras": [
            {
              "item_id": 1
            }
          ],
          "base_uri": "https://localhost:8080/",
          "height": 35
        },
        "outputId": "5d0ba625-cb9d-480d-c23f-f87e25916474",
        "executionInfo": {
          "status": "ok",
          "timestamp": 1521186039220,
          "user_tz": -480,
          "elapsed": 832,
          "user": {
            "displayName": "Cugtyt",
            "photoUrl": "//lh4.googleusercontent.com/-QxlWCi_owQ0/AAAAAAAAAAI/AAAAAAAAAC4/wNSYjuh_4x4/s50-c-k-no/photo.jpg",
            "userId": "100389950431846051928"
          }
        }
      },
      "cell_type": "code",
      "source": [
        "# val_loss = [a for a in val_loss_his[0]]\n",
        "# val_loss.extend(val_loss_his[1])\n",
        "len(val_loss_his)"
      ],
      "execution_count": 28,
      "outputs": [
        {
          "output_type": "execute_result",
          "data": {
            "text/plain": [
              "1"
            ]
          },
          "metadata": {
            "tags": []
          },
          "execution_count": 28
        }
      ]
    },
    {
      "metadata": {
        "id": "q81dc0v6Mc3v",
        "colab_type": "code",
        "colab": {
          "autoexec": {
            "startup": false,
            "wait_interval": 0
          }
        }
      },
      "cell_type": "code",
      "source": [
        "model.save('./drive/data/model/vanilla_drop.h5')                  \n"
      ],
      "execution_count": 0,
      "outputs": []
    }
  ]
}