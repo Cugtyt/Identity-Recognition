{
 "cells": [
  {
   "cell_type": "code",
   "execution_count": 1,
   "metadata": {
    "colab": {
     "autoexec": {
      "startup": false,
      "wait_interval": 0
     },
     "base_uri": "https://localhost:8080/",
     "height": 109,
     "output_extras": [
      {
       "item_id": 4
      }
     ]
    },
    "colab_type": "code",
    "executionInfo": {
     "elapsed": 17714,
     "status": "ok",
     "timestamp": 1521167881498,
     "user": {
      "displayName": "Cugtyt",
      "photoUrl": "//lh4.googleusercontent.com/-QxlWCi_owQ0/AAAAAAAAAAI/AAAAAAAAAC4/wNSYjuh_4x4/s50-c-k-no/photo.jpg",
      "userId": "100389950431846051928"
     },
     "user_tz": -480
    },
    "id": "o97ndlwakCai",
    "outputId": "e304a7d2-2766-41a8-c235-7eda7b729775"
   },
   "outputs": [
    {
     "name": "stdout",
     "output_type": "stream",
     "text": [
      "Please, open the following URL in a web browser: https://accounts.google.com/o/oauth2/auth?client_id=32555940559.apps.googleusercontent.com&redirect_uri=urn%3Aietf%3Awg%3Aoauth%3A2.0%3Aoob&scope=https%3A%2F%2Fwww.googleapis.com%2Fauth%2Fdrive&response_type=code&access_type=offline&approval_prompt=force\r\n",
      "··········\n",
      "Please, open the following URL in a web browser: https://accounts.google.com/o/oauth2/auth?client_id=32555940559.apps.googleusercontent.com&redirect_uri=urn%3Aietf%3Awg%3Aoauth%3A2.0%3Aoob&scope=https%3A%2F%2Fwww.googleapis.com%2Fauth%2Fdrive&response_type=code&access_type=offline&approval_prompt=force\n",
      "Please enter the verification code: Access token retrieved correctly.\n"
     ]
    }
   ],
   "source": [
    "!apt-get install -y -qq software-properties-common python-software-properties module-init-tools\n",
    "!add-apt-repository -y ppa:alessandro-strada/ppa 2>&1 > /dev/null\n",
    "!apt-get update -qq 2>&1 > /dev/null\n",
    "!apt-get -y install -qq google-drive-ocamlfuse fuse\n",
    "from google.colab import auth\n",
    "auth.authenticate_user()\n",
    "from oauth2client.client import GoogleCredentials\n",
    "creds = GoogleCredentials.get_application_default()\n",
    "import getpass\n",
    "!google-drive-ocamlfuse -headless -id={creds.client_id} -secret={creds.client_secret} < /dev/null 2>&1 | grep URL\n",
    "vcode = getpass.getpass()\n",
    "!echo {vcode} | google-drive-ocamlfuse -headless -id={creds.client_id} -secret={creds.client_secret}"
   ]
  },
  {
   "cell_type": "code",
   "execution_count": 0,
   "metadata": {
    "colab": {
     "autoexec": {
      "startup": false,
      "wait_interval": 0
     }
    },
    "colab_type": "code",
    "id": "hxHo_BjNkRI4"
   },
   "outputs": [],
   "source": [
    "!mkdir -p drive\n",
    "!google-drive-ocamlfuse drive"
   ]
  },
  {
   "cell_type": "code",
   "execution_count": 0,
   "metadata": {
    "colab": {
     "autoexec": {
      "startup": false,
      "wait_interval": 0
     }
    },
    "colab_type": "code",
    "id": "b-dqEoWDsEak"
   },
   "outputs": [],
   "source": [
    "!pip install -q keras"
   ]
  },
  {
   "cell_type": "code",
   "execution_count": 0,
   "metadata": {
    "colab": {
     "autoexec": {
      "startup": false,
      "wait_interval": 0
     }
    },
    "colab_type": "code",
    "id": "TzCUcLFDoIvX"
   },
   "outputs": [],
   "source": [
    "from pathlib import Path\n",
    "from sklearn.model_selection import train_test_split\n",
    "import shutil\n",
    "from PIL import Image\n",
    "import numpy as np\n",
    "from sklearn.preprocessing import LabelEncoder\n",
    "from keras.preprocessing.image import ImageDataGenerator\n",
    "from keras import layers\n",
    "from keras import models\n",
    "from keras import optimizers"
   ]
  },
  {
   "cell_type": "code",
   "execution_count": 0,
   "metadata": {
    "colab": {
     "autoexec": {
      "startup": false,
      "wait_interval": 0
     }
    },
    "colab_type": "code",
    "id": "VRzXPLEWicaV"
   },
   "outputs": [],
   "source": [
    "def load_data(data_path: str, test_size=0.2, random_state=42, info=False):\n",
    "    \"\"\"Load data from file.\n",
    "    \n",
    "    Args:\n",
    "        data_path: str, file path to read data\n",
    "        test_size: float, the ratio of test / all\n",
    "        random_state: int, random seed to split data\n",
    "        info: bool, control info print\n",
    "    Returns:\n",
    "        train_data: np.array, train set\n",
    "        test_data: np.array, test set\n",
    "    \"\"\"\n",
    "    # imgs = [np.array(Image.open(d)) for d in Path(data_path).iterdir()]\n",
    "    imgs = []\n",
    "    for d in Path(data_path).iterdir():\n",
    "        if info:\n",
    "            print('Load image: ' + d.name)\n",
    "        imgs.append(np.array(Image.open(d)))\n",
    "    data = np.array(imgs)\n",
    "    train_data, test_data = train_test_split(\n",
    "        data, test_size=test_size, random_state=random_state)\n",
    "    return train_data, test_data"
   ]
  },
  {
   "cell_type": "code",
   "execution_count": 0,
   "metadata": {
    "colab": {
     "autoexec": {
      "startup": false,
      "wait_interval": 0
     }
    },
    "colab_type": "code",
    "id": "stCMhyhLi9Qh"
   },
   "outputs": [],
   "source": [
    "def load_label(label_path: str, test_size=0.2, random_state=42):\n",
    "    \"\"\"Load label from file.\n",
    "    \n",
    "    Args:\n",
    "        label_path: str, file path to read label\n",
    "        test_size: float, the ratio of test / all, \n",
    "            this arg should match up test_size in load_data\n",
    "        random_state: int, random seed to split data\n",
    "            this arg should match up random_state in load_data\n",
    "    \"\"\"\n",
    "    with open(label_path, 'r') as f:\n",
    "        labels = f.readline()\n",
    "    train_label, test_label = train_test_split(\n",
    "        labels.split('\\t'), test_size=test_size, random_state=random_state)\n",
    "    le = LabelEncoder()\n",
    "    le.fit(train_label)\n",
    "    return le.transform(train_label), le.transform(test_label)"
   ]
  },
  {
   "cell_type": "code",
   "execution_count": 0,
   "metadata": {
    "colab": {
     "autoexec": {
      "startup": false,
      "wait_interval": 0
     }
    },
    "colab_type": "code",
    "id": "_ERrQBLYouZg"
   },
   "outputs": [],
   "source": [
    "train_label, test_label = load_label('./drive/data/FacePlace/AsianSample.txt')"
   ]
  },
  {
   "cell_type": "code",
   "execution_count": 35,
   "metadata": {
    "colab": {
     "autoexec": {
      "startup": false,
      "wait_interval": 0
     },
     "base_uri": "https://localhost:8080/",
     "height": 4805,
     "output_extras": [
      {
       "item_id": 2
      }
     ]
    },
    "colab_type": "code",
    "executionInfo": {
     "elapsed": 1742,
     "status": "ok",
     "timestamp": 1521097765783,
     "user": {
      "displayName": "Cugtyt",
      "photoUrl": "//lh4.googleusercontent.com/-QxlWCi_owQ0/AAAAAAAAAAI/AAAAAAAAAC4/wNSYjuh_4x4/s50-c-k-no/photo.jpg",
      "userId": "100389950431846051928"
     },
     "user_tz": -480
    },
    "id": "gkRSqhOQpxGL",
    "outputId": "ee85384e-0d8e-49fb-8222-4224582c239b"
   },
   "outputs": [
    {
     "name": "stdout",
     "output_type": "stream",
     "text": [
      "Load image: AM0302_1100_60L.jpg\n",
      "Load image: AM0302_1100_30L.jpg\n",
      "Load image: AM0302_1100_45L.jpg\n",
      "Load image: AM0302_1100_45R.jpg\n",
      "Load image: AM0302_1100_DI.jpg\n",
      "Load image: AM0302_1100_HA.jpg\n",
      "Load image: AM0302_1100_SU.jpg\n",
      "Load image: AM0302_1100_NE.jpg\n",
      "Load image: AM0302_2201_30L.jpg\n",
      "Load image: AM0302_1100_SA.jpg\n",
      "Load image: AM0302_2201_00F.jpg\n",
      "Load image: AM0302_2201_45L.jpg\n",
      "Load image: AM0302_2201_45R.jpg\n",
      "Load image: AM0302_2201_30R.jpg\n",
      "Load image: AM0302_2201_60L.jpg\n",
      "Load image: AM0302_2201_90L.jpg\n",
      "Load image: AM0303_1100_30L.jpg\n",
      "Load image: AM0303_1100_00F.jpg\n",
      "Load image: AM0302_2201_90R.jpg\n",
      "Load image: AM0302_2201_NE.jpg\n",
      "Load image: AM0303_1100_45R.jpg\n",
      "Load image: AM0302_2201_60R.jpg\n",
      "Load image: AM0303_1100_45L.jpg\n",
      "Load image: AM0303_1100_30R.jpg\n",
      "Load image: AM0303_1100_60L.jpg\n",
      "Load image: AM0303_1100_HA.jpg\n",
      "Load image: AM0303_2201_00F.jpg\n",
      "Load image: AM0303_1100_NE.jpg\n",
      "Load image: AM0303_1100_60R.jpg\n",
      "Load image: AM0303_1100_DI.jpg\n",
      "Load image: AM0303_1100_SA.jpg\n",
      "Load image: AM0303_1100_90L.jpg\n",
      "Load image: AM0303_1100_CO.jpg\n",
      "Load image: AM0303_1100_90R.jpg\n",
      "Load image: AM0303_2201_30L.jpg\n",
      "Load image: AM0303_2201_90L.jpg\n",
      "Load image: AM0303_2201_NE.jpg\n",
      "Load image: AM0303_2201_30R.jpg\n",
      "Load image: AM0303_2201_90R.jpg\n",
      "Load image: AM0303_2201_60R.jpg\n",
      "Load image: AM0303_2201_60L.jpg\n",
      "Load image: AM0303_3310_00F.jpg\n",
      "Load image: AM0303_2201_45L.jpg\n",
      "Load image: AM0303_2201_45R.jpg\n",
      "Load image: AM0303_3310_30L.jpg\n",
      "Load image: AM0303_3310_60L.jpg\n",
      "Load image: AM0303_3310_30R.jpg\n",
      "Load image: AM0303_3310_45R.jpg\n",
      "Load image: AM0303_3310_45L.jpg\n",
      "Load image: AM0303_3310_90L.jpg\n",
      "Load image: AM0303_3310_60R.jpg\n",
      "Load image: AM0303_3310_NE.jpg\n",
      "Load image: AM0304_1100_00F.jpg\n",
      "Load image: AM0303_3310_90R.jpg\n",
      "Load image: AM0304_1100_30L.jpg\n",
      "Load image: AM0304_1100_60L.jpg\n",
      "Load image: AM0304_1100_45L.jpg\n",
      "Load image: AM0304_1100_HA.jpg\n",
      "Load image: AM0304_1100_90L.jpg\n",
      "Load image: AM0304_1100_90R.jpg\n",
      "Load image: AM0304_1100_45R.jpg\n",
      "Load image: AM0304_1100_30R.jpg\n",
      "Load image: AM0304_1100_60R.jpg\n",
      "Load image: AM0304_1100_DI.jpg\n",
      "Load image: AM0304_1100_NE.jpg\n",
      "Load image: AM0304_2201_90L.jpg\n",
      "Load image: AM0304_2201_00F.jpg\n",
      "Load image: AM0304_2201_30L.jpg\n",
      "Load image: AM0304_1100_SA.jpg\n",
      "Load image: AM0304_2201_45L.jpg\n",
      "Load image: AM0304_2201_60R.jpg\n",
      "Load image: AM0304_2201_60L.jpg\n",
      "Load image: AM0304_2201_45R.jpg\n",
      "Load image: AM0304_2201_30R.jpg\n",
      "Load image: AM0304_2201_90R.jpg\n",
      "Load image: AM0304_2201_NE.jpg\n",
      "Load image: AM0305_1101_00F.jpg\n",
      "Load image: AM0305_1101_30R.jpg\n",
      "Load image: AM0305_1101_45L.jpg\n",
      "Load image: AM0304_2201_HA.jpg\n",
      "Load image: AM0305_1101_30L.jpg\n",
      "Load image: AM0305_1101_60L.jpg\n",
      "Load image: AM0305_1101_45R.jpg\n",
      "Load image: AM0305_1101_60R.jpg\n",
      "Load image: AM0305_1101_90L.jpg\n",
      "Load image: AM0305_2202_45L.jpg\n",
      "Load image: AM0305_1101_SA.jpg\n",
      "Load image: AM0305_1101_HA.jpg\n",
      "Load image: AM0305_1101_NE.jpg\n",
      "Load image: AM0305_2202_30L.jpg\n",
      "Load image: AM0305_1101_90R.jpg\n",
      "Load image: AM0305_2202_30R.jpg\n",
      "Load image: AM0305_1101_AN.jpg\n",
      "Load image: AM0305_2202_00F.jpg\n",
      "Load image: AM0305_2202_45R.jpg\n",
      "Load image: AM0305_2202_90R.jpg\n",
      "Load image: AM0305_2202_60L.jpg\n",
      "Load image: AM0305_2202_60R.jpg\n",
      "Load image: AM0305_2202_NE.jpg\n",
      "Load image: AM0305_2202_90L.jpg\n",
      "Load image: AF0303_1110_SA.jpg\n",
      "Load image: AF0303_2211_45R.jpg\n",
      "Load image: AF0303_2211_45L.jpg\n",
      "Load image: AF0303_2211_60L.jpg\n",
      "Load image: AF0303_2211_60R.jpg\n",
      "Load image: AF0304_1100_30R.jpg\n",
      "Load image: AF0303_2211_90R.jpg\n",
      "Load image: AF0303_2211_NE.jpg\n",
      "Load image: AF0304_1100_30L.jpg\n",
      "Load image: AF0303_2211_90L.jpg\n",
      "Load image: AF0304_1100_00F.jpg\n",
      "Load image: AF0304_1100_45L.jpg\n",
      "Load image: AF0304_1100_60L.jpg\n",
      "Load image: AF0304_1100_45R.jpg\n",
      "Load image: AF0304_1100_60R.jpg\n",
      "Load image: AF0304_1101_HA.jpg\n",
      "Load image: AF0304_1101_DI.jpg\n",
      "Load image: AF0304_1100_90R.jpg\n",
      "Load image: AF0304_1101_NE.jpg\n",
      "Load image: AF0304_1101_CO.jpg\n",
      "Load image: AF0304_1100_90L.jpg\n",
      "Load image: AF0304_1101_SU.jpg\n",
      "Load image: AF0304_1101_SA.jpg\n",
      "Load image: AF0304_2201_00F.jpg\n",
      "Load image: AF0304_2201_30L.jpg\n",
      "Load image: AF0304_2201_45L.jpg\n",
      "Load image: AF0304_2201_30R.jpg\n",
      "Load image: AF0304_2201_60L.jpg\n",
      "Load image: AF0304_2201_45R.jpg\n",
      "Load image: AF0304_2201_60R.jpg\n",
      "Load image: AF0304_2201_NE.jpg\n",
      "Load image: AF0305_1100_00F.jpg\n",
      "Load image: AF0304_2201_90L.jpg\n",
      "Load image: AF0304_2201_90R.jpg\n",
      "Load image: AF0305_1100_30L.jpg\n",
      "Load image: AF0305_1100_60L.jpg\n",
      "Load image: AF0305_1100_30R.jpg\n",
      "Load image: AF0305_1100_45L.jpg\n",
      "Load image: AF0305_1100_60R.jpg\n",
      "Load image: AF0305_1100_45R.jpg\n",
      "Load image: AF0305_1100_90R.jpg\n",
      "Load image: AF0305_1100_90L.jpg\n",
      "Load image: AF0305_1100_DI.jpg\n",
      "Load image: AF0305_1100_CO.jpg\n",
      "Load image: AF0305_1100_FE.jpg\n",
      "Load image: AF0305_2201_30L.jpg\n",
      "Load image: AF0305_2201_00F.jpg\n",
      "Load image: AF0305_1100_HA.jpg\n",
      "Load image: AF0305_1100_SU.jpg\n",
      "Load image: AF0305_1100_NE.jpg\n",
      "Load image: AF0305_1100_SA.jpg\n",
      "Load image: AF0305_2201_45L.jpg\n",
      "Load image: AF0305_2201_45R.jpg\n",
      "Load image: AF0305_2201_30R.jpg\n",
      "Load image: AF0305_2201_60L.jpg\n",
      "Load image: AF0305_2201_60R.jpg\n",
      "Load image: AF0305_3112_30L.jpg\n",
      "Load image: AF0305_2201_90L.jpg\n",
      "Load image: AF0305_3112_00F.jpg\n",
      "Load image: AF0305_2201_NE.jpg\n",
      "Load image: AF0305_2201_90R.jpg\n",
      "Load image: AF0305_3112_45L.jpg\n",
      "Load image: AF0305_3112_45R.jpg\n",
      "Load image: AF0305_3112_30R.jpg\n",
      "Load image: AF0305_3112_60L.jpg\n",
      "Load image: AF0305_3112_60R.jpg\n",
      "Load image: AM0301_1101_45L.jpg\n",
      "Load image: AM0301_1101_30L.jpg\n",
      "Load image: AF0305_3112_90R.jpg\n",
      "Load image: AF0305_3112_NE.jpg\n",
      "Load image: AF0305_3112_90L.jpg\n",
      "Load image: AM0301_1101_30R.jpg\n",
      "Load image: AM0301_1101_45R.jpg\n",
      "Load image: AM0301_1101_00F.jpg\n",
      "Load image: AM0301_1101_60L.jpg\n",
      "Load image: AM0301_1101_90R.jpg\n",
      "Load image: AM0301_1101_DI.jpg\n",
      "Load image: AM0301_1101_90L.jpg\n",
      "Load image: AM0301_1101_HA.jpg\n",
      "Load image: AM0301_1101_CO.jpg\n",
      "Load image: AM0301_1101_60R.jpg\n",
      "Load image: AM0301_1101_SA.jpg\n",
      "Load image: AM0301_1101_SU.jpg\n",
      "Load image: AM0301_1101_NE.jpg\n",
      "Load image: AM0301_2201_00F.jpg\n",
      "Load image: AM0301_2201_NE.jpg\n",
      "Load image: AM0301_2201_90L.jpg\n",
      "Load image: AM0301_2201_45L.jpg\n",
      "Load image: AM0301_2201_30L.jpg\n",
      "Load image: AM0301_2201_60R.jpg\n",
      "Load image: AM0301_2201_45R.jpg\n",
      "Load image: AM0301_2201_60L.jpg\n",
      "Load image: AM0301_2201_30R.jpg\n",
      "Load image: AM0301_2201_90R.jpg\n",
      "Load image: AM0302_1100_00F.jpg\n",
      "Load image: AM0302_1100_60R.jpg\n",
      "Load image: AM0302_1100_90L.jpg\n",
      "Load image: AM0302_1100_30R.jpg\n",
      "Load image: AM0302_1100_90R.jpg\n",
      "Load image: AM0302_1100_CO.jpg\n",
      "Load image: AF0301_1100_00F.jpg\n",
      "Load image: AF0301_1100_45L.jpg\n",
      "Load image: AF0301_1100_90R.jpg\n",
      "Load image: AF0301_1100_60L.jpg\n",
      "Load image: AF0301_1100_90L.jpg\n",
      "Load image: AF0301_1100_30R.jpg\n",
      "Load image: AF0301_1100_30L.jpg\n",
      "Load image: AF0301_1100_CO.jpg\n",
      "Load image: AF0301_1100_45R.jpg\n",
      "Load image: AF0301_1100_60R.jpg\n",
      "Load image: AF0301_1100_DI.jpg\n",
      "Load image: AF0301_1100_HA.jpg\n",
      "Load image: AF0301_2201_45R.jpg\n",
      "Load image: AF0301_1100_FE.jpg\n",
      "Load image: AF0301_1100_NE.jpg\n",
      "Load image: AF0301_2201_00F.jpg\n",
      "Load image: AF0301_2201_30R.jpg\n",
      "Load image: AF0301_2201_30L.jpg\n",
      "Load image: AF0301_1100_SA.jpg\n",
      "Load image: AF0301_2201_45L.jpg\n",
      "Load image: AF0301_2201_60L.jpg\n",
      "Load image: AF0301_2201_90R.jpg\n",
      "Load image: AF0301_2201_90L.jpg\n",
      "Load image: AF0302_1110_00F.jpg\n",
      "Load image: AF0301_2201_NE.jpg\n",
      "Load image: AF0301_2201_60R.jpg\n",
      "Load image: AF0302_1110_30L.jpg\n",
      "Load image: AF0302_1110_30R.jpg\n",
      "Load image: AF0302_1110_45R.jpg\n",
      "Load image: AF0302_1110_45L.jpg\n",
      "Load image: AF0302_1110_60L.jpg\n",
      "Load image: AF0302_1110_HA.jpg\n",
      "Load image: AF0302_1110_90R.jpg\n",
      "Load image: AF0302_1110_90L.jpg\n",
      "Load image: AF0302_1110_60R.jpg\n",
      "Load image: AF0302_1110_DI.jpg\n",
      "Load image: AF0302_1110_FE.jpg\n",
      "Load image: AF0302_2211_00F.jpg\n",
      "Load image: AF0302_1110_SA.jpg\n",
      "Load image: AF0302_1110_NE.jpg\n",
      "Load image: AF0302_2211_30L.jpg\n",
      "Load image: AF0302_2211_45L.jpg\n",
      "Load image: AF0302_2211_90L.jpg\n",
      "Load image: AF0302_2211_60L.jpg\n",
      "Load image: AF0302_2211_30R.jpg\n",
      "Load image: AF0302_2211_60R.jpg\n",
      "Load image: AF0302_2211_45R.jpg\n",
      "Load image: AF0302_2211_NE.jpg\n",
      "Load image: AF0302_2211_90R.jpg\n",
      "Load image: AF0303_1110_00F.jpg\n",
      "Load image: AF0303_1110_30L.jpg\n",
      "Load image: AF0303_1110_60R.jpg\n",
      "Load image: AF0303_1110_60L.jpg\n",
      "Load image: AF0303_1110_CO.jpg\n",
      "Load image: AF0303_1110_45L.jpg\n",
      "Load image: AF0303_1110_90L.jpg\n",
      "Load image: AF0303_1110_DI.jpg\n",
      "Load image: AF0303_1110_45R.jpg\n",
      "Load image: AF0303_1110_30R.jpg\n",
      "Load image: AF0303_1110_90R.jpg\n",
      "Load image: AF0303_1110_HA.jpg\n",
      "Load image: AF0303_2211_30R.jpg\n",
      "Load image: AF0303_1110_SU.jpg\n",
      "Load image: AF0303_2211_00F.jpg\n",
      "Load image: AF0303_2211_30L.jpg\n",
      "Load image: AF0303_1110_NE.jpg\n"
     ]
    }
   ],
   "source": [
    "train_data, test_data = load_data('./drive/data/FacePlace/AsianSample/', info=True)"
   ]
  },
  {
   "cell_type": "code",
   "execution_count": 0,
   "metadata": {
    "colab": {
     "autoexec": {
      "startup": false,
      "wait_interval": 0
     }
    },
    "colab_type": "code",
    "id": "lsYgU9sZ6UYg"
   },
   "outputs": [],
   "source": [
    "train_data = train_data.astype('float32') / 255\n",
    "test_data = test_data.astype('float32') / 255\n",
    "\n",
    "train_data, val_data = train_test_split(train_data, test_size=0.1, random_state=42)\n",
    "train_label, val_label = train_test_split(train_label, test_size=0.1, random_state=42)"
   ]
  },
  {
   "cell_type": "code",
   "execution_count": 0,
   "metadata": {
    "colab": {
     "autoexec": {
      "startup": false,
      "wait_interval": 0
     }
    },
    "colab_type": "code",
    "id": "NaCADRie4bnD"
   },
   "outputs": [],
   "source": [
    "datagen = ImageDataGenerator(\n",
    "        featurewise_center=True,  # set input mean to 0 over the dataset\n",
    "        samplewise_center=False,  # set each sample mean to 0\n",
    "        featurewise_std_normalization=True,  # divide inputs by std of the dataset\n",
    "        samplewise_std_normalization=False,  # divide each input by its std\n",
    "        zca_whitening=False,  # apply ZCA whitening\n",
    "        rotation_range=5,  # randomly rotate images in the range (degrees, 0 to 180)\n",
    "        width_shift_range=0.1,  # randomly shift images horizontally (fraction of total width)\n",
    "        height_shift_range=0.1,  # randomly shift images vertically (fraction of total height)\n",
    "        horizontal_flip=True,  # randomly flip images\n",
    "        vertical_flip=False) # randomly flip images\n",
    "datagen.fit(train_data)"
   ]
  },
  {
   "cell_type": "code",
   "execution_count": 0,
   "metadata": {
    "colab": {
     "autoexec": {
      "startup": false,
      "wait_interval": 0
     }
    },
    "colab_type": "code",
    "id": "AEJYPs-4vIy0"
   },
   "outputs": [],
   "source": [
    "def vanilia_cnn(input_shape: tuple, classes: int):\n",
    "    \"\"\"Implement vanilla ConvNet model.\"\"\"\n",
    "    model = models.Sequential()\n",
    "    model.add(\n",
    "        layers.Conv2D(32, (3, 3), activation='relu',\n",
    "                      padding='same',\n",
    "                      input_shape=input_shape))\n",
    "    model.add(layers.Conv2D(32, (3, 3), padding='same', activation='relu'))\n",
    "    model.add(layers.Conv2D(32, (3, 3), activation='relu'))\n",
    "    model.add(layers.MaxPooling2D((2, 2)))\n",
    "    model.add(layers.Dropout(0.5))\n",
    "    \n",
    "    model.add(layers.Conv2D(64, (3, 3), padding='same', activation='relu'))\n",
    "    model.add(layers.Conv2D(64, (3, 3), padding='same', activation='relu'))\n",
    "    model.add(layers.MaxPooling2D((2, 2)))\n",
    "    model.add(layers.Dropout(0.5))\n",
    "    \n",
    "    model.add(layers.Conv2D(128, (3, 3), padding='same', activation='relu'))\n",
    "    model.add(layers.Conv2D(128, (3, 3), activation='relu'))\n",
    "    model.add(layers.Conv2D(128, (3, 3), activation='relu'))\n",
    "    model.add(layers.MaxPooling2D((2, 2)))\n",
    "    model.add(layers.Flatten())\n",
    "    model.add(layers.Dense(512, activation='relu'))\n",
    "    model.add(layers.Dense(512, activation='relu'))\n",
    "    model.add(layers.Dropout(0.5))\n",
    "    model.add(layers.Dense(classes, activation='softmax'))\n",
    "\n",
    "    model.compile(\n",
    "        optimizer='adam',\n",
    "        loss='sparse_categorical_crossentropy',\n",
    "        metrics=['accuracy'])\n",
    "\n",
    "    return model"
   ]
  },
  {
   "cell_type": "code",
   "execution_count": 41,
   "metadata": {
    "colab": {
     "autoexec": {
      "startup": false,
      "wait_interval": 0
     },
     "base_uri": "https://localhost:8080/",
     "height": 7237,
     "output_extras": [
      {
       "item_id": 102
      },
      {
       "item_id": 200
      },
      {
       "item_id": 298
      },
      {
       "item_id": 396
      },
      {
       "item_id": 494
      },
      {
       "item_id": 592
      },
      {
       "item_id": 690
      },
      {
       "item_id": 786
      },
      {
       "item_id": 883
      },
      {
       "item_id": 981
      },
      {
       "item_id": 1079
      },
      {
       "item_id": 1177
      },
      {
       "item_id": 1275
      },
      {
       "item_id": 1373
      },
      {
       "item_id": 1397
      }
     ]
    },
    "colab_type": "code",
    "executionInfo": {
     "elapsed": 866014,
     "status": "ok",
     "timestamp": 1521098642096,
     "user": {
      "displayName": "Cugtyt",
      "photoUrl": "//lh4.googleusercontent.com/-QxlWCi_owQ0/AAAAAAAAAAI/AAAAAAAAAC4/wNSYjuh_4x4/s50-c-k-no/photo.jpg",
      "userId": "100389950431846051928"
     },
     "user_tz": -480
    },
    "id": "_15-f7oE49Gl",
    "outputId": "e4c97e9d-143e-4d68-9d47-8fe2ce204ae7"
   },
   "outputs": [
    {
     "name": "stdout",
     "output_type": "stream",
     "text": [
      "Epoch 1/200\n",
      "6/6 [==============================] - 10s 2s/step - loss: 2.4458 - acc: 0.1006 - val_loss: 2.2987 - val_acc: 0.1818\n",
      "Epoch 2/200\n",
      "6/6 [==============================] - 4s 712ms/step - loss: 2.3048 - acc: 0.0957 - val_loss: 2.2943 - val_acc: 0.1364\n",
      "Epoch 3/200\n",
      "6/6 [==============================] - 4s 714ms/step - loss: 2.2919 - acc: 0.1313 - val_loss: 2.2767 - val_acc: 0.1818\n",
      "Epoch 4/200\n",
      "6/6 [==============================] - 4s 714ms/step - loss: 2.2612 - acc: 0.1165 - val_loss: 2.2990 - val_acc: 0.1364\n",
      "Epoch 5/200\n",
      "6/6 [==============================] - 4s 713ms/step - loss: 2.2664 - acc: 0.1374 - val_loss: 2.2670 - val_acc: 0.2273\n",
      "Epoch 6/200\n",
      "6/6 [==============================] - 4s 712ms/step - loss: 2.1837 - acc: 0.1264 - val_loss: 2.2385 - val_acc: 0.1364\n",
      "Epoch 7/200\n",
      "6/6 [==============================] - 4s 713ms/step - loss: 2.1194 - acc: 0.2528 - val_loss: 2.3847 - val_acc: 0.1818\n",
      "Epoch 8/200\n",
      "6/6 [==============================] - 4s 707ms/step - loss: 2.1662 - acc: 0.2064 - val_loss: 2.5198 - val_acc: 0.2727\n",
      "Epoch 9/200\n",
      "6/6 [==============================] - 4s 712ms/step - loss: 2.1319 - acc: 0.2316 - val_loss: 2.8444 - val_acc: 0.1364\n",
      "Epoch 10/200\n",
      "6/6 [==============================] - 4s 710ms/step - loss: 2.0450 - acc: 0.2838 - val_loss: 2.3538 - val_acc: 0.0909\n",
      "Epoch 11/200\n",
      "6/6 [==============================] - 4s 718ms/step - loss: 2.0354 - acc: 0.2736 - val_loss: 2.6563 - val_acc: 0.1364\n",
      "Epoch 12/200\n",
      "6/6 [==============================] - 4s 711ms/step - loss: 1.9980 - acc: 0.2788 - val_loss: 2.6468 - val_acc: 0.2273\n",
      "Epoch 13/200\n",
      "6/6 [==============================] - 4s 711ms/step - loss: 2.0055 - acc: 0.2525 - val_loss: 2.3240 - val_acc: 0.0909\n",
      "Epoch 14/200\n",
      "6/6 [==============================] - 4s 714ms/step - loss: 1.9145 - acc: 0.3270 - val_loss: 2.3373 - val_acc: 0.0909\n",
      "Epoch 15/200\n",
      "3/6 [==============>...............] - ETA: 2s - loss: 1.8686 - acc: 0.37506/6 [==============================] - 4s 713ms/step - loss: 1.8729 - acc: 0.3687 - val_loss: 2.5877 - val_acc: 0.0909\n",
      "Epoch 16/200\n",
      "6/6 [==============================] - 4s 710ms/step - loss: 1.8679 - acc: 0.3623 - val_loss: 2.3662 - val_acc: 0.0909\n",
      "Epoch 17/200\n",
      "6/6 [==============================] - 4s 715ms/step - loss: 1.7099 - acc: 0.4061 - val_loss: 2.4595 - val_acc: 0.0909\n",
      "Epoch 18/200\n",
      "6/6 [==============================] - 4s 715ms/step - loss: 1.7250 - acc: 0.4012 - val_loss: 2.7158 - val_acc: 0.0909\n",
      "Epoch 19/200\n",
      "6/6 [==============================] - 4s 715ms/step - loss: 1.7319 - acc: 0.4313 - val_loss: 2.3274 - val_acc: 0.0909\n",
      "Epoch 20/200\n",
      "6/6 [==============================] - 4s 705ms/step - loss: 1.6856 - acc: 0.4368 - val_loss: 2.4913 - val_acc: 0.0909\n",
      "Epoch 21/200\n",
      "6/6 [==============================] - 4s 710ms/step - loss: 1.6549 - acc: 0.4359 - val_loss: 2.2480 - val_acc: 0.1818\n",
      "Epoch 22/200\n",
      "6/6 [==============================] - 4s 712ms/step - loss: 1.5882 - acc: 0.4136 - val_loss: 2.2730 - val_acc: 0.2273\n",
      "Epoch 23/200\n",
      "6/6 [==============================] - 4s 716ms/step - loss: 1.4119 - acc: 0.5168 - val_loss: 3.2322 - val_acc: 0.2273\n",
      "Epoch 24/200\n",
      "6/6 [==============================] - 4s 715ms/step - loss: 1.5366 - acc: 0.4371 - val_loss: 3.1576 - val_acc: 0.0909\n",
      "Epoch 25/200\n",
      "6/6 [==============================] - 4s 714ms/step - loss: 1.4590 - acc: 0.4635 - val_loss: 3.0445 - val_acc: 0.2273\n",
      "Epoch 26/200\n",
      "6/6 [==============================] - 4s 714ms/step - loss: 1.3633 - acc: 0.5136 - val_loss: 4.7683 - val_acc: 0.0909\n",
      "Epoch 27/200\n",
      "6/6 [==============================] - 4s 714ms/step - loss: 1.2245 - acc: 0.5534 - val_loss: 5.6017 - val_acc: 0.1818\n",
      "Epoch 28/200\n",
      "6/6 [==============================] - 4s 715ms/step - loss: 1.2339 - acc: 0.5736 - val_loss: 4.7065 - val_acc: 0.2273\n",
      "Epoch 29/200\n",
      "3/6 [==============>...............] - ETA: 2s - loss: 1.0321 - acc: 0.57296/6 [==============================] - 4s 709ms/step - loss: 1.1398 - acc: 0.5429 - val_loss: 5.6351 - val_acc: 0.3182\n",
      "Epoch 30/200\n",
      "6/6 [==============================] - 4s 715ms/step - loss: 0.9901 - acc: 0.6536 - val_loss: 6.4438 - val_acc: 0.1818\n",
      "Epoch 31/200\n",
      "6/6 [==============================] - 4s 713ms/step - loss: 1.1943 - acc: 0.5829 - val_loss: 5.7957 - val_acc: 0.2273\n",
      "Epoch 32/200\n",
      "6/6 [==============================] - 4s 713ms/step - loss: 0.9779 - acc: 0.5844 - val_loss: 6.5643 - val_acc: 0.1364\n",
      "Epoch 33/200\n",
      "6/6 [==============================] - 4s 714ms/step - loss: 0.8536 - acc: 0.6838 - val_loss: 7.2991 - val_acc: 0.1364\n",
      "Epoch 34/200\n",
      "6/6 [==============================] - 4s 714ms/step - loss: 0.7777 - acc: 0.7098 - val_loss: 7.5615 - val_acc: 0.0909\n",
      "Epoch 35/200\n",
      "6/6 [==============================] - 4s 711ms/step - loss: 0.8665 - acc: 0.6632 - val_loss: 7.1574 - val_acc: 0.0909\n",
      "Epoch 36/200\n",
      "6/6 [==============================] - 4s 711ms/step - loss: 0.7434 - acc: 0.7006 - val_loss: 6.9463 - val_acc: 0.0455\n",
      "Epoch 37/200\n",
      "6/6 [==============================] - 4s 713ms/step - loss: 0.7864 - acc: 0.6948 - val_loss: 7.1007 - val_acc: 0.0909\n",
      "Epoch 38/200\n",
      "6/6 [==============================] - 4s 710ms/step - loss: 0.7107 - acc: 0.7475 - val_loss: 7.1236 - val_acc: 0.0909\n",
      "Epoch 39/200\n",
      "6/6 [==============================] - 4s 711ms/step - loss: 0.7991 - acc: 0.6954 - val_loss: 8.0844 - val_acc: 0.0909\n",
      "Epoch 40/200\n",
      "6/6 [==============================] - 4s 713ms/step - loss: 0.6796 - acc: 0.7536 - val_loss: 8.8377 - val_acc: 0.0909\n",
      "Epoch 41/200\n",
      "6/6 [==============================] - 4s 717ms/step - loss: 0.6991 - acc: 0.7209 - val_loss: 7.4826 - val_acc: 0.1364\n",
      "Epoch 42/200\n",
      "6/6 [==============================] - 4s 712ms/step - loss: 0.6681 - acc: 0.7368 - val_loss: 7.2623 - val_acc: 0.0455\n",
      "Epoch 43/200\n",
      "3/6 [==============>...............] - ETA: 2s - loss: 0.5970 - acc: 0.78126/6 [==============================] - 4s 712ms/step - loss: 0.6965 - acc: 0.7525 - val_loss: 6.8122 - val_acc: 0.0455\n",
      "Epoch 44/200\n",
      "6/6 [==============================] - 4s 710ms/step - loss: 0.7178 - acc: 0.7838 - val_loss: 4.6536 - val_acc: 0.1818\n",
      "Epoch 45/200\n",
      "6/6 [==============================] - 4s 715ms/step - loss: 0.6660 - acc: 0.7791 - val_loss: 4.5593 - val_acc: 0.0909\n",
      "Epoch 46/200\n",
      "6/6 [==============================] - 4s 714ms/step - loss: 0.4584 - acc: 0.8466 - val_loss: 7.1502 - val_acc: 0.0909\n",
      "Epoch 47/200\n",
      "6/6 [==============================] - 4s 711ms/step - loss: 0.5253 - acc: 0.7945 - val_loss: 5.5526 - val_acc: 0.0909\n",
      "Epoch 48/200\n",
      "6/6 [==============================] - 4s 713ms/step - loss: 0.4538 - acc: 0.8310 - val_loss: 5.2885 - val_acc: 0.1364\n",
      "Epoch 49/200\n",
      "6/6 [==============================] - 4s 713ms/step - loss: 0.4389 - acc: 0.8528 - val_loss: 4.7572 - val_acc: 0.0909\n",
      "Epoch 50/200\n",
      "6/6 [==============================] - 4s 714ms/step - loss: 0.5169 - acc: 0.8206 - val_loss: 4.5605 - val_acc: 0.1364\n",
      "Epoch 51/200\n",
      "6/6 [==============================] - 4s 714ms/step - loss: 0.5194 - acc: 0.8104 - val_loss: 5.3349 - val_acc: 0.1364\n",
      "Epoch 52/200\n",
      "6/6 [==============================] - 4s 713ms/step - loss: 0.4121 - acc: 0.8577 - val_loss: 6.1990 - val_acc: 0.0909\n",
      "Epoch 53/200\n",
      "6/6 [==============================] - 4s 712ms/step - loss: 0.5443 - acc: 0.8098 - val_loss: 5.2677 - val_acc: 0.1818\n",
      "Epoch 54/200\n",
      "6/6 [==============================] - 4s 717ms/step - loss: 0.4723 - acc: 0.8316 - val_loss: 7.0168 - val_acc: 0.1818\n",
      "Epoch 55/200\n",
      "6/6 [==============================] - 4s 713ms/step - loss: 0.4264 - acc: 0.8592 - val_loss: 7.2492 - val_acc: 0.1364\n",
      "Epoch 56/200\n",
      "6/6 [==============================] - 4s 713ms/step - loss: 0.4087 - acc: 0.8583 - val_loss: 9.4536 - val_acc: 0.0909\n",
      "Epoch 57/200\n",
      "3/6 [==============>...............] - ETA: 2s - loss: 0.5370 - acc: 0.82296/6 [==============================] - 4s 712ms/step - loss: 0.4525 - acc: 0.8322 - val_loss: 8.4593 - val_acc: 0.1364\n",
      "Epoch 58/200\n",
      "6/6 [==============================] - 4s 716ms/step - loss: 0.4472 - acc: 0.8635 - val_loss: 8.2014 - val_acc: 0.0909\n",
      "Epoch 59/200\n",
      "6/6 [==============================] - 4s 714ms/step - loss: 0.4588 - acc: 0.8577 - val_loss: 9.9361 - val_acc: 0.0455\n",
      "Epoch 60/200\n",
      "6/6 [==============================] - 4s 712ms/step - loss: 0.3442 - acc: 0.8638 - val_loss: 9.1447 - val_acc: 0.0455\n",
      "Epoch 61/200\n",
      "6/6 [==============================] - 4s 711ms/step - loss: 0.4988 - acc: 0.8104 - val_loss: 10.7282 - val_acc: 0.0455\n",
      "Epoch 62/200\n",
      "6/6 [==============================] - 4s 710ms/step - loss: 0.4600 - acc: 0.8632 - val_loss: 8.5166 - val_acc: 0.0455\n",
      "Epoch 63/200\n",
      "6/6 [==============================] - 4s 708ms/step - loss: 0.3256 - acc: 0.9000 - val_loss: 8.6162 - val_acc: 0.0455\n",
      "Epoch 64/200\n",
      "6/6 [==============================] - 4s 716ms/step - loss: 0.4171 - acc: 0.8791 - val_loss: 8.0792 - val_acc: 0.0909\n",
      "Epoch 65/200\n",
      "6/6 [==============================] - 4s 712ms/step - loss: 0.3207 - acc: 0.8580 - val_loss: 6.8404 - val_acc: 0.0909\n",
      "Epoch 66/200\n",
      "6/6 [==============================] - 4s 710ms/step - loss: 0.3613 - acc: 0.8684 - val_loss: 7.6423 - val_acc: 0.0909\n",
      "Epoch 67/200\n",
      "6/6 [==============================] - 4s 715ms/step - loss: 0.2868 - acc: 0.8832 - val_loss: 7.0867 - val_acc: 0.1364\n",
      "Epoch 68/200\n",
      "6/6 [==============================] - 4s 713ms/step - loss: 0.4418 - acc: 0.8151 - val_loss: 8.2886 - val_acc: 0.1364\n",
      "Epoch 69/200\n",
      "6/6 [==============================] - 4s 714ms/step - loss: 0.3855 - acc: 0.8583 - val_loss: 6.6203 - val_acc: 0.1364\n",
      "Epoch 70/200\n",
      "6/6 [==============================] - 4s 714ms/step - loss: 0.4608 - acc: 0.8267 - val_loss: 8.4686 - val_acc: 0.0909\n",
      "Epoch 71/200\n"
     ]
    },
    {
     "name": "stdout",
     "output_type": "stream",
     "text": [
      "3/6 [==============>...............] - ETA: 2s - loss: 0.3846 - acc: 0.88136/6 [==============================] - 4s 708ms/step - loss: 0.3896 - acc: 0.8730 - val_loss: 7.0727 - val_acc: 0.0909\n",
      "Epoch 72/200\n",
      "6/6 [==============================] - 4s 713ms/step - loss: 0.4881 - acc: 0.8466 - val_loss: 10.1315 - val_acc: 0.1364\n",
      "Epoch 73/200\n",
      "6/6 [==============================] - 4s 713ms/step - loss: 0.6249 - acc: 0.7896 - val_loss: 7.4557 - val_acc: 0.0909\n",
      "Epoch 74/200\n",
      "6/6 [==============================] - 4s 715ms/step - loss: 0.5006 - acc: 0.8727 - val_loss: 8.4059 - val_acc: 0.1364\n",
      "Epoch 75/200\n",
      "6/6 [==============================] - 4s 715ms/step - loss: 0.3668 - acc: 0.8583 - val_loss: 6.7985 - val_acc: 0.1364\n",
      "Epoch 76/200\n",
      "6/6 [==============================] - 4s 716ms/step - loss: 0.2402 - acc: 0.9104 - val_loss: 7.9261 - val_acc: 0.1364\n",
      "Epoch 77/200\n",
      "6/6 [==============================] - 4s 712ms/step - loss: 0.2755 - acc: 0.9055 - val_loss: 9.5461 - val_acc: 0.0909\n",
      "Epoch 78/200\n",
      "6/6 [==============================] - 4s 715ms/step - loss: 0.2685 - acc: 0.8945 - val_loss: 10.2289 - val_acc: 0.0909\n",
      "Epoch 79/200\n",
      "6/6 [==============================] - 4s 710ms/step - loss: 0.2944 - acc: 0.8788 - val_loss: 8.2293 - val_acc: 0.1818\n",
      "Epoch 80/200\n",
      "6/6 [==============================] - 4s 711ms/step - loss: 0.2480 - acc: 0.9212 - val_loss: 7.7629 - val_acc: 0.1818\n",
      "Epoch 81/200\n",
      "6/6 [==============================] - 4s 708ms/step - loss: 0.2878 - acc: 0.8896 - val_loss: 6.9271 - val_acc: 0.1364\n",
      "Epoch 82/200\n",
      "6/6 [==============================] - 4s 714ms/step - loss: 0.2836 - acc: 0.8948 - val_loss: 7.5391 - val_acc: 0.1364\n",
      "Epoch 83/200\n",
      "6/6 [==============================] - 4s 708ms/step - loss: 0.1731 - acc: 0.9261 - val_loss: 7.2259 - val_acc: 0.1364\n",
      "Epoch 84/200\n",
      "6/6 [==============================] - 4s 713ms/step - loss: 0.2710 - acc: 0.8945 - val_loss: 8.1912 - val_acc: 0.0909\n",
      "Epoch 85/200\n",
      "3/6 [==============>...............] - ETA: 2s - loss: 0.3040 - acc: 0.90626/6 [==============================] - 4s 712ms/step - loss: 0.3043 - acc: 0.8884 - val_loss: 7.1681 - val_acc: 0.0909\n",
      "Epoch 86/200\n",
      "6/6 [==============================] - 4s 733ms/step - loss: 0.1899 - acc: 0.9368 - val_loss: 8.6997 - val_acc: 0.1364\n",
      "Epoch 87/200\n",
      "6/6 [==============================] - 4s 736ms/step - loss: 0.2412 - acc: 0.9156 - val_loss: 8.9151 - val_acc: 0.0909\n",
      "Epoch 88/200\n",
      "6/6 [==============================] - 4s 727ms/step - loss: 0.2181 - acc: 0.9003 - val_loss: 10.2107 - val_acc: 0.0909\n",
      "Epoch 89/200\n",
      "6/6 [==============================] - 4s 733ms/step - loss: 0.1474 - acc: 0.9420 - val_loss: 10.2909 - val_acc: 0.0909\n",
      "Epoch 90/200\n",
      "6/6 [==============================] - 4s 726ms/step - loss: 0.2148 - acc: 0.9264 - val_loss: 9.6930 - val_acc: 0.0909\n",
      "Epoch 91/200\n",
      "6/6 [==============================] - 4s 720ms/step - loss: 0.2134 - acc: 0.9058 - val_loss: 10.2496 - val_acc: 0.0909\n",
      "Epoch 92/200\n",
      "6/6 [==============================] - 4s 728ms/step - loss: 0.1751 - acc: 0.9371 - val_loss: 8.4634 - val_acc: 0.0909\n",
      "Epoch 93/200\n",
      "6/6 [==============================] - 4s 714ms/step - loss: 0.2165 - acc: 0.9212 - val_loss: 8.8608 - val_acc: 0.1818\n",
      "Epoch 94/200\n",
      "6/6 [==============================] - 4s 718ms/step - loss: 0.2172 - acc: 0.9310 - val_loss: 8.1146 - val_acc: 0.1364\n",
      "Epoch 95/200\n",
      "6/6 [==============================] - 4s 722ms/step - loss: 0.1972 - acc: 0.9159 - val_loss: 8.1200 - val_acc: 0.1818\n",
      "Epoch 96/200\n",
      "6/6 [==============================] - 4s 723ms/step - loss: 0.1934 - acc: 0.9420 - val_loss: 8.7801 - val_acc: 0.1364\n",
      "Epoch 97/200\n",
      "6/6 [==============================] - 4s 716ms/step - loss: 0.2092 - acc: 0.9052 - val_loss: 8.6383 - val_acc: 0.2273\n",
      "Epoch 98/200\n",
      "6/6 [==============================] - 4s 725ms/step - loss: 0.2546 - acc: 0.9212 - val_loss: 9.5007 - val_acc: 0.2273\n",
      "Epoch 99/200\n",
      "3/6 [==============>...............] - ETA: 2s - loss: 0.1485 - acc: 0.93756/6 [==============================] - 4s 723ms/step - loss: 0.1847 - acc: 0.9261 - val_loss: 8.8478 - val_acc: 0.0909\n",
      "Epoch 100/200\n",
      "6/6 [==============================] - 4s 714ms/step - loss: 0.2143 - acc: 0.9316 - val_loss: 8.2548 - val_acc: 0.1364\n",
      "Epoch 101/200\n",
      "6/6 [==============================] - 4s 724ms/step - loss: 0.1507 - acc: 0.9525 - val_loss: 7.2562 - val_acc: 0.1364\n",
      "Epoch 102/200\n",
      "6/6 [==============================] - 4s 720ms/step - loss: 0.1719 - acc: 0.9417 - val_loss: 8.0213 - val_acc: 0.1364\n",
      "Epoch 103/200\n",
      "6/6 [==============================] - 4s 721ms/step - loss: 0.2819 - acc: 0.8779 - val_loss: 6.8517 - val_acc: 0.2273\n",
      "Epoch 104/200\n",
      "6/6 [==============================] - 4s 719ms/step - loss: 0.1785 - acc: 0.9417 - val_loss: 6.6697 - val_acc: 0.1818\n",
      "Epoch 105/200\n",
      "6/6 [==============================] - 4s 724ms/step - loss: 0.1602 - acc: 0.9577 - val_loss: 8.0644 - val_acc: 0.1818\n",
      "Epoch 106/200\n",
      "6/6 [==============================] - 4s 716ms/step - loss: 0.1527 - acc: 0.9368 - val_loss: 7.6106 - val_acc: 0.1818\n",
      "Epoch 107/200\n",
      "6/6 [==============================] - 4s 729ms/step - loss: 0.2274 - acc: 0.9264 - val_loss: 7.3499 - val_acc: 0.1818\n",
      "Epoch 108/200\n",
      "6/6 [==============================] - 4s 716ms/step - loss: 0.1088 - acc: 0.9577 - val_loss: 9.1241 - val_acc: 0.1818\n",
      "Epoch 109/200\n",
      "6/6 [==============================] - 4s 730ms/step - loss: 0.1959 - acc: 0.9098 - val_loss: 8.3813 - val_acc: 0.1818\n",
      "Epoch 110/200\n",
      "6/6 [==============================] - 4s 720ms/step - loss: 0.2346 - acc: 0.9107 - val_loss: 9.4284 - val_acc: 0.1818\n",
      "Epoch 111/200\n",
      "6/6 [==============================] - 4s 726ms/step - loss: 0.2213 - acc: 0.9316 - val_loss: 9.6554 - val_acc: 0.1364\n",
      "Epoch 112/200\n",
      "6/6 [==============================] - 4s 712ms/step - loss: 0.2106 - acc: 0.9368 - val_loss: 8.4416 - val_acc: 0.1364\n",
      "Epoch 113/200\n",
      "3/6 [==============>...............] - ETA: 2s - loss: 0.1978 - acc: 0.88546/6 [==============================] - 4s 724ms/step - loss: 0.1930 - acc: 0.9113 - val_loss: 10.1685 - val_acc: 0.0909\n",
      "Epoch 114/200\n",
      "6/6 [==============================] - 4s 710ms/step - loss: 0.2071 - acc: 0.9417 - val_loss: 8.0293 - val_acc: 0.1364\n",
      "Epoch 115/200\n",
      "6/6 [==============================] - 4s 717ms/step - loss: 0.1796 - acc: 0.9423 - val_loss: 9.3829 - val_acc: 0.0909\n",
      "Epoch 116/200\n",
      "6/6 [==============================] - 4s 718ms/step - loss: 0.1828 - acc: 0.9154 - val_loss: 9.7114 - val_acc: 0.0909\n",
      "Epoch 117/200\n",
      "6/6 [==============================] - 4s 716ms/step - loss: 0.1335 - acc: 0.9632 - val_loss: 9.1214 - val_acc: 0.1364\n",
      "Epoch 118/200\n",
      "6/6 [==============================] - 4s 713ms/step - loss: 0.1571 - acc: 0.9313 - val_loss: 9.5513 - val_acc: 0.1364\n",
      "Epoch 119/200\n",
      "6/6 [==============================] - 4s 716ms/step - loss: 0.2168 - acc: 0.9374 - val_loss: 9.3104 - val_acc: 0.1364\n",
      "Epoch 120/200\n",
      "6/6 [==============================] - 4s 710ms/step - loss: 0.1956 - acc: 0.9218 - val_loss: 8.4120 - val_acc: 0.2273\n",
      "Epoch 121/200\n",
      "6/6 [==============================] - 4s 712ms/step - loss: 0.1105 - acc: 0.9528 - val_loss: 9.7095 - val_acc: 0.2273\n",
      "Epoch 122/200\n",
      "6/6 [==============================] - 4s 726ms/step - loss: 0.1858 - acc: 0.9209 - val_loss: 9.8500 - val_acc: 0.1364\n",
      "Epoch 123/200\n",
      "6/6 [==============================] - 4s 724ms/step - loss: 0.1532 - acc: 0.9200 - val_loss: 10.5130 - val_acc: 0.2273\n",
      "Epoch 124/200\n",
      "6/6 [==============================] - 4s 716ms/step - loss: 0.1449 - acc: 0.9420 - val_loss: 9.4494 - val_acc: 0.1364\n",
      "Epoch 125/200\n",
      "6/6 [==============================] - 4s 712ms/step - loss: 0.1108 - acc: 0.9580 - val_loss: 11.1970 - val_acc: 0.1364\n",
      "Epoch 126/200\n",
      "6/6 [==============================] - 4s 722ms/step - loss: 0.1342 - acc: 0.9322 - val_loss: 8.4437 - val_acc: 0.1818\n",
      "Epoch 127/200\n",
      "3/6 [==============>...............] - ETA: 2s - loss: 0.2257 - acc: 0.90626/6 [==============================] - 4s 735ms/step - loss: 0.1700 - acc: 0.9264 - val_loss: 10.0636 - val_acc: 0.2273\n",
      "Epoch 128/200\n",
      "6/6 [==============================] - 4s 712ms/step - loss: 0.1701 - acc: 0.9420 - val_loss: 8.6286 - val_acc: 0.1818\n",
      "Epoch 129/200\n",
      "6/6 [==============================] - 4s 715ms/step - loss: 0.1145 - acc: 0.9414 - val_loss: 7.9047 - val_acc: 0.1818\n",
      "Epoch 130/200\n",
      "6/6 [==============================] - 4s 712ms/step - loss: 0.1549 - acc: 0.9531 - val_loss: 9.0464 - val_acc: 0.0909\n",
      "Epoch 131/200\n",
      "6/6 [==============================] - 4s 713ms/step - loss: 0.1788 - acc: 0.9371 - val_loss: 8.7507 - val_acc: 0.0909\n",
      "Epoch 132/200\n",
      "6/6 [==============================] - 4s 714ms/step - loss: 0.0909 - acc: 0.9583 - val_loss: 9.1740 - val_acc: 0.1364\n",
      "Epoch 133/200\n",
      "6/6 [==============================] - 4s 713ms/step - loss: 0.1339 - acc: 0.9478 - val_loss: 9.4792 - val_acc: 0.1818\n",
      "Epoch 134/200\n",
      "6/6 [==============================] - 4s 714ms/step - loss: 0.1068 - acc: 0.9319 - val_loss: 10.1761 - val_acc: 0.1364\n",
      "Epoch 135/200\n",
      "6/6 [==============================] - 4s 710ms/step - loss: 0.1526 - acc: 0.9420 - val_loss: 10.7884 - val_acc: 0.0909\n",
      "Epoch 136/200\n",
      "6/6 [==============================] - 4s 711ms/step - loss: 0.1818 - acc: 0.9313 - val_loss: 11.1869 - val_acc: 0.0909\n",
      "Epoch 137/200\n",
      "6/6 [==============================] - 4s 712ms/step - loss: 0.1222 - acc: 0.9629 - val_loss: 10.1501 - val_acc: 0.1364\n",
      "Epoch 138/200\n",
      "6/6 [==============================] - 4s 715ms/step - loss: 0.1297 - acc: 0.9632 - val_loss: 9.3739 - val_acc: 0.0909\n",
      "Epoch 139/200\n",
      "6/6 [==============================] - 4s 712ms/step - loss: 0.1445 - acc: 0.9525 - val_loss: 10.7771 - val_acc: 0.0455\n",
      "Epoch 140/200\n",
      "6/6 [==============================] - 4s 713ms/step - loss: 0.1839 - acc: 0.9261 - val_loss: 11.2385 - val_acc: 0.0455\n",
      "Epoch 141/200\n"
     ]
    },
    {
     "name": "stdout",
     "output_type": "stream",
     "text": [
      "3/6 [==============>...............] - ETA: 2s - loss: 0.1570 - acc: 0.94796/6 [==============================] - 4s 710ms/step - loss: 0.1233 - acc: 0.9583 - val_loss: 9.6568 - val_acc: 0.1364\n",
      "Epoch 142/200\n",
      "6/6 [==============================] - 4s 711ms/step - loss: 0.1857 - acc: 0.9267 - val_loss: 10.5452 - val_acc: 0.1818\n",
      "Epoch 143/200\n",
      "6/6 [==============================] - 4s 713ms/step - loss: 0.1646 - acc: 0.9417 - val_loss: 10.5578 - val_acc: 0.1364\n",
      "Epoch 144/200\n",
      "6/6 [==============================] - 4s 714ms/step - loss: 0.2080 - acc: 0.9261 - val_loss: 10.5906 - val_acc: 0.0909\n",
      "Epoch 145/200\n",
      "6/6 [==============================] - 4s 712ms/step - loss: 0.1027 - acc: 0.9580 - val_loss: 10.4973 - val_acc: 0.0909\n",
      "Epoch 146/200\n",
      "6/6 [==============================] - 4s 716ms/step - loss: 0.1006 - acc: 0.9841 - val_loss: 10.4894 - val_acc: 0.1364\n",
      "Epoch 147/200\n",
      "6/6 [==============================] - 4s 715ms/step - loss: 0.0818 - acc: 0.9736 - val_loss: 10.2771 - val_acc: 0.1364\n",
      "Epoch 148/200\n",
      "6/6 [==============================] - 4s 713ms/step - loss: 0.1443 - acc: 0.9475 - val_loss: 10.9132 - val_acc: 0.1364\n",
      "Epoch 149/200\n",
      "6/6 [==============================] - 4s 711ms/step - loss: 0.0869 - acc: 0.9739 - val_loss: 10.1111 - val_acc: 0.1364\n",
      "Epoch 150/200\n",
      "6/6 [==============================] - 4s 711ms/step - loss: 0.0905 - acc: 0.9574 - val_loss: 10.5243 - val_acc: 0.1818\n",
      "Epoch 151/200\n",
      "6/6 [==============================] - 4s 713ms/step - loss: 0.1794 - acc: 0.9577 - val_loss: 10.9518 - val_acc: 0.1364\n",
      "Epoch 152/200\n",
      "6/6 [==============================] - 4s 717ms/step - loss: 0.1908 - acc: 0.9368 - val_loss: 9.1534 - val_acc: 0.0909\n",
      "Epoch 153/200\n",
      "6/6 [==============================] - 4s 708ms/step - loss: 0.0859 - acc: 0.9684 - val_loss: 9.2687 - val_acc: 0.1818\n",
      "Epoch 154/200\n",
      "6/6 [==============================] - 4s 711ms/step - loss: 0.1006 - acc: 0.9580 - val_loss: 9.2458 - val_acc: 0.1818\n",
      "Epoch 155/200\n",
      "3/6 [==============>...............] - ETA: 2s - loss: 0.0690 - acc: 0.97926/6 [==============================] - 4s 714ms/step - loss: 0.0848 - acc: 0.9739 - val_loss: 8.7166 - val_acc: 0.1818\n",
      "Epoch 156/200\n",
      "6/6 [==============================] - 4s 711ms/step - loss: 0.1911 - acc: 0.9420 - val_loss: 10.2969 - val_acc: 0.1364\n",
      "Epoch 157/200\n",
      "6/6 [==============================] - 4s 713ms/step - loss: 0.1868 - acc: 0.9316 - val_loss: 9.5423 - val_acc: 0.1364\n",
      "Epoch 158/200\n",
      "6/6 [==============================] - 4s 715ms/step - loss: 0.0901 - acc: 0.9736 - val_loss: 8.4303 - val_acc: 0.1364\n",
      "Epoch 159/200\n",
      "6/6 [==============================] - 4s 710ms/step - loss: 0.0971 - acc: 0.9577 - val_loss: 9.5621 - val_acc: 0.0909\n",
      "Epoch 160/200\n",
      "6/6 [==============================] - 4s 707ms/step - loss: 0.1358 - acc: 0.9528 - val_loss: 10.1605 - val_acc: 0.0455\n",
      "Epoch 161/200\n",
      "6/6 [==============================] - 4s 711ms/step - loss: 0.0638 - acc: 0.9684 - val_loss: 10.2794 - val_acc: 0.0909\n",
      "Epoch 162/200\n",
      "6/6 [==============================] - 4s 713ms/step - loss: 0.1001 - acc: 0.9684 - val_loss: 8.7682 - val_acc: 0.1364\n",
      "Epoch 163/200\n",
      "6/6 [==============================] - 4s 713ms/step - loss: 0.1592 - acc: 0.9472 - val_loss: 11.3756 - val_acc: 0.0909\n",
      "Epoch 164/200\n",
      "6/6 [==============================] - 4s 713ms/step - loss: 0.1105 - acc: 0.9472 - val_loss: 9.2260 - val_acc: 0.1818\n",
      "Epoch 165/200\n",
      "6/6 [==============================] - 4s 715ms/step - loss: 0.0745 - acc: 0.9687 - val_loss: 8.3646 - val_acc: 0.2273\n",
      "Epoch 166/200\n",
      "6/6 [==============================] - 4s 711ms/step - loss: 0.1465 - acc: 0.9368 - val_loss: 9.4215 - val_acc: 0.2273\n",
      "Epoch 167/200\n",
      "6/6 [==============================] - 4s 709ms/step - loss: 0.1415 - acc: 0.9583 - val_loss: 9.0819 - val_acc: 0.2273\n",
      "Epoch 168/200\n",
      "6/6 [==============================] - 4s 710ms/step - loss: 0.0626 - acc: 0.9736 - val_loss: 10.4696 - val_acc: 0.1364\n",
      "Epoch 169/200\n",
      "3/6 [==============>...............] - ETA: 2s - loss: 0.1427 - acc: 0.95836/6 [==============================] - 4s 713ms/step - loss: 0.1160 - acc: 0.9580 - val_loss: 8.5035 - val_acc: 0.1364\n",
      "Epoch 170/200\n",
      "6/6 [==============================] - 4s 711ms/step - loss: 0.0691 - acc: 0.9736 - val_loss: 8.4781 - val_acc: 0.1818\n",
      "Epoch 171/200\n",
      "6/6 [==============================] - 4s 710ms/step - loss: 0.1197 - acc: 0.9478 - val_loss: 7.6455 - val_acc: 0.1818\n",
      "Epoch 172/200\n",
      "6/6 [==============================] - 4s 711ms/step - loss: 0.0920 - acc: 0.9739 - val_loss: 7.2598 - val_acc: 0.1818\n",
      "Epoch 173/200\n",
      "6/6 [==============================] - 4s 715ms/step - loss: 0.0939 - acc: 0.9687 - val_loss: 6.9935 - val_acc: 0.0909\n",
      "Epoch 174/200\n",
      "6/6 [==============================] - 4s 711ms/step - loss: 0.1157 - acc: 0.9580 - val_loss: 5.8959 - val_acc: 0.1364\n",
      "Epoch 175/200\n",
      "6/6 [==============================] - 4s 708ms/step - loss: 0.0944 - acc: 0.9687 - val_loss: 6.4889 - val_acc: 0.1818\n",
      "Epoch 176/200\n",
      "6/6 [==============================] - 4s 713ms/step - loss: 0.0745 - acc: 0.9577 - val_loss: 6.7507 - val_acc: 0.1364\n",
      "Epoch 177/200\n",
      "6/6 [==============================] - 4s 713ms/step - loss: 0.0913 - acc: 0.9525 - val_loss: 7.4550 - val_acc: 0.1818\n",
      "Epoch 178/200\n",
      "6/6 [==============================] - 4s 715ms/step - loss: 0.0752 - acc: 0.9632 - val_loss: 8.9575 - val_acc: 0.0455\n",
      "Epoch 179/200\n",
      "6/6 [==============================] - 4s 712ms/step - loss: 0.0367 - acc: 0.9896 - val_loss: 9.4675 - val_acc: 0.0455\n",
      "Epoch 180/200\n",
      "6/6 [==============================] - 4s 707ms/step - loss: 0.0563 - acc: 0.9788 - val_loss: 10.4734 - val_acc: 0.0455\n",
      "Epoch 181/200\n",
      "6/6 [==============================] - 4s 713ms/step - loss: 0.0544 - acc: 0.9791 - val_loss: 10.9472 - val_acc: 0.0455\n",
      "Epoch 182/200\n",
      "6/6 [==============================] - 4s 714ms/step - loss: 0.0655 - acc: 0.9684 - val_loss: 11.5023 - val_acc: 0.0455\n",
      "Epoch 183/200\n",
      "3/6 [==============>...............] - ETA: 2s - loss: 0.0662 - acc: 0.96886/6 [==============================] - 4s 712ms/step - loss: 0.0594 - acc: 0.9739 - val_loss: 11.3527 - val_acc: 0.0909\n",
      "Epoch 184/200\n",
      "6/6 [==============================] - 4s 716ms/step - loss: 0.0862 - acc: 0.9684 - val_loss: 10.7269 - val_acc: 0.0455\n",
      "Epoch 185/200\n",
      "6/6 [==============================] - 4s 713ms/step - loss: 0.1535 - acc: 0.9632 - val_loss: 10.3073 - val_acc: 0.0909\n",
      "Epoch 186/200\n",
      "6/6 [==============================] - 4s 713ms/step - loss: 0.0834 - acc: 0.9736 - val_loss: 10.1264 - val_acc: 0.0909\n",
      "Epoch 187/200\n",
      "6/6 [==============================] - 4s 712ms/step - loss: 0.1046 - acc: 0.9525 - val_loss: 9.5244 - val_acc: 0.0909\n",
      "Epoch 188/200\n",
      "6/6 [==============================] - 4s 712ms/step - loss: 0.0507 - acc: 0.9844 - val_loss: 9.9675 - val_acc: 0.0909\n",
      "Epoch 189/200\n",
      "6/6 [==============================] - 4s 712ms/step - loss: 0.0475 - acc: 0.9841 - val_loss: 9.4535 - val_acc: 0.0909\n",
      "Epoch 190/200\n",
      "6/6 [==============================] - 4s 711ms/step - loss: 0.1294 - acc: 0.9577 - val_loss: 9.4552 - val_acc: 0.0909\n",
      "Epoch 191/200\n",
      "6/6 [==============================] - 4s 710ms/step - loss: 0.0990 - acc: 0.9736 - val_loss: 9.7468 - val_acc: 0.0909\n",
      "Epoch 192/200\n",
      "6/6 [==============================] - 4s 712ms/step - loss: 0.1009 - acc: 0.9632 - val_loss: 9.4154 - val_acc: 0.0909\n",
      "Epoch 193/200\n",
      "6/6 [==============================] - 4s 712ms/step - loss: 0.0734 - acc: 0.9632 - val_loss: 9.1308 - val_acc: 0.0909\n",
      "Epoch 194/200\n",
      "6/6 [==============================] - 4s 714ms/step - loss: 0.0769 - acc: 0.9687 - val_loss: 10.4340 - val_acc: 0.1364\n",
      "Epoch 195/200\n",
      "6/6 [==============================] - 4s 712ms/step - loss: 0.0693 - acc: 0.9736 - val_loss: 10.3421 - val_acc: 0.1364\n",
      "Epoch 196/200\n",
      "6/6 [==============================] - 4s 713ms/step - loss: 0.0357 - acc: 0.9844 - val_loss: 10.2283 - val_acc: 0.1364\n",
      "Epoch 197/200\n",
      "3/6 [==============>...............] - ETA: 2s - loss: 0.0447 - acc: 0.97926/6 [==============================] - 4s 713ms/step - loss: 0.0537 - acc: 0.9739 - val_loss: 10.4115 - val_acc: 0.0909\n",
      "Epoch 198/200\n",
      "6/6 [==============================] - 4s 716ms/step - loss: 0.1292 - acc: 0.9684 - val_loss: 11.5284 - val_acc: 0.0909\n",
      "Epoch 199/200\n",
      "6/6 [==============================] - 4s 709ms/step - loss: 0.0752 - acc: 0.9788 - val_loss: 10.8426 - val_acc: 0.1364\n",
      "Epoch 200/200\n",
      "6/6 [==============================] - 4s 711ms/step - loss: 0.1451 - acc: 0.9472 - val_loss: 9.7153 - val_acc: 0.0909\n"
     ]
    }
   ],
   "source": [
    "model = vanilia_cnn(input_shape=train_data[0].shape, classes=train_label.max() + 1)\n",
    "history = model.fit_generator(\n",
    "    datagen.flow(train_data, train_label, batch_size=32),\n",
    "    epochs=200, validation_data=(val_data, val_label))\n",
    "\n",
    "# epochs = 100\n",
    "\n",
    "# for e in range(epochs):\n",
    "#     print('Epoch', e)\n",
    "#     batches = 0\n",
    "#     for x_batch, y_batch in datagen.flow(train_data, train_label, batch_size=10):\n",
    "#         model.fit(x_batch, y_batch)\n",
    "#         batches += 1\n",
    "#         if batches >= len(train_data):\n",
    "#             # we need to break the loop by hand because\n",
    "#             # the generator loops indefinitely\n",
    "#             break\n",
    "#         model.evaluate(val_data, val_label)"
   ]
  },
  {
   "cell_type": "code",
   "execution_count": 0,
   "metadata": {
    "colab": {
     "autoexec": {
      "startup": false,
      "wait_interval": 0
     }
    },
    "colab_type": "code",
    "id": "5J_uscADgYOS"
   },
   "outputs": [],
   "source": [
    "model.save('./drive/asian_vanilia3.h5')"
   ]
  },
  {
   "cell_type": "code",
   "execution_count": 43,
   "metadata": {
    "colab": {
     "autoexec": {
      "startup": false,
      "wait_interval": 0
     },
     "base_uri": "https://localhost:8080/",
     "height": 708,
     "output_extras": [
      {
       "item_id": 1
      },
      {
       "item_id": 2
      }
     ]
    },
    "colab_type": "code",
    "executionInfo": {
     "elapsed": 1676,
     "status": "ok",
     "timestamp": 1521098645231,
     "user": {
      "displayName": "Cugtyt",
      "photoUrl": "//lh4.googleusercontent.com/-QxlWCi_owQ0/AAAAAAAAAAI/AAAAAAAAAC4/wNSYjuh_4x4/s50-c-k-no/photo.jpg",
      "userId": "100389950431846051928"
     },
     "user_tz": -480
    },
    "id": "SIkTfB3c1-u1",
    "outputId": "48024ce7-961b-4503-fe13-d9c11f2ae402"
   },
   "outputs": [
    {
     "data": {
      "image/png": "[encoded data removed]",
      "text/plain": [
       "<matplotlib.figure.Figure at 0x7fb4c7cab710>"
      ]
     },
     "metadata": {
      "tags": []
     },
     "output_type": "display_data"
    },
    {
     "data": {
      "image/png": "[encoded data removed]",
      "text/plain": [
       "<matplotlib.figure.Figure at 0x7fb4c9475198>"
      ]
     },
     "metadata": {
      "tags": []
     },
     "output_type": "display_data"
    }
   ],
   "source": [
    "import matplotlib.pyplot as plt\n",
    "\n",
    "acc = history.history['acc']\n",
    "val_acc = history.history['val_acc']\n",
    "loss = history.history['loss']\n",
    "val_loss = history.history['val_loss']\n",
    "\n",
    "epochs = range(1, len(acc) + 1)\n",
    "\n",
    "plt.plot(epochs, acc, 'bo', label='Training acc')\n",
    "plt.plot(epochs, val_acc, 'b', label='Validation acc')\n",
    "plt.title('Training and validation accuracy')\n",
    "plt.legend()\n",
    "\n",
    "plt.figure()\n",
    "\n",
    "plt.plot(epochs, loss, 'bo', label='Training loss')\n",
    "plt.plot(epochs, val_loss, 'b', label='Validation loss')\n",
    "plt.title('Training and validation loss')\n",
    "plt.legend()\n",
    "\n",
    "plt.show()"
   ]
  },
  {
   "cell_type": "code",
   "execution_count": 44,
   "metadata": {
    "colab": {
     "autoexec": {
      "startup": false,
      "wait_interval": 0
     },
     "base_uri": "https://localhost:8080/",
     "height": 53,
     "output_extras": [
      {
       "item_id": 1
      },
      {
       "item_id": 2
      }
     ]
    },
    "colab_type": "code",
    "executionInfo": {
     "elapsed": 1096,
     "status": "ok",
     "timestamp": 1521100451896,
     "user": {
      "displayName": "Cugtyt",
      "photoUrl": "//lh4.googleusercontent.com/-QxlWCi_owQ0/AAAAAAAAAAI/AAAAAAAAAC4/wNSYjuh_4x4/s50-c-k-no/photo.jpg",
      "userId": "100389950431846051928"
     },
     "user_tz": -480
    },
    "id": "D1V1ouYjpqOH",
    "outputId": "d0d42be7-bac3-4873-8ec8-d5442c25c194"
   },
   "outputs": [
    {
     "name": "stdout",
     "output_type": "stream",
     "text": [
      "54/54 [==============================] - 0s 9ms/step\n"
     ]
    },
    {
     "data": {
      "text/plain": [
       "[10.237989178410283, 0.07407407462596893]"
      ]
     },
     "execution_count": 44,
     "metadata": {
      "tags": []
     },
     "output_type": "execute_result"
    }
   ],
   "source": [
    "model.evaluate(test_data, test_label)"
   ]
  },
  {
   "cell_type": "code",
   "execution_count": 0,
   "metadata": {
    "colab": {
     "autoexec": {
      "startup": false,
      "wait_interval": 0
     }
    },
    "colab_type": "code",
    "id": "GbggQiasvdmj"
   },
   "outputs": [],
   "source": [
    "def vanilia_cnn(input_shape: tuple, classes: int):\n",
    "    \"\"\"Implement vanilla ConvNet model.\"\"\"\n",
    "    model = models.Sequential()\n",
    "    model.add(\n",
    "        layers.Conv2D(32, (3, 3), activation='relu',\n",
    "                      padding='same',\n",
    "                      input_shape=input_shape))\n",
    "    model.add(layers.Conv2D(32, (3, 3), padding='same', activation='relu'))\n",
    "    model.add(layers.Conv2D(32, (3, 3), activation='relu'))\n",
    "    model.add(layers.MaxPooling2D((2, 2)))\n",
    "    model.add(layers.Dropout(0.5))\n",
    "    \n",
    "    model.add(layers.Conv2D(64, (3, 3), padding='same', activation='relu'))\n",
    "    model.add(layers.Conv2D(64, (3, 3), padding='same', activation='relu'))\n",
    "    model.add(layers.Conv2D(64, (3, 3), padding='same', activation='relu'))\n",
    "    model.add(layers.MaxPooling2D((2, 2)))\n",
    "    model.add(layers.Dropout(0.5))\n",
    "    \n",
    "    model.add(layers.Conv2D(128, (3, 3), padding='same', activation='relu'))\n",
    "    model.add(layers.Conv2D(128, (3, 3), activation='relu'))\n",
    "    model.add(layers.Conv2D(128, (3, 3), activation='relu'))\n",
    "    model.add(layers.MaxPooling2D((2, 2)))\n",
    "    model.add(layers.Flatten())\n",
    "    model.add(layers.Dense(512, activation='relu'))\n",
    "    model.add(layers.Dense(512, activation='relu'))\n",
    "    model.add(layers.Dropout(0.5))\n",
    "    model.add(layers.Dense(classes, activation='softmax'))\n",
    "\n",
    "    model.compile(\n",
    "        optimizer='sgd',\n",
    "        loss='categorical_crossentropy',\n",
    "        metrics=['accuracy'])\n",
    "\n",
    "    return model"
   ]
  },
  {
   "cell_type": "code",
   "execution_count": 8,
   "metadata": {
    "colab": {
     "autoexec": {
      "startup": false,
      "wait_interval": 0
     },
     "base_uri": "https://localhost:8080/",
     "height": 10873,
     "output_extras": [
      {
       "item_id": 124
      },
      {
       "item_id": 250
      },
      {
       "item_id": 382
      },
      {
       "item_id": 522
      },
      {
       "item_id": 655
      },
      {
       "item_id": 791
      },
      {
       "item_id": 928
      },
      {
       "item_id": 1065
      },
      {
       "item_id": 1196
      },
      {
       "item_id": 1327
      },
      {
       "item_id": 1460
      },
      {
       "item_id": 1596
      },
      {
       "item_id": 1729
      },
      {
       "item_id": 1864
      },
      {
       "item_id": 1998
      },
      {
       "item_id": 2125
      },
      {
       "item_id": 2257
      },
      {
       "item_id": 2379
      },
      {
       "item_id": 2488
      },
      {
       "item_id": 2602
      },
      {
       "item_id": 2713
      },
      {
       "item_id": 2820
      },
      {
       "item_id": 2933
      },
      {
       "item_id": 3056
      },
      {
       "item_id": 3181
      },
      {
       "item_id": 3304
      },
      {
       "item_id": 3424
      },
      {
       "item_id": 3543
      },
      {
       "item_id": 3667
      },
      {
       "item_id": 3783
      },
      {
       "item_id": 3894
      },
      {
       "item_id": 3994
      },
      {
       "item_id": 4118
      },
      {
       "item_id": 4241
      },
      {
       "item_id": 4358
      },
      {
       "item_id": 4471
      },
      {
       "item_id": 4590
      },
      {
       "item_id": 4705
      },
      {
       "item_id": 4792
      },
      {
       "item_id": 4884
      },
      {
       "item_id": 4979
      },
      {
       "item_id": 5064
      },
      {
       "item_id": 5150
      },
      {
       "item_id": 5244
      },
      {
       "item_id": 5345
      },
      {
       "item_id": 5463
      },
      {
       "item_id": 5577
      },
      {
       "item_id": 5699
      },
      {
       "item_id": 5815
      },
      {
       "item_id": 5936
      },
      {
       "item_id": 6070
      },
      {
       "item_id": 6195
      },
      {
       "item_id": 6302
      },
      {
       "item_id": 6412
      },
      {
       "item_id": 6532
      },
      {
       "item_id": 6638
      },
      {
       "item_id": 6752
      },
      {
       "item_id": 6847
      },
      {
       "item_id": 6956
      },
      {
       "item_id": 7075
      },
      {
       "item_id": 7090
      }
     ]
    },
    "colab_type": "code",
    "executionInfo": {
     "elapsed": 5953355,
     "status": "ok",
     "timestamp": 1521202870384,
     "user": {
      "displayName": "Cugtyt",
      "photoUrl": "//lh4.googleusercontent.com/-QxlWCi_owQ0/AAAAAAAAAAI/AAAAAAAAAC4/wNSYjuh_4x4/s50-c-k-no/photo.jpg",
      "userId": "100389950431846051928"
     },
     "user_tz": -480
    },
    "id": "ROL_oRjjpVsZ",
    "outputId": "2aa4365d-8145-466a-f6af-a311f258a326"
   },
   "outputs": [
    {
     "name": "stdout",
     "output_type": "stream",
     "text": [
      "Found 236 images belonging to 10 classes.\n",
      "Found 20 images belonging to 10 classes.\n",
      "Epoch 1/300\n",
      "50/50 [==============================] - 21s 417ms/step - loss: 2.2980 - acc: 0.1323 - val_loss: 2.3025 - val_acc: 0.1000\n",
      "Epoch 2/300\n",
      "50/50 [==============================] - 19s 378ms/step - loss: 2.2922 - acc: 0.1393 - val_loss: 2.3025 - val_acc: 0.1000\n",
      "Epoch 3/300\n",
      "50/50 [==============================] - 20s 394ms/step - loss: 2.2876 - acc: 0.1402 - val_loss: 2.3016 - val_acc: 0.1000\n",
      "Epoch 4/300\n",
      "50/50 [==============================] - 20s 402ms/step - loss: 2.2848 - acc: 0.1523 - val_loss: 2.2985 - val_acc: 0.1500\n",
      "Epoch 5/300\n",
      "33/50 [==================>...........] - ETA: 4s - loss: 2.2832 - acc: 0.150650/50 [==============================] - 19s 387ms/step - loss: 2.2810 - acc: 0.1563 - val_loss: 2.2963 - val_acc: 0.2000\n",
      "Epoch 6/300\n",
      "50/50 [==============================] - 19s 385ms/step - loss: 2.2832 - acc: 0.1511 - val_loss: 2.2906 - val_acc: 0.2000\n",
      "Epoch 7/300\n",
      "50/50 [==============================] - 20s 399ms/step - loss: 2.2696 - acc: 0.1681 - val_loss: 2.2766 - val_acc: 0.2000\n",
      "Epoch 8/300\n",
      "50/50 [==============================] - 20s 403ms/step - loss: 2.2690 - acc: 0.1739 - val_loss: 2.2765 - val_acc: 0.1500\n",
      "Epoch 9/300\n",
      "50/50 [==============================] - 19s 386ms/step - loss: 2.2491 - acc: 0.1950 - val_loss: 2.2569 - val_acc: 0.2000\n",
      "Epoch 10/300\n",
      "20/50 [===========>..................] - ETA: 8s - loss: 2.2518 - acc: 0.184950/50 [==============================] - 20s 398ms/step - loss: 2.2420 - acc: 0.1798 - val_loss: 2.2330 - val_acc: 0.2000\n",
      "Epoch 11/300\n",
      "50/50 [==============================] - 19s 382ms/step - loss: 2.2373 - acc: 0.1925 - val_loss: 2.2394 - val_acc: 0.2000\n",
      "Epoch 12/300\n",
      "50/50 [==============================] - 20s 402ms/step - loss: 2.2210 - acc: 0.1925 - val_loss: 2.2095 - val_acc: 0.2000\n",
      "Epoch 13/300\n",
      "50/50 [==============================] - 20s 405ms/step - loss: 2.2038 - acc: 0.1940 - val_loss: 2.1713 - val_acc: 0.2500\n",
      "Epoch 14/300\n",
      "50/50 [==============================] - 19s 381ms/step - loss: 2.1936 - acc: 0.1994 - val_loss: 2.1919 - val_acc: 0.3000\n",
      "Epoch 15/300\n",
      "18/50 [=========>....................] - ETA: 8s - loss: 2.1806 - acc: 0.217650/50 [==============================] - 19s 378ms/step - loss: 2.1461 - acc: 0.2186 - val_loss: 2.1422 - val_acc: 0.2500\n",
      "Epoch 16/300\n",
      "50/50 [==============================] - 21s 423ms/step - loss: 2.1663 - acc: 0.2025 - val_loss: 2.2766 - val_acc: 0.2000\n",
      "Epoch 17/300\n",
      "50/50 [==============================] - 19s 389ms/step - loss: 2.1241 - acc: 0.2192 - val_loss: 2.0816 - val_acc: 0.4500\n",
      "Epoch 18/300\n",
      "50/50 [==============================] - 19s 384ms/step - loss: 2.1274 - acc: 0.2208 - val_loss: 2.2827 - val_acc: 0.1500\n",
      "Epoch 19/300\n",
      "50/50 [==============================] - 20s 401ms/step - loss: 2.1265 - acc: 0.2227 - val_loss: 2.3121 - val_acc: 0.1000\n",
      "Epoch 20/300\n",
      "18/50 [=========>....................] - ETA: 8s - loss: 2.3005 - acc: 0.135450/50 [==============================] - 20s 408ms/step - loss: 2.2662 - acc: 0.1515 - val_loss: 2.2571 - val_acc: 0.1500\n",
      "Epoch 21/300\n",
      "50/50 [==============================] - 19s 385ms/step - loss: 2.0776 - acc: 0.2510 - val_loss: 2.1758 - val_acc: 0.2000\n",
      "Epoch 22/300\n",
      "50/50 [==============================] - 20s 404ms/step - loss: 2.0805 - acc: 0.2440 - val_loss: 2.0126 - val_acc: 0.3500\n",
      "Epoch 23/300\n",
      "50/50 [==============================] - 19s 383ms/step - loss: 2.0519 - acc: 0.2298 - val_loss: 2.2164 - val_acc: 0.1500\n",
      "Epoch 24/300\n",
      "50/50 [==============================] - 20s 405ms/step - loss: 2.0507 - acc: 0.2569 - val_loss: 2.1569 - val_acc: 0.1500\n",
      "Epoch 25/300\n",
      "18/50 [=========>....................] - ETA: 7s - loss: 2.0288 - acc: 0.239050/50 [==============================] - 20s 409ms/step - loss: 2.0485 - acc: 0.2449 - val_loss: 2.0987 - val_acc: 0.3000\n",
      "Epoch 26/300\n",
      "50/50 [==============================] - 19s 383ms/step - loss: 1.9973 - acc: 0.2613 - val_loss: 2.0380 - val_acc: 0.3000\n",
      "Epoch 27/300\n",
      "50/50 [==============================] - 19s 382ms/step - loss: 1.9721 - acc: 0.2671 - val_loss: 2.0775 - val_acc: 0.3000\n",
      "Epoch 28/300\n",
      "50/50 [==============================] - 21s 423ms/step - loss: 1.9496 - acc: 0.2848 - val_loss: 2.0645 - val_acc: 0.3000\n",
      "Epoch 29/300\n",
      "50/50 [==============================] - 19s 390ms/step - loss: 1.9282 - acc: 0.2624 - val_loss: 2.1305 - val_acc: 0.2500\n",
      "Epoch 30/300\n",
      "18/50 [=========>....................] - ETA: 7s - loss: 1.9063 - acc: 0.302750/50 [==============================] - 19s 383ms/step - loss: 1.9324 - acc: 0.2867 - val_loss: 1.9632 - val_acc: 0.3000\n",
      "Epoch 31/300\n",
      "50/50 [==============================] - 20s 397ms/step - loss: 1.9017 - acc: 0.2977 - val_loss: 1.8525 - val_acc: 0.5000\n",
      "Epoch 32/300\n",
      "50/50 [==============================] - 20s 405ms/step - loss: 1.9384 - acc: 0.2877 - val_loss: 1.9050 - val_acc: 0.4500\n",
      "Epoch 33/300\n",
      "50/50 [==============================] - 19s 385ms/step - loss: 1.8880 - acc: 0.3041 - val_loss: 1.8461 - val_acc: 0.3000\n",
      "Epoch 34/300\n",
      "50/50 [==============================] - 20s 402ms/step - loss: 1.8576 - acc: 0.3063 - val_loss: 1.9680 - val_acc: 0.3500\n",
      "Epoch 35/300\n",
      "19/50 [==========>...................] - ETA: 7s - loss: 2.0103 - acc: 0.250050/50 [==============================] - 19s 379ms/step - loss: 1.9469 - acc: 0.2772 - val_loss: 2.0533 - val_acc: 0.3000\n",
      "Epoch 36/300\n",
      "50/50 [==============================] - 20s 402ms/step - loss: 1.8538 - acc: 0.3161 - val_loss: 1.8773 - val_acc: 0.3500\n",
      "Epoch 37/300\n",
      "50/50 [==============================] - 20s 399ms/step - loss: 1.8448 - acc: 0.3168 - val_loss: 2.0207 - val_acc: 0.3500\n",
      "Epoch 38/300\n",
      "50/50 [==============================] - 19s 380ms/step - loss: 1.8139 - acc: 0.3262 - val_loss: 1.9822 - val_acc: 0.4500\n",
      "Epoch 39/300\n",
      "50/50 [==============================] - 19s 378ms/step - loss: 1.8109 - acc: 0.3295 - val_loss: 1.8687 - val_acc: 0.3000\n",
      "Epoch 40/300\n",
      "19/50 [==========>...................] - ETA: 8s - loss: 1.9090 - acc: 0.309250/50 [==============================] - 21s 416ms/step - loss: 1.8144 - acc: 0.3270 - val_loss: 1.7504 - val_acc: 0.3500\n",
      "Epoch 41/300\n",
      "50/50 [==============================] - 19s 387ms/step - loss: 1.7406 - acc: 0.3518 - val_loss: 1.6995 - val_acc: 0.4000\n",
      "Epoch 42/300\n",
      "50/50 [==============================] - 19s 387ms/step - loss: 1.7890 - acc: 0.3337 - val_loss: 1.9811 - val_acc: 0.3000\n",
      "Epoch 43/300\n",
      "50/50 [==============================] - 20s 396ms/step - loss: 1.7680 - acc: 0.3247 - val_loss: 1.7142 - val_acc: 0.4500\n",
      "Epoch 44/300\n",
      "50/50 [==============================] - 20s 402ms/step - loss: 1.7131 - acc: 0.3616 - val_loss: 1.8034 - val_acc: 0.3500\n",
      "Epoch 45/300\n",
      "18/50 [=========>....................] - ETA: 7s - loss: 1.6696 - acc: 0.392950/50 [==============================] - 19s 384ms/step - loss: 1.7116 - acc: 0.3674 - val_loss: 1.8567 - val_acc: 0.3500\n",
      "Epoch 46/300\n",
      "50/50 [==============================] - 20s 401ms/step - loss: 1.6968 - acc: 0.3700 - val_loss: 1.6196 - val_acc: 0.4500\n",
      "Epoch 47/300\n",
      "50/50 [==============================] - 19s 378ms/step - loss: 1.6613 - acc: 0.3810 - val_loss: 1.7171 - val_acc: 0.4000\n",
      "Epoch 48/300\n",
      "50/50 [==============================] - 20s 400ms/step - loss: 1.6574 - acc: 0.3844 - val_loss: 1.6708 - val_acc: 0.4500\n",
      "Epoch 49/300\n",
      "50/50 [==============================] - 20s 408ms/step - loss: 1.6575 - acc: 0.3796 - val_loss: 1.5177 - val_acc: 0.5000\n",
      "Epoch 50/300\n",
      "17/50 [=========>....................] - ETA: 8s - loss: 1.7411 - acc: 0.354850/50 [==============================] - 19s 385ms/step - loss: 1.6865 - acc: 0.3629 - val_loss: 1.8432 - val_acc: 0.3500\n",
      "Epoch 51/300\n",
      "50/50 [==============================] - 19s 379ms/step - loss: 1.6604 - acc: 0.3652 - val_loss: 1.9625 - val_acc: 0.2500\n",
      "Epoch 52/300\n",
      "50/50 [==============================] - 21s 423ms/step - loss: 1.6124 - acc: 0.3841 - val_loss: 1.5993 - val_acc: 0.4500\n",
      "Epoch 53/300\n",
      "50/50 [==============================] - 19s 389ms/step - loss: 1.5993 - acc: 0.4009 - val_loss: 1.3601 - val_acc: 0.6500\n",
      "Epoch 54/300\n",
      "50/50 [==============================] - 19s 381ms/step - loss: 1.5827 - acc: 0.4151 - val_loss: 1.6009 - val_acc: 0.4000\n",
      "Epoch 55/300\n"
     ]
    },
    {
     "name": "stdout",
     "output_type": "stream",
     "text": [
      "18/50 [=========>....................] - ETA: 8s - loss: 1.5544 - acc: 0.436950/50 [==============================] - 20s 401ms/step - loss: 1.5503 - acc: 0.4146 - val_loss: 1.7736 - val_acc: 0.3000\n",
      "Epoch 56/300\n",
      "50/50 [==============================] - 20s 404ms/step - loss: 1.5675 - acc: 0.4084 - val_loss: 2.1239 - val_acc: 0.2000\n",
      "Epoch 57/300\n",
      "50/50 [==============================] - 19s 382ms/step - loss: 1.5739 - acc: 0.4061 - val_loss: 1.5787 - val_acc: 0.4500\n",
      "Epoch 58/300\n",
      "50/50 [==============================] - 19s 383ms/step - loss: 1.5842 - acc: 0.4116 - val_loss: 1.9486 - val_acc: 0.2500\n",
      "Epoch 59/300\n",
      "50/50 [==============================] - 20s 401ms/step - loss: 1.5821 - acc: 0.4061 - val_loss: 1.5659 - val_acc: 0.4000\n",
      "Epoch 60/300\n",
      "18/50 [=========>....................] - ETA: 8s - loss: 1.4918 - acc: 0.431150/50 [==============================] - 20s 401ms/step - loss: 1.5100 - acc: 0.4224 - val_loss: 1.5575 - val_acc: 0.4500\n",
      "Epoch 61/300\n",
      "50/50 [==============================] - 19s 380ms/step - loss: 1.5267 - acc: 0.4537 - val_loss: 1.5627 - val_acc: 0.4500\n",
      "Epoch 62/300\n",
      "50/50 [==============================] - 20s 400ms/step - loss: 1.4673 - acc: 0.4436 - val_loss: 1.5562 - val_acc: 0.4500\n",
      "Epoch 63/300\n",
      "50/50 [==============================] - 19s 376ms/step - loss: 1.4970 - acc: 0.4325 - val_loss: 1.3486 - val_acc: 0.5000\n",
      "Epoch 64/300\n",
      "50/50 [==============================] - 20s 402ms/step - loss: 1.4725 - acc: 0.4582 - val_loss: 2.0211 - val_acc: 0.2500\n",
      "Epoch 65/300\n",
      "17/50 [=========>....................] - ETA: 9s - loss: 1.5146 - acc: 0.446750/50 [==============================] - 20s 400ms/step - loss: 1.5045 - acc: 0.4418 - val_loss: 1.4669 - val_acc: 0.5000\n",
      "Epoch 66/300\n",
      "50/50 [==============================] - 19s 378ms/step - loss: 1.4316 - acc: 0.4467 - val_loss: 1.3588 - val_acc: 0.5000\n",
      "Epoch 67/300\n",
      "50/50 [==============================] - 19s 380ms/step - loss: 1.4226 - acc: 0.4630 - val_loss: 1.4529 - val_acc: 0.4000\n",
      "Epoch 68/300\n",
      "50/50 [==============================] - 21s 424ms/step - loss: 1.7833 - acc: 0.3677 - val_loss: 1.5748 - val_acc: 0.5000\n",
      "Epoch 69/300\n",
      "50/50 [==============================] - 19s 388ms/step - loss: 1.4275 - acc: 0.4703 - val_loss: 1.2325 - val_acc: 0.5000\n",
      "Epoch 70/300\n",
      "18/50 [=========>....................] - ETA: 7s - loss: 1.2743 - acc: 0.538250/50 [==============================] - 19s 383ms/step - loss: 1.2929 - acc: 0.5230 - val_loss: 1.1899 - val_acc: 0.5500\n",
      "Epoch 71/300\n",
      "50/50 [==============================] - 20s 397ms/step - loss: 1.4061 - acc: 0.4710 - val_loss: 1.3834 - val_acc: 0.4500\n",
      "Epoch 72/300\n",
      "50/50 [==============================] - 20s 406ms/step - loss: 1.3399 - acc: 0.5134 - val_loss: 1.2747 - val_acc: 0.4500\n",
      "Epoch 73/300\n",
      "50/50 [==============================] - 19s 386ms/step - loss: 1.3000 - acc: 0.5039 - val_loss: 1.1557 - val_acc: 0.5500\n",
      "Epoch 74/300\n",
      "50/50 [==============================] - 20s 403ms/step - loss: 1.3224 - acc: 0.5095 - val_loss: 1.3759 - val_acc: 0.4000\n",
      "Epoch 75/300\n",
      "18/50 [=========>....................] - ETA: 8s - loss: 1.3476 - acc: 0.466450/50 [==============================] - 19s 377ms/step - loss: 1.3209 - acc: 0.5033 - val_loss: 1.1707 - val_acc: 0.5500\n",
      "Epoch 76/300\n",
      "50/50 [==============================] - 20s 402ms/step - loss: 1.3056 - acc: 0.5001 - val_loss: 2.2164 - val_acc: 0.2500\n",
      "Epoch 77/300\n",
      "50/50 [==============================] - 20s 403ms/step - loss: 1.2542 - acc: 0.5312 - val_loss: 1.1618 - val_acc: 0.5500\n",
      "Epoch 78/300\n",
      "50/50 [==============================] - 19s 384ms/step - loss: 1.2469 - acc: 0.5200 - val_loss: 1.3642 - val_acc: 0.4500\n",
      "Epoch 79/300\n",
      "50/50 [==============================] - 19s 385ms/step - loss: 1.2223 - acc: 0.5638 - val_loss: 1.1541 - val_acc: 0.7000\n",
      "Epoch 80/300\n",
      "17/50 [=========>....................] - ETA: 8s - loss: 1.1810 - acc: 0.560050/50 [==============================] - 21s 427ms/step - loss: 1.4047 - acc: 0.5253 - val_loss: 1.7162 - val_acc: 0.3000\n",
      "Epoch 81/300\n",
      "50/50 [==============================] - 19s 384ms/step - loss: 1.2293 - acc: 0.5568 - val_loss: 1.1814 - val_acc: 0.6000\n",
      "Epoch 82/300\n",
      "50/50 [==============================] - 19s 381ms/step - loss: 1.2031 - acc: 0.5442 - val_loss: 1.0794 - val_acc: 0.6000\n",
      "Epoch 83/300\n",
      "50/50 [==============================] - 20s 399ms/step - loss: 1.2643 - acc: 0.5397 - val_loss: 1.1417 - val_acc: 0.6500\n",
      "Epoch 84/300\n",
      "50/50 [==============================] - 20s 405ms/step - loss: 1.1505 - acc: 0.5674 - val_loss: 1.2618 - val_acc: 0.5000\n",
      "Epoch 85/300\n",
      "18/50 [=========>....................] - ETA: 7s - loss: 1.0862 - acc: 0.564850/50 [==============================] - 19s 385ms/step - loss: 1.1233 - acc: 0.5614 - val_loss: 1.2574 - val_acc: 0.4500\n",
      "Epoch 86/300\n",
      "50/50 [==============================] - 20s 400ms/step - loss: 1.1683 - acc: 0.5718 - val_loss: 1.0453 - val_acc: 0.7500\n",
      "Epoch 87/300\n",
      "50/50 [==============================] - 19s 381ms/step - loss: 1.1492 - acc: 0.5868 - val_loss: 1.0785 - val_acc: 0.7000\n",
      "Epoch 88/300\n",
      "50/50 [==============================] - 20s 405ms/step - loss: 1.1055 - acc: 0.5952 - val_loss: 1.2265 - val_acc: 0.6000\n",
      "Epoch 89/300\n",
      "50/50 [==============================] - 20s 399ms/step - loss: 1.4148 - acc: 0.5228 - val_loss: 1.1189 - val_acc: 0.6000\n",
      "Epoch 90/300\n",
      "18/50 [=========>....................] - ETA: 7s - loss: 1.0595 - acc: 0.623350/50 [==============================] - 19s 381ms/step - loss: 1.1226 - acc: 0.5923 - val_loss: 1.3020 - val_acc: 0.5500\n",
      "Epoch 91/300\n",
      "50/50 [==============================] - 19s 381ms/step - loss: 1.0770 - acc: 0.5867 - val_loss: 1.1100 - val_acc: 0.6000\n",
      "Epoch 92/300\n",
      "50/50 [==============================] - 21s 426ms/step - loss: 1.1044 - acc: 0.6004 - val_loss: 1.0302 - val_acc: 0.6500\n",
      "Epoch 93/300\n",
      "50/50 [==============================] - 19s 383ms/step - loss: 1.0666 - acc: 0.6058 - val_loss: 0.9374 - val_acc: 0.7000\n",
      "Epoch 94/300\n",
      "50/50 [==============================] - 19s 386ms/step - loss: 1.0586 - acc: 0.6078 - val_loss: 0.9782 - val_acc: 0.6500\n",
      "Epoch 95/300\n",
      "17/50 [=========>....................] - ETA: 8s - loss: 0.9091 - acc: 0.653250/50 [==============================] - 20s 398ms/step - loss: 1.0453 - acc: 0.6166 - val_loss: 0.9355 - val_acc: 0.6500\n",
      "Epoch 96/300\n",
      "50/50 [==============================] - 20s 400ms/step - loss: 1.0427 - acc: 0.6001 - val_loss: 1.3455 - val_acc: 0.4500\n",
      "Epoch 97/300\n",
      "50/50 [==============================] - 19s 386ms/step - loss: 0.9789 - acc: 0.6193 - val_loss: 1.4432 - val_acc: 0.5000\n",
      "Epoch 98/300\n",
      "50/50 [==============================] - 20s 403ms/step - loss: 1.0009 - acc: 0.6263 - val_loss: 0.9276 - val_acc: 0.7500\n",
      "Epoch 99/300\n",
      "50/50 [==============================] - 19s 379ms/step - loss: 0.9654 - acc: 0.6393 - val_loss: 0.9506 - val_acc: 0.7000\n",
      "Epoch 100/300\n",
      "18/50 [=========>....................] - ETA: 8s - loss: 1.0073 - acc: 0.613450/50 [==============================] - 20s 401ms/step - loss: 0.9682 - acc: 0.6474 - val_loss: 0.9391 - val_acc: 0.6000\n",
      "Epoch 101/300\n",
      "50/50 [==============================] - 20s 403ms/step - loss: 0.9786 - acc: 0.6507 - val_loss: 0.7046 - val_acc: 0.8000\n",
      "Epoch 102/300\n",
      "50/50 [==============================] - 19s 381ms/step - loss: 0.9932 - acc: 0.6411 - val_loss: 0.8931 - val_acc: 0.8000\n",
      "Epoch 103/300\n",
      "50/50 [==============================] - 19s 378ms/step - loss: 0.9341 - acc: 0.6423 - val_loss: 0.9346 - val_acc: 0.7000\n",
      "Epoch 104/300\n",
      "50/50 [==============================] - 21s 423ms/step - loss: 1.0089 - acc: 0.6201 - val_loss: 0.8488 - val_acc: 0.7000\n",
      "Epoch 105/300\n",
      "17/50 [=========>....................] - ETA: 7s - loss: 0.8951 - acc: 0.669750/50 [==============================] - 19s 388ms/step - loss: 0.8948 - acc: 0.6571 - val_loss: 0.6670 - val_acc: 0.8000\n",
      "Epoch 106/300\n",
      "50/50 [==============================] - 19s 382ms/step - loss: 0.9143 - acc: 0.6635 - val_loss: 0.7039 - val_acc: 0.8500\n",
      "Epoch 107/300\n",
      "50/50 [==============================] - 19s 386ms/step - loss: 0.9519 - acc: 0.6534 - val_loss: 1.0857 - val_acc: 0.6500\n",
      "Epoch 108/300\n",
      "50/50 [==============================] - 21s 429ms/step - loss: 0.8972 - acc: 0.6749 - val_loss: 1.2177 - val_acc: 0.7000\n",
      "Epoch 109/300\n",
      "50/50 [==============================] - 20s 391ms/step - loss: 0.9801 - acc: 0.6356 - val_loss: 1.0623 - val_acc: 0.6000\n",
      "Epoch 110/300\n"
     ]
    },
    {
     "name": "stdout",
     "output_type": "stream",
     "text": [
      "17/50 [=========>....................] - ETA: 8s - loss: 0.8500 - acc: 0.716350/50 [==============================] - 19s 388ms/step - loss: 0.8653 - acc: 0.6970 - val_loss: 0.8994 - val_acc: 0.7000\n",
      "Epoch 111/300\n",
      "50/50 [==============================] - 20s 403ms/step - loss: 0.9453 - acc: 0.6507 - val_loss: 1.1517 - val_acc: 0.7000\n",
      "Epoch 112/300\n",
      "50/50 [==============================] - 21s 416ms/step - loss: 0.8690 - acc: 0.6781 - val_loss: 0.8227 - val_acc: 0.7500\n",
      "Epoch 113/300\n",
      "50/50 [==============================] - 20s 394ms/step - loss: 0.8630 - acc: 0.6940 - val_loss: 0.8613 - val_acc: 0.7500\n",
      "Epoch 114/300\n",
      "50/50 [==============================] - 20s 408ms/step - loss: 0.8236 - acc: 0.6905 - val_loss: 0.8703 - val_acc: 0.6500\n",
      "Epoch 115/300\n",
      "18/50 [=========>....................] - ETA: 8s - loss: 0.8542 - acc: 0.687550/50 [==============================] - 19s 388ms/step - loss: 0.8112 - acc: 0.6922 - val_loss: 1.1406 - val_acc: 0.6500\n",
      "Epoch 116/300\n",
      "50/50 [==============================] - 21s 412ms/step - loss: 0.8298 - acc: 0.6896 - val_loss: 1.2650 - val_acc: 0.6000\n",
      "Epoch 117/300\n",
      "50/50 [==============================] - 20s 406ms/step - loss: 0.7617 - acc: 0.7339 - val_loss: 1.1661 - val_acc: 0.6500\n",
      "Epoch 118/300\n",
      "50/50 [==============================] - 19s 383ms/step - loss: 0.8297 - acc: 0.6863 - val_loss: 1.2994 - val_acc: 0.7500\n",
      "Epoch 119/300\n",
      "50/50 [==============================] - 19s 380ms/step - loss: 0.8250 - acc: 0.6886 - val_loss: 1.8966 - val_acc: 0.5000\n",
      "Epoch 120/300\n",
      "17/50 [=========>....................] - ETA: 10s - loss: 0.7791 - acc: 0.708350/50 [==============================] - 21s 421ms/step - loss: 0.7263 - acc: 0.7308 - val_loss: 0.8560 - val_acc: 0.7000\n",
      "Epoch 121/300\n",
      "50/50 [==============================] - 19s 389ms/step - loss: 0.7840 - acc: 0.7381 - val_loss: 0.7563 - val_acc: 0.7000\n",
      "Epoch 122/300\n",
      "50/50 [==============================] - 19s 381ms/step - loss: 0.7806 - acc: 0.7177 - val_loss: 0.6427 - val_acc: 0.8000\n",
      "Epoch 123/300\n",
      "50/50 [==============================] - 20s 400ms/step - loss: 0.7576 - acc: 0.7393 - val_loss: 0.7714 - val_acc: 0.7500\n",
      "Epoch 124/300\n",
      "50/50 [==============================] - 20s 402ms/step - loss: 0.7249 - acc: 0.7194 - val_loss: 0.8045 - val_acc: 0.7500\n",
      "Epoch 125/300\n",
      "16/50 [========>.....................] - ETA: 7s - loss: 0.7521 - acc: 0.712250/50 [==============================] - 19s 384ms/step - loss: 0.7820 - acc: 0.7071 - val_loss: 0.7059 - val_acc: 0.8000\n",
      "Epoch 126/300\n",
      "50/50 [==============================] - 20s 400ms/step - loss: 0.7427 - acc: 0.7405 - val_loss: 0.6147 - val_acc: 0.7500\n",
      "Epoch 127/300\n",
      "50/50 [==============================] - 19s 380ms/step - loss: 0.7978 - acc: 0.7011 - val_loss: 0.9351 - val_acc: 0.7000\n",
      "Epoch 128/300\n",
      "50/50 [==============================] - 20s 404ms/step - loss: 0.6880 - acc: 0.7494 - val_loss: 0.8547 - val_acc: 0.7000\n",
      "Epoch 129/300\n",
      "50/50 [==============================] - 20s 405ms/step - loss: 0.7192 - acc: 0.7348 - val_loss: 0.6572 - val_acc: 0.8000\n",
      "Epoch 130/300\n",
      "17/50 [=========>....................] - ETA: 7s - loss: 0.8225 - acc: 0.705950/50 [==============================] - 19s 387ms/step - loss: 0.9972 - acc: 0.6614 - val_loss: 0.9470 - val_acc: 0.6000\n",
      "Epoch 131/300\n",
      "50/50 [==============================] - 19s 378ms/step - loss: 0.7726 - acc: 0.7088 - val_loss: 1.0218 - val_acc: 0.6000\n",
      "Epoch 132/300\n",
      "50/50 [==============================] - 21s 423ms/step - loss: 0.7785 - acc: 0.7127 - val_loss: 0.6553 - val_acc: 0.7500\n",
      "Epoch 133/300\n",
      "50/50 [==============================] - 19s 387ms/step - loss: 0.7855 - acc: 0.7178 - val_loss: 0.8107 - val_acc: 0.7000\n",
      "Epoch 134/300\n",
      "50/50 [==============================] - 19s 380ms/step - loss: 0.7192 - acc: 0.7371 - val_loss: 0.9112 - val_acc: 0.6000\n",
      "Epoch 135/300\n",
      "17/50 [=========>....................] - ETA: 8s - loss: 0.6583 - acc: 0.753750/50 [==============================] - 20s 396ms/step - loss: 0.6811 - acc: 0.7464 - val_loss: 0.7778 - val_acc: 0.8500\n",
      "Epoch 136/300\n",
      "50/50 [==============================] - 20s 401ms/step - loss: 0.7434 - acc: 0.7276 - val_loss: 0.8486 - val_acc: 0.7500\n",
      "Epoch 137/300\n",
      "50/50 [==============================] - 19s 381ms/step - loss: 0.6707 - acc: 0.7668 - val_loss: 0.8685 - val_acc: 0.7500\n",
      "Epoch 138/300\n",
      "50/50 [==============================] - 20s 396ms/step - loss: 0.6974 - acc: 0.7491 - val_loss: 0.7185 - val_acc: 0.8500\n",
      "Epoch 139/300\n",
      "50/50 [==============================] - 19s 377ms/step - loss: 0.6125 - acc: 0.7613 - val_loss: 0.8131 - val_acc: 0.7000\n",
      "Epoch 140/300\n",
      "16/50 [========>.....................] - ETA: 9s - loss: 0.6913 - acc: 0.744150/50 [==============================] - 20s 402ms/step - loss: 0.6774 - acc: 0.7501 - val_loss: 1.3795 - val_acc: 0.7000\n",
      "Epoch 141/300\n",
      "50/50 [==============================] - 20s 403ms/step - loss: 0.7161 - acc: 0.7617 - val_loss: 0.6889 - val_acc: 0.8500\n",
      "Epoch 142/300\n",
      "50/50 [==============================] - 19s 381ms/step - loss: 0.6640 - acc: 0.7548 - val_loss: 0.7238 - val_acc: 0.7500\n",
      "Epoch 143/300\n",
      "50/50 [==============================] - 19s 380ms/step - loss: 0.6345 - acc: 0.7563 - val_loss: 1.0804 - val_acc: 0.8000\n",
      "Epoch 144/300\n",
      "50/50 [==============================] - 21s 420ms/step - loss: 0.6720 - acc: 0.7498 - val_loss: 0.8859 - val_acc: 0.6000\n",
      "Epoch 145/300\n",
      "17/50 [=========>....................] - ETA: 7s - loss: 0.5835 - acc: 0.778850/50 [==============================] - 19s 381ms/step - loss: 0.6198 - acc: 0.7789 - val_loss: 0.8130 - val_acc: 0.8500\n",
      "Epoch 146/300\n",
      "50/50 [==============================] - 19s 379ms/step - loss: 0.6195 - acc: 0.7801 - val_loss: 0.6258 - val_acc: 0.8000\n",
      "Epoch 147/300\n",
      "50/50 [==============================] - 20s 401ms/step - loss: 0.6075 - acc: 0.7715 - val_loss: 0.7849 - val_acc: 0.7500\n",
      "Epoch 148/300\n",
      "50/50 [==============================] - 20s 399ms/step - loss: 0.6368 - acc: 0.7686 - val_loss: 0.7027 - val_acc: 0.8000\n",
      "Epoch 149/300\n",
      "50/50 [==============================] - 19s 382ms/step - loss: 0.5523 - acc: 0.8042 - val_loss: 0.4404 - val_acc: 0.8500\n",
      "Epoch 150/300\n",
      "17/50 [=========>....................] - ETA: 8s - loss: 0.6591 - acc: 0.751250/50 [==============================] - 20s 394ms/step - loss: 0.6102 - acc: 0.7729 - val_loss: 0.8226 - val_acc: 0.7500\n",
      "Epoch 151/300\n",
      "50/50 [==============================] - 19s 377ms/step - loss: 0.6602 - acc: 0.7663 - val_loss: 0.7814 - val_acc: 0.7500\n",
      "Epoch 152/300\n",
      "50/50 [==============================] - 20s 405ms/step - loss: 0.5368 - acc: 0.8180 - val_loss: 0.6798 - val_acc: 0.8500\n",
      "Epoch 153/300\n",
      "50/50 [==============================] - 20s 400ms/step - loss: 0.6893 - acc: 0.7676 - val_loss: 0.6638 - val_acc: 0.7500\n",
      "Epoch 154/300\n",
      "50/50 [==============================] - 19s 380ms/step - loss: 0.6110 - acc: 0.7781 - val_loss: 0.6084 - val_acc: 0.8000\n",
      "Epoch 155/300\n",
      "16/50 [========>.....................] - ETA: 8s - loss: 0.5148 - acc: 0.806650/50 [==============================] - 19s 378ms/step - loss: 0.5923 - acc: 0.7807 - val_loss: 0.6084 - val_acc: 0.8000\n",
      "Epoch 156/300\n",
      "50/50 [==============================] - 21s 417ms/step - loss: 0.5454 - acc: 0.7997 - val_loss: 0.5585 - val_acc: 0.8500\n",
      "Epoch 157/300\n",
      "50/50 [==============================] - 19s 382ms/step - loss: 0.5229 - acc: 0.8059 - val_loss: 0.7150 - val_acc: 0.7500\n",
      "Epoch 158/300\n",
      "50/50 [==============================] - 19s 382ms/step - loss: 0.5420 - acc: 0.8078 - val_loss: 0.6610 - val_acc: 0.8000\n",
      "Epoch 159/300\n",
      "50/50 [==============================] - 19s 378ms/step - loss: 0.5441 - acc: 0.8106 - val_loss: 0.9205 - val_acc: 0.8000\n",
      "Epoch 160/300\n",
      "17/50 [=========>....................] - ETA: 10s - loss: 0.6015 - acc: 0.781950/50 [==============================] - 21s 420ms/step - loss: 0.5634 - acc: 0.7985 - val_loss: 0.6403 - val_acc: 0.7500\n",
      "Epoch 161/300\n",
      "50/50 [==============================] - 19s 383ms/step - loss: 0.5514 - acc: 0.7990 - val_loss: 0.4801 - val_acc: 0.8500\n",
      "Epoch 162/300\n",
      "50/50 [==============================] - 19s 377ms/step - loss: 0.5773 - acc: 0.7934 - val_loss: 0.5375 - val_acc: 0.8000\n",
      "Epoch 163/300\n",
      "50/50 [==============================] - 20s 396ms/step - loss: 0.5530 - acc: 0.8063 - val_loss: 0.6456 - val_acc: 0.8000\n",
      "Epoch 164/300\n",
      "50/50 [==============================] - 20s 403ms/step - loss: 1.1796 - acc: 0.5800 - val_loss: 2.0443 - val_acc: 0.3000\n",
      "Epoch 165/300\n"
     ]
    },
    {
     "name": "stdout",
     "output_type": "stream",
     "text": [
      "17/50 [=========>....................] - ETA: 7s - loss: 2.0048 - acc: 0.252550/50 [==============================] - 19s 385ms/step - loss: 1.9335 - acc: 0.2940 - val_loss: 1.7036 - val_acc: 0.4500\n",
      "Epoch 166/300\n",
      "50/50 [==============================] - 20s 393ms/step - loss: 1.6460 - acc: 0.3944 - val_loss: 1.3238 - val_acc: 0.5000\n",
      "Epoch 167/300\n",
      "50/50 [==============================] - 19s 382ms/step - loss: 1.3620 - acc: 0.5062 - val_loss: 0.9390 - val_acc: 0.7500\n",
      "Epoch 168/300\n",
      "50/50 [==============================] - 20s 398ms/step - loss: 0.9708 - acc: 0.6522 - val_loss: 0.7183 - val_acc: 0.8000\n",
      "Epoch 169/300\n",
      "50/50 [==============================] - 20s 404ms/step - loss: 0.8615 - acc: 0.6930 - val_loss: 0.7782 - val_acc: 0.6500\n",
      "Epoch 170/300\n",
      "16/50 [========>.....................] - ETA: 8s - loss: 0.6624 - acc: 0.765650/50 [==============================] - 19s 380ms/step - loss: 0.9628 - acc: 0.6562 - val_loss: 0.7679 - val_acc: 0.6500\n",
      "Epoch 171/300\n",
      "50/50 [==============================] - 19s 380ms/step - loss: 0.6811 - acc: 0.7439 - val_loss: 0.8974 - val_acc: 0.8000\n",
      "Epoch 172/300\n",
      "50/50 [==============================] - 21s 419ms/step - loss: 0.7006 - acc: 0.7474 - val_loss: 0.7693 - val_acc: 0.7000\n",
      "Epoch 173/300\n",
      "50/50 [==============================] - 19s 389ms/step - loss: 0.7734 - acc: 0.7296 - val_loss: 0.6035 - val_acc: 0.8000\n",
      "Epoch 174/300\n",
      "50/50 [==============================] - 19s 382ms/step - loss: 0.5824 - acc: 0.7905 - val_loss: 0.6729 - val_acc: 0.8000\n",
      "Epoch 175/300\n",
      "18/50 [=========>....................] - ETA: 8s - loss: 0.5971 - acc: 0.774350/50 [==============================] - 20s 397ms/step - loss: 0.5887 - acc: 0.7788 - val_loss: 0.6368 - val_acc: 0.8000\n",
      "Epoch 176/300\n",
      "50/50 [==============================] - 20s 409ms/step - loss: 0.5450 - acc: 0.8058 - val_loss: 0.5267 - val_acc: 0.8500\n",
      "Epoch 177/300\n",
      "50/50 [==============================] - 19s 385ms/step - loss: 0.5860 - acc: 0.7840 - val_loss: 0.6538 - val_acc: 0.8000\n",
      "Epoch 178/300\n",
      "50/50 [==============================] - 20s 397ms/step - loss: 0.5592 - acc: 0.8085 - val_loss: 0.5444 - val_acc: 0.8000\n",
      "Epoch 179/300\n",
      "50/50 [==============================] - 19s 381ms/step - loss: 0.4927 - acc: 0.8155 - val_loss: 1.0945 - val_acc: 0.7000\n",
      "Epoch 180/300\n",
      "17/50 [=========>....................] - ETA: 8s - loss: 0.7321 - acc: 0.732250/50 [==============================] - 20s 400ms/step - loss: 0.5637 - acc: 0.7974 - val_loss: 1.0370 - val_acc: 0.8000\n",
      "Epoch 181/300\n",
      "50/50 [==============================] - 20s 405ms/step - loss: 0.5629 - acc: 0.7903 - val_loss: 0.5466 - val_acc: 0.8000\n",
      "Epoch 182/300\n",
      "50/50 [==============================] - 19s 383ms/step - loss: 0.4979 - acc: 0.8241 - val_loss: 0.5075 - val_acc: 0.8000\n",
      "Epoch 183/300\n",
      "50/50 [==============================] - 19s 380ms/step - loss: 0.5372 - acc: 0.8152 - val_loss: 0.5613 - val_acc: 0.8000\n",
      "Epoch 184/300\n",
      "50/50 [==============================] - 21s 421ms/step - loss: 0.7747 - acc: 0.7300 - val_loss: 0.6290 - val_acc: 0.7500\n",
      "Epoch 185/300\n",
      "16/50 [========>.....................] - ETA: 7s - loss: 0.6821 - acc: 0.765050/50 [==============================] - 19s 386ms/step - loss: 0.5831 - acc: 0.7869 - val_loss: 0.6157 - val_acc: 0.8500\n",
      "Epoch 186/300\n",
      "50/50 [==============================] - 19s 379ms/step - loss: 0.5024 - acc: 0.8241 - val_loss: 0.6840 - val_acc: 0.8000\n",
      "Epoch 187/300\n",
      "50/50 [==============================] - 20s 393ms/step - loss: 0.5222 - acc: 0.8181 - val_loss: 0.5516 - val_acc: 0.8000\n",
      "Epoch 188/300\n",
      "50/50 [==============================] - 20s 403ms/step - loss: 0.4784 - acc: 0.8299 - val_loss: 0.5504 - val_acc: 0.9000\n",
      "Epoch 189/300\n",
      "50/50 [==============================] - 19s 388ms/step - loss: 0.4266 - acc: 0.8456 - val_loss: 0.4678 - val_acc: 0.8500\n",
      "Epoch 190/300\n",
      "16/50 [========>.....................] - ETA: 8s - loss: 0.5024 - acc: 0.834650/50 [==============================] - 20s 401ms/step - loss: 0.6219 - acc: 0.7829 - val_loss: 0.8555 - val_acc: 0.8000\n",
      "Epoch 191/300\n",
      "50/50 [==============================] - 19s 379ms/step - loss: 0.4731 - acc: 0.8322 - val_loss: 0.4660 - val_acc: 0.8000\n",
      "Epoch 192/300\n",
      "50/50 [==============================] - 20s 401ms/step - loss: 0.4983 - acc: 0.8192 - val_loss: 0.6721 - val_acc: 0.8500\n",
      "Epoch 193/300\n",
      "50/50 [==============================] - 20s 405ms/step - loss: 0.5023 - acc: 0.8306 - val_loss: 0.6321 - val_acc: 0.8500\n",
      "Epoch 194/300\n",
      "50/50 [==============================] - 19s 380ms/step - loss: 0.4640 - acc: 0.8413 - val_loss: 0.5696 - val_acc: 0.8000\n",
      "Epoch 195/300\n",
      "17/50 [=========>....................] - ETA: 8s - loss: 0.4260 - acc: 0.847450/50 [==============================] - 19s 380ms/step - loss: 0.5145 - acc: 0.8202 - val_loss: 0.5647 - val_acc: 0.8500\n",
      "Epoch 196/300\n",
      "50/50 [==============================] - 21s 416ms/step - loss: 0.6379 - acc: 0.7940 - val_loss: 0.7458 - val_acc: 0.8000\n",
      "Epoch 197/300\n",
      "50/50 [==============================] - 19s 390ms/step - loss: 0.4218 - acc: 0.8536 - val_loss: 0.5314 - val_acc: 0.8000\n",
      "Epoch 198/300\n",
      "50/50 [==============================] - 19s 384ms/step - loss: 0.4544 - acc: 0.8327 - val_loss: 0.8421 - val_acc: 0.8000\n",
      "Epoch 199/300\n",
      "50/50 [==============================] - 19s 381ms/step - loss: 0.3804 - acc: 0.8614 - val_loss: 0.6360 - val_acc: 0.8000\n",
      "Epoch 200/300\n",
      "16/50 [========>.....................] - ETA: 10s - loss: 0.4767 - acc: 0.835950/50 [==============================] - 21s 413ms/step - loss: 0.4406 - acc: 0.8504 - val_loss: 0.7770 - val_acc: 0.8000\n",
      "Epoch 201/300\n",
      "50/50 [==============================] - 19s 387ms/step - loss: 0.4614 - acc: 0.8383 - val_loss: 0.6198 - val_acc: 0.8000\n",
      "Epoch 202/300\n",
      "50/50 [==============================] - 19s 384ms/step - loss: 0.3742 - acc: 0.8751 - val_loss: 0.7102 - val_acc: 0.8500\n",
      "Epoch 203/300\n",
      "50/50 [==============================] - 20s 398ms/step - loss: 0.4269 - acc: 0.8523 - val_loss: 0.6745 - val_acc: 0.8500\n",
      "Epoch 204/300\n",
      "50/50 [==============================] - 20s 407ms/step - loss: 0.4649 - acc: 0.8363 - val_loss: 0.5902 - val_acc: 0.8000\n",
      "Epoch 205/300\n",
      "17/50 [=========>....................] - ETA: 7s - loss: 0.4039 - acc: 0.873850/50 [==============================] - 19s 387ms/step - loss: 0.4626 - acc: 0.8469 - val_loss: 1.0229 - val_acc: 0.8000\n",
      "Epoch 206/300\n",
      "50/50 [==============================] - 21s 415ms/step - loss: 0.4217 - acc: 0.8489 - val_loss: 0.6620 - val_acc: 0.8500\n",
      "Epoch 207/300\n",
      "50/50 [==============================] - 19s 385ms/step - loss: 0.3797 - acc: 0.8520 - val_loss: 0.6649 - val_acc: 0.8000\n",
      "Epoch 208/300\n",
      "50/50 [==============================] - 21s 418ms/step - loss: 0.3880 - acc: 0.8679 - val_loss: 0.5496 - val_acc: 0.8500\n",
      "Epoch 209/300\n",
      "50/50 [==============================] - 21s 417ms/step - loss: 0.4451 - acc: 0.8419 - val_loss: 0.5304 - val_acc: 0.8500\n",
      "Epoch 210/300\n",
      "17/50 [=========>....................] - ETA: 8s - loss: 0.3667 - acc: 0.864050/50 [==============================] - 20s 391ms/step - loss: 0.3866 - acc: 0.8633 - val_loss: 0.4567 - val_acc: 0.8500\n",
      "Epoch 211/300\n",
      "50/50 [==============================] - 19s 387ms/step - loss: 0.3910 - acc: 0.8642 - val_loss: 0.4960 - val_acc: 0.8500\n",
      "Epoch 212/300\n",
      "50/50 [==============================] - 22s 431ms/step - loss: 0.4029 - acc: 0.8614 - val_loss: 0.3483 - val_acc: 0.9000\n",
      "Epoch 213/300\n",
      "50/50 [==============================] - 20s 395ms/step - loss: 0.3506 - acc: 0.8686 - val_loss: 0.5495 - val_acc: 0.8000\n",
      "Epoch 214/300\n",
      "50/50 [==============================] - 20s 392ms/step - loss: 0.3544 - acc: 0.8703 - val_loss: 0.5669 - val_acc: 0.9000\n",
      "Epoch 215/300\n",
      "16/50 [========>.....................] - ETA: 10s - loss: 0.4001 - acc: 0.863350/50 [==============================] - 20s 408ms/step - loss: 0.4484 - acc: 0.8364 - val_loss: 0.6635 - val_acc: 0.7500\n",
      "Epoch 216/300\n",
      "50/50 [==============================] - 21s 415ms/step - loss: 0.4194 - acc: 0.8508 - val_loss: 0.7381 - val_acc: 0.8500\n",
      "Epoch 217/300\n",
      "50/50 [==============================] - 20s 397ms/step - loss: 0.3826 - acc: 0.8623 - val_loss: 0.5769 - val_acc: 0.8500\n",
      "Epoch 218/300\n",
      "50/50 [==============================] - 20s 408ms/step - loss: 0.3530 - acc: 0.8721 - val_loss: 0.5286 - val_acc: 0.8000\n",
      "Epoch 219/300\n",
      "50/50 [==============================] - 19s 388ms/step - loss: 0.3234 - acc: 0.8775 - val_loss: 0.5242 - val_acc: 0.8500\n",
      "Epoch 220/300\n"
     ]
    },
    {
     "name": "stdout",
     "output_type": "stream",
     "text": [
      "18/50 [=========>....................] - ETA: 8s - loss: 0.4869 - acc: 0.854750/50 [==============================] - 21s 414ms/step - loss: 0.5355 - acc: 0.8332 - val_loss: 0.6306 - val_acc: 0.8000\n",
      "Epoch 221/300\n",
      "50/50 [==============================] - 21s 412ms/step - loss: 0.3882 - acc: 0.8683 - val_loss: 0.3991 - val_acc: 0.8000\n",
      "Epoch 222/300\n",
      "50/50 [==============================] - 20s 392ms/step - loss: 0.3531 - acc: 0.8779 - val_loss: 0.6140 - val_acc: 0.8500\n",
      "Epoch 223/300\n",
      "50/50 [==============================] - 19s 389ms/step - loss: 0.4187 - acc: 0.8604 - val_loss: 0.4857 - val_acc: 0.7500\n",
      "Epoch 224/300\n",
      "50/50 [==============================] - 22s 432ms/step - loss: 0.3510 - acc: 0.8822 - val_loss: 0.4592 - val_acc: 0.8000\n",
      "Epoch 225/300\n",
      "17/50 [=========>....................] - ETA: 7s - loss: 0.3825 - acc: 0.847450/50 [==============================] - 20s 395ms/step - loss: 0.3503 - acc: 0.8686 - val_loss: 0.4072 - val_acc: 0.8000\n",
      "Epoch 226/300\n",
      "50/50 [==============================] - 20s 391ms/step - loss: 0.3506 - acc: 0.8829 - val_loss: 0.4438 - val_acc: 0.8000\n",
      "Epoch 227/300\n",
      "50/50 [==============================] - 20s 407ms/step - loss: 0.3633 - acc: 0.8826 - val_loss: 0.4811 - val_acc: 0.9000\n",
      "Epoch 228/300\n",
      "50/50 [==============================] - 21s 412ms/step - loss: 0.3516 - acc: 0.8758 - val_loss: 0.4313 - val_acc: 0.8500\n",
      "Epoch 229/300\n",
      "50/50 [==============================] - 20s 394ms/step - loss: 0.3085 - acc: 0.8843 - val_loss: 0.5033 - val_acc: 0.8500\n",
      "Epoch 230/300\n",
      "17/50 [=========>....................] - ETA: 10s - loss: 0.3006 - acc: 0.898950/50 [==============================] - 21s 413ms/step - loss: 0.3480 - acc: 0.8804 - val_loss: 0.4357 - val_acc: 0.9000\n",
      "Epoch 231/300\n",
      "50/50 [==============================] - 19s 386ms/step - loss: 0.4135 - acc: 0.8797 - val_loss: 0.3922 - val_acc: 0.9000\n",
      "Epoch 232/300\n",
      "50/50 [==============================] - 21s 415ms/step - loss: 0.3388 - acc: 0.8709 - val_loss: 0.5407 - val_acc: 0.7500\n",
      "Epoch 233/300\n",
      "50/50 [==============================] - 21s 411ms/step - loss: 0.3461 - acc: 0.8886 - val_loss: 0.3591 - val_acc: 0.8500\n",
      "Epoch 234/300\n",
      "50/50 [==============================] - 19s 390ms/step - loss: 0.3432 - acc: 0.8800 - val_loss: 0.4425 - val_acc: 0.9000\n",
      "Epoch 235/300\n",
      "17/50 [=========>....................] - ETA: 8s - loss: 0.2926 - acc: 0.889150/50 [==============================] - 20s 391ms/step - loss: 0.3086 - acc: 0.8835 - val_loss: 0.5697 - val_acc: 0.9000\n",
      "Epoch 236/300\n",
      "50/50 [==============================] - 22s 436ms/step - loss: 0.3134 - acc: 0.8979 - val_loss: 0.5448 - val_acc: 0.9000\n",
      "Epoch 237/300\n",
      "50/50 [==============================] - 20s 392ms/step - loss: 0.3175 - acc: 0.8937 - val_loss: 0.6379 - val_acc: 0.7500\n",
      "Epoch 238/300\n",
      "50/50 [==============================] - 19s 390ms/step - loss: 0.2924 - acc: 0.8833 - val_loss: 0.6542 - val_acc: 0.8500\n",
      "Epoch 239/300\n",
      "50/50 [==============================] - 20s 407ms/step - loss: 0.3134 - acc: 0.8902 - val_loss: 0.4442 - val_acc: 0.9000\n",
      "Epoch 240/300\n",
      "17/50 [=========>....................] - ETA: 9s - loss: 0.5036 - acc: 0.811950/50 [==============================] - 21s 415ms/step - loss: 0.3470 - acc: 0.8769 - val_loss: 0.5715 - val_acc: 0.9000\n",
      "Epoch 241/300\n",
      "50/50 [==============================] - 20s 395ms/step - loss: 0.3146 - acc: 0.8934 - val_loss: 0.3982 - val_acc: 0.9000\n",
      "Epoch 242/300\n",
      "50/50 [==============================] - 21s 415ms/step - loss: 0.2954 - acc: 0.9006 - val_loss: 0.8546 - val_acc: 0.9000\n",
      "Epoch 243/300\n",
      "50/50 [==============================] - 19s 390ms/step - loss: 0.3404 - acc: 0.8802 - val_loss: 0.4335 - val_acc: 0.8000\n",
      "Epoch 244/300\n",
      "50/50 [==============================] - 21s 413ms/step - loss: 0.2914 - acc: 0.8965 - val_loss: 0.4293 - val_acc: 0.9000\n",
      "Epoch 245/300\n",
      "16/50 [========>.....................] - ETA: 9s - loss: 0.3365 - acc: 0.8685 50/50 [==============================] - 21s 410ms/step - loss: 0.2374 - acc: 0.9200 - val_loss: 0.3053 - val_acc: 0.8500\n",
      "Epoch 246/300\n",
      "50/50 [==============================] - 19s 389ms/step - loss: 0.2553 - acc: 0.9086 - val_loss: 0.3261 - val_acc: 0.8500\n",
      "Epoch 247/300\n",
      "50/50 [==============================] - 20s 391ms/step - loss: 0.2601 - acc: 0.9137 - val_loss: 0.4185 - val_acc: 0.9000\n",
      "Epoch 248/300\n",
      "50/50 [==============================] - 22s 430ms/step - loss: 0.2929 - acc: 0.8914 - val_loss: 0.7134 - val_acc: 0.9000\n",
      "Epoch 249/300\n",
      "50/50 [==============================] - 20s 390ms/step - loss: 0.2907 - acc: 0.9029 - val_loss: 0.5358 - val_acc: 0.9000\n",
      "Epoch 250/300\n",
      "17/50 [=========>....................] - ETA: 8s - loss: 0.2774 - acc: 0.898350/50 [==============================] - 20s 395ms/step - loss: 0.2539 - acc: 0.9109 - val_loss: 0.3414 - val_acc: 0.8500\n",
      "Epoch 251/300\n",
      "50/50 [==============================] - 20s 402ms/step - loss: 0.2924 - acc: 0.9069 - val_loss: 0.3378 - val_acc: 0.8500\n",
      "Epoch 252/300\n",
      "50/50 [==============================] - 21s 412ms/step - loss: 0.3224 - acc: 0.8928 - val_loss: 0.4618 - val_acc: 0.9000\n",
      "Epoch 253/300\n",
      "50/50 [==============================] - 20s 394ms/step - loss: 0.3073 - acc: 0.8958 - val_loss: 0.4670 - val_acc: 0.8500\n",
      "Epoch 254/300\n",
      "50/50 [==============================] - 20s 406ms/step - loss: 0.2952 - acc: 0.9035 - val_loss: 0.4632 - val_acc: 0.9000\n",
      "Epoch 255/300\n",
      "17/50 [=========>....................] - ETA: 8s - loss: 0.3020 - acc: 0.910550/50 [==============================] - 19s 386ms/step - loss: 0.3693 - acc: 0.8798 - val_loss: 0.4817 - val_acc: 0.9000\n",
      "Epoch 256/300\n",
      "50/50 [==============================] - 21s 414ms/step - loss: 0.2653 - acc: 0.8998 - val_loss: 0.3448 - val_acc: 0.9000\n",
      "Epoch 257/300\n",
      "50/50 [==============================] - 21s 415ms/step - loss: 0.2361 - acc: 0.9308 - val_loss: 0.2021 - val_acc: 0.9000\n",
      "Epoch 258/300\n",
      "50/50 [==============================] - 20s 391ms/step - loss: 0.3033 - acc: 0.8957 - val_loss: 0.2494 - val_acc: 0.9000\n",
      "Epoch 259/300\n",
      "50/50 [==============================] - 19s 389ms/step - loss: 0.2297 - acc: 0.9185 - val_loss: 0.3600 - val_acc: 0.8500\n",
      "Epoch 260/300\n",
      "16/50 [========>.....................] - ETA: 11s - loss: 0.1739 - acc: 0.932350/50 [==============================] - 21s 430ms/step - loss: 0.2365 - acc: 0.9154 - val_loss: 0.5619 - val_acc: 0.9000\n",
      "Epoch 261/300\n",
      "50/50 [==============================] - 20s 393ms/step - loss: 0.2632 - acc: 0.9129 - val_loss: 0.3720 - val_acc: 0.9000\n",
      "Epoch 262/300\n",
      "50/50 [==============================] - 19s 390ms/step - loss: 0.2455 - acc: 0.9063 - val_loss: 0.5376 - val_acc: 0.9000\n",
      "Epoch 263/300\n",
      "50/50 [==============================] - 20s 406ms/step - loss: 0.2566 - acc: 0.9090 - val_loss: 0.4544 - val_acc: 0.8500\n",
      "Epoch 264/300\n",
      "50/50 [==============================] - 21s 413ms/step - loss: 0.3427 - acc: 0.8818 - val_loss: 0.5102 - val_acc: 0.8500\n",
      "Epoch 265/300\n",
      "17/50 [=========>....................] - ETA: 7s - loss: 0.2783 - acc: 0.902050/50 [==============================] - 20s 392ms/step - loss: 0.2530 - acc: 0.9075 - val_loss: 0.4568 - val_acc: 0.7500\n",
      "Epoch 266/300\n",
      "50/50 [==============================] - 20s 407ms/step - loss: 0.3027 - acc: 0.8880 - val_loss: 0.4768 - val_acc: 0.8500\n",
      "Epoch 267/300\n",
      "50/50 [==============================] - 19s 386ms/step - loss: 0.2670 - acc: 0.9021 - val_loss: 0.5290 - val_acc: 0.9000\n",
      "Epoch 268/300\n",
      "50/50 [==============================] - 21s 413ms/step - loss: 0.2949 - acc: 0.8960 - val_loss: 0.4437 - val_acc: 0.9000\n",
      "Epoch 269/300\n",
      "50/50 [==============================] - 20s 410ms/step - loss: 0.2092 - acc: 0.9272 - val_loss: 0.5474 - val_acc: 0.9000\n",
      "Epoch 270/300\n",
      "17/50 [=========>....................] - ETA: 7s - loss: 0.2141 - acc: 0.917950/50 [==============================] - 19s 390ms/step - loss: 0.2200 - acc: 0.9181 - val_loss: 0.4055 - val_acc: 0.8500\n",
      "Epoch 271/300\n",
      "50/50 [==============================] - 19s 388ms/step - loss: 0.1960 - acc: 0.9300 - val_loss: 0.2522 - val_acc: 0.8500\n",
      "Epoch 272/300\n",
      "50/50 [==============================] - 22s 431ms/step - loss: 0.1773 - acc: 0.9362 - val_loss: 0.5347 - val_acc: 0.9000\n",
      "Epoch 273/300\n",
      "50/50 [==============================] - 20s 391ms/step - loss: 0.2912 - acc: 0.9044 - val_loss: 0.2883 - val_acc: 0.9500\n",
      "Epoch 274/300\n",
      "50/50 [==============================] - 19s 389ms/step - loss: 0.3126 - acc: 0.9036 - val_loss: 0.5603 - val_acc: 0.7500\n",
      "Epoch 275/300\n"
     ]
    },
    {
     "name": "stdout",
     "output_type": "stream",
     "text": [
      "16/50 [========>.....................] - ETA: 11s - loss: 0.2354 - acc: 0.922550/50 [==============================] - 21s 412ms/step - loss: 0.3988 - acc: 0.8804 - val_loss: 0.4205 - val_acc: 0.8500\n",
      "Epoch 276/300\n",
      "50/50 [==============================] - 20s 408ms/step - loss: 0.2639 - acc: 0.9104 - val_loss: 0.6096 - val_acc: 0.8500\n",
      "Epoch 277/300\n",
      "50/50 [==============================] - 20s 392ms/step - loss: 0.2899 - acc: 0.9025 - val_loss: 0.6380 - val_acc: 0.8000\n",
      "Epoch 278/300\n",
      "50/50 [==============================] - 20s 409ms/step - loss: 0.2361 - acc: 0.9150 - val_loss: 0.3676 - val_acc: 0.9000\n",
      "Epoch 279/300\n",
      "50/50 [==============================] - 19s 384ms/step - loss: 0.2741 - acc: 0.9043 - val_loss: 0.4103 - val_acc: 0.9000\n",
      "Epoch 280/300\n",
      "17/50 [=========>....................] - ETA: 8s - loss: 0.2482 - acc: 0.915450/50 [==============================] - 21s 412ms/step - loss: 0.2255 - acc: 0.9256 - val_loss: 0.2926 - val_acc: 0.9000\n",
      "Epoch 281/300\n",
      "50/50 [==============================] - 22s 431ms/step - loss: 0.1952 - acc: 0.9332 - val_loss: 0.4558 - val_acc: 0.8500\n",
      "Epoch 282/300\n",
      "50/50 [==============================] - 19s 389ms/step - loss: 0.7686 - acc: 0.7857 - val_loss: 0.5739 - val_acc: 0.8500\n",
      "Epoch 283/300\n",
      "50/50 [==============================] - 19s 387ms/step - loss: 0.2979 - acc: 0.8987 - val_loss: 0.5113 - val_acc: 0.8500\n",
      "Epoch 284/300\n",
      "50/50 [==============================] - 22s 432ms/step - loss: 0.2420 - acc: 0.9127 - val_loss: 0.2297 - val_acc: 0.9500\n",
      "Epoch 285/300\n",
      "17/50 [=========>....................] - ETA: 7s - loss: 0.2643 - acc: 0.905050/50 [==============================] - 20s 393ms/step - loss: 0.6379 - acc: 0.8084 - val_loss: 0.4618 - val_acc: 0.9000\n",
      "Epoch 286/300\n",
      "50/50 [==============================] - 19s 389ms/step - loss: 0.2863 - acc: 0.9006 - val_loss: 0.5194 - val_acc: 0.9000\n",
      "Epoch 287/300\n",
      "50/50 [==============================] - 21s 414ms/step - loss: 0.2263 - acc: 0.9131 - val_loss: 0.3335 - val_acc: 0.9500\n",
      "Epoch 288/300\n",
      "50/50 [==============================] - 20s 409ms/step - loss: 0.2971 - acc: 0.9144 - val_loss: 0.3852 - val_acc: 0.8500\n",
      "Epoch 289/300\n",
      "50/50 [==============================] - 20s 390ms/step - loss: 0.2257 - acc: 0.9194 - val_loss: 0.3043 - val_acc: 0.8500\n",
      "Epoch 290/300\n",
      "16/50 [========>.....................] - ETA: 10s - loss: 0.2224 - acc: 0.909550/50 [==============================] - 20s 407ms/step - loss: 0.2151 - acc: 0.9223 - val_loss: 0.3373 - val_acc: 0.9000\n",
      "Epoch 291/300\n",
      "50/50 [==============================] - 19s 385ms/step - loss: 0.2672 - acc: 0.9158 - val_loss: 0.3691 - val_acc: 0.9000\n",
      "Epoch 292/300\n",
      "50/50 [==============================] - 21s 412ms/step - loss: 0.2415 - acc: 0.9130 - val_loss: 0.2463 - val_acc: 0.9000\n",
      "Epoch 293/300\n",
      "50/50 [==============================] - 21s 411ms/step - loss: 0.2180 - acc: 0.9225 - val_loss: 0.4291 - val_acc: 0.9000\n",
      "Epoch 294/300\n",
      "50/50 [==============================] - 19s 386ms/step - loss: 0.2250 - acc: 0.9209 - val_loss: 0.2037 - val_acc: 0.9000\n",
      "Epoch 295/300\n",
      "17/50 [=========>....................] - ETA: 8s - loss: 0.2334 - acc: 0.910550/50 [==============================] - 19s 384ms/step - loss: 0.2255 - acc: 0.9116 - val_loss: 0.2480 - val_acc: 0.9000\n",
      "Epoch 296/300\n",
      "50/50 [==============================] - 21s 429ms/step - loss: 0.1942 - acc: 0.9375 - val_loss: 0.6365 - val_acc: 0.9500\n",
      "Epoch 297/300\n",
      "50/50 [==============================] - 20s 390ms/step - loss: 0.2840 - acc: 0.9091 - val_loss: 0.6092 - val_acc: 0.8000\n",
      "Epoch 298/300\n",
      "50/50 [==============================] - 19s 388ms/step - loss: 0.2223 - acc: 0.9231 - val_loss: 0.2471 - val_acc: 0.8500\n",
      "Epoch 299/300\n",
      "50/50 [==============================] - 20s 400ms/step - loss: 0.2007 - acc: 0.9231 - val_loss: 0.4668 - val_acc: 0.8500\n",
      "Epoch 300/300\n",
      "17/50 [=========>....................] - ETA: 8s - loss: 0.1871 - acc: 0.943050/50 [==============================] - 20s 408ms/step - loss: 0.2031 - acc: 0.9288 - val_loss: 0.6242 - val_acc: 0.8000\n"
     ]
    }
   ],
   "source": [
    "input_shape = (125, 125, 3)\n",
    "classes = 10\n",
    "\n",
    "\n",
    "\n",
    "train_datagen = ImageDataGenerator(\n",
    "  rescale=1./255,\n",
    "  rotation_range=40,\n",
    "  width_shift_range=0.2,\n",
    "  height_shift_range=0.2,\n",
    "  shear_range=0.2,\n",
    "  zoom_range=0.2,\n",
    "  horizontal_flip=True)\n",
    "test_datagen = ImageDataGenerator(rescale=1./255)\n",
    "\n",
    "train_generator = train_datagen.flow_from_directory(\n",
    "  # This is the target directory\n",
    "  './drive/data/FacePlace/AsianSample/train',\n",
    "  target_size=(125, 125),\n",
    "  batch_size=32,\n",
    "  # Since we use binary_crossentropy loss, we need binary labels\n",
    "  class_mode='categorical')\n",
    "validation_generator = test_datagen.flow_from_directory(\n",
    "  './drive/data/FacePlace/AsianSample/val',\n",
    "  target_size=(125, 125),\n",
    "  batch_size=32,\n",
    "  class_mode='categorical')\n",
    "\n",
    "model = vanilia_cnn(input_shape=input_shape, classes=classes)\n",
    "\n",
    "history = model.fit_generator(\n",
    "  train_generator,\n",
    "  steps_per_epoch=50,\n",
    "  epochs=300,\n",
    "  validation_data=validation_generator,\n",
    "  validation_steps=50)"
   ]
  },
  {
   "cell_type": "code",
   "execution_count": 9,
   "metadata": {
    "colab": {
     "autoexec": {
      "startup": false,
      "wait_interval": 0
     },
     "base_uri": "https://localhost:8080/",
     "height": 708,
     "output_extras": [
      {
       "item_id": 1
      },
      {
       "item_id": 2
      }
     ]
    },
    "colab_type": "code",
    "executionInfo": {
     "elapsed": 1925,
     "status": "ok",
     "timestamp": 1521202872333,
     "user": {
      "displayName": "Cugtyt",
      "photoUrl": "//lh4.googleusercontent.com/-QxlWCi_owQ0/AAAAAAAAAAI/AAAAAAAAAC4/wNSYjuh_4x4/s50-c-k-no/photo.jpg",
      "userId": "100389950431846051928"
     },
     "user_tz": -480
    },
    "id": "F6WHm8-zzSsO",
    "outputId": "d3555704-d03d-48f2-d0e5-403f4381b7b1"
   },
   "outputs": [
    {
     "data": {
      "image/png": "[encoded data removed]",
      "text/plain": [
       "<matplotlib.figure.Figure at 0x7f801ef5c828>"
      ]
     },
     "metadata": {
      "tags": []
     },
     "output_type": "display_data"
    },
    {
     "data": {
      "image/png": "[encoded data removed]",
      "text/plain": [
       "<matplotlib.figure.Figure at 0x7f801eefe9e8>"
      ]
     },
     "metadata": {
      "tags": []
     },
     "output_type": "display_data"
    }
   ],
   "source": [
    "import matplotlib.pyplot as plt\n",
    "\n",
    "acc = history.history['acc']\n",
    "val_acc = history.history['val_acc']\n",
    "loss = history.history['loss']\n",
    "val_loss = history.history['val_loss']\n",
    "\n",
    "epochs = range(1, len(acc) + 1)\n",
    "\n",
    "plt.plot(epochs, acc, 'bo', label='Training acc')\n",
    "plt.plot(epochs, val_acc, 'b', label='Validation acc')\n",
    "plt.title('Training and validation accuracy')\n",
    "plt.legend()\n",
    "\n",
    "plt.figure()\n",
    "\n",
    "plt.plot(epochs, loss, 'bo', label='Training loss')\n",
    "plt.plot(epochs, val_loss, 'b', label='Validation loss')\n",
    "plt.title('Training and validation loss')\n",
    "plt.legend()\n",
    "\n",
    "plt.show()"
   ]
  },
  {
   "cell_type": "code",
   "execution_count": 0,
   "metadata": {
    "colab": {
     "autoexec": {
      "startup": false,
      "wait_interval": 0
     }
    },
    "colab_type": "code",
    "id": "wdxmr1ZSw1Gt"
   },
   "outputs": [],
   "source": [
    "model.save('./drive/data/vanilla_drop300.h5')"
   ]
  },
  {
   "cell_type": "code",
   "execution_count": 14,
   "metadata": {
    "colab": {
     "autoexec": {
      "startup": false,
      "wait_interval": 0
     },
     "base_uri": "https://localhost:8080/",
     "height": 7237,
     "output_extras": [
      {
       "item_id": 114
      },
      {
       "item_id": 216
      },
      {
       "item_id": 312
      },
      {
       "item_id": 419
      },
      {
       "item_id": 520
      },
      {
       "item_id": 637
      },
      {
       "item_id": 730
      },
      {
       "item_id": 832
      },
      {
       "item_id": 939
      },
      {
       "item_id": 1058
      },
      {
       "item_id": 1179
      },
      {
       "item_id": 1301
      },
      {
       "item_id": 1423
      },
      {
       "item_id": 1543
      },
      {
       "item_id": 1644
      },
      {
       "item_id": 1753
      },
      {
       "item_id": 1857
      },
      {
       "item_id": 1963
      },
      {
       "item_id": 2078
      },
      {
       "item_id": 2176
      },
      {
       "item_id": 2279
      },
      {
       "item_id": 2384
      },
      {
       "item_id": 2486
      },
      {
       "item_id": 2599
      },
      {
       "item_id": 2716
      },
      {
       "item_id": 2838
      },
      {
       "item_id": 2951
      },
      {
       "item_id": 3077
      },
      {
       "item_id": 3207
      },
      {
       "item_id": 3337
      },
      {
       "item_id": 3455
      },
      {
       "item_id": 3553
      },
      {
       "item_id": 3657
      },
      {
       "item_id": 3761
      },
      {
       "item_id": 3868
      },
      {
       "item_id": 3974
      },
      {
       "item_id": 4090
      },
      {
       "item_id": 4202
      },
      {
       "item_id": 4314
      },
      {
       "item_id": 4407
      }
     ]
    },
    "colab_type": "code",
    "executionInfo": {
     "elapsed": 4007670,
     "status": "ok",
     "timestamp": 1521207063740,
     "user": {
      "displayName": "Cugtyt",
      "photoUrl": "//lh4.googleusercontent.com/-QxlWCi_owQ0/AAAAAAAAAAI/AAAAAAAAAC4/wNSYjuh_4x4/s50-c-k-no/photo.jpg",
      "userId": "100389950431846051928"
     },
     "user_tz": -480
    },
    "id": "Q22BWjT58BSE",
    "outputId": "938125a1-f5bf-43e0-9a5e-3be118e9958e"
   },
   "outputs": [
    {
     "name": "stdout",
     "output_type": "stream",
     "text": [
      "Epoch 1/200\n",
      "50/50 [==============================] - 21s 413ms/step - loss: 0.1808 - acc: 0.9333 - val_loss: 0.5067 - val_acc: 0.8500\n",
      "Epoch 2/200\n",
      "50/50 [==============================] - 19s 380ms/step - loss: 0.2140 - acc: 0.9306 - val_loss: 0.3998 - val_acc: 0.9000\n",
      "Epoch 3/200\n",
      "50/50 [==============================] - 19s 380ms/step - loss: 0.1788 - acc: 0.9308 - val_loss: 0.5061 - val_acc: 0.9000\n",
      "Epoch 4/200\n",
      "50/50 [==============================] - 21s 427ms/step - loss: 0.1776 - acc: 0.9406 - val_loss: 0.3703 - val_acc: 0.8000\n",
      "Epoch 5/200\n",
      "50/50 [==============================] - 19s 390ms/step - loss: 0.2499 - acc: 0.9173 - val_loss: 0.3474 - val_acc: 0.9000\n",
      "Epoch 6/200\n",
      "12/50 [======>.......................] - ETA: 8s - loss: 0.2373 - acc: 0.916750/50 [==============================] - 19s 385ms/step - loss: 0.2161 - acc: 0.9269 - val_loss: 0.4531 - val_acc: 0.9000\n",
      "Epoch 7/200\n",
      "50/50 [==============================] - 20s 396ms/step - loss: 0.1981 - acc: 0.9377 - val_loss: 0.3822 - val_acc: 0.9000\n",
      "Epoch 8/200\n",
      "50/50 [==============================] - 20s 406ms/step - loss: 0.1920 - acc: 0.9352 - val_loss: 0.1910 - val_acc: 0.9000\n",
      "Epoch 9/200\n",
      "50/50 [==============================] - 19s 386ms/step - loss: 0.2078 - acc: 0.9293 - val_loss: 0.4858 - val_acc: 0.9500\n",
      "Epoch 10/200\n",
      "50/50 [==============================] - 20s 398ms/step - loss: 0.2320 - acc: 0.9225 - val_loss: 0.4145 - val_acc: 0.8000\n",
      "Epoch 11/200\n",
      "17/50 [=========>....................] - ETA: 8s - loss: 0.1873 - acc: 0.936350/50 [==============================] - 19s 379ms/step - loss: 0.2525 - acc: 0.9117 - val_loss: 0.4163 - val_acc: 0.9000\n",
      "Epoch 12/200\n",
      "50/50 [==============================] - 20s 406ms/step - loss: 0.1930 - acc: 0.9345 - val_loss: 0.6127 - val_acc: 0.8500\n",
      "Epoch 13/200\n",
      "50/50 [==============================] - 20s 404ms/step - loss: 0.2040 - acc: 0.9267 - val_loss: 0.6275 - val_acc: 0.7500\n",
      "Epoch 14/200\n",
      "50/50 [==============================] - 19s 386ms/step - loss: 0.1167 - acc: 0.9608 - val_loss: 0.5358 - val_acc: 0.8500\n",
      "Epoch 15/200\n",
      "50/50 [==============================] - 19s 381ms/step - loss: 0.1748 - acc: 0.9450 - val_loss: 0.4587 - val_acc: 0.8000\n",
      "Epoch 16/200\n",
      "18/50 [=========>....................] - ETA: 8s - loss: 0.1301 - acc: 0.953750/50 [==============================] - 22s 444ms/step - loss: 0.1675 - acc: 0.9466 - val_loss: 0.3703 - val_acc: 0.9500\n",
      "Epoch 17/200\n",
      "50/50 [==============================] - 19s 388ms/step - loss: 0.2039 - acc: 0.9285 - val_loss: 0.2471 - val_acc: 0.9000\n",
      "Epoch 18/200\n",
      "50/50 [==============================] - 19s 381ms/step - loss: 0.2211 - acc: 0.9244 - val_loss: 0.3806 - val_acc: 0.9000\n",
      "Epoch 19/200\n",
      "50/50 [==============================] - 20s 404ms/step - loss: 0.1708 - acc: 0.9438 - val_loss: 0.6148 - val_acc: 0.9500\n",
      "Epoch 20/200\n",
      "50/50 [==============================] - 20s 404ms/step - loss: 0.2174 - acc: 0.9298 - val_loss: 0.2175 - val_acc: 0.9500\n",
      "Epoch 21/200\n",
      "18/50 [=========>....................] - ETA: 7s - loss: 0.1810 - acc: 0.939850/50 [==============================] - 19s 387ms/step - loss: 0.1445 - acc: 0.9429 - val_loss: 0.3716 - val_acc: 0.9500\n",
      "Epoch 22/200\n",
      "50/50 [==============================] - 20s 403ms/step - loss: 0.1787 - acc: 0.9445 - val_loss: 0.2782 - val_acc: 0.9000\n",
      "Epoch 23/200\n",
      "50/50 [==============================] - 19s 381ms/step - loss: 0.1586 - acc: 0.9404 - val_loss: 0.2046 - val_acc: 0.9000\n",
      "Epoch 24/200\n",
      "50/50 [==============================] - 20s 408ms/step - loss: 0.1480 - acc: 0.9481 - val_loss: 0.3403 - val_acc: 0.9000\n",
      "Epoch 25/200\n",
      "50/50 [==============================] - 20s 408ms/step - loss: 0.2072 - acc: 0.9269 - val_loss: 0.2951 - val_acc: 0.8500\n",
      "Epoch 26/200\n",
      "18/50 [=========>....................] - ETA: 8s - loss: 0.1622 - acc: 0.936350/50 [==============================] - 19s 389ms/step - loss: 0.1717 - acc: 0.9394 - val_loss: 0.1604 - val_acc: 0.9500\n",
      "Epoch 27/200\n",
      "50/50 [==============================] - 19s 385ms/step - loss: 0.1763 - acc: 0.9460 - val_loss: 0.1980 - val_acc: 0.9000\n",
      "Epoch 28/200\n",
      "50/50 [==============================] - 22s 434ms/step - loss: 0.1744 - acc: 0.9392 - val_loss: 0.3239 - val_acc: 0.9000\n",
      "Epoch 29/200\n",
      "50/50 [==============================] - 20s 394ms/step - loss: 0.1961 - acc: 0.9406 - val_loss: 0.1879 - val_acc: 0.9000\n",
      "Epoch 30/200\n",
      "50/50 [==============================] - 19s 387ms/step - loss: 0.1285 - acc: 0.9544 - val_loss: 0.1783 - val_acc: 0.9500\n",
      "Epoch 31/200\n",
      "19/50 [==========>...................] - ETA: 7s - loss: 0.1895 - acc: 0.944150/50 [==============================] - 20s 399ms/step - loss: 0.1625 - acc: 0.9479 - val_loss: 0.3525 - val_acc: 0.9500\n",
      "Epoch 32/200\n",
      "50/50 [==============================] - 20s 409ms/step - loss: 0.1464 - acc: 0.9544 - val_loss: 0.6040 - val_acc: 0.9000\n",
      "Epoch 33/200\n",
      "50/50 [==============================] - 19s 389ms/step - loss: 0.1648 - acc: 0.9479 - val_loss: 0.4002 - val_acc: 0.8500\n",
      "Epoch 34/200\n",
      "50/50 [==============================] - 20s 404ms/step - loss: 0.1758 - acc: 0.9378 - val_loss: 0.2543 - val_acc: 0.9500\n",
      "Epoch 35/200\n",
      "50/50 [==============================] - 19s 386ms/step - loss: 0.1921 - acc: 0.9333 - val_loss: 0.1969 - val_acc: 0.9500\n",
      "Epoch 36/200\n",
      "18/50 [=========>....................] - ETA: 8s - loss: 0.1452 - acc: 0.951450/50 [==============================] - 20s 409ms/step - loss: 0.1490 - acc: 0.9476 - val_loss: 0.3589 - val_acc: 0.9500\n",
      "Epoch 37/200\n",
      "50/50 [==============================] - 22s 437ms/step - loss: 0.1338 - acc: 0.9527 - val_loss: 0.3510 - val_acc: 0.9500\n",
      "Epoch 38/200\n",
      "50/50 [==============================] - 19s 387ms/step - loss: 0.2472 - acc: 0.9249 - val_loss: 0.4247 - val_acc: 0.9000\n",
      "Epoch 39/200\n",
      "50/50 [==============================] - 19s 384ms/step - loss: 0.1523 - acc: 0.9502 - val_loss: 0.5415 - val_acc: 0.8000\n",
      "Epoch 40/200\n",
      "50/50 [==============================] - 22s 431ms/step - loss: 0.2312 - acc: 0.9184 - val_loss: 0.3327 - val_acc: 0.9000\n",
      "Epoch 41/200\n",
      "17/50 [=========>....................] - ETA: 7s - loss: 0.1031 - acc: 0.968850/50 [==============================] - 19s 389ms/step - loss: 0.1376 - acc: 0.9535 - val_loss: 0.4071 - val_acc: 0.9000\n",
      "Epoch 42/200\n",
      "50/50 [==============================] - 19s 389ms/step - loss: 0.1578 - acc: 0.9416 - val_loss: 0.1079 - val_acc: 1.0000\n",
      "Epoch 43/200\n",
      "50/50 [==============================] - 20s 403ms/step - loss: 0.1646 - acc: 0.9491 - val_loss: 0.1403 - val_acc: 0.9000\n",
      "Epoch 44/200\n",
      "50/50 [==============================] - 20s 406ms/step - loss: 0.1996 - acc: 0.9255 - val_loss: 0.2066 - val_acc: 0.9500\n",
      "Epoch 45/200\n",
      "50/50 [==============================] - 19s 390ms/step - loss: 0.1604 - acc: 0.9443 - val_loss: 0.2808 - val_acc: 0.9500\n",
      "Epoch 46/200\n",
      "18/50 [=========>....................] - ETA: 8s - loss: 0.1367 - acc: 0.953750/50 [==============================] - 20s 403ms/step - loss: 0.1367 - acc: 0.9525 - val_loss: 0.1981 - val_acc: 0.9000\n",
      "Epoch 47/200\n",
      "50/50 [==============================] - 19s 384ms/step - loss: 0.2109 - acc: 0.9252 - val_loss: 0.2084 - val_acc: 0.9500\n",
      "Epoch 48/200\n",
      "50/50 [==============================] - 20s 408ms/step - loss: 0.1422 - acc: 0.9541 - val_loss: 0.4663 - val_acc: 0.9000\n",
      "Epoch 49/200\n",
      "50/50 [==============================] - 21s 413ms/step - loss: 0.1478 - acc: 0.9527 - val_loss: 0.1473 - val_acc: 0.9500\n",
      "Epoch 50/200\n",
      "50/50 [==============================] - 19s 387ms/step - loss: 0.1066 - acc: 0.9660 - val_loss: 0.2289 - val_acc: 0.9500\n",
      "Epoch 51/200\n",
      "18/50 [=========>....................] - ETA: 8s - loss: 0.1481 - acc: 0.942150/50 [==============================] - 19s 382ms/step - loss: 0.1398 - acc: 0.9508 - val_loss: 0.2312 - val_acc: 0.9500\n",
      "Epoch 52/200\n",
      "50/50 [==============================] - 22s 435ms/step - loss: 0.2443 - acc: 0.9286 - val_loss: 0.3058 - val_acc: 0.9500\n",
      "Epoch 53/200\n",
      "50/50 [==============================] - 20s 391ms/step - loss: 0.1247 - acc: 0.9583 - val_loss: 0.1508 - val_acc: 0.9500\n",
      "Epoch 54/200\n",
      "50/50 [==============================] - 19s 387ms/step - loss: 0.1316 - acc: 0.9536 - val_loss: 0.1431 - val_acc: 0.9500\n",
      "Epoch 55/200\n",
      "50/50 [==============================] - 20s 404ms/step - loss: 0.1373 - acc: 0.9468 - val_loss: 0.3415 - val_acc: 0.9000\n",
      "Epoch 56/200\n"
     ]
    },
    {
     "name": "stdout",
     "output_type": "stream",
     "text": [
      "17/50 [=========>....................] - ETA: 9s - loss: 0.0724 - acc: 0.969450/50 [==============================] - 20s 409ms/step - loss: 0.1255 - acc: 0.9577 - val_loss: 0.5559 - val_acc: 0.9500\n",
      "Epoch 57/200\n",
      "50/50 [==============================] - 19s 386ms/step - loss: 0.1763 - acc: 0.9444 - val_loss: 0.5250 - val_acc: 0.9000\n",
      "Epoch 58/200\n",
      "50/50 [==============================] - 20s 405ms/step - loss: 0.1420 - acc: 0.9507 - val_loss: 0.2855 - val_acc: 0.9500\n",
      "Epoch 59/200\n",
      "50/50 [==============================] - 19s 385ms/step - loss: 0.1169 - acc: 0.9627 - val_loss: 0.2654 - val_acc: 0.9500\n",
      "Epoch 60/200\n",
      "50/50 [==============================] - 20s 406ms/step - loss: 0.1582 - acc: 0.9380 - val_loss: 0.3365 - val_acc: 0.9000\n",
      "Epoch 61/200\n",
      "18/50 [=========>....................] - ETA: 7s - loss: 0.1475 - acc: 0.947950/50 [==============================] - 20s 405ms/step - loss: 0.1395 - acc: 0.9450 - val_loss: 0.2267 - val_acc: 0.9500\n",
      "Epoch 62/200\n",
      "50/50 [==============================] - 19s 383ms/step - loss: 0.1744 - acc: 0.9406 - val_loss: 0.3289 - val_acc: 0.9000\n",
      "Epoch 63/200\n",
      "50/50 [==============================] - 19s 384ms/step - loss: 0.1646 - acc: 0.9456 - val_loss: 0.1530 - val_acc: 0.9500\n",
      "Epoch 64/200\n",
      "50/50 [==============================] - 22s 431ms/step - loss: 0.1549 - acc: 0.9462 - val_loss: 0.1910 - val_acc: 0.9500\n",
      "Epoch 65/200\n",
      "50/50 [==============================] - 20s 390ms/step - loss: 0.1217 - acc: 0.9581 - val_loss: 0.2765 - val_acc: 0.9500\n",
      "Epoch 66/200\n",
      "18/50 [=========>....................] - ETA: 7s - loss: 0.2843 - acc: 0.904550/50 [==============================] - 19s 382ms/step - loss: 0.1723 - acc: 0.9381 - val_loss: 0.3679 - val_acc: 0.9500\n",
      "Epoch 67/200\n",
      "50/50 [==============================] - 20s 404ms/step - loss: 0.1183 - acc: 0.9570 - val_loss: 0.4817 - val_acc: 0.9500\n",
      "Epoch 68/200\n",
      "50/50 [==============================] - 20s 404ms/step - loss: 0.1457 - acc: 0.9495 - val_loss: 0.1766 - val_acc: 0.9000\n",
      "Epoch 69/200\n",
      "50/50 [==============================] - 20s 391ms/step - loss: 0.1197 - acc: 0.9571 - val_loss: 0.1807 - val_acc: 0.9500\n",
      "Epoch 70/200\n",
      "50/50 [==============================] - 20s 405ms/step - loss: 0.5849 - acc: 0.8704 - val_loss: 0.3649 - val_acc: 0.8500\n",
      "Epoch 71/200\n",
      "18/50 [=========>....................] - ETA: 8s - loss: 0.1932 - acc: 0.939850/50 [==============================] - 19s 382ms/step - loss: 0.2007 - acc: 0.9298 - val_loss: 0.4690 - val_acc: 0.9000\n",
      "Epoch 72/200\n",
      "50/50 [==============================] - 20s 407ms/step - loss: 0.1792 - acc: 0.9427 - val_loss: 0.3736 - val_acc: 0.9000\n",
      "Epoch 73/200\n",
      "50/50 [==============================] - 21s 427ms/step - loss: 0.1601 - acc: 0.9472 - val_loss: 0.3414 - val_acc: 0.9500\n",
      "Epoch 74/200\n",
      "50/50 [==============================] - 19s 382ms/step - loss: 0.1524 - acc: 0.9533 - val_loss: 0.3651 - val_acc: 0.9500\n",
      "Epoch 75/200\n",
      "50/50 [==============================] - 19s 379ms/step - loss: 0.1190 - acc: 0.9595 - val_loss: 0.5390 - val_acc: 0.9500\n",
      "Epoch 76/200\n",
      "18/50 [=========>....................] - ETA: 8s - loss: 0.1835 - acc: 0.944450/50 [==============================] - 21s 419ms/step - loss: 0.1733 - acc: 0.9437 - val_loss: 0.2368 - val_acc: 0.9500\n",
      "Epoch 77/200\n",
      "50/50 [==============================] - 20s 391ms/step - loss: 0.1274 - acc: 0.9639 - val_loss: 0.4804 - val_acc: 0.9500\n",
      "Epoch 78/200\n",
      "50/50 [==============================] - 19s 385ms/step - loss: 0.1382 - acc: 0.9608 - val_loss: 0.2829 - val_acc: 0.8500\n",
      "Epoch 79/200\n",
      "50/50 [==============================] - 22s 439ms/step - loss: 0.1792 - acc: 0.9450 - val_loss: 0.2108 - val_acc: 0.9500\n",
      "Epoch 80/200\n",
      "50/50 [==============================] - 20s 410ms/step - loss: 0.5582 - acc: 0.8468 - val_loss: 0.5203 - val_acc: 0.9500\n",
      "Epoch 81/200\n",
      "17/50 [=========>....................] - ETA: 7s - loss: 0.1570 - acc: 0.936950/50 [==============================] - 19s 390ms/step - loss: 0.1315 - acc: 0.9556 - val_loss: 0.3418 - val_acc: 0.9500\n",
      "Epoch 82/200\n",
      "50/50 [==============================] - 20s 408ms/step - loss: 0.1718 - acc: 0.9437 - val_loss: 0.2993 - val_acc: 0.9500\n",
      "Epoch 83/200\n",
      "50/50 [==============================] - 19s 385ms/step - loss: 0.1269 - acc: 0.9598 - val_loss: 0.3780 - val_acc: 0.9500\n",
      "Epoch 84/200\n",
      "50/50 [==============================] - 20s 409ms/step - loss: 0.1210 - acc: 0.9634 - val_loss: 0.6526 - val_acc: 0.9500\n",
      "Epoch 85/200\n",
      "50/50 [==============================] - 21s 411ms/step - loss: 0.1251 - acc: 0.9561 - val_loss: 0.1896 - val_acc: 0.9500\n",
      "Epoch 86/200\n",
      "17/50 [=========>....................] - ETA: 8s - loss: 0.1490 - acc: 0.950450/50 [==============================] - 19s 387ms/step - loss: 0.1326 - acc: 0.9544 - val_loss: 0.3132 - val_acc: 0.8500\n",
      "Epoch 87/200\n",
      "50/50 [==============================] - 19s 386ms/step - loss: 0.1743 - acc: 0.9400 - val_loss: 0.4463 - val_acc: 0.9500\n",
      "Epoch 88/200\n",
      "50/50 [==============================] - 21s 428ms/step - loss: 0.1252 - acc: 0.9558 - val_loss: 0.3772 - val_acc: 0.9500\n",
      "Epoch 89/200\n",
      "50/50 [==============================] - 19s 389ms/step - loss: 0.1476 - acc: 0.9559 - val_loss: 0.4875 - val_acc: 0.9000\n",
      "Epoch 90/200\n",
      "50/50 [==============================] - 19s 390ms/step - loss: 0.1319 - acc: 0.9540 - val_loss: 0.2310 - val_acc: 0.9500\n",
      "Epoch 91/200\n",
      "18/50 [=========>....................] - ETA: 8s - loss: 0.0959 - acc: 0.970550/50 [==============================] - 20s 403ms/step - loss: 0.0956 - acc: 0.9658 - val_loss: 0.2147 - val_acc: 0.9000\n",
      "Epoch 92/200\n",
      "50/50 [==============================] - 21s 414ms/step - loss: 0.0954 - acc: 0.9679 - val_loss: 0.4543 - val_acc: 0.9000\n",
      "Epoch 93/200\n",
      "50/50 [==============================] - 20s 394ms/step - loss: 0.1258 - acc: 0.9569 - val_loss: 0.5271 - val_acc: 0.9500\n",
      "Epoch 94/200\n",
      "50/50 [==============================] - 20s 407ms/step - loss: 0.1184 - acc: 0.9602 - val_loss: 0.3386 - val_acc: 0.9000\n",
      "Epoch 95/200\n",
      "50/50 [==============================] - 20s 390ms/step - loss: 0.1344 - acc: 0.9548 - val_loss: 0.4797 - val_acc: 0.9500\n",
      "Epoch 96/200\n",
      "18/50 [=========>....................] - ETA: 8s - loss: 0.2778 - acc: 0.926550/50 [==============================] - 20s 410ms/step - loss: 0.2059 - acc: 0.9364 - val_loss: 0.3131 - val_acc: 0.9500\n",
      "Epoch 97/200\n",
      "50/50 [==============================] - 21s 410ms/step - loss: 0.1326 - acc: 0.9537 - val_loss: 0.2244 - val_acc: 0.9500\n",
      "Epoch 98/200\n",
      "50/50 [==============================] - 20s 391ms/step - loss: 0.1155 - acc: 0.9591 - val_loss: 0.1937 - val_acc: 0.9500\n",
      "Epoch 99/200\n",
      "50/50 [==============================] - 19s 383ms/step - loss: 0.1594 - acc: 0.9487 - val_loss: 0.2410 - val_acc: 0.9000\n",
      "Epoch 100/200\n",
      "50/50 [==============================] - 22s 434ms/step - loss: 0.1368 - acc: 0.9492 - val_loss: 0.3173 - val_acc: 0.9500\n",
      "Epoch 101/200\n",
      "17/50 [=========>....................] - ETA: 8s - loss: 0.1235 - acc: 0.952850/50 [==============================] - 20s 393ms/step - loss: 0.1315 - acc: 0.9536 - val_loss: 0.3745 - val_acc: 0.9500\n",
      "Epoch 102/200\n",
      "50/50 [==============================] - 20s 392ms/step - loss: 0.1193 - acc: 0.9623 - val_loss: 0.1420 - val_acc: 0.9500\n",
      "Epoch 103/200\n",
      "50/50 [==============================] - 20s 402ms/step - loss: 0.1213 - acc: 0.9602 - val_loss: 0.4669 - val_acc: 0.9500\n",
      "Epoch 104/200\n",
      "50/50 [==============================] - 20s 407ms/step - loss: 0.1313 - acc: 0.9594 - val_loss: 0.4767 - val_acc: 0.9000\n",
      "Epoch 105/200\n",
      "50/50 [==============================] - 19s 385ms/step - loss: 0.1127 - acc: 0.9588 - val_loss: 0.2837 - val_acc: 0.9500\n",
      "Epoch 106/200\n",
      "17/50 [=========>....................] - ETA: 8s - loss: 0.1185 - acc: 0.960250/50 [==============================] - 19s 385ms/step - loss: 0.1366 - acc: 0.9561 - val_loss: 0.6362 - val_acc: 0.9500\n",
      "Epoch 107/200\n",
      "50/50 [==============================] - 20s 404ms/step - loss: 0.0973 - acc: 0.9683 - val_loss: 0.1834 - val_acc: 0.9500\n",
      "Epoch 108/200\n",
      "50/50 [==============================] - 20s 405ms/step - loss: 0.1160 - acc: 0.9587 - val_loss: 0.5356 - val_acc: 0.9500\n",
      "Epoch 109/200\n",
      "50/50 [==============================] - 19s 388ms/step - loss: 0.1976 - acc: 0.9462 - val_loss: 0.1513 - val_acc: 0.9500\n",
      "Epoch 110/200\n",
      "50/50 [==============================] - 20s 402ms/step - loss: 0.1397 - acc: 0.9619 - val_loss: 0.2854 - val_acc: 0.9500\n",
      "Epoch 111/200\n"
     ]
    },
    {
     "name": "stdout",
     "output_type": "stream",
     "text": [
      "17/50 [=========>....................] - ETA: 8s - loss: 0.0950 - acc: 0.968150/50 [==============================] - 19s 382ms/step - loss: 0.1086 - acc: 0.9635 - val_loss: 0.6208 - val_acc: 0.9000\n",
      "Epoch 112/200\n",
      "50/50 [==============================] - 20s 410ms/step - loss: 0.1038 - acc: 0.9689 - val_loss: 0.5808 - val_acc: 0.9000\n",
      "Epoch 113/200\n",
      "50/50 [==============================] - 20s 405ms/step - loss: 0.1080 - acc: 0.9598 - val_loss: 0.4903 - val_acc: 0.9500\n",
      "Epoch 114/200\n",
      "50/50 [==============================] - 19s 387ms/step - loss: 0.1345 - acc: 0.9623 - val_loss: 0.3387 - val_acc: 0.9500\n",
      "Epoch 115/200\n",
      "50/50 [==============================] - 19s 382ms/step - loss: 0.1451 - acc: 0.9540 - val_loss: 0.3941 - val_acc: 0.9500\n",
      "Epoch 116/200\n",
      "18/50 [=========>....................] - ETA: 9s - loss: 0.1321 - acc: 0.9578 50/50 [==============================] - 21s 418ms/step - loss: 0.1089 - acc: 0.9608 - val_loss: 0.1486 - val_acc: 0.9500\n",
      "Epoch 117/200\n",
      "50/50 [==============================] - 19s 382ms/step - loss: 0.1076 - acc: 0.9677 - val_loss: 0.0987 - val_acc: 1.0000\n",
      "Epoch 118/200\n",
      "50/50 [==============================] - 19s 383ms/step - loss: 0.1263 - acc: 0.9613 - val_loss: 0.5006 - val_acc: 0.9500\n",
      "Epoch 119/200\n",
      "50/50 [==============================] - 20s 400ms/step - loss: 0.1049 - acc: 0.9640 - val_loss: 0.5729 - val_acc: 0.9000\n",
      "Epoch 120/200\n",
      "50/50 [==============================] - 20s 404ms/step - loss: 0.1093 - acc: 0.9674 - val_loss: 0.7764 - val_acc: 0.9500\n",
      "Epoch 121/200\n",
      "17/50 [=========>....................] - ETA: 7s - loss: 0.1349 - acc: 0.960250/50 [==============================] - 19s 387ms/step - loss: 0.1379 - acc: 0.9579 - val_loss: 0.3319 - val_acc: 0.9500\n",
      "Epoch 122/200\n",
      "50/50 [==============================] - 21s 413ms/step - loss: 0.1025 - acc: 0.9636 - val_loss: 0.3063 - val_acc: 0.9000\n",
      "Epoch 123/200\n",
      "50/50 [==============================] - 19s 388ms/step - loss: 0.1046 - acc: 0.9645 - val_loss: 0.7746 - val_acc: 0.9500\n",
      "Epoch 124/200\n",
      "50/50 [==============================] - 21s 420ms/step - loss: 0.1121 - acc: 0.9625 - val_loss: 0.3124 - val_acc: 0.9500\n",
      "Epoch 125/200\n",
      "50/50 [==============================] - 21s 410ms/step - loss: 0.1106 - acc: 0.9623 - val_loss: 0.4085 - val_acc: 0.9000\n",
      "Epoch 126/200\n",
      "17/50 [=========>....................] - ETA: 8s - loss: 0.0928 - acc: 0.971250/50 [==============================] - 19s 389ms/step - loss: 0.1027 - acc: 0.9644 - val_loss: 0.6078 - val_acc: 0.9000\n",
      "Epoch 127/200\n",
      "50/50 [==============================] - 19s 386ms/step - loss: 0.0961 - acc: 0.9654 - val_loss: 0.7122 - val_acc: 0.9500\n",
      "Epoch 128/200\n",
      "50/50 [==============================] - 23s 455ms/step - loss: 0.1258 - acc: 0.9571 - val_loss: 0.4600 - val_acc: 0.9500\n",
      "Epoch 129/200\n",
      "50/50 [==============================] - 20s 394ms/step - loss: 0.1099 - acc: 0.9677 - val_loss: 0.8288 - val_acc: 0.9500\n",
      "Epoch 130/200\n",
      "50/50 [==============================] - 20s 394ms/step - loss: 0.1026 - acc: 0.9675 - val_loss: 0.5324 - val_acc: 0.9500\n",
      "Epoch 131/200\n",
      "16/50 [========>.....................] - ETA: 8s - loss: 0.1354 - acc: 0.951850/50 [==============================] - 20s 405ms/step - loss: 0.0893 - acc: 0.9696 - val_loss: 0.3723 - val_acc: 0.9500\n",
      "Epoch 132/200\n",
      "50/50 [==============================] - 21s 413ms/step - loss: 0.1107 - acc: 0.9642 - val_loss: 0.4522 - val_acc: 0.9500\n",
      "Epoch 133/200\n",
      "50/50 [==============================] - 20s 392ms/step - loss: 0.0810 - acc: 0.9702 - val_loss: 0.2771 - val_acc: 0.9500\n",
      "Epoch 134/200\n",
      "50/50 [==============================] - 20s 408ms/step - loss: 0.1045 - acc: 0.9623 - val_loss: 0.2372 - val_acc: 0.9500\n",
      "Epoch 135/200\n",
      "50/50 [==============================] - 20s 390ms/step - loss: 0.1040 - acc: 0.9667 - val_loss: 0.3872 - val_acc: 0.8500\n",
      "Epoch 136/200\n",
      "17/50 [=========>....................] - ETA: 8s - loss: 0.0755 - acc: 0.977950/50 [==============================] - 21s 412ms/step - loss: 0.1123 - acc: 0.9652 - val_loss: 0.3238 - val_acc: 0.8500\n",
      "Epoch 137/200\n",
      "50/50 [==============================] - 21s 412ms/step - loss: 0.0877 - acc: 0.9685 - val_loss: 0.3384 - val_acc: 0.9500\n",
      "Epoch 138/200\n",
      "50/50 [==============================] - 19s 387ms/step - loss: 0.1017 - acc: 0.9660 - val_loss: 0.1363 - val_acc: 0.9000\n",
      "Epoch 139/200\n",
      "50/50 [==============================] - 19s 390ms/step - loss: 0.0923 - acc: 0.9671 - val_loss: 0.3521 - val_acc: 0.9500\n",
      "Epoch 140/200\n",
      "50/50 [==============================] - 22s 431ms/step - loss: 0.0844 - acc: 0.9700 - val_loss: 0.1285 - val_acc: 0.9500\n",
      "Epoch 141/200\n",
      "17/50 [=========>....................] - ETA: 7s - loss: 0.1099 - acc: 0.966950/50 [==============================] - 20s 394ms/step - loss: 0.0868 - acc: 0.9712 - val_loss: 0.5407 - val_acc: 0.9500\n",
      "Epoch 142/200\n",
      "50/50 [==============================] - 19s 389ms/step - loss: 0.1282 - acc: 0.9604 - val_loss: 0.5087 - val_acc: 0.8500\n",
      "Epoch 143/200\n",
      "50/50 [==============================] - 21s 412ms/step - loss: 0.0743 - acc: 0.9731 - val_loss: 0.5588 - val_acc: 0.8500\n",
      "Epoch 144/200\n",
      "50/50 [==============================] - 21s 414ms/step - loss: 0.3207 - acc: 0.9171 - val_loss: 0.5324 - val_acc: 0.8500\n",
      "Epoch 145/200\n",
      "50/50 [==============================] - 20s 394ms/step - loss: 0.1220 - acc: 0.9605 - val_loss: 0.3407 - val_acc: 0.9000\n",
      "Epoch 146/200\n",
      "16/50 [========>.....................] - ETA: 8s - loss: 0.0919 - acc: 0.964850/50 [==============================] - 21s 413ms/step - loss: 0.0817 - acc: 0.9721 - val_loss: 0.5134 - val_acc: 0.8500\n",
      "Epoch 147/200\n",
      "50/50 [==============================] - 20s 391ms/step - loss: 0.0870 - acc: 0.9677 - val_loss: 0.5518 - val_acc: 0.9000\n",
      "Epoch 148/200\n",
      "50/50 [==============================] - 21s 413ms/step - loss: 0.1158 - acc: 0.9581 - val_loss: 0.4336 - val_acc: 0.9000\n",
      "Epoch 149/200\n",
      "50/50 [==============================] - 21s 414ms/step - loss: 0.0901 - acc: 0.9739 - val_loss: 0.7509 - val_acc: 0.9000\n",
      "Epoch 150/200\n",
      "50/50 [==============================] - 20s 393ms/step - loss: 0.0893 - acc: 0.9654 - val_loss: 0.4356 - val_acc: 0.9000\n",
      "Epoch 151/200\n",
      "17/50 [=========>....................] - ETA: 8s - loss: 0.0835 - acc: 0.969450/50 [==============================] - 19s 388ms/step - loss: 0.0877 - acc: 0.9692 - val_loss: 0.7101 - val_acc: 0.9500\n",
      "Epoch 152/200\n",
      "50/50 [==============================] - 21s 429ms/step - loss: 0.0781 - acc: 0.9764 - val_loss: 0.3726 - val_acc: 0.9500\n",
      "Epoch 153/200\n",
      "50/50 [==============================] - 20s 392ms/step - loss: 0.0730 - acc: 0.9742 - val_loss: 0.3433 - val_acc: 0.9500\n",
      "Epoch 154/200\n",
      "50/50 [==============================] - 20s 392ms/step - loss: 0.0823 - acc: 0.9739 - val_loss: 0.3202 - val_acc: 0.9500\n",
      "Epoch 155/200\n",
      "50/50 [==============================] - 20s 406ms/step - loss: 0.0889 - acc: 0.9717 - val_loss: 0.5474 - val_acc: 0.9500\n",
      "Epoch 156/200\n",
      "17/50 [=========>....................] - ETA: 9s - loss: 0.0493 - acc: 0.981650/50 [==============================] - 21s 414ms/step - loss: 0.0781 - acc: 0.9735 - val_loss: 0.6342 - val_acc: 0.9000\n",
      "Epoch 157/200\n",
      "50/50 [==============================] - 20s 392ms/step - loss: 0.1039 - acc: 0.9623 - val_loss: 0.2969 - val_acc: 0.9000\n",
      "Epoch 158/200\n",
      "50/50 [==============================] - 20s 405ms/step - loss: 0.0798 - acc: 0.9733 - val_loss: 0.2855 - val_acc: 0.9500\n",
      "Epoch 159/200\n",
      "50/50 [==============================] - 19s 386ms/step - loss: 0.1151 - acc: 0.9565 - val_loss: 0.4157 - val_acc: 0.9500\n",
      "Epoch 160/200\n",
      "50/50 [==============================] - 21s 413ms/step - loss: 0.1129 - acc: 0.9652 - val_loss: 0.2840 - val_acc: 0.9000\n",
      "Epoch 161/200\n",
      "16/50 [========>.....................] - ETA: 8s - loss: 0.0913 - acc: 0.959650/50 [==============================] - 21s 414ms/step - loss: 0.0920 - acc: 0.9646 - val_loss: 0.4417 - val_acc: 0.9000\n",
      "Epoch 162/200\n",
      "50/50 [==============================] - 19s 388ms/step - loss: 0.0993 - acc: 0.9681 - val_loss: 0.1613 - val_acc: 0.9500\n",
      "Epoch 163/200\n",
      "50/50 [==============================] - 19s 390ms/step - loss: 0.0818 - acc: 0.9690 - val_loss: 0.1639 - val_acc: 0.9000\n",
      "Epoch 164/200\n",
      "50/50 [==============================] - 22s 430ms/step - loss: 0.1055 - acc: 0.9648 - val_loss: 0.2916 - val_acc: 0.9500\n",
      "Epoch 165/200\n",
      "50/50 [==============================] - 20s 393ms/step - loss: 0.0862 - acc: 0.9685 - val_loss: 0.4903 - val_acc: 0.9000\n",
      "Epoch 166/200\n"
     ]
    },
    {
     "name": "stdout",
     "output_type": "stream",
     "text": [
      "17/50 [=========>....................] - ETA: 8s - loss: 0.1017 - acc: 0.963850/50 [==============================] - 19s 387ms/step - loss: 0.0985 - acc: 0.9631 - val_loss: 0.1674 - val_acc: 0.9500\n",
      "Epoch 167/200\n",
      "50/50 [==============================] - 21s 415ms/step - loss: 0.0669 - acc: 0.9762 - val_loss: 0.3812 - val_acc: 0.9000\n",
      "Epoch 168/200\n",
      "50/50 [==============================] - 21s 410ms/step - loss: 0.0547 - acc: 0.9831 - val_loss: 0.4707 - val_acc: 0.9500\n",
      "Epoch 169/200\n",
      "50/50 [==============================] - 20s 393ms/step - loss: 0.0722 - acc: 0.9746 - val_loss: 0.5505 - val_acc: 0.9500\n",
      "Epoch 170/200\n",
      "50/50 [==============================] - 21s 415ms/step - loss: 0.3314 - acc: 0.9112 - val_loss: 0.4379 - val_acc: 0.9500\n",
      "Epoch 171/200\n",
      "17/50 [=========>....................] - ETA: 8s - loss: 0.1123 - acc: 0.965750/50 [==============================] - 19s 385ms/step - loss: 0.1018 - acc: 0.9640 - val_loss: 0.5941 - val_acc: 0.9000\n",
      "Epoch 172/200\n",
      "50/50 [==============================] - 21s 414ms/step - loss: 0.0692 - acc: 0.9781 - val_loss: 0.3325 - val_acc: 0.9000\n",
      "Epoch 173/200\n",
      "50/50 [==============================] - 21s 412ms/step - loss: 0.0809 - acc: 0.9714 - val_loss: 0.4376 - val_acc: 0.9500\n",
      "Epoch 174/200\n",
      "50/50 [==============================] - 19s 389ms/step - loss: 0.0672 - acc: 0.9773 - val_loss: 0.3880 - val_acc: 0.9000\n",
      "Epoch 175/200\n",
      "50/50 [==============================] - 20s 397ms/step - loss: 0.0766 - acc: 0.9700 - val_loss: 0.6016 - val_acc: 0.9500\n",
      "Epoch 176/200\n",
      "16/50 [========>.....................] - ETA: 13s - loss: 0.0458 - acc: 0.982450/50 [==============================] - 22s 447ms/step - loss: 0.0570 - acc: 0.9783 - val_loss: 0.5206 - val_acc: 0.9500\n",
      "Epoch 177/200\n",
      "50/50 [==============================] - 20s 392ms/step - loss: 0.0810 - acc: 0.9685 - val_loss: 0.4785 - val_acc: 0.9500\n",
      "Epoch 178/200\n",
      "50/50 [==============================] - 19s 390ms/step - loss: 0.0671 - acc: 0.9742 - val_loss: 0.2770 - val_acc: 0.9500\n",
      "Epoch 179/200\n",
      "50/50 [==============================] - 20s 409ms/step - loss: 0.0660 - acc: 0.9750 - val_loss: 0.4732 - val_acc: 0.9500\n",
      "Epoch 180/200\n",
      "50/50 [==============================] - 21s 413ms/step - loss: 0.3428 - acc: 0.9191 - val_loss: 0.3032 - val_acc: 0.9000\n",
      "Epoch 181/200\n",
      "17/50 [=========>....................] - ETA: 7s - loss: 0.0854 - acc: 0.973050/50 [==============================] - 20s 392ms/step - loss: 0.0859 - acc: 0.9710 - val_loss: 0.2715 - val_acc: 0.9000\n",
      "Epoch 182/200\n",
      "50/50 [==============================] - 20s 405ms/step - loss: 0.0916 - acc: 0.9675 - val_loss: 0.3051 - val_acc: 0.9000\n",
      "Epoch 183/200\n",
      "50/50 [==============================] - 19s 387ms/step - loss: 0.0666 - acc: 0.9781 - val_loss: 0.2646 - val_acc: 0.9000\n",
      "Epoch 184/200\n",
      "50/50 [==============================] - 21s 413ms/step - loss: 0.0898 - acc: 0.9743 - val_loss: 0.3764 - val_acc: 0.9000\n",
      "Epoch 185/200\n",
      "50/50 [==============================] - 21s 422ms/step - loss: 0.0860 - acc: 0.9748 - val_loss: 0.5357 - val_acc: 0.9000\n",
      "Epoch 186/200\n",
      "17/50 [=========>....................] - ETA: 8s - loss: 0.0729 - acc: 0.976150/50 [==============================] - 19s 389ms/step - loss: 0.0712 - acc: 0.9733 - val_loss: 0.5575 - val_acc: 0.9500\n",
      "Epoch 187/200\n",
      "50/50 [==============================] - 19s 386ms/step - loss: 0.0965 - acc: 0.9752 - val_loss: 0.1805 - val_acc: 0.9000\n",
      "Epoch 188/200\n",
      "50/50 [==============================] - 21s 429ms/step - loss: 0.1036 - acc: 0.9694 - val_loss: 0.3052 - val_acc: 0.9500\n",
      "Epoch 189/200\n",
      "50/50 [==============================] - 20s 392ms/step - loss: 0.0675 - acc: 0.9767 - val_loss: 0.3212 - val_acc: 0.9500\n",
      "Epoch 190/200\n",
      "50/50 [==============================] - 20s 391ms/step - loss: 0.0662 - acc: 0.9735 - val_loss: 0.4172 - val_acc: 0.9500\n",
      "Epoch 191/200\n",
      "16/50 [========>.....................] - ETA: 10s - loss: 0.0599 - acc: 0.975350/50 [==============================] - 20s 406ms/step - loss: 0.0627 - acc: 0.9800 - val_loss: 0.5948 - val_acc: 0.9000\n",
      "Epoch 192/200\n",
      "50/50 [==============================] - 21s 413ms/step - loss: 0.0955 - acc: 0.9677 - val_loss: 0.2232 - val_acc: 0.9000\n",
      "Epoch 193/200\n",
      "50/50 [==============================] - 20s 394ms/step - loss: 0.0653 - acc: 0.9789 - val_loss: 0.2328 - val_acc: 0.9500\n",
      "Epoch 194/200\n",
      "50/50 [==============================] - 20s 408ms/step - loss: 0.0817 - acc: 0.9717 - val_loss: 0.1766 - val_acc: 0.9500\n",
      "Epoch 195/200\n",
      "50/50 [==============================] - 19s 388ms/step - loss: 0.0594 - acc: 0.9777 - val_loss: 0.6510 - val_acc: 0.9500\n",
      "Epoch 196/200\n",
      "17/50 [=========>....................] - ETA: 9s - loss: 0.0544 - acc: 0.976150/50 [==============================] - 21s 413ms/step - loss: 0.0783 - acc: 0.9723 - val_loss: 0.1036 - val_acc: 0.9500\n",
      "Epoch 197/200\n",
      "50/50 [==============================] - 21s 419ms/step - loss: 0.1242 - acc: 0.9633 - val_loss: 0.3540 - val_acc: 0.9000\n",
      "Epoch 198/200\n",
      "50/50 [==============================] - 20s 392ms/step - loss: 0.0854 - acc: 0.9738 - val_loss: 0.1946 - val_acc: 0.9500\n",
      "Epoch 199/200\n",
      "50/50 [==============================] - 19s 385ms/step - loss: 0.0795 - acc: 0.9763 - val_loss: 0.4084 - val_acc: 0.9500\n",
      "Epoch 200/200\n",
      "50/50 [==============================] - 22s 432ms/step - loss: 0.0603 - acc: 0.9823 - val_loss: 0.3971 - val_acc: 0.9500\n"
     ]
    }
   ],
   "source": [
    "history = model.fit_generator(\n",
    "  train_generator,\n",
    "  steps_per_epoch=50,\n",
    "  epochs=200,\n",
    "  validation_data=validation_generator,\n",
    "  validation_steps=50)"
   ]
  },
  {
   "cell_type": "code",
   "execution_count": 18,
   "metadata": {
    "colab": {
     "autoexec": {
      "startup": false,
      "wait_interval": 0
     },
     "base_uri": "https://localhost:8080/",
     "height": 3617,
     "output_extras": [
      {
       "item_id": 1
      }
     ]
    },
    "colab_type": "code",
    "executionInfo": {
     "elapsed": 1573,
     "status": "ok",
     "timestamp": 1521207648890,
     "user": {
      "displayName": "Cugtyt",
      "photoUrl": "//lh4.googleusercontent.com/-QxlWCi_owQ0/AAAAAAAAAAI/AAAAAAAAAC4/wNSYjuh_4x4/s50-c-k-no/photo.jpg",
      "userId": "100389950431846051928"
     },
     "user_tz": -480
    },
    "id": "-YnbYN0YCXPk",
    "outputId": "d0bb2efc-31e9-4c61-a5a3-c07af0314b6c"
   },
   "outputs": [
    {
     "data": {
      "text/plain": [
       "[0.5067387330532074,\n",
       " 0.3998475939035416,\n",
       " 0.5060666692256928,\n",
       " 0.37034787714481354,\n",
       " 0.34742587447166445,\n",
       " 0.4530810433626175,\n",
       " 0.38224429249763486,\n",
       " 0.1910012662410736,\n",
       " 0.48580529034137726,\n",
       " 0.41449598491191864,\n",
       " 0.4162755465507507,\n",
       " 0.6126705360412598,\n",
       " 0.6275120830535889,\n",
       " 0.5358217966556549,\n",
       " 0.45869351506233214,\n",
       " 0.3703271800279617,\n",
       " 0.2470769476890564,\n",
       " 0.38059132754802705,\n",
       " 0.6147646629810333,\n",
       " 0.21748744010925292,\n",
       " 0.37160888612270354,\n",
       " 0.278214111328125,\n",
       " 0.20461309731006622,\n",
       " 0.3402522164583206,\n",
       " 0.2950548428297043,\n",
       " 0.1604054242372513,\n",
       " 0.19795345038175582,\n",
       " 0.32393186569213867,\n",
       " 0.18793299823999404,\n",
       " 0.17834827274084092,\n",
       " 0.35245424568653105,\n",
       " 0.6039710927009583,\n",
       " 0.40016593217849733,\n",
       " 0.2542694193124771,\n",
       " 0.1969139474630356,\n",
       " 0.3588867688179016,\n",
       " 0.35102858424186706,\n",
       " 0.42472978711128234,\n",
       " 0.5415400218963623,\n",
       " 0.33272476613521573,\n",
       " 0.40710811495780946,\n",
       " 0.10793741628527641,\n",
       " 0.14033604204654693,\n",
       " 0.2066430389881134,\n",
       " 0.2808343821763992,\n",
       " 0.19809258252382278,\n",
       " 0.20837382048368455,\n",
       " 0.4662893444299698,\n",
       " 0.1473236182332039,\n",
       " 0.22887392550706864,\n",
       " 0.23118276804685592,\n",
       " 0.3057551032304764,\n",
       " 0.15077928990125655,\n",
       " 0.1431347444653511,\n",
       " 0.3415060979127884,\n",
       " 0.5559422409534455,\n",
       " 0.5249954450130463,\n",
       " 0.2854909402132034,\n",
       " 0.26538492798805235,\n",
       " 0.3365240967273712,\n",
       " 0.22673648059368134,\n",
       " 0.3289159631729126,\n",
       " 0.15297272980213164,\n",
       " 0.19100699663162232,\n",
       " 0.27647947311401366,\n",
       " 0.36787956655025483,\n",
       " 0.4817030417919159,\n",
       " 0.17657486319541932,\n",
       " 0.18067221939563752,\n",
       " 0.36486331284046175,\n",
       " 0.4689625895023346,\n",
       " 0.373608295917511,\n",
       " 0.3414094638824463,\n",
       " 0.3650552368164062,\n",
       " 0.538968813419342,\n",
       " 0.23677996665239334,\n",
       " 0.48043387293815615,\n",
       " 0.28293491661548614,\n",
       " 0.21078942894935607,\n",
       " 0.5202668821811676,\n",
       " 0.3417722541093826,\n",
       " 0.29930123150348664,\n",
       " 0.3780410897731781,\n",
       " 0.6526073300838471,\n",
       " 0.18956445157527924,\n",
       " 0.3132454401254654,\n",
       " 0.4463091862201691,\n",
       " 0.37723765909671786,\n",
       " 0.4875191760063171,\n",
       " 0.23098662555217742,\n",
       " 0.21467861890792847,\n",
       " 0.4542758649587631,\n",
       " 0.5271305251121521,\n",
       " 0.33858061969280245,\n",
       " 0.4796966701745987,\n",
       " 0.31313703417778016,\n",
       " 0.22443911612033843,\n",
       " 0.19370563805103302,\n",
       " 0.240971115231514,\n",
       " 0.3172957336902618,\n",
       " 0.3744677937030792,\n",
       " 0.14201948195695877,\n",
       " 0.46687679290771483,\n",
       " 0.47667682349681856,\n",
       " 0.2836907297372818,\n",
       " 0.6361617982387543,\n",
       " 0.18340156465768814,\n",
       " 0.5355889344215393,\n",
       " 0.15134870618581772,\n",
       " 0.285426065325737,\n",
       " 0.6208458721637726,\n",
       " 0.5808075988292694,\n",
       " 0.49025361478328705,\n",
       " 0.3386960083246231,\n",
       " 0.3941368478536606,\n",
       " 0.14856644093990326,\n",
       " 0.09868167415261268,\n",
       " 0.5005685639381409,\n",
       " 0.572864499092102,\n",
       " 0.7763625288009643,\n",
       " 0.3318765377998352,\n",
       " 0.3063146871328354,\n",
       " 0.7745684099197387,\n",
       " 0.31242371678352354,\n",
       " 0.4084532368183136,\n",
       " 0.6077755784988403,\n",
       " 0.7121649038791656,\n",
       " 0.460043238401413,\n",
       " 0.8287735271453858,\n",
       " 0.5324338448047637,\n",
       " 0.372276594042778,\n",
       " 0.4522143179178238,\n",
       " 0.2770811891555786,\n",
       " 0.23715753465890885,\n",
       " 0.38717895150184634,\n",
       " 0.32375203192234037,\n",
       " 0.3383907073736191,\n",
       " 0.13630112111568451,\n",
       " 0.3520670944452286,\n",
       " 0.12852689623832703,\n",
       " 0.5406938111782074,\n",
       " 0.5087410283088684,\n",
       " 0.5588169622421265,\n",
       " 0.5324139475822449,\n",
       " 0.34069383442401885,\n",
       " 0.5134197330474853,\n",
       " 0.5517535233497619,\n",
       " 0.433614062666893,\n",
       " 0.7508986711502075,\n",
       " 0.43560177147388457,\n",
       " 0.7100936341285705,\n",
       " 0.3726241129636765,\n",
       " 0.3433055078983307,\n",
       " 0.3201755422353745,\n",
       " 0.5474380695819855,\n",
       " 0.6341607904434204,\n",
       " 0.2969402885437012,\n",
       " 0.28549919664859774,\n",
       " 0.4157360506057739,\n",
       " 0.28397220492362973,\n",
       " 0.4416903632879257,\n",
       " 0.16128977119922638,\n",
       " 0.16390812695026397,\n",
       " 0.29161222636699674,\n",
       " 0.4902835136651993,\n",
       " 0.16742941498756408,\n",
       " 0.38121023833751677,\n",
       " 0.47074202477931976,\n",
       " 0.5504533553123474,\n",
       " 0.43787078976631166,\n",
       " 0.5941341805458069,\n",
       " 0.3324686390161514,\n",
       " 0.4375931143760681,\n",
       " 0.38798713862895967,\n",
       " 0.6015508711338043,\n",
       " 0.5205796658992767,\n",
       " 0.4785431689023972,\n",
       " 0.27701084554195404,\n",
       " 0.47319999933242796,\n",
       " 0.3032416689395905,\n",
       " 0.2715137630701065,\n",
       " 0.30510828852653504,\n",
       " 0.2645845538377762,\n",
       " 0.37639628648757933,\n",
       " 0.5356722724437714,\n",
       " 0.5575359690189362,\n",
       " 0.18050081074237823,\n",
       " 0.30519002497196196,\n",
       " 0.3212340492010117,\n",
       " 0.4172328156232834,\n",
       " 0.5947951281070709,\n",
       " 0.22320142209529878,\n",
       " 0.23275466680526732,\n",
       " 0.176634823679924,\n",
       " 0.6509559166431427,\n",
       " 0.10362257778644562,\n",
       " 0.35395711064338686,\n",
       " 0.1946123468875885,\n",
       " 0.40837974786758424,\n",
       " 0.39705481231212614]"
      ]
     },
     "execution_count": 18,
     "metadata": {
      "tags": []
     },
     "output_type": "execute_result"
    }
   ],
   "source": [
    "history.history['val_loss']"
   ]
  },
  {
   "cell_type": "code",
   "execution_count": 15,
   "metadata": {
    "colab": {
     "autoexec": {
      "startup": false,
      "wait_interval": 0
     },
     "base_uri": "https://localhost:8080/",
     "height": 137,
     "output_extras": [
      {
       "item_id": 1
      }
     ]
    },
    "colab_type": "code",
    "executionInfo": {
     "elapsed": 1681,
     "status": "error",
     "timestamp": 1521207065453,
     "user": {
      "displayName": "Cugtyt",
      "photoUrl": "//lh4.googleusercontent.com/-QxlWCi_owQ0/AAAAAAAAAAI/AAAAAAAAAC4/wNSYjuh_4x4/s50-c-k-no/photo.jpg",
      "userId": "100389950431846051928"
     },
     "user_tz": -480
    },
    "id": "DfifDl-v8KOP",
    "outputId": "c8a5b3e4-f78c-4e5a-ae0e-f2e7f4974943"
   },
   "outputs": [
    {
     "ename": "SyntaxError",
     "evalue": "ignored",
     "output_type": "error",
     "traceback": [
      "\u001b[0;36m  File \u001b[0;32m\"<ipython-input-15-d5b66b087eff>\"\u001b[0;36m, line \u001b[0;32m4\u001b[0m\n\u001b[0;31m    val_loss.extend(history.history['val_loss'])\u001b[0m\n\u001b[0m           ^\u001b[0m\n\u001b[0;31mSyntaxError\u001b[0m\u001b[0;31m:\u001b[0m invalid syntax\n"
     ]
    }
   ],
   "source": [
    "acc.extend(history.history['acc'])\n",
    "val_acc.extend(history.history['val_acc'])\n",
    "loss.extend(history.history['loss'])\n",
    "val_loss.extend(history.history['val_loss'])\n",
    "\n",
    "epochs = range(1, len(acc) + 1)\n",
    "\n",
    "plt.plot(epochs, acc, 'bo', label='Training acc')\n",
    "plt.plot(epochs, val_acc, 'b', label='Validation acc')\n",
    "plt.title('Training and validation accuracy')\n",
    "plt.legend()\n",
    "\n",
    "plt.figure()\n",
    "\n",
    "plt.plot(epochs, loss, 'bo', label='Training loss')\n",
    "plt.plot(epochs, val_loss, 'b', label='Validation loss')\n",
    "plt.title('Training and validation loss')\n",
    "plt.legend()\n",
    "\n",
    "plt.show()"
   ]
  },
  {
   "cell_type": "code",
   "execution_count": 0,
   "metadata": {
    "colab": {
     "autoexec": {
      "startup": false,
      "wait_interval": 0
     }
    },
    "colab_type": "code",
    "id": "gqszh_WNxUMl"
   },
   "outputs": [],
   "source": [
    "model.save('./drive/data/model/vanilla_drop500.h5')"
   ]
  },
  {
   "cell_type": "code",
   "execution_count": 14,
   "metadata": {
    "colab": {
     "autoexec": {
      "startup": false,
      "wait_interval": 0
     },
     "base_uri": "https://localhost:8080/",
     "height": 3637,
     "output_extras": [
      {
       "item_id": 262
      },
      {
       "item_id": 520
      },
      {
       "item_id": 774
      },
      {
       "item_id": 1028
      },
      {
       "item_id": 1282
      },
      {
       "item_id": 1535
      },
      {
       "item_id": 1788
      },
      {
       "item_id": 2042
      },
      {
       "item_id": 2295
      },
      {
       "item_id": 2549
      },
      {
       "item_id": 2804
      },
      {
       "item_id": 3058
      },
      {
       "item_id": 3310
      },
      {
       "item_id": 3564
      },
      {
       "item_id": 3819
      },
      {
       "item_id": 4071
      },
      {
       "item_id": 4325
      },
      {
       "item_id": 4581
      },
      {
       "item_id": 4835
      },
      {
       "item_id": 5057
      }
     ]
    },
    "colab_type": "code",
    "executionInfo": {
     "elapsed": 4898813,
     "status": "ok",
     "timestamp": 1521185478406,
     "user": {
      "displayName": "Cugtyt",
      "photoUrl": "//lh4.googleusercontent.com/-QxlWCi_owQ0/AAAAAAAAAAI/AAAAAAAAAC4/wNSYjuh_4x4/s50-c-k-no/photo.jpg",
      "userId": "100389950431846051928"
     },
     "user_tz": -480
    },
    "id": "pcR65xTKbWQd",
    "outputId": "b6b6b382-0881-4843-8a37-c935a3fba7db"
   },
   "outputs": [
    {
     "name": "stdout",
     "output_type": "stream",
     "text": [
      "Epoch 1/100\n",
      "50/50 [==============================] - 49s 972ms/step - loss: 0.5511 - acc: 0.8104 - val_loss: 0.8577 - val_acc: 0.8000\n",
      "Epoch 2/100\n",
      "50/50 [==============================] - 48s 956ms/step - loss: 0.4891 - acc: 0.8376 - val_loss: 0.8491 - val_acc: 0.7500\n",
      "Epoch 3/100\n",
      "50/50 [==============================] - 47s 946ms/step - loss: 0.4302 - acc: 0.8520 - val_loss: 0.7544 - val_acc: 0.7500\n",
      "Epoch 4/100\n",
      "50/50 [==============================] - 49s 970ms/step - loss: 0.4117 - acc: 0.8467 - val_loss: 0.9301 - val_acc: 0.8000\n",
      "Epoch 5/100\n",
      "50/50 [==============================] - 47s 934ms/step - loss: 0.4869 - acc: 0.8257 - val_loss: 0.8695 - val_acc: 0.7500\n",
      "Epoch 6/100\n",
      "10/50 [=====>........................] - ETA: 32s - loss: 0.3311 - acc: 0.901050/50 [==============================] - 48s 950ms/step - loss: 0.4192 - acc: 0.8559 - val_loss: 0.9531 - val_acc: 0.8000\n",
      "Epoch 7/100\n",
      "50/50 [==============================] - 47s 944ms/step - loss: 0.4400 - acc: 0.8313 - val_loss: 0.7575 - val_acc: 0.7500\n",
      "Epoch 8/100\n",
      "50/50 [==============================] - 49s 980ms/step - loss: 0.4141 - acc: 0.8509 - val_loss: 0.9385 - val_acc: 0.7500\n",
      "Epoch 9/100\n",
      "50/50 [==============================] - 48s 953ms/step - loss: 0.3789 - acc: 0.8656 - val_loss: 0.9272 - val_acc: 0.8000\n",
      "Epoch 10/100\n",
      "50/50 [==============================] - 47s 946ms/step - loss: 0.3987 - acc: 0.8479 - val_loss: 0.9955 - val_acc: 0.8000\n",
      "Epoch 11/100\n",
      "15/50 [========>.....................] - ETA: 27s - loss: 0.4769 - acc: 0.861150/50 [==============================] - 47s 935ms/step - loss: 0.4489 - acc: 0.8562 - val_loss: 0.8638 - val_acc: 0.8000\n",
      "Epoch 12/100\n",
      "50/50 [==============================] - 49s 980ms/step - loss: 0.4090 - acc: 0.8492 - val_loss: 0.8072 - val_acc: 0.7500\n",
      "Epoch 13/100\n",
      "50/50 [==============================] - 47s 948ms/step - loss: 0.4401 - acc: 0.8456 - val_loss: 0.6750 - val_acc: 0.8000\n",
      "Epoch 14/100\n",
      "50/50 [==============================] - 47s 949ms/step - loss: 0.3830 - acc: 0.8619 - val_loss: 0.6621 - val_acc: 0.8000\n",
      "Epoch 15/100\n",
      "50/50 [==============================] - 46s 925ms/step - loss: 0.3820 - acc: 0.8681 - val_loss: 0.8197 - val_acc: 0.8500\n",
      "Epoch 16/100\n",
      "15/50 [========>.....................] - ETA: 28s - loss: 0.4135 - acc: 0.845150/50 [==============================] - 49s 972ms/step - loss: 0.4182 - acc: 0.8515 - val_loss: 0.6960 - val_acc: 0.7500\n",
      "Epoch 17/100\n",
      "50/50 [==============================] - 48s 960ms/step - loss: 0.4465 - acc: 0.8389 - val_loss: 0.7106 - val_acc: 0.7000\n",
      "Epoch 18/100\n",
      "50/50 [==============================] - 50s 992ms/step - loss: 0.3608 - acc: 0.8745 - val_loss: 0.5923 - val_acc: 0.7500\n",
      "Epoch 19/100\n",
      "50/50 [==============================] - 47s 933ms/step - loss: 0.4513 - acc: 0.8392 - val_loss: 1.0121 - val_acc: 0.8500\n",
      "Epoch 20/100\n",
      "50/50 [==============================] - 49s 972ms/step - loss: 0.3875 - acc: 0.8652 - val_loss: 0.9677 - val_acc: 0.7500\n",
      "Epoch 21/100\n",
      "15/50 [========>.....................] - ETA: 25s - loss: 0.4821 - acc: 0.823650/50 [==============================] - 48s 953ms/step - loss: 0.3919 - acc: 0.8533 - val_loss: 0.6671 - val_acc: 0.8000\n",
      "Epoch 22/100\n",
      "50/50 [==============================] - 48s 958ms/step - loss: 0.3448 - acc: 0.8856 - val_loss: 0.6158 - val_acc: 0.8000\n",
      "Epoch 23/100\n",
      "50/50 [==============================] - 47s 944ms/step - loss: 0.4422 - acc: 0.8562 - val_loss: 0.7733 - val_acc: 0.8000\n",
      "Epoch 24/100\n",
      "50/50 [==============================] - 47s 950ms/step - loss: 0.3699 - acc: 0.8789 - val_loss: 0.7019 - val_acc: 0.8000\n",
      "Epoch 25/100\n",
      "50/50 [==============================] - 48s 951ms/step - loss: 0.3238 - acc: 0.8821 - val_loss: 0.8384 - val_acc: 0.8000\n",
      "Epoch 26/100\n",
      "15/50 [========>.....................] - ETA: 25s - loss: 0.4531 - acc: 0.846550/50 [==============================] - 48s 965ms/step - loss: 0.3878 - acc: 0.8698 - val_loss: 0.5967 - val_acc: 0.7500\n",
      "Epoch 27/100\n",
      "50/50 [==============================] - 47s 943ms/step - loss: 0.4018 - acc: 0.8577 - val_loss: 0.5897 - val_acc: 0.8500\n",
      "Epoch 28/100\n",
      "50/50 [==============================] - 49s 974ms/step - loss: 0.3471 - acc: 0.8790 - val_loss: 0.7146 - val_acc: 0.7500\n",
      "Epoch 29/100\n",
      "50/50 [==============================] - 47s 942ms/step - loss: 0.3691 - acc: 0.8756 - val_loss: 0.5532 - val_acc: 0.8000\n",
      "Epoch 30/100\n",
      "50/50 [==============================] - 48s 958ms/step - loss: 0.3632 - acc: 0.8637 - val_loss: 0.6780 - val_acc: 0.7500\n",
      "Epoch 31/100\n",
      "15/50 [========>.....................] - ETA: 25s - loss: 0.2879 - acc: 0.891750/50 [==============================] - 47s 942ms/step - loss: 0.3435 - acc: 0.8761 - val_loss: 0.6835 - val_acc: 0.8000\n",
      "Epoch 32/100\n",
      "50/50 [==============================] - 49s 979ms/step - loss: 0.3781 - acc: 0.8615 - val_loss: 0.6938 - val_acc: 0.8000\n",
      "Epoch 33/100\n",
      "50/50 [==============================] - 48s 966ms/step - loss: 0.3489 - acc: 0.8712 - val_loss: 0.8841 - val_acc: 0.7500\n",
      "Epoch 34/100\n",
      "50/50 [==============================] - 47s 935ms/step - loss: 0.3473 - acc: 0.8734 - val_loss: 0.8164 - val_acc: 0.7500\n",
      "Epoch 35/100\n",
      "50/50 [==============================] - 48s 952ms/step - loss: 0.4338 - acc: 0.8513 - val_loss: 0.8479 - val_acc: 0.7500\n",
      "Epoch 36/100\n",
      "15/50 [========>.....................] - ETA: 26s - loss: 0.3956 - acc: 0.838950/50 [==============================] - 49s 979ms/step - loss: 0.3286 - acc: 0.8690 - val_loss: 0.6479 - val_acc: 0.8000\n",
      "Epoch 37/100\n",
      "50/50 [==============================] - 48s 956ms/step - loss: 0.3721 - acc: 0.8739 - val_loss: 1.0127 - val_acc: 0.8000\n",
      "Epoch 38/100\n",
      "50/50 [==============================] - 48s 966ms/step - loss: 0.3652 - acc: 0.8675 - val_loss: 0.4462 - val_acc: 0.8000\n",
      "Epoch 39/100\n",
      "50/50 [==============================] - 47s 946ms/step - loss: 0.3109 - acc: 0.8891 - val_loss: 0.8434 - val_acc: 0.8000\n",
      "Epoch 40/100\n",
      "50/50 [==============================] - 50s 991ms/step - loss: 0.3412 - acc: 0.8808 - val_loss: 0.7655 - val_acc: 0.7500\n",
      "Epoch 41/100\n",
      "15/50 [========>.....................] - ETA: 26s - loss: 0.3582 - acc: 0.866050/50 [==============================] - 49s 982ms/step - loss: 0.3169 - acc: 0.8875 - val_loss: 0.6750 - val_acc: 0.7500\n",
      "Epoch 42/100\n",
      "50/50 [==============================] - 49s 970ms/step - loss: 0.3098 - acc: 0.8929 - val_loss: 0.6380 - val_acc: 0.8000\n",
      "Epoch 43/100\n",
      "50/50 [==============================] - 50s 993ms/step - loss: 0.3611 - acc: 0.8725 - val_loss: 0.7689 - val_acc: 0.8000\n",
      "Epoch 44/100\n",
      "50/50 [==============================] - 50s 1s/step - loss: 0.2898 - acc: 0.8938 - val_loss: 0.7918 - val_acc: 0.8500\n",
      "Epoch 45/100\n",
      "50/50 [==============================] - 50s 1s/step - loss: 0.2933 - acc: 0.8883 - val_loss: 0.4952 - val_acc: 0.8000\n",
      "Epoch 46/100\n",
      "16/50 [========>.....................] - ETA: 24s - loss: 0.3078 - acc: 0.895250/50 [==============================] - 50s 997ms/step - loss: 0.3177 - acc: 0.8813 - val_loss: 0.8710 - val_acc: 0.8000\n",
      "Epoch 47/100\n",
      "50/50 [==============================] - 49s 987ms/step - loss: 0.2978 - acc: 0.8871 - val_loss: 0.8634 - val_acc: 0.8000\n",
      "Epoch 48/100\n",
      "50/50 [==============================] - 51s 1s/step - loss: 0.3509 - acc: 0.8731 - val_loss: 1.1661 - val_acc: 0.7500\n",
      "Epoch 49/100\n",
      "50/50 [==============================] - 50s 995ms/step - loss: 0.3065 - acc: 0.8877 - val_loss: 0.8341 - val_acc: 0.8000\n",
      "Epoch 50/100\n",
      "50/50 [==============================] - 49s 977ms/step - loss: 0.3130 - acc: 0.8935 - val_loss: 0.5180 - val_acc: 0.8000\n",
      "Epoch 51/100\n",
      "16/50 [========>.....................] - ETA: 27s - loss: 0.3472 - acc: 0.895250/50 [==============================] - 50s 991ms/step - loss: 0.3116 - acc: 0.8925 - val_loss: 0.8588 - val_acc: 0.8000\n",
      "Epoch 52/100\n",
      "50/50 [==============================] - 51s 1s/step - loss: 0.3379 - acc: 0.8838 - val_loss: 0.8968 - val_acc: 0.8500\n",
      "Epoch 53/100\n",
      "50/50 [==============================] - 50s 1s/step - loss: 0.3324 - acc: 0.8748 - val_loss: 0.8940 - val_acc: 0.8000\n",
      "Epoch 54/100\n",
      "50/50 [==============================] - 50s 998ms/step - loss: 0.3370 - acc: 0.8848 - val_loss: 0.6572 - val_acc: 0.8000\n",
      "Epoch 55/100\n",
      "50/50 [==============================] - 49s 986ms/step - loss: 0.2992 - acc: 0.8858 - val_loss: 0.9881 - val_acc: 0.8000\n",
      "Epoch 56/100\n"
     ]
    },
    {
     "name": "stdout",
     "output_type": "stream",
     "text": [
      "17/50 [=========>....................] - ETA: 26s - loss: 0.2898 - acc: 0.899550/50 [==============================] - 50s 1s/step - loss: 0.3397 - acc: 0.8770 - val_loss: 0.9722 - val_acc: 0.8000\n",
      "Epoch 57/100\n",
      "50/50 [==============================] - 50s 993ms/step - loss: 0.2658 - acc: 0.8995 - val_loss: 0.9961 - val_acc: 0.8500\n",
      "Epoch 58/100\n",
      "50/50 [==============================] - 49s 987ms/step - loss: 0.3176 - acc: 0.8838 - val_loss: 1.0238 - val_acc: 0.8000\n",
      "Epoch 59/100\n",
      "50/50 [==============================] - 50s 992ms/step - loss: 0.2878 - acc: 0.8971 - val_loss: 0.9063 - val_acc: 0.8500\n",
      "Epoch 60/100\n",
      "50/50 [==============================] - 51s 1s/step - loss: 0.2982 - acc: 0.8977 - val_loss: 0.9906 - val_acc: 0.8500\n",
      "Epoch 61/100\n",
      "16/50 [========>.....................] - ETA: 24s - loss: 0.2325 - acc: 0.905650/50 [==============================] - 50s 994ms/step - loss: 0.5046 - acc: 0.8500 - val_loss: 0.7366 - val_acc: 0.8000\n",
      "Epoch 62/100\n",
      "50/50 [==============================] - 50s 1s/step - loss: 0.2542 - acc: 0.9063 - val_loss: 0.8492 - val_acc: 0.8000\n",
      "Epoch 63/100\n",
      "50/50 [==============================] - 50s 995ms/step - loss: 0.2779 - acc: 0.9061 - val_loss: 0.7686 - val_acc: 0.8000\n",
      "Epoch 64/100\n",
      "50/50 [==============================] - 52s 1s/step - loss: 0.2950 - acc: 0.9015 - val_loss: 0.8810 - val_acc: 0.7500\n",
      "Epoch 65/100\n",
      "50/50 [==============================] - 51s 1s/step - loss: 0.2992 - acc: 0.8907 - val_loss: 0.7214 - val_acc: 0.7500\n",
      "Epoch 66/100\n",
      "16/50 [========>.....................] - ETA: 25s - loss: 0.2760 - acc: 0.900450/50 [==============================] - 49s 987ms/step - loss: 0.2642 - acc: 0.8987 - val_loss: 0.9548 - val_acc: 0.8000\n",
      "Epoch 67/100\n",
      "50/50 [==============================] - 49s 976ms/step - loss: 0.2593 - acc: 0.9082 - val_loss: 1.0774 - val_acc: 0.8000\n",
      "Epoch 68/100\n",
      "50/50 [==============================] - 51s 1s/step - loss: 0.2865 - acc: 0.8979 - val_loss: 0.8092 - val_acc: 0.7500\n",
      "Epoch 69/100\n",
      "50/50 [==============================] - 50s 1000ms/step - loss: 0.2634 - acc: 0.9075 - val_loss: 0.8700 - val_acc: 0.7500\n",
      "Epoch 70/100\n",
      "50/50 [==============================] - 51s 1s/step - loss: 0.2578 - acc: 0.9073 - val_loss: 0.7851 - val_acc: 0.7500\n",
      "Epoch 71/100\n",
      "16/50 [========>.....................] - ETA: 26s - loss: 0.3218 - acc: 0.886750/50 [==============================] - 49s 989ms/step - loss: 0.2779 - acc: 0.8914 - val_loss: 0.8370 - val_acc: 0.7500\n",
      "Epoch 72/100\n",
      "50/50 [==============================] - 51s 1s/step - loss: 0.2607 - acc: 0.9052 - val_loss: 0.7947 - val_acc: 0.8000\n",
      "Epoch 73/100\n",
      "50/50 [==============================] - 50s 995ms/step - loss: 0.2352 - acc: 0.9158 - val_loss: 0.6064 - val_acc: 0.8500\n",
      "Epoch 74/100\n",
      "50/50 [==============================] - 49s 989ms/step - loss: 0.6342 - acc: 0.8344 - val_loss: 0.7615 - val_acc: 0.7500\n",
      "Epoch 75/100\n",
      "50/50 [==============================] - 50s 993ms/step - loss: 0.3136 - acc: 0.8967 - val_loss: 1.0674 - val_acc: 0.8000\n",
      "Epoch 76/100\n",
      "16/50 [========>.....................] - ETA: 27s - loss: 0.3869 - acc: 0.882850/50 [==============================] - 51s 1s/step - loss: 0.3282 - acc: 0.8845 - val_loss: 0.6869 - val_acc: 0.8000\n",
      "Epoch 77/100\n",
      "50/50 [==============================] - 49s 979ms/step - loss: 0.2437 - acc: 0.9088 - val_loss: 0.7877 - val_acc: 0.7500\n",
      "Epoch 78/100\n",
      "50/50 [==============================] - 48s 967ms/step - loss: 0.2180 - acc: 0.9215 - val_loss: 0.9271 - val_acc: 0.8000\n",
      "Epoch 79/100\n",
      "50/50 [==============================] - 47s 935ms/step - loss: 0.3063 - acc: 0.9003 - val_loss: 1.0015 - val_acc: 0.8500\n",
      "Epoch 80/100\n",
      "50/50 [==============================] - 49s 986ms/step - loss: 0.2704 - acc: 0.9087 - val_loss: 0.9188 - val_acc: 0.8000\n",
      "Epoch 81/100\n",
      "16/50 [========>.....................] - ETA: 24s - loss: 0.2095 - acc: 0.931650/50 [==============================] - 48s 965ms/step - loss: 0.2399 - acc: 0.9203 - val_loss: 0.8852 - val_acc: 0.7500\n",
      "Epoch 82/100\n",
      "50/50 [==============================] - 48s 968ms/step - loss: 0.2196 - acc: 0.9216 - val_loss: 0.7347 - val_acc: 0.8500\n",
      "Epoch 83/100\n",
      "50/50 [==============================] - 49s 971ms/step - loss: 0.2812 - acc: 0.8969 - val_loss: 0.6571 - val_acc: 0.8000\n",
      "Epoch 84/100\n",
      "50/50 [==============================] - 49s 982ms/step - loss: 0.2271 - acc: 0.9092 - val_loss: 0.9517 - val_acc: 0.7500\n",
      "Epoch 85/100\n",
      "50/50 [==============================] - 49s 974ms/step - loss: 0.3195 - acc: 0.9029 - val_loss: 0.8293 - val_acc: 0.7500\n",
      "Epoch 86/100\n",
      "15/50 [========>.....................] - ETA: 26s - loss: 0.2603 - acc: 0.912550/50 [==============================] - 48s 968ms/step - loss: 0.3029 - acc: 0.8952 - val_loss: 0.7863 - val_acc: 0.8000\n",
      "Epoch 87/100\n",
      "50/50 [==============================] - 49s 982ms/step - loss: 0.2704 - acc: 0.9119 - val_loss: 1.0347 - val_acc: 0.8000\n",
      "Epoch 88/100\n",
      "50/50 [==============================] - 51s 1s/step - loss: 0.2402 - acc: 0.9131 - val_loss: 0.8649 - val_acc: 0.8000\n",
      "Epoch 89/100\n",
      "50/50 [==============================] - 49s 983ms/step - loss: 0.2096 - acc: 0.9262 - val_loss: 0.8301 - val_acc: 0.8000\n",
      "Epoch 90/100\n",
      "50/50 [==============================] - 51s 1s/step - loss: 0.2176 - acc: 0.9208 - val_loss: 0.8776 - val_acc: 0.8000\n",
      "Epoch 91/100\n",
      "16/50 [========>.....................] - ETA: 26s - loss: 0.2765 - acc: 0.883550/50 [==============================] - 49s 989ms/step - loss: 0.2779 - acc: 0.8964 - val_loss: 0.8807 - val_acc: 0.8500\n",
      "Epoch 92/100\n",
      "50/50 [==============================] - 51s 1s/step - loss: 0.2753 - acc: 0.9031 - val_loss: 0.7805 - val_acc: 0.8500\n",
      "Epoch 93/100\n",
      "50/50 [==============================] - 49s 989ms/step - loss: 0.2398 - acc: 0.9146 - val_loss: 0.6139 - val_acc: 0.8000\n",
      "Epoch 94/100\n",
      "50/50 [==============================] - 50s 1s/step - loss: 0.2268 - acc: 0.9183 - val_loss: 0.5658 - val_acc: 0.8500\n",
      "Epoch 95/100\n",
      "50/50 [==============================] - 48s 968ms/step - loss: 0.2420 - acc: 0.9156 - val_loss: 0.8432 - val_acc: 0.8500\n",
      "Epoch 96/100\n",
      "16/50 [========>.....................] - ETA: 28s - loss: 0.2443 - acc: 0.920650/50 [==============================] - 51s 1s/step - loss: 0.2244 - acc: 0.9181 - val_loss: 0.8286 - val_acc: 0.8000\n",
      "Epoch 97/100\n",
      "50/50 [==============================] - 50s 997ms/step - loss: 0.2802 - acc: 0.9090 - val_loss: 0.9493 - val_acc: 0.8500\n",
      "Epoch 98/100\n",
      "50/50 [==============================] - 49s 984ms/step - loss: 0.2250 - acc: 0.9212 - val_loss: 0.7255 - val_acc: 0.8500\n",
      "Epoch 99/100\n",
      "50/50 [==============================] - 49s 983ms/step - loss: 0.2207 - acc: 0.9185 - val_loss: 1.1447 - val_acc: 0.7500\n",
      "Epoch 100/100\n",
      "50/50 [==============================] - 51s 1s/step - loss: 0.2554 - acc: 0.9176 - val_loss: 0.6974 - val_acc: 0.8500\n"
     ]
    }
   ],
   "source": [
    "history = model.fit_generator(\n",
    "  train_generator,\n",
    "  steps_per_epoch=50,\n",
    "  epochs=100,\n",
    "  validation_data=validation_generator,\n",
    "  validation_steps=50)"
   ]
  },
  {
   "cell_type": "code",
   "execution_count": 15,
   "metadata": {
    "colab": {
     "autoexec": {
      "startup": false,
      "wait_interval": 0
     },
     "base_uri": "https://localhost:8080/",
     "height": 708,
     "output_extras": [
      {
       "item_id": 1
      },
      {
       "item_id": 2
      }
     ]
    },
    "colab_type": "code",
    "executionInfo": {
     "elapsed": 3204,
     "status": "ok",
     "timestamp": 1521185481645,
     "user": {
      "displayName": "Cugtyt",
      "photoUrl": "//lh4.googleusercontent.com/-QxlWCi_owQ0/AAAAAAAAAAI/AAAAAAAAAC4/wNSYjuh_4x4/s50-c-k-no/photo.jpg",
      "userId": "100389950431846051928"
     },
     "user_tz": -480
    },
    "id": "ZitpSzxGbPuY",
    "outputId": "8e225da8-d8c6-48a0-d361-9e83640706b1"
   },
   "outputs": [
    {
     "data": {
      "image/png": "[encoded data removed]",
      "text/plain": [
       "<matplotlib.figure.Figure at 0x7f29adade4a8>"
      ]
     },
     "metadata": {
      "tags": []
     },
     "output_type": "display_data"
    },
    {
     "data": {
      "image/png": "[encoded data removed]",
      "text/plain": [
       "<matplotlib.figure.Figure at 0x7f29ada744e0>"
      ]
     },
     "metadata": {
      "tags": []
     },
     "output_type": "display_data"
    }
   ],
   "source": [
    "acc_his.append(history.history['acc'])\n",
    "val_acc_his.append(history.history['val_acc'])\n",
    "loss_his.append(history.history['loss'])\n",
    "val_loss_his.append(history.history['val_loss'])\n",
    "\n",
    "acc = history.history['acc']\n",
    "val_acc = history.history['val_acc']\n",
    "loss = history.history['loss']\n",
    "val_loss = history.history['val_loss']\n",
    "\n",
    "epochs = range(1, len(acc) + 1)\n",
    "\n",
    "plt.plot(epochs, acc, 'bo', label='Training acc')\n",
    "plt.plot(epochs, val_acc, 'b', label='Validation acc')\n",
    "plt.title('Training and validation accuracy')\n",
    "plt.legend()\n",
    "\n",
    "plt.figure()\n",
    "\n",
    "plt.plot(epochs, loss, 'bo', label='Training loss')\n",
    "plt.plot(epochs, val_loss, 'b', label='Validation loss')\n",
    "plt.title('Training and validation loss')\n",
    "plt.legend()\n",
    "\n",
    "plt.show()            "
   ]
  },
  {
   "cell_type": "code",
   "execution_count": 28,
   "metadata": {
    "colab": {
     "autoexec": {
      "startup": false,
      "wait_interval": 0
     },
     "base_uri": "https://localhost:8080/",
     "height": 35,
     "output_extras": [
      {
       "item_id": 1
      }
     ]
    },
    "colab_type": "code",
    "executionInfo": {
     "elapsed": 832,
     "status": "ok",
     "timestamp": 1521186039220,
     "user": {
      "displayName": "Cugtyt",
      "photoUrl": "//lh4.googleusercontent.com/-QxlWCi_owQ0/AAAAAAAAAAI/AAAAAAAAAC4/wNSYjuh_4x4/s50-c-k-no/photo.jpg",
      "userId": "100389950431846051928"
     },
     "user_tz": -480
    },
    "id": "AYHznsN9utUy",
    "outputId": "5d0ba625-cb9d-480d-c23f-f87e25916474"
   },
   "outputs": [
    {
     "data": {
      "text/plain": [
       "1"
      ]
     },
     "execution_count": 28,
     "metadata": {
      "tags": []
     },
     "output_type": "execute_result"
    }
   ],
   "source": [
    "# val_loss = [a for a in val_loss_his[0]]\n",
    "# val_loss.extend(val_loss_his[1])\n",
    "len(val_loss_his)"
   ]
  },
  {
   "cell_type": "code",
   "execution_count": 0,
   "metadata": {
    "colab": {
     "autoexec": {
      "startup": false,
      "wait_interval": 0
     }
    },
    "colab_type": "code",
    "id": "q81dc0v6Mc3v"
   },
   "outputs": [],
   "source": [
    "model.save('./drive/data/model/vanilla_drop300.h5')                  \n"
   ]
  }
 ],
 "metadata": {
  "accelerator": "GPU",
  "colab": {
   "collapsed_sections": [],
   "default_view": {},
   "name": "AsianRecogVanilla.ipynb",
   "provenance": [],
   "version": "0.3.2",
   "views": {}
  },
  "kernelspec": {
   "display_name": "Python 3",
   "language": "python",
   "name": "python3"
  },
  "language_info": {
   "codemirror_mode": {
    "name": "ipython",
    "version": 3
   },
   "file_extension": ".py",
   "mimetype": "text/x-python",
   "name": "python",
   "nbconvert_exporter": "python",
   "pygments_lexer": "ipython3",
   "version": "3.5.2"
  }
 },
 "nbformat": 4,
 "nbformat_minor": 1
}
